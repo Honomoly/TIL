{
 "cells": [
  {
   "cell_type": "markdown",
   "id": "3c5a81d2",
   "metadata": {},
   "source": [
    "## 카이제곱 검정 (교차분석)"
   ]
  },
  {
   "cell_type": "markdown",
   "id": "72da0bde",
   "metadata": {},
   "source": [
    "### 카이제곱 검정 (Chi-Squared Test)\n",
    "- '범주형' 변수 간 연관관계를 확인하기 위해 교차표를 통해 차이를 검정하는 기법  \n",
    "- 교차표를 통해 각 셀의 관측빈도와 기대빈도 간의 차이 검정  \n",
    "    - 관측빈도 (observed frequency) : 실제로 수집된 데이터의 빈도\n",
    "    - 기대빈도 (expected frequency) : 두 변수가 독립일 때 이론적으로 기대할 수 있는 빈도분포\n",
    "- 차이를 제곱 : 양수/음수 차이값이 상쇄되는 것 방지 \n",
    "- 범주형 변수의 개수가 k개이면 자유도는 k-1개    \n",
    "- 카이제곱 검정 수행 목적\n",
    "    - 데이터에서 각 범주에 따른 결과변수의 분포 설명\n",
    "    - 범주형 변수가 두 개 이상인 경우 두 변수가 상관이 있는지 검정\n",
    "    - 예 :\n",
    "        - '거주지역'과 '성별' 간 관계\n",
    "        - '성별'과 '연령별' 제품의 만족도 차이 \n",
    "        - '성별'과 '흡연' 여부 \n",
    "        - '객실 등급'과 '생존' 관계\n",
    "        \n",
    "---\n",
    "- t-tes와 ANOVA 분석 : 종속변수가 연속형\n",
    "- 카이제곱 검정 : 종속변수가 범주형 "
   ]
  },
  {
   "cell_type": "markdown",
   "id": "d16c2016",
   "metadata": {},
   "source": [
    "### 카이제곱 검정에서 수행하는 3가지 검정\n",
    "- (1) 적합성 검정 \n",
    "    - 각 범주에 따른 데이터의 빈도분포가 이론적으로 기대하는 분포를 따르는지 검정\n",
    "    - 예 : 주사위 값이 1/6 확률이 맞는지 검정 \n",
    "- (2) 독립성 검정 (관련성)\n",
    "    - 모집단이 두 개의 변수 A, B에 의해 범주화 되었을 때, 이 두 변수들 사이의 관계가 독립인지 검정 \n",
    "    - 예 : 환자의 비만유무와 대사성 질환의 유무가 주어졌을 때\n",
    "        - 비만에 따른 질환 비율에 차이가 존재하는지 검정   \n",
    "- (3) 동질성 검정 \n",
    "    - 모집단이 임의의 변수에 따라 R개의 속성으로 범주화되었을 때\n",
    "    - R의 부분 모집단에서 추출한 표본이 C개의 범주화된 집단의 분포가 서로 동일한지 검정\n",
    "    - 독립성 검정과 계산법 및 검정 방법 동일 \n",
    "    - 예 : 타이타닉 호\n",
    "    - 귀무가설(H0) : 좌석등급(class)의 분포는 생존여부(survived)에 관계없이 동일하다\n",
    "    - 대립가설(H1) : 좌석등급(class)의 분포는 생존여부(survived)에 관계없이 동일하지 않다 \n"
   ]
  },
  {
   "cell_type": "markdown",
   "id": "90c3275a",
   "metadata": {},
   "source": [
    "### (1) 적합성 검정\n",
    "- scipy.stats.chisquare(f_obs, f_exp=None, ddof=0, axis=0) 사용\n",
    "- scipy.stats.chisquare(관측빈도, 기대빈도, 자유도=0, axis=0)  \n",
    "    - 관측빈도 : pd.value_counts() 값\n",
    "    - 기대빈도 : 각 카테고리의 기대빈도 (default : 가능성이 동일하다고 가정)\n",
    "    - 자유도 : p-value에 대한 자유도 조정 가능. 디폴트 : 0\n",
    "        - k - 1 - ddof  \n",
    "        - k : 관찰된 범주의 수. 예로 주사위 1~6이면 k는 6, k-1은 자유도  "
   ]
  },
  {
   "cell_type": "markdown",
   "id": "48c34520",
   "metadata": {},
   "source": [
    "### 적합성 검정 예 \n",
    "- 타이타닉 데이터 사용 \n",
    "- 성별 sex 변수에 대한 분할표 생성하고 가설에 대한 적합도 검정 수행\n",
    "- 가설 \n",
    "    - 귀무가설(H0) : 타이타닉호의 생존자 중 남자의 비율이 50%, 여자의 비율이 50%이다\n",
    "    - 대립가설(H1) : 타이타닉호의 생존자 중 남자의 비율이 50%, 여자의 비율이 50%가 아니다     \n",
    "- 적합성 검정 단계\n",
    "    - (1) 교차분석을 위한 도수분포표 생성 : value_counts() \n",
    "    - (2) 적합성 검정 수행 : chisquare() "
   ]
  },
  {
   "cell_type": "code",
   "execution_count": 1,
   "id": "05991c3e",
   "metadata": {},
   "outputs": [],
   "source": [
    "from IPython.core.interactiveshell import InteractiveShell\n",
    "InteractiveShell.ast_node_interactivity=\"all\""
   ]
  },
  {
   "cell_type": "code",
   "execution_count": 2,
   "id": "20b36f3a",
   "metadata": {},
   "outputs": [
    {
     "name": "stdout",
     "output_type": "stream",
     "text": [
      "<class 'pandas.core.frame.DataFrame'>\n",
      "RangeIndex: 891 entries, 0 to 890\n",
      "Data columns (total 11 columns):\n",
      " #   Column       Non-Null Count  Dtype  \n",
      "---  ------       --------------  -----  \n",
      " 0   survived     891 non-null    int64  \n",
      " 1   pclass       891 non-null    int64  \n",
      " 2   sex          891 non-null    object \n",
      " 3   age          714 non-null    float64\n",
      " 4   sibsp        891 non-null    int64  \n",
      " 5   parch        891 non-null    int64  \n",
      " 6   fare         891 non-null    float64\n",
      " 7   embarked     889 non-null    object \n",
      " 8   class        891 non-null    object \n",
      " 9   adult_male   891 non-null    bool   \n",
      " 10  embark_town  889 non-null    object \n",
      "dtypes: bool(1), float64(2), int64(4), object(4)\n",
      "memory usage: 70.6+ KB\n"
     ]
    }
   ],
   "source": [
    "import pandas as pd\n",
    "# 데이터 불러오기\n",
    "df = pd.read_csv(\"./data/titanic.csv\")\n",
    "# titinic 데이터의 구조 확인\n",
    "df.info()"
   ]
  },
  {
   "cell_type": "code",
   "execution_count": 3,
   "id": "2f4b2f13",
   "metadata": {},
   "outputs": [
    {
     "data": {
      "text/plain": [
       "sex\n",
       "female    233\n",
       "male      109\n",
       "Name: count, dtype: int64"
      ]
     },
     "execution_count": 3,
     "metadata": {},
     "output_type": "execute_result"
    }
   ],
   "source": [
    "# (1) 교차분석을 위한 도수분포표 생성\n",
    "\n",
    "table = df[df.survived==1].value_counts('sex')\n",
    "table"
   ]
  },
  {
   "cell_type": "code",
   "execution_count": 4,
   "id": "70b77a3d",
   "metadata": {},
   "outputs": [
    {
     "data": {
      "text/plain": [
       "Power_divergenceResult(statistic=44.95906432748538, pvalue=2.0119672574477235e-11)"
      ]
     },
     "execution_count": 4,
     "metadata": {},
     "output_type": "execute_result"
    }
   ],
   "source": [
    "# (2) 적합도 검정 수행\n",
    "\n",
    "from scipy.stats import chisquare\n",
    "\n",
    "chisquare(table, f_exp=[171, 171])"
   ]
  },
  {
   "cell_type": "code",
   "execution_count": null,
   "id": "1f097d43",
   "metadata": {},
   "outputs": [],
   "source": []
  },
  {
   "cell_type": "code",
   "execution_count": null,
   "id": "51beccbd",
   "metadata": {},
   "outputs": [],
   "source": []
  },
  {
   "cell_type": "markdown",
   "id": "9afb0974",
   "metadata": {},
   "source": [
    "### (2) 독립성 검정\n",
    "- 좌석등급(class)과 생존여부(survived)가 서로 독립적인지 검정 수행 \n",
    "- 가설\n",
    "    - 귀무가설(H0) : 좌석등급(class)과 생존여부(survived)가 서로 독립적이다\n",
    "    - 대립가설(H1) : 좌석등급(class)과 생존여부(survived)가 서로 독립적 아니다 \n",
    "    \n",
    "- scipy.stats의 chi2_contingency(observed, correction=True, lambda_=None) 사용   \n",
    "    - observed : pd.crosstab() 값   \n",
    "    - 4개 값 리턴    \n",
    "        - 카이제곱 통계량 \n",
    "        - p-value \n",
    "        - 자유도  \n",
    "        - 테이블의 합계를 기반으로 한 기대빈도 \n",
    "---\n",
    "- 독립성 검정 수행 단계\n",
    "    - (1) pd.crosstab() 사용 교차 테이블 생성 (observed 값 생성) \n",
    "    - (2) chi2_contingency() 사용 독립성 검정 수행 \n",
    "---\n",
    "- 참고 : correction=True 디폴트  \n",
    "    - Yates' contimuity correction (예이츠의 수정)\n",
    "        - 카이제곱 검정의 오차를 교정하기 위해 수정 (분자의 제곱 항에 절대값 적용 후 0.5 빼기)    \n",
    "        - 카이제곱 검정통계량보다 작아지고, p-value 값은 커짐   \n",
    "        - (카이제곱에서는 검정통계량이 작을수록 p값이 커짐)  \n",
    "        - 교정 정도가 심해서 사용하지 말자는 의견도 있음 "
   ]
  },
  {
   "cell_type": "code",
   "execution_count": null,
   "id": "76659459",
   "metadata": {},
   "outputs": [],
   "source": []
  },
  {
   "cell_type": "code",
   "execution_count": 5,
   "id": "a9b3a429",
   "metadata": {},
   "outputs": [
    {
     "data": {
      "text/html": [
       "<div>\n",
       "<style scoped>\n",
       "    .dataframe tbody tr th:only-of-type {\n",
       "        vertical-align: middle;\n",
       "    }\n",
       "\n",
       "    .dataframe tbody tr th {\n",
       "        vertical-align: top;\n",
       "    }\n",
       "\n",
       "    .dataframe thead th {\n",
       "        text-align: right;\n",
       "    }\n",
       "</style>\n",
       "<table border=\"1\" class=\"dataframe\">\n",
       "  <thead>\n",
       "    <tr style=\"text-align: right;\">\n",
       "      <th>survived</th>\n",
       "      <th>0</th>\n",
       "      <th>1</th>\n",
       "    </tr>\n",
       "    <tr>\n",
       "      <th>class</th>\n",
       "      <th></th>\n",
       "      <th></th>\n",
       "    </tr>\n",
       "  </thead>\n",
       "  <tbody>\n",
       "    <tr>\n",
       "      <th>First</th>\n",
       "      <td>80</td>\n",
       "      <td>136</td>\n",
       "    </tr>\n",
       "    <tr>\n",
       "      <th>Second</th>\n",
       "      <td>97</td>\n",
       "      <td>87</td>\n",
       "    </tr>\n",
       "    <tr>\n",
       "      <th>Third</th>\n",
       "      <td>372</td>\n",
       "      <td>119</td>\n",
       "    </tr>\n",
       "  </tbody>\n",
       "</table>\n",
       "</div>"
      ],
      "text/plain": [
       "survived    0    1\n",
       "class             \n",
       "First      80  136\n",
       "Second     97   87\n",
       "Third     372  119"
      ]
     },
     "execution_count": 5,
     "metadata": {},
     "output_type": "execute_result"
    }
   ],
   "source": [
    "# (1) pd.crosstab() 사용해서 교차 테이블 생성 (observed 값 생성)\n",
    "table = pd.crosstab(index=df['class'], columns=df['survived'], values=df['survived'], aggfunc='count')\n",
    "table"
   ]
  },
  {
   "cell_type": "code",
   "execution_count": null,
   "id": "f0c1ad38",
   "metadata": {},
   "outputs": [],
   "source": []
  },
  {
   "cell_type": "code",
   "execution_count": 6,
   "id": "ebd1a358",
   "metadata": {},
   "outputs": [
    {
     "data": {
      "text/plain": [
       "Chi2ContingencyResult(statistic=102.88898875696056, pvalue=4.549251711298793e-23, dof=2, expected_freq=array([[133.09090909,  82.90909091],\n",
       "       [113.37373737,  70.62626263],\n",
       "       [302.53535354, 188.46464646]]))"
      ]
     },
     "execution_count": 6,
     "metadata": {},
     "output_type": "execute_result"
    }
   ],
   "source": [
    "# (2) 카이제곱 검정을 통한 독립성 검정 수행\n",
    "\n",
    "from scipy.stats import chi2_contingency\n",
    "\n",
    "chi2_contingency(table)"
   ]
  },
  {
   "cell_type": "code",
   "execution_count": 7,
   "id": "69cf8a90",
   "metadata": {},
   "outputs": [
    {
     "data": {
      "text/plain": [
       "Chi2ContingencyResult(statistic=102.88898875696056, pvalue=4.549251711298793e-23, dof=2, expected_freq=array([[133.09090909,  82.90909091],\n",
       "       [113.37373737,  70.62626263],\n",
       "       [302.53535354, 188.46464646]]))"
      ]
     },
     "execution_count": 7,
     "metadata": {},
     "output_type": "execute_result"
    }
   ],
   "source": [
    "chi2_contingency(table, correction=False)"
   ]
  },
  {
   "cell_type": "code",
   "execution_count": null,
   "id": "84c9a4c1",
   "metadata": {},
   "outputs": [],
   "source": [
    "# 독립적이지 못하다"
   ]
  },
  {
   "cell_type": "code",
   "execution_count": 8,
   "id": "3eeb0187",
   "metadata": {},
   "outputs": [],
   "source": [
    "#######################################################"
   ]
  },
  {
   "cell_type": "markdown",
   "id": "5e35d52c",
   "metadata": {},
   "source": [
    "### 카이제곱 독립성 검정 수행 연습문제1 \n",
    "- 폐암과 흡연의 연관성 분석 \n",
    "- 범주형과  범주형 간의 관련성(독립성) 분석 "
   ]
  },
  {
   "cell_type": "code",
   "execution_count": 9,
   "id": "a1d9f621",
   "metadata": {},
   "outputs": [
    {
     "name": "stdout",
     "output_type": "stream",
     "text": [
      "<class 'pandas.core.frame.DataFrame'>\n",
      "RangeIndex: 35 entries, 0 to 34\n",
      "Data columns (total 2 columns):\n",
      " #   Column   Non-Null Count  Dtype\n",
      "---  ------   --------------  -----\n",
      " 0   smoke    35 non-null     int64\n",
      " 1   disease  35 non-null     int64\n",
      "dtypes: int64(2)\n",
      "memory usage: 692.0 bytes\n"
     ]
    }
   ],
   "source": [
    "# smoke_disease.csv 사용\n",
    "df = pd.read_csv(\"./data/smoke_disease.csv\")\n",
    "df.info()"
   ]
  },
  {
   "cell_type": "code",
   "execution_count": 10,
   "id": "e44c5e11",
   "metadata": {},
   "outputs": [
    {
     "data": {
      "text/html": [
       "<div>\n",
       "<style scoped>\n",
       "    .dataframe tbody tr th:only-of-type {\n",
       "        vertical-align: middle;\n",
       "    }\n",
       "\n",
       "    .dataframe tbody tr th {\n",
       "        vertical-align: top;\n",
       "    }\n",
       "\n",
       "    .dataframe thead th {\n",
       "        text-align: right;\n",
       "    }\n",
       "</style>\n",
       "<table border=\"1\" class=\"dataframe\">\n",
       "  <thead>\n",
       "    <tr style=\"text-align: right;\">\n",
       "      <th></th>\n",
       "      <th>smoke</th>\n",
       "      <th>disease</th>\n",
       "    </tr>\n",
       "  </thead>\n",
       "  <tbody>\n",
       "    <tr>\n",
       "      <th>0</th>\n",
       "      <td>0</td>\n",
       "      <td>0</td>\n",
       "    </tr>\n",
       "    <tr>\n",
       "      <th>1</th>\n",
       "      <td>0</td>\n",
       "      <td>0</td>\n",
       "    </tr>\n",
       "    <tr>\n",
       "      <th>2</th>\n",
       "      <td>0</td>\n",
       "      <td>0</td>\n",
       "    </tr>\n",
       "    <tr>\n",
       "      <th>3</th>\n",
       "      <td>0</td>\n",
       "      <td>0</td>\n",
       "    </tr>\n",
       "    <tr>\n",
       "      <th>4</th>\n",
       "      <td>0</td>\n",
       "      <td>0</td>\n",
       "    </tr>\n",
       "  </tbody>\n",
       "</table>\n",
       "</div>"
      ],
      "text/plain": [
       "   smoke  disease\n",
       "0      0        0\n",
       "1      0        0\n",
       "2      0        0\n",
       "3      0        0\n",
       "4      0        0"
      ]
     },
     "execution_count": 10,
     "metadata": {},
     "output_type": "execute_result"
    }
   ],
   "source": [
    "df.head()"
   ]
  },
  {
   "cell_type": "code",
   "execution_count": 11,
   "id": "92fb5a01",
   "metadata": {},
   "outputs": [
    {
     "data": {
      "text/html": [
       "<div>\n",
       "<style scoped>\n",
       "    .dataframe tbody tr th:only-of-type {\n",
       "        vertical-align: middle;\n",
       "    }\n",
       "\n",
       "    .dataframe tbody tr th {\n",
       "        vertical-align: top;\n",
       "    }\n",
       "\n",
       "    .dataframe thead th {\n",
       "        text-align: right;\n",
       "    }\n",
       "</style>\n",
       "<table border=\"1\" class=\"dataframe\">\n",
       "  <thead>\n",
       "    <tr style=\"text-align: right;\">\n",
       "      <th>disease</th>\n",
       "      <th>0</th>\n",
       "      <th>1</th>\n",
       "    </tr>\n",
       "    <tr>\n",
       "      <th>smoke</th>\n",
       "      <th></th>\n",
       "      <th></th>\n",
       "    </tr>\n",
       "  </thead>\n",
       "  <tbody>\n",
       "    <tr>\n",
       "      <th>0</th>\n",
       "      <td>14</td>\n",
       "      <td>2</td>\n",
       "    </tr>\n",
       "    <tr>\n",
       "      <th>1</th>\n",
       "      <td>10</td>\n",
       "      <td>9</td>\n",
       "    </tr>\n",
       "  </tbody>\n",
       "</table>\n",
       "</div>"
      ],
      "text/plain": [
       "disease   0  1\n",
       "smoke         \n",
       "0        14  2\n",
       "1        10  9"
      ]
     },
     "execution_count": 11,
     "metadata": {},
     "output_type": "execute_result"
    }
   ],
   "source": [
    "table = pd.crosstab(index=df['smoke'], columns=df['disease'])\n",
    "table"
   ]
  },
  {
   "cell_type": "code",
   "execution_count": 12,
   "id": "723b4f34",
   "metadata": {},
   "outputs": [
    {
     "data": {
      "text/plain": [
       "Chi2ContingencyResult(statistic=3.4156792015550237, pvalue=0.06457983327434368, dof=1, expected_freq=array([[10.97142857,  5.02857143],\n",
       "       [13.02857143,  5.97142857]]))"
      ]
     },
     "execution_count": 12,
     "metadata": {},
     "output_type": "execute_result"
    }
   ],
   "source": [
    "chi2_contingency(table)\n",
    "# 독립적이라 할 만 하지만"
   ]
  },
  {
   "cell_type": "code",
   "execution_count": 13,
   "id": "17ea2f5e",
   "metadata": {},
   "outputs": [
    {
     "data": {
      "text/plain": [
       "Chi2ContingencyResult(statistic=4.900069776714513, pvalue=0.026855610352114926, dof=1, expected_freq=array([[10.97142857,  5.02857143],\n",
       "       [13.02857143,  5.97142857]]))"
      ]
     },
     "execution_count": 13,
     "metadata": {},
     "output_type": "execute_result"
    }
   ],
   "source": [
    "chi2_contingency(table, correction=False)\n",
    "# 여기는 독립적이라 하기 힘들다"
   ]
  },
  {
   "cell_type": "markdown",
   "id": "636852ff",
   "metadata": {},
   "source": [
    "### 카이제곱 독립성 검정 수행 연습문제2\n",
    "- 성별에 따른 만족도 연관성(독립성) 분석"
   ]
  },
  {
   "cell_type": "code",
   "execution_count": 14,
   "id": "ac8d0d6c",
   "metadata": {},
   "outputs": [
    {
     "name": "stdout",
     "output_type": "stream",
     "text": [
      "<class 'pandas.core.frame.DataFrame'>\n",
      "RangeIndex: 200 entries, 0 to 199\n",
      "Data columns (total 2 columns):\n",
      " #   Column  Non-Null Count  Dtype \n",
      "---  ------  --------------  ----- \n",
      " 0   만족도     200 non-null    object\n",
      " 1   성별      200 non-null    object\n",
      "dtypes: object(2)\n",
      "memory usage: 3.3+ KB\n"
     ]
    }
   ],
   "source": [
    "# 성별에따른만족도.csv 사용\n",
    "df = pd.read_csv(\"./data/성별에따른만족도.csv\")\n",
    "df.info()"
   ]
  },
  {
   "cell_type": "code",
   "execution_count": 15,
   "id": "976a3ec2",
   "metadata": {},
   "outputs": [
    {
     "data": {
      "text/html": [
       "<div>\n",
       "<style scoped>\n",
       "    .dataframe tbody tr th:only-of-type {\n",
       "        vertical-align: middle;\n",
       "    }\n",
       "\n",
       "    .dataframe tbody tr th {\n",
       "        vertical-align: top;\n",
       "    }\n",
       "\n",
       "    .dataframe thead th {\n",
       "        text-align: right;\n",
       "    }\n",
       "</style>\n",
       "<table border=\"1\" class=\"dataframe\">\n",
       "  <thead>\n",
       "    <tr style=\"text-align: right;\">\n",
       "      <th></th>\n",
       "      <th>만족도</th>\n",
       "      <th>성별</th>\n",
       "    </tr>\n",
       "  </thead>\n",
       "  <tbody>\n",
       "    <tr>\n",
       "      <th>0</th>\n",
       "      <td>불만족</td>\n",
       "      <td>남성</td>\n",
       "    </tr>\n",
       "    <tr>\n",
       "      <th>1</th>\n",
       "      <td>보통</td>\n",
       "      <td>여성</td>\n",
       "    </tr>\n",
       "    <tr>\n",
       "      <th>2</th>\n",
       "      <td>불만족</td>\n",
       "      <td>여성</td>\n",
       "    </tr>\n",
       "    <tr>\n",
       "      <th>3</th>\n",
       "      <td>보통</td>\n",
       "      <td>남성</td>\n",
       "    </tr>\n",
       "    <tr>\n",
       "      <th>4</th>\n",
       "      <td>만족</td>\n",
       "      <td>여성</td>\n",
       "    </tr>\n",
       "  </tbody>\n",
       "</table>\n",
       "</div>"
      ],
      "text/plain": [
       "   만족도  성별\n",
       "0  불만족  남성\n",
       "1   보통  여성\n",
       "2  불만족  여성\n",
       "3   보통  남성\n",
       "4   만족  여성"
      ]
     },
     "execution_count": 15,
     "metadata": {},
     "output_type": "execute_result"
    }
   ],
   "source": [
    "df.head()"
   ]
  },
  {
   "cell_type": "code",
   "execution_count": 16,
   "id": "96987cc4",
   "metadata": {},
   "outputs": [
    {
     "data": {
      "text/html": [
       "<div>\n",
       "<style scoped>\n",
       "    .dataframe tbody tr th:only-of-type {\n",
       "        vertical-align: middle;\n",
       "    }\n",
       "\n",
       "    .dataframe tbody tr th {\n",
       "        vertical-align: top;\n",
       "    }\n",
       "\n",
       "    .dataframe thead th {\n",
       "        text-align: right;\n",
       "    }\n",
       "</style>\n",
       "<table border=\"1\" class=\"dataframe\">\n",
       "  <thead>\n",
       "    <tr style=\"text-align: right;\">\n",
       "      <th>성별</th>\n",
       "      <th>남성</th>\n",
       "      <th>여성</th>\n",
       "    </tr>\n",
       "    <tr>\n",
       "      <th>만족도</th>\n",
       "      <th></th>\n",
       "      <th></th>\n",
       "    </tr>\n",
       "  </thead>\n",
       "  <tbody>\n",
       "    <tr>\n",
       "      <th>만족</th>\n",
       "      <td>50</td>\n",
       "      <td>40</td>\n",
       "    </tr>\n",
       "    <tr>\n",
       "      <th>보통</th>\n",
       "      <td>40</td>\n",
       "      <td>30</td>\n",
       "    </tr>\n",
       "    <tr>\n",
       "      <th>불만족</th>\n",
       "      <td>10</td>\n",
       "      <td>30</td>\n",
       "    </tr>\n",
       "  </tbody>\n",
       "</table>\n",
       "</div>"
      ],
      "text/plain": [
       "성별   남성  여성\n",
       "만족도        \n",
       "만족   50  40\n",
       "보통   40  30\n",
       "불만족  10  30"
      ]
     },
     "execution_count": 16,
     "metadata": {},
     "output_type": "execute_result"
    }
   ],
   "source": [
    "table = pd.crosstab(index=df['만족도'], columns=df['성별'])\n",
    "table"
   ]
  },
  {
   "cell_type": "code",
   "execution_count": 17,
   "id": "6edea739",
   "metadata": {},
   "outputs": [
    {
     "data": {
      "text/plain": [
       "Chi2ContingencyResult(statistic=12.53968253968254, pvalue=0.001892528960792166, dof=2, expected_freq=array([[45., 45.],\n",
       "       [35., 35.],\n",
       "       [20., 20.]]))"
      ]
     },
     "execution_count": 17,
     "metadata": {},
     "output_type": "execute_result"
    }
   ],
   "source": [
    "chi2_contingency(table)"
   ]
  },
  {
   "cell_type": "code",
   "execution_count": 18,
   "id": "a22c7c1a",
   "metadata": {},
   "outputs": [
    {
     "data": {
      "text/plain": [
       "Chi2ContingencyResult(statistic=12.53968253968254, pvalue=0.001892528960792166, dof=2, expected_freq=array([[45., 45.],\n",
       "       [35., 35.],\n",
       "       [20., 20.]]))"
      ]
     },
     "execution_count": 18,
     "metadata": {},
     "output_type": "execute_result"
    }
   ],
   "source": [
    "chi2_contingency(table, correction=False)"
   ]
  },
  {
   "cell_type": "code",
   "execution_count": null,
   "id": "6c866c16",
   "metadata": {},
   "outputs": [],
   "source": [
    "# 여기는 둘 다 독립적이라 보기 힘들다"
   ]
  }
 ],
 "metadata": {
  "kernelspec": {
   "display_name": "DEEP_ENV",
   "language": "python",
   "name": "deepenv"
  },
  "language_info": {
   "codemirror_mode": {
    "name": "ipython",
    "version": 3
   },
   "file_extension": ".py",
   "mimetype": "text/x-python",
   "name": "python",
   "nbconvert_exporter": "python",
   "pygments_lexer": "ipython3",
   "version": "3.11.5"
  }
 },
 "nbformat": 4,
 "nbformat_minor": 5
}
