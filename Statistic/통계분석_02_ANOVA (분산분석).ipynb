{
 "cells": [
  {
   "cell_type": "markdown",
   "id": "0c134d0e",
   "metadata": {},
   "source": [
    "## ANOVA (분산분석)"
   ]
  },
  {
   "cell_type": "markdown",
   "id": "850d4175",
   "metadata": {},
   "source": [
    "### ANOVA (분석분석) : Analysis of Variance\n",
    "- 평균이 아닌 분산을 사용하여 차이 검정 수행하는 방법   \n",
    "- 세 개 이상의 다수 집단 간 평균을 비교하는 통계분석 방법\n",
    "    - T-검정 : 두 집단 간의 평균 차이 비교하는 통계분석 방법  \n",
    "- 집단 내 분산(차이)보다 다른 집단과의 분산(차이)이 더 크다면 유의하다고 판단  \n",
    "- 분산분석 유형  \n",
    "    - 단일변량 분산분석  \n",
    "        - 일원 분산분석 : 독립변수 1개,  종속변수 1개 (종속변수에 영향을 주는 요인이 1개)  \n",
    "        - 이원 분산분석 : 독립변수 2개,  종속변수 1개 (종속변수에 영향을 주는 요인이 2개)   \n",
    "        - 다원 분산분석 : 독립변수 3개 이상,  종속변수 1개  \n",
    "    - 다변량 분산분석  \n",
    "        - MANOVA : 독립변수 1개 이상,  종속변수 2개 이상  \n",
    "- 종속변수 : 연속형\n",
    "- 독립변수 : 범주형 "
   ]
  },
  {
   "cell_type": "code",
   "execution_count": 1,
   "id": "c0b282c6",
   "metadata": {},
   "outputs": [],
   "source": [
    "from IPython.core.interactiveshell import InteractiveShell\n",
    "InteractiveShell.ast_node_interactivity=\"all\""
   ]
  },
  {
   "cell_type": "markdown",
   "id": "8be8d89a",
   "metadata": {},
   "source": [
    "### (1) 일원 분산분석 (One-way ANOVA)\n",
    "- 세 개 이상의 집단으로 구성된 하나의 독립변수에 따라 종속변수의 평균이 유의미한 차이가 있는지 검증 \n",
    "    - 일원 분산분석 : 독립변수 1개, 종속변수 1개 \n",
    "    - 하나의 독립변수가 세 개 이상의 범주 포함 (세 집단 이상)\n",
    "        - 예: iris 데이터 target에 3개 품종 포함 : setosa, versicola, virginica   \n",
    "- F 검정 통계량 이용 : 평균 제곱율에 기반  \n",
    "    - F-value = 집단 간 분산 / 집단 내 분산  \n",
    "    - 평균의 차이 계산이 아니라 분산의 비율값 \n",
    "    - 집단 내 분산보다 집단 간 분산이 크면 F 값 커지고 귀무가설 기각 확률 높아짐  \n",
    "    - 즉, k개의 집단의 차이가 있다고 할 확률이 높아진다고 할 수 있음 \n",
    "    \n",
    "---\n",
    "- 가정\n",
    "    - (1) 집단의 관측치는 서로 독립적이며, 정규분포를 따른다   \n",
    "    - (2) 집단 관측치의 분산은 같다 (등분산 가정)  \n",
    "    \n",
    "---\n",
    "- 가설 \n",
    "    - 귀무가설(H0) : k개의 집단 간 모평균의 값이 차이가 없다 (같다)\n",
    "    - 대립가설(H1) : k개의 집단 간 모평균의 값이 차이가 있다 (같지 않다)\n",
    "    \n",
    "---\n",
    "- 사후검정 (Post-hoc)\n",
    "    - 분산분석의 결과 귀무가설이 기각되어 \n",
    "    - 적어도 한 집단에서 평균의 차이가 있음이 통계적으로 증명되었을 경우\n",
    "        - 즉, p-value < 0.05 인 경우\n",
    "    - (평균의 차이가 없으면 사후 검정 진행하지 않음)  \n",
    "    - 어떤 집단들에 대해 평균의 차이가 존재하는지를 알아보기 위해 수행하는 분석\n",
    "    - 튜키의 HSD 사용 \n",
    "\n",
    "--- \n",
    "- 일원 분산분석 수행 단계\n",
    "    - 정규성 검정 (Yes) -> 등분산 검정 (Yes) -> ANOVA 검정 stats.t_oneway() 수행  \n",
    "    - 비정규성인 경우 -> stat.kruskal() 수행  \n",
    "    - 비등분산성인 경우 -> pg.welch_anova() 수행   "
   ]
  },
  {
   "cell_type": "markdown",
   "id": "873871f0",
   "metadata": {},
   "source": [
    "### 일원 분산분석 예제\n",
    "- iris 데이터 사용 \n",
    "- 품종별 꽃받침의 너비(Sepal Width)의 평균이 같은지 확인  \n",
    "- 일원 분산분석 : 독립변수 1개, 종속변수 1개 \n",
    "- 1개의 독립변수가 세 개의 범주 포함 : setosa, versicola, virginica\n",
    "- (1) 데이터 로드 / 분포 확인  \n",
    "- (2) 가설 수립\n",
    "- (3) 정규성 검정\n",
    "- (4) 등분산 검정\n",
    "- (5) ANOVA 검정 : f_oneway() 사용\n",
    "- (6) 사후 검정 "
   ]
  },
  {
   "cell_type": "markdown",
   "id": "44e18f92",
   "metadata": {},
   "source": [
    "#### (1) 데이터 로드 / 분포 확인  "
   ]
  },
  {
   "cell_type": "code",
   "execution_count": 2,
   "id": "f7a1b006",
   "metadata": {},
   "outputs": [
    {
     "data": {
      "text/html": [
       "<div>\n",
       "<style scoped>\n",
       "    .dataframe tbody tr th:only-of-type {\n",
       "        vertical-align: middle;\n",
       "    }\n",
       "\n",
       "    .dataframe tbody tr th {\n",
       "        vertical-align: top;\n",
       "    }\n",
       "\n",
       "    .dataframe thead th {\n",
       "        text-align: right;\n",
       "    }\n",
       "</style>\n",
       "<table border=\"1\" class=\"dataframe\">\n",
       "  <thead>\n",
       "    <tr style=\"text-align: right;\">\n",
       "      <th></th>\n",
       "      <th>sepal length</th>\n",
       "      <th>sepal width</th>\n",
       "      <th>petal length</th>\n",
       "      <th>petal width</th>\n",
       "      <th>target</th>\n",
       "    </tr>\n",
       "  </thead>\n",
       "  <tbody>\n",
       "    <tr>\n",
       "      <th>0</th>\n",
       "      <td>5.1</td>\n",
       "      <td>3.5</td>\n",
       "      <td>1.4</td>\n",
       "      <td>0.2</td>\n",
       "      <td>setosa</td>\n",
       "    </tr>\n",
       "    <tr>\n",
       "      <th>1</th>\n",
       "      <td>4.9</td>\n",
       "      <td>3.0</td>\n",
       "      <td>1.4</td>\n",
       "      <td>0.2</td>\n",
       "      <td>setosa</td>\n",
       "    </tr>\n",
       "    <tr>\n",
       "      <th>2</th>\n",
       "      <td>4.7</td>\n",
       "      <td>3.2</td>\n",
       "      <td>1.3</td>\n",
       "      <td>0.2</td>\n",
       "      <td>setosa</td>\n",
       "    </tr>\n",
       "    <tr>\n",
       "      <th>3</th>\n",
       "      <td>4.6</td>\n",
       "      <td>3.1</td>\n",
       "      <td>1.5</td>\n",
       "      <td>0.2</td>\n",
       "      <td>setosa</td>\n",
       "    </tr>\n",
       "    <tr>\n",
       "      <th>4</th>\n",
       "      <td>5.0</td>\n",
       "      <td>3.6</td>\n",
       "      <td>1.4</td>\n",
       "      <td>0.2</td>\n",
       "      <td>setosa</td>\n",
       "    </tr>\n",
       "  </tbody>\n",
       "</table>\n",
       "</div>"
      ],
      "text/plain": [
       "   sepal length  sepal width  petal length  petal width  target\n",
       "0           5.1          3.5           1.4          0.2  setosa\n",
       "1           4.9          3.0           1.4          0.2  setosa\n",
       "2           4.7          3.2           1.3          0.2  setosa\n",
       "3           4.6          3.1           1.5          0.2  setosa\n",
       "4           5.0          3.6           1.4          0.2  setosa"
      ]
     },
     "execution_count": 2,
     "metadata": {},
     "output_type": "execute_result"
    }
   ],
   "source": [
    "import pandas as pd\n",
    "from sklearn.datasets import load_iris\n",
    "data = pd.read_csv('./data/iris.csv')\n",
    "data.head()"
   ]
  },
  {
   "cell_type": "code",
   "execution_count": 3,
   "id": "5a964fdf",
   "metadata": {},
   "outputs": [
    {
     "data": {
      "text/plain": [
       "array(['setosa', 'versicolor', 'virginica'], dtype=object)"
      ]
     },
     "execution_count": 3,
     "metadata": {},
     "output_type": "execute_result"
    }
   ],
   "source": [
    "data[\"target\"].unique()"
   ]
  },
  {
   "cell_type": "code",
   "execution_count": 4,
   "id": "0e4f7a82",
   "metadata": {},
   "outputs": [
    {
     "data": {
      "text/plain": [
       "target\n",
       "setosa        50\n",
       "versicolor    50\n",
       "virginica     50\n",
       "Name: count, dtype: int64"
      ]
     },
     "execution_count": 4,
     "metadata": {},
     "output_type": "execute_result"
    }
   ],
   "source": [
    "data.target.value_counts()"
   ]
  },
  {
   "cell_type": "code",
   "execution_count": 5,
   "id": "cdd436dc",
   "metadata": {},
   "outputs": [
    {
     "name": "stdout",
     "output_type": "stream",
     "text": [
      "['setosa' 'versicolor' 'virginica']\n"
     ]
    }
   ],
   "source": [
    "# target 별 \"sepal width\" 값 변수에 저장 \n",
    "target_list = data[\"target\"].unique()\n",
    "setosa = data[data[\"target\"]==target_list[0]][\"sepal width\"]\n",
    "versicolor = data[data[\"target\"]==target_list[1]][\"sepal width\"]\n",
    "virginica = data[data[\"target\"]==target_list[2]][\"sepal width\"]\n",
    "print(target_list)\n"
   ]
  },
  {
   "cell_type": "code",
   "execution_count": 6,
   "id": "fd0cae26",
   "metadata": {},
   "outputs": [],
   "source": [
    "# setosa"
   ]
  },
  {
   "cell_type": "code",
   "execution_count": 7,
   "id": "c70498a2",
   "metadata": {},
   "outputs": [
    {
     "data": {
      "text/plain": [
       "<Axes: xlabel='target', ylabel='sepal width'>"
      ]
     },
     "execution_count": 7,
     "metadata": {},
     "output_type": "execute_result"
    },
    {
     "data": {
      "image/png": "[encoded data removed]",
      "text/plain": [
       "<Figure size 640x480 with 1 Axes>"
      ]
     },
     "metadata": {},
     "output_type": "display_data"
    }
   ],
   "source": [
    "# 시각화해서 타깃값 분포 확인 \n",
    "import seaborn as sns\n",
    "import matplotlib.pyplot as plt\n",
    "# Scatter plot by Groups\n",
    "sns.scatterplot(x='target', \n",
    "                y='sepal width', \n",
    "                hue='target', # different colors by group\n",
    "                style='target', # different shapes by group\n",
    "                s=100, # marker size\n",
    "                data=data)\n",
    "# plt.legend()\n",
    "plt.show()\n",
    "\n",
    "# 품종간 평균의 차이가 있어 보임\n",
    "# 통계적으로 차이가 있는지 검정 "
   ]
  },
  {
   "cell_type": "markdown",
   "id": "f908badd",
   "metadata": {},
   "source": [
    "#### (2) 가설 수립\n",
    "- 귀무가설(H0) : 세가지 종에 대해 Sepal Width의 평균은 모두 같다\n",
    "- 대립가설(H1) : 세가지 종에 대해 Sepal Width의 평균은 차이가 있다 (같지 않다)"
   ]
  },
  {
   "cell_type": "markdown",
   "id": "058ee746",
   "metadata": {},
   "source": [
    "#### (3) 정규성 검정"
   ]
  },
  {
   "cell_type": "code",
   "execution_count": 8,
   "id": "f4b907ba",
   "metadata": {},
   "outputs": [
    {
     "data": {
      "text/plain": [
       "ShapiroResult(statistic=0.9686915278434753, pvalue=0.20464898645877838)"
      ]
     },
     "execution_count": 8,
     "metadata": {},
     "output_type": "execute_result"
    },
    {
     "data": {
      "text/plain": [
       "ShapiroResult(statistic=0.9741330742835999, pvalue=0.33798879384994507)"
      ]
     },
     "execution_count": 8,
     "metadata": {},
     "output_type": "execute_result"
    },
    {
     "data": {
      "text/plain": [
       "ShapiroResult(statistic=0.9673907160758972, pvalue=0.18089857697486877)"
      ]
     },
     "execution_count": 8,
     "metadata": {},
     "output_type": "execute_result"
    }
   ],
   "source": [
    "# 각 변수가 정규성을 만족하는지 확인 \n",
    "# 귀무가설(H0) : 데이터가 정규분포를 따른다\n",
    "# 대립가설(H1) : 데이터가 정규분포를 따르지 않는다 \n",
    "\n",
    "from scipy.stats import shapiro\n",
    "\n",
    "shapiro(setosa)\n",
    "shapiro(versicolor)\n",
    "shapiro(virginica)\n",
    "\n",
    "# 다들 정규분포 따르는 듯"
   ]
  },
  {
   "cell_type": "markdown",
   "id": "5a0c17db",
   "metadata": {},
   "source": [
    "#### (4) 등분산 검정"
   ]
  },
  {
   "cell_type": "code",
   "execution_count": 9,
   "id": "fdfd2d64",
   "metadata": {},
   "outputs": [
    {
     "data": {
      "text/plain": [
       "BartlettResult(statistic=2.2158125491551637, pvalue=0.3302496898960959)"
      ]
     },
     "execution_count": 9,
     "metadata": {},
     "output_type": "execute_result"
    }
   ],
   "source": [
    "# 정규분포이므로 Bartlett 사용 (데이터 수 달라도 가능)\n",
    "\n",
    "from scipy.stats import bartlett\n",
    "\n",
    "bartlett(setosa, versicolor, virginica)\n",
    "\n",
    "# 등분산 가정 맞는듯"
   ]
  },
  {
   "cell_type": "code",
   "execution_count": 10,
   "id": "01e5b07f",
   "metadata": {},
   "outputs": [
    {
     "data": {
      "text/plain": [
       "LeveneResult(statistic=0.6475222363405327, pvalue=0.5248269975064537)"
      ]
     },
     "execution_count": 10,
     "metadata": {},
     "output_type": "execute_result"
    }
   ],
   "source": [
    "# 참고로 Levene도 사용\n",
    "\n",
    "from scipy.stats import levene\n",
    "\n",
    "levene(setosa, versicolor, virginica)\n",
    "\n",
    "# 얘도 맞는듯"
   ]
  },
  {
   "cell_type": "markdown",
   "id": "a03a0823",
   "metadata": {},
   "source": [
    "#### (5) ANOVA 검정 : f_oneway() 사용"
   ]
  },
  {
   "cell_type": "code",
   "execution_count": 11,
   "id": "ec0deb5a",
   "metadata": {},
   "outputs": [
    {
     "data": {
      "text/plain": [
       "F_onewayResult(statistic=47.36446140299382, pvalue=1.3279165184572242e-16)"
      ]
     },
     "execution_count": 11,
     "metadata": {},
     "output_type": "execute_result"
    }
   ],
   "source": [
    "# 귀무가설(H0) : 세 가지 종에 대해 Sepal Width의 평균은 모두 같다\n",
    "# 대립가설(H1) : 세 가지 종에 대해 Sepal Width의 평균은 차이가 있다 (같지 않다)\n",
    "\n",
    "from scipy.stats import f_oneway\n",
    "\n",
    "f_oneway(setosa, versicolor, virginica)\n",
    "\n",
    "# 확실히 얘네들은 다름"
   ]
  },
  {
   "cell_type": "markdown",
   "id": "405683c3",
   "metadata": {},
   "source": [
    "#### (6) 사후 검정 \n",
    "- 어떤 집단들에 대해 평균의 차이가 존재하는지를 알아보기 위해 수행하는 분석\n",
    "- 즉, 세 가지 종들 중 어떤 종의 꽃받침 너비가 차이가 있는지 파악하기 위해 수행 \n",
    "- 가설\n",
    "    - 귀무가설(H0) : 집단들 사이의 평균은  같다\n",
    "    - 대립가설(H1) : 집단들 사이의 평균은 같지 않다  \n",
    "- 모든 집단 수준에 대하여 두 집단씩 짝을 지어 각각 다중 비교 수행 \n",
    "    - 예 : (setosa, versicola), (setosa, virginica), (versicola, virginica)\n",
    "- 튜키의 HSD : 비교 대상 표본수가 동일한 경우에만 사용 가능 \n",
    "    - 모든 집단 조합에 대하여 분석 \n",
    "    - 표본수가 동일한 경우 가장 많이 사용되는 사후검정 방법 \n",
    "- 집단별로 표본의수는 다르지만 등분산성은 만족하는 경우\n",
    "    - Fisher's LSD, Bonferroni, Scheffe 사용   \n",
    "- 집단별로 표본수도 다르고, 등분산성도 만족하지 않는 경우\n",
    "    - Games-Howell, Dunnett T3 등 사용  "
   ]
  },
  {
   "cell_type": "code",
   "execution_count": 12,
   "id": "9bd1f34a",
   "metadata": {},
   "outputs": [
    {
     "name": "stdout",
     "output_type": "stream",
     "text": [
      "Requirement already satisfied: statsmodels in /Users/jangseungheon/anaconda3/lib/python3.11/site-packages (0.14.0)\n",
      "Requirement already satisfied: numpy>=1.18 in /Users/jangseungheon/anaconda3/lib/python3.11/site-packages (from statsmodels) (1.24.3)\n",
      "Requirement already satisfied: scipy!=1.9.2,>=1.4 in /Users/jangseungheon/anaconda3/lib/python3.11/site-packages (from statsmodels) (1.11.3)\n",
      "Requirement already satisfied: pandas>=1.0 in /Users/jangseungheon/anaconda3/lib/python3.11/site-packages (from statsmodels) (2.0.0)\n",
      "Requirement already satisfied: patsy>=0.5.2 in /Users/jangseungheon/anaconda3/lib/python3.11/site-packages (from statsmodels) (0.5.3)\n",
      "Requirement already satisfied: packaging>=21.3 in /Users/jangseungheon/anaconda3/lib/python3.11/site-packages (from statsmodels) (23.1)\n",
      "Requirement already satisfied: python-dateutil>=2.8.2 in /Users/jangseungheon/anaconda3/lib/python3.11/site-packages (from pandas>=1.0->statsmodels) (2.8.2)\n",
      "Requirement already satisfied: pytz>=2020.1 in /Users/jangseungheon/anaconda3/lib/python3.11/site-packages (from pandas>=1.0->statsmodels) (2023.3.post1)\n",
      "Requirement already satisfied: tzdata>=2022.1 in /Users/jangseungheon/anaconda3/lib/python3.11/site-packages (from pandas>=1.0->statsmodels) (2023.3)\n",
      "Requirement already satisfied: six in /Users/jangseungheon/anaconda3/lib/python3.11/site-packages (from patsy>=0.5.2->statsmodels) (1.16.0)\n"
     ]
    }
   ],
   "source": [
    "!pip install statsmodels"
   ]
  },
  {
   "cell_type": "code",
   "execution_count": 15,
   "id": "7f230ff0",
   "metadata": {},
   "outputs": [
    {
     "data": {
      "text/html": [
       "<table class=\"simpletable\">\n",
       "<caption>Multiple Comparison of Means - Tukey HSD, FWER=0.05</caption>\n",
       "<tr>\n",
       "    <th>group1</th>     <th>group2</th>   <th>meandiff</th> <th>p-adj</th>  <th>lower</th>   <th>upper</th>  <th>reject</th>\n",
       "</tr>\n",
       "<tr>\n",
       "    <td>setosa</td>   <td>versicolor</td>  <td>-0.648</td>   <td>0.0</td>  <td>-0.8092</td> <td>-0.4868</td>  <td>True</td> \n",
       "</tr>\n",
       "<tr>\n",
       "    <td>setosa</td>    <td>virginica</td>  <td>-0.444</td>   <td>0.0</td>  <td>-0.6052</td> <td>-0.2828</td>  <td>True</td> \n",
       "</tr>\n",
       "<tr>\n",
       "  <td>versicolor</td>  <td>virginica</td>   <td>0.204</td>  <td>0.009</td> <td>0.0428</td>  <td>0.3652</td>   <td>True</td> \n",
       "</tr>\n",
       "</table>"
      ],
      "text/latex": [
       "\\begin{center}\n",
       "\\begin{tabular}{ccccccc}\n",
       "\\toprule\n",
       "\\textbf{group1} & \\textbf{group2} & \\textbf{meandiff} & \\textbf{p-adj} & \\textbf{lower} & \\textbf{upper} & \\textbf{reject}  \\\\\n",
       "\\midrule\n",
       "     setosa     &    versicolor   &       -0.648      &      0.0       &    -0.8092     &    -0.4868     &       True       \\\\\n",
       "     setosa     &    virginica    &       -0.444      &      0.0       &    -0.6052     &    -0.2828     &       True       \\\\\n",
       "   versicolor   &    virginica    &       0.204       &     0.009      &     0.0428     &     0.3652     &       True       \\\\\n",
       "\\bottomrule\n",
       "\\end{tabular}\n",
       "%\\caption{Multiple Comparison of Means - Tukey HSD, FWER=0.05}\n",
       "\\end{center}"
      ],
      "text/plain": [
       "<class 'statsmodels.iolib.table.SimpleTable'>"
      ]
     },
     "execution_count": 15,
     "metadata": {},
     "output_type": "execute_result"
    }
   ],
   "source": [
    "# 튜키의 HSD(Tuckey's Honestly Significant Difference : 진정으로 유의미한 차이) 사용 \n",
    "\n",
    "from statsmodels.stats.multicomp import MultiComparison\n",
    "\n",
    "mc = MultiComparison(data=data['sepal width'], groups=data['target'])\n",
    "hsd = mc.tukeyhsd(alpha=0.05)\n",
    "hsd.summary()\n",
    "\n",
    "# 여기선 p-adj가 p-value를 뜻함\n",
    "# 다들 유의미한 차이가 난다\n",
    "\n",
    "# meandiff : 오른쪽 집단 - 왼쪽 집단\n",
    "# reject : 평균에서 유의미한 차이가 있는가"
   ]
  },
  {
   "cell_type": "code",
   "execution_count": 20,
   "id": "96f9a903",
   "metadata": {},
   "outputs": [
    {
     "data": {
      "text/html": [
       "<table class=\"simpletable\">\n",
       "<caption>Multiple Comparison of Means - Tukey HSD, FWER=0.05</caption>\n",
       "<tr>\n",
       "    <th>group1</th>     <th>group2</th>   <th>meandiff</th> <th>p-adj</th>  <th>lower</th>   <th>upper</th>  <th>reject</th>\n",
       "</tr>\n",
       "<tr>\n",
       "    <td>setosa</td>   <td>versicolor</td>  <td>-0.648</td>   <td>0.0</td>  <td>-0.8092</td> <td>-0.4868</td>  <td>True</td> \n",
       "</tr>\n",
       "<tr>\n",
       "    <td>setosa</td>    <td>virginica</td>  <td>-0.444</td>   <td>0.0</td>  <td>-0.6052</td> <td>-0.2828</td>  <td>True</td> \n",
       "</tr>\n",
       "<tr>\n",
       "  <td>versicolor</td>  <td>virginica</td>   <td>0.204</td>  <td>0.009</td> <td>0.0428</td>  <td>0.3652</td>   <td>True</td> \n",
       "</tr>\n",
       "</table>"
      ],
      "text/latex": [
       "\\begin{center}\n",
       "\\begin{tabular}{ccccccc}\n",
       "\\toprule\n",
       "\\textbf{group1} & \\textbf{group2} & \\textbf{meandiff} & \\textbf{p-adj} & \\textbf{lower} & \\textbf{upper} & \\textbf{reject}  \\\\\n",
       "\\midrule\n",
       "     setosa     &    versicolor   &       -0.648      &      0.0       &    -0.8092     &    -0.4868     &       True       \\\\\n",
       "     setosa     &    virginica    &       -0.444      &      0.0       &    -0.6052     &    -0.2828     &       True       \\\\\n",
       "   versicolor   &    virginica    &       0.204       &     0.009      &     0.0428     &     0.3652     &       True       \\\\\n",
       "\\bottomrule\n",
       "\\end{tabular}\n",
       "%\\caption{Multiple Comparison of Means - Tukey HSD, FWER=0.05}\n",
       "\\end{center}"
      ],
      "text/plain": [
       "<class 'statsmodels.iolib.table.SimpleTable'>"
      ]
     },
     "execution_count": 20,
     "metadata": {},
     "output_type": "execute_result"
    }
   ],
   "source": [
    "from statsmodels.stats.multicomp import pairwise_tukeyhsd\n",
    "\n",
    "hsd = pairwise_tukeyhsd(data['sepal width'], data['target'], alpha=0.05)\n",
    "hsd.summary()"
   ]
  },
  {
   "cell_type": "code",
   "execution_count": null,
   "id": "0ca35e12",
   "metadata": {},
   "outputs": [],
   "source": []
  },
  {
   "cell_type": "markdown",
   "id": "2a92a571",
   "metadata": {},
   "source": [
    "### 정규성을 만족하지 못하는 경우 : kruskal 검정 수행 \n",
    "- kruskal-wallis test 사용 "
   ]
  },
  {
   "cell_type": "code",
   "execution_count": 18,
   "id": "4e7a83fc",
   "metadata": {},
   "outputs": [
    {
     "data": {
      "text/plain": [
       "KruskalResult(statistic=62.49463010053111, pvalue=2.6882119006774528e-14)"
      ]
     },
     "execution_count": 18,
     "metadata": {},
     "output_type": "execute_result"
    }
   ],
   "source": [
    "from scipy.stats import kruskal\n",
    "kruskal(setosa, versicolor, virginica)"
   ]
  },
  {
   "cell_type": "markdown",
   "id": "5087bb21",
   "metadata": {},
   "source": [
    "### 등분산성을 만족하지 못하는 경우 : welch_anova 분석 수행  "
   ]
  },
  {
   "cell_type": "code",
   "execution_count": 22,
   "id": "dc465d1e",
   "metadata": {},
   "outputs": [
    {
     "name": "stdout",
     "output_type": "stream",
     "text": [
      "Collecting pingouin\n",
      "  Downloading pingouin-0.5.3-py3-none-any.whl (198 kB)\n",
      "\u001b[2K     \u001b[90m━━━━━━━━━━━━━━━━━━━━━━━━━━━━━━━━━━━━━━\u001b[0m \u001b[32m198.6/198.6 kB\u001b[0m \u001b[31m10.6 MB/s\u001b[0m eta \u001b[36m0:00:00\u001b[0m\n",
      "\u001b[?25hRequirement already satisfied: numpy>=1.19 in /Users/jangseungheon/anaconda3/lib/python3.11/site-packages (from pingouin) (1.24.3)\n",
      "Requirement already satisfied: scipy>=1.7 in /Users/jangseungheon/anaconda3/lib/python3.11/site-packages (from pingouin) (1.11.3)\n",
      "Requirement already satisfied: pandas>=1.0 in /Users/jangseungheon/anaconda3/lib/python3.11/site-packages (from pingouin) (2.0.0)\n",
      "Requirement already satisfied: matplotlib>=3.0.2 in /Users/jangseungheon/anaconda3/lib/python3.11/site-packages (from pingouin) (3.7.3)\n",
      "Requirement already satisfied: seaborn>=0.11 in /Users/jangseungheon/anaconda3/lib/python3.11/site-packages (from pingouin) (0.12.2)\n",
      "Requirement already satisfied: statsmodels>=0.13 in /Users/jangseungheon/anaconda3/lib/python3.11/site-packages (from pingouin) (0.14.0)\n",
      "Requirement already satisfied: scikit-learn in /Users/jangseungheon/anaconda3/lib/python3.11/site-packages (from pingouin) (1.3.0)\n",
      "Collecting pandas-flavor>=0.2.0 (from pingouin)\n",
      "  Downloading pandas_flavor-0.6.0-py3-none-any.whl.metadata (6.3 kB)\n",
      "Collecting outdated (from pingouin)\n",
      "  Downloading outdated-0.2.2-py2.py3-none-any.whl (7.5 kB)\n",
      "Requirement already satisfied: tabulate in /Users/jangseungheon/anaconda3/lib/python3.11/site-packages (from pingouin) (0.8.10)\n",
      "Requirement already satisfied: contourpy>=1.0.1 in /Users/jangseungheon/anaconda3/lib/python3.11/site-packages (from matplotlib>=3.0.2->pingouin) (1.0.5)\n",
      "Requirement already satisfied: cycler>=0.10 in /Users/jangseungheon/anaconda3/lib/python3.11/site-packages (from matplotlib>=3.0.2->pingouin) (0.11.0)\n",
      "Requirement already satisfied: fonttools>=4.22.0 in /Users/jangseungheon/anaconda3/lib/python3.11/site-packages (from matplotlib>=3.0.2->pingouin) (4.25.0)\n",
      "Requirement already satisfied: kiwisolver>=1.0.1 in /Users/jangseungheon/anaconda3/lib/python3.11/site-packages (from matplotlib>=3.0.2->pingouin) (1.4.4)\n",
      "Requirement already satisfied: packaging>=20.0 in /Users/jangseungheon/anaconda3/lib/python3.11/site-packages (from matplotlib>=3.0.2->pingouin) (23.1)\n",
      "Requirement already satisfied: pillow>=6.2.0 in /Users/jangseungheon/anaconda3/lib/python3.11/site-packages (from matplotlib>=3.0.2->pingouin) (10.0.1)\n",
      "Requirement already satisfied: pyparsing>=2.3.1 in /Users/jangseungheon/anaconda3/lib/python3.11/site-packages (from matplotlib>=3.0.2->pingouin) (3.0.9)\n",
      "Requirement already satisfied: python-dateutil>=2.7 in /Users/jangseungheon/anaconda3/lib/python3.11/site-packages (from matplotlib>=3.0.2->pingouin) (2.8.2)\n",
      "Requirement already satisfied: pytz>=2020.1 in /Users/jangseungheon/anaconda3/lib/python3.11/site-packages (from pandas>=1.0->pingouin) (2023.3.post1)\n",
      "Requirement already satisfied: tzdata>=2022.1 in /Users/jangseungheon/anaconda3/lib/python3.11/site-packages (from pandas>=1.0->pingouin) (2023.3)\n",
      "Requirement already satisfied: xarray in /Users/jangseungheon/anaconda3/lib/python3.11/site-packages (from pandas-flavor>=0.2.0->pingouin) (2023.6.0)\n",
      "Requirement already satisfied: patsy>=0.5.2 in /Users/jangseungheon/anaconda3/lib/python3.11/site-packages (from statsmodels>=0.13->pingouin) (0.5.3)\n",
      "Requirement already satisfied: setuptools>=44 in /Users/jangseungheon/anaconda3/lib/python3.11/site-packages (from outdated->pingouin) (68.0.0)\n",
      "Collecting littleutils (from outdated->pingouin)\n",
      "  Downloading littleutils-0.2.2.tar.gz (6.6 kB)\n",
      "  Preparing metadata (setup.py) ... \u001b[?25ldone\n",
      "\u001b[?25hRequirement already satisfied: requests in /Users/jangseungheon/anaconda3/lib/python3.11/site-packages (from outdated->pingouin) (2.31.0)\n",
      "Requirement already satisfied: joblib>=1.1.1 in /Users/jangseungheon/anaconda3/lib/python3.11/site-packages (from scikit-learn->pingouin) (1.2.0)\n",
      "Requirement already satisfied: threadpoolctl>=2.0.0 in /Users/jangseungheon/anaconda3/lib/python3.11/site-packages (from scikit-learn->pingouin) (3.1.0)\n",
      "Requirement already satisfied: six in /Users/jangseungheon/anaconda3/lib/python3.11/site-packages (from patsy>=0.5.2->statsmodels>=0.13->pingouin) (1.16.0)\n",
      "Requirement already satisfied: charset-normalizer<4,>=2 in /Users/jangseungheon/anaconda3/lib/python3.11/site-packages (from requests->outdated->pingouin) (2.0.4)\n",
      "Requirement already satisfied: idna<4,>=2.5 in /Users/jangseungheon/anaconda3/lib/python3.11/site-packages (from requests->outdated->pingouin) (3.4)\n",
      "Requirement already satisfied: urllib3<3,>=1.21.1 in /Users/jangseungheon/anaconda3/lib/python3.11/site-packages (from requests->outdated->pingouin) (1.26.18)\n",
      "Requirement already satisfied: certifi>=2017.4.17 in /Users/jangseungheon/anaconda3/lib/python3.11/site-packages (from requests->outdated->pingouin) (2023.11.17)\n",
      "Downloading pandas_flavor-0.6.0-py3-none-any.whl (7.2 kB)\n",
      "Building wheels for collected packages: littleutils\n",
      "  Building wheel for littleutils (setup.py) ... \u001b[?25ldone\n",
      "\u001b[?25h  Created wheel for littleutils: filename=littleutils-0.2.2-py3-none-any.whl size=7028 sha256=4e83f063e9ba1720732974e7b751a9efe57c9abd5d19571319acf137108ec880\n",
      "  Stored in directory: /Users/jangseungheon/Library/Caches/pip/wheels/17/8d/65/9a39917567093c895549811c172be5d2dfb63c7e4b143e05a4\n",
      "Successfully built littleutils\n",
      "Installing collected packages: littleutils, outdated, pandas-flavor, pingouin\n",
      "Successfully installed littleutils-0.2.2 outdated-0.2.2 pandas-flavor-0.6.0 pingouin-0.5.3\n"
     ]
    }
   ],
   "source": [
    "!pip install pingouin"
   ]
  },
  {
   "cell_type": "code",
   "execution_count": 23,
   "id": "687ac5f1",
   "metadata": {},
   "outputs": [
    {
     "data": {
      "text/html": [
       "<div>\n",
       "<style scoped>\n",
       "    .dataframe tbody tr th:only-of-type {\n",
       "        vertical-align: middle;\n",
       "    }\n",
       "\n",
       "    .dataframe tbody tr th {\n",
       "        vertical-align: top;\n",
       "    }\n",
       "\n",
       "    .dataframe thead th {\n",
       "        text-align: right;\n",
       "    }\n",
       "</style>\n",
       "<table border=\"1\" class=\"dataframe\">\n",
       "  <thead>\n",
       "    <tr style=\"text-align: right;\">\n",
       "      <th></th>\n",
       "      <th>Source</th>\n",
       "      <th>ddof1</th>\n",
       "      <th>ddof2</th>\n",
       "      <th>F</th>\n",
       "      <th>p-unc</th>\n",
       "      <th>np2</th>\n",
       "    </tr>\n",
       "  </thead>\n",
       "  <tbody>\n",
       "    <tr>\n",
       "      <th>0</th>\n",
       "      <td>target</td>\n",
       "      <td>2</td>\n",
       "      <td>97.369597</td>\n",
       "      <td>43.303381</td>\n",
       "      <td>3.519723e-14</td>\n",
       "      <td>0.391881</td>\n",
       "    </tr>\n",
       "  </tbody>\n",
       "</table>\n",
       "</div>"
      ],
      "text/plain": [
       "   Source  ddof1      ddof2          F         p-unc       np2\n",
       "0  target      2  97.369597  43.303381  3.519723e-14  0.391881"
      ]
     },
     "execution_count": 23,
     "metadata": {},
     "output_type": "execute_result"
    }
   ],
   "source": [
    "import pingouin as pg\n",
    "pg.welch_anova(data=data, dv='sepal width', between='target')\n",
    "\n",
    "# ddof1, ddof2 : 자유도\n",
    "# F : 검정통계량\n",
    "# p-unc : p-value"
   ]
  },
  {
   "cell_type": "code",
   "execution_count": null,
   "id": "e0727baf",
   "metadata": {},
   "outputs": [],
   "source": []
  }
 ],
 "metadata": {
  "kernelspec": {
   "display_name": "Python 3 (ipykernel)",
   "language": "python",
   "name": "python3"
  },
  "language_info": {
   "codemirror_mode": {
    "name": "ipython",
    "version": 3
   },
   "file_extension": ".py",
   "mimetype": "text/x-python",
   "name": "python",
   "nbconvert_exporter": "python",
   "pygments_lexer": "ipython3",
   "version": "3.11.5"
  }
 },
 "nbformat": 4,
 "nbformat_minor": 5
}
