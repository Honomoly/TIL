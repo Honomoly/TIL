{
 "cells": [
  {
   "cell_type": "markdown",
   "id": "845b7d59-8bed-43f1-ad68-5a361cddfe98",
   "metadata": {},
   "source": [
    "# Pandas_Series"
   ]
  },
  {
   "cell_type": "markdown",
   "id": "72117af8",
   "metadata": {},
   "source": [
    "### 파이썬의 주요 데이터 분석 라이브러리\n",
    "- NumPy (넘파이) : 배열, 행렬 관련 편리한 기능 제공\n",
    "- Pandas (판다스) : Series, DataFrame 등의 자료구조를 활용한 \n",
    "                    데이터 분석 기능 제공\n",
    "- Matplotlib (맷플롯립) : 데이터 분석 결과를 시각화하는데 유용한 기능 제공"
   ]
  },
  {
   "cell_type": "markdown",
   "id": "f356eb7c",
   "metadata": {},
   "source": [
    "### 판다스 (pandas)\n",
    "    - series, DataFrame등의 자료구조를 활용한 데이터 분석 기능을 제공해주는 라이브러리\n",
    "    - pandas 라이브러리 구성\n",
    "        - 여러종류의 클래스와 다양한 함수로 구성\n",
    "        - 시리즈와 데이터 프레임의 데이터 구조 클래스 객체 포함\n",
    "        - 시리즈(1차원 배열) 데이터프레임(2차원 테이블 형태)"
   ]
  },
  {
   "cell_type": "markdown",
   "id": "18a62ad9",
   "metadata": {},
   "source": [
    "#### 판다스의 목적\n",
    "    - 서로 다른 여러 가지 유형의 데이터를 공통된 포맷으로 정리하는 것\n",
    "    - 특히, 행과 열로 이루어진 2차원 구조의 데이터프레임 형식으로 사용\n",
    "    - 데이터 분석 실무에서 사용됨\n"
   ]
  },
  {
   "cell_type": "markdown",
   "id": "1b7f8f2e",
   "metadata": {},
   "source": [
    "#### Series\n",
    "  - pandas의 기본 객체 중 하나\n",
    "  - 동일한 타입의 데이터가 순차적으로 나열된 1차원 배열 형태\n",
    "  - 인덱스(index)와 데이터 값(value)이 일대일로 대응"
   ]
  },
  {
   "cell_type": "markdown",
   "id": "7860f411",
   "metadata": {},
   "source": [
    "### Series 학습 내용\n",
    "- Series 생성 방법  \n",
    "- 시리즈 데이터의 추가/삭제/갱신 \n",
    "- 인덱싱        \n",
    "- 슬라이싱     \n",
    "- 시리즈 연산     \n",
    "- 시리즈 속성 및 함수  \n",
    "- 날짜 인덱스를 이용한 시리즈 생성  "
   ]
  },
  {
   "cell_type": "markdown",
   "id": "84f9f21f",
   "metadata": {},
   "source": [
    "### 판다스/넘파이 모듈 import\n",
    "\n",
    "- 데이터분석에서 기본 패키지 :  pandas와 numpy 패키지  \n",
    "- 일반적으로 pandas 모듈은 pd 라는 별칭 사용  \n",
    "- numpy는 np라는 별칭 사용  "
   ]
  },
  {
   "cell_type": "code",
   "execution_count": 1,
   "id": "d5135ae1",
   "metadata": {},
   "outputs": [],
   "source": [
    "# 한 셀에서 여려 결과 출력\n",
    "from IPython.core.interactiveshell import InteractiveShell\n",
    "InteractiveShell.ast_node_interactivity=\"all\""
   ]
  },
  {
   "cell_type": "code",
   "execution_count": 2,
   "id": "a4a08041",
   "metadata": {},
   "outputs": [],
   "source": [
    "import pandas as pd\n",
    "import numpy as np"
   ]
  },
  {
   "cell_type": "markdown",
   "id": "6c334730",
   "metadata": {},
   "source": [
    "#### Series 생성 방법 : pd.Series(집합적 자료형 )\n",
    "    (1) 리스트로 생성  \n",
    "    (2) 튜플로 생성  \n",
    "    (3) 딕셔너리로 생성 \n",
    "    (4) range()/np.arange() 함수 사용해서 생성"
   ]
  },
  {
   "cell_type": "markdown",
   "id": "e4fb83fb",
   "metadata": {},
   "source": [
    " #### (1) 리스트로 생성  \n",
    " - index는 명시하지 않을 경우 기본적으로 0부터 자동 생성"
   ]
  },
  {
   "cell_type": "code",
   "execution_count": 3,
   "id": "0d0fa0ee",
   "metadata": {
    "scrolled": true
   },
   "outputs": [
    {
     "data": {
      "text/plain": [
       "0    1\n",
       "1    2\n",
       "2    3\n",
       "dtype: int64"
      ]
     },
     "execution_count": 3,
     "metadata": {},
     "output_type": "execute_result"
    }
   ],
   "source": [
    "# pd.Series()\n",
    "# 인덱스를 명시하지 않으면 0부터 자동 생성\n",
    "s = pd.Series([1, 2, 3])\n",
    "s"
   ]
  },
  {
   "cell_type": "markdown",
   "id": "e8287903",
   "metadata": {},
   "source": [
    "* 서로 다른 타입의 데이터들이 있을 경우 형변환이 발생"
   ]
  },
  {
   "cell_type": "code",
   "execution_count": 4,
   "id": "2833d456-c46d-41a0-863f-45afda2907e9",
   "metadata": {},
   "outputs": [
    {
     "data": {
      "text/plain": [
       "0       a\n",
       "1       1\n",
       "2    3.14\n",
       "dtype: object"
      ]
     },
     "execution_count": 4,
     "metadata": {},
     "output_type": "execute_result"
    }
   ],
   "source": [
    "# 문자열이 포함되어있으면 문자형(object)으로 변환\n",
    "s = pd.Series(['a', 1, 3.14])\n",
    "s"
   ]
  },
  {
   "cell_type": "code",
   "execution_count": 5,
   "id": "7682dbf1",
   "metadata": {},
   "outputs": [
    {
     "data": {
      "text/plain": [
       "0    1.00\n",
       "1    2.00\n",
       "2    3.14\n",
       "dtype: float64"
      ]
     },
     "execution_count": 5,
     "metadata": {},
     "output_type": "execute_result"
    }
   ],
   "source": [
    "# 정수와 실수가 있으면 더 큰 범위인 실수형으로 변환\n",
    "s = pd.Series([1, 2, 3.14])\n",
    "s"
   ]
  },
  {
   "cell_type": "code",
   "execution_count": 6,
   "id": "a838e8fb",
   "metadata": {},
   "outputs": [
    {
     "data": {
      "text/plain": [
       "0    1.0\n",
       "1    NaN\n",
       "2    2.0\n",
       "dtype: float64"
      ]
     },
     "execution_count": 6,
     "metadata": {},
     "output_type": "execute_result"
    }
   ],
   "source": [
    "# 주의! NaN가 있이면 실수로 인식!\n",
    "# 정수와 실수가 있으면 더 큰 범위인 실수형으로 변환\n",
    "s = pd.Series([1, np.nan, 2])\n",
    "s"
   ]
  },
  {
   "cell_type": "markdown",
   "id": "e7118ddf",
   "metadata": {},
   "source": [
    "* 인덱스를 명시하여 저장할 수 있다 (인덱스는 중복 가능)"
   ]
  },
  {
   "cell_type": "code",
   "execution_count": 7,
   "id": "f0b139cb",
   "metadata": {
    "scrolled": true
   },
   "outputs": [
    {
     "data": {
      "text/plain": [
       "1    1\n",
       "2    2\n",
       "3    3\n",
       "dtype: int64"
      ]
     },
     "execution_count": 7,
     "metadata": {},
     "output_type": "execute_result"
    }
   ],
   "source": [
    "# 숫자 인덱스(index 생략 가능)\n",
    "s = pd.Series([1, 2, 3], index=[1, 2, 3])\n",
    "s"
   ]
  },
  {
   "cell_type": "code",
   "execution_count": 8,
   "id": "f3fa9e41",
   "metadata": {},
   "outputs": [
    {
     "data": {
      "text/plain": [
       "a    1\n",
       "b    2\n",
       "c    3\n",
       "dtype: int64"
      ]
     },
     "execution_count": 8,
     "metadata": {},
     "output_type": "execute_result"
    }
   ],
   "source": [
    "# 문자 인덱스(index 생략 가능)\n",
    "s = pd.Series([1, 2, 3], index=['a', 'b', 'c'])\n",
    "s"
   ]
  },
  {
   "cell_type": "code",
   "execution_count": 9,
   "id": "9ca26e70",
   "metadata": {},
   "outputs": [
    {
     "data": {
      "text/plain": [
       "홍길동     95\n",
       "이몽룡    100\n",
       "성춘향     80\n",
       "dtype: int64"
      ]
     },
     "execution_count": 9,
     "metadata": {},
     "output_type": "execute_result"
    }
   ],
   "source": [
    "# 예제\n",
    "s = pd.Series([95, 100, 80], ['홍길동', '이몽룡', '성춘향'])\n",
    "s"
   ]
  },
  {
   "cell_type": "code",
   "execution_count": 10,
   "id": "943b3c62",
   "metadata": {},
   "outputs": [
    {
     "data": {
      "text/plain": [
       "성명\n",
       "홍길동     95\n",
       "이몽룡    100\n",
       "성춘향     80\n",
       "Name: 성적, dtype: int64"
      ]
     },
     "execution_count": 10,
     "metadata": {},
     "output_type": "execute_result"
    }
   ],
   "source": [
    "# 이름 붙이기\n",
    "s.name = '성적'\n",
    "s.index.name = '성명'\n",
    "s"
   ]
  },
  {
   "cell_type": "code",
   "execution_count": 11,
   "id": "1168e480",
   "metadata": {},
   "outputs": [
    {
     "data": {
      "text/plain": [
       "array([ 95, 100,  80])"
      ]
     },
     "execution_count": 11,
     "metadata": {},
     "output_type": "execute_result"
    }
   ],
   "source": [
    "# 값만 추출\n",
    "s.values"
   ]
  },
  {
   "cell_type": "markdown",
   "id": "24fac664",
   "metadata": {},
   "source": [
    "#### (2) 튜플로 생성  "
   ]
  },
  {
   "cell_type": "code",
   "execution_count": 12,
   "id": "4dad70bb",
   "metadata": {},
   "outputs": [
    {
     "data": {
      "text/plain": [
       "0    1\n",
       "1    2\n",
       "2    3\n",
       "dtype: int64"
      ]
     },
     "execution_count": 12,
     "metadata": {},
     "output_type": "execute_result"
    }
   ],
   "source": [
    "# 똑같으니 스킵\n",
    "s = pd.Series((1, 2, 3))\n",
    "s"
   ]
  },
  {
   "cell_type": "markdown",
   "id": "8225212a",
   "metadata": {},
   "source": [
    "#### (3) 딕셔너리로 생성 \n",
    "- Series({key:value, key1:value1....})  \n",
    "- key -> 인덱스\n",
    "- value -> 값"
   ]
  },
  {
   "cell_type": "code",
   "execution_count": 16,
   "id": "f23d11f5-71b3-46b3-9332-67035b634b1a",
   "metadata": {},
   "outputs": [
    {
     "data": {
      "text/plain": [
       "서울    9631482\n",
       "부산    3393191\n",
       "인천    2632035\n",
       "대전    1490158\n",
       "dtype: int64"
      ]
     },
     "execution_count": 16,
     "metadata": {},
     "output_type": "execute_result"
    }
   ],
   "source": [
    "# key는 index로, value는 value로 매핑\n",
    "dicts = {\n",
    "    '서울':9631482,\n",
    "    '부산':3393191,\n",
    "    '인천':2632035,\n",
    "    '대전':1490158\n",
    "}\n",
    "cities = pd.Series(dicts)\n",
    "cities"
   ]
  },
  {
   "cell_type": "code",
   "execution_count": 17,
   "id": "ad8b94ca",
   "metadata": {},
   "outputs": [
    {
     "data": {
      "text/plain": [
       "Index(['서울', '부산', '인천', '대전'], dtype='object')"
      ]
     },
     "execution_count": 17,
     "metadata": {},
     "output_type": "execute_result"
    }
   ],
   "source": [
    "# 인덱스값만 추출\n",
    "cities.index"
   ]
  },
  {
   "cell_type": "code",
   "execution_count": 18,
   "id": "06e9e2c9",
   "metadata": {},
   "outputs": [
    {
     "data": {
      "text/plain": [
       "9631482"
      ]
     },
     "execution_count": 18,
     "metadata": {},
     "output_type": "execute_result"
    },
    {
     "name": "stderr",
     "output_type": "stream",
     "text": [
      "/var/folders/kq/7skt1n7n5d114b38pnp064yc0000gn/T/ipykernel_25363/4176427135.py:3: FutureWarning: Series.__getitem__ treating keys as positions is deprecated. In a future version, integer keys will always be treated as labels (consistent with DataFrame behavior). To access a value by position, use `ser.iloc[pos]`\n",
      "  cities[0] # deprecated 경고\n"
     ]
    },
    {
     "data": {
      "text/plain": [
       "9631482"
      ]
     },
     "execution_count": 18,
     "metadata": {},
     "output_type": "execute_result"
    }
   ],
   "source": [
    "# 시리즈의 특정 값 출력\n",
    "cities['서울']\n",
    "cities[0] # deprecated 경고"
   ]
  },
  {
   "cell_type": "markdown",
   "id": "45bdb4cd",
   "metadata": {},
   "source": [
    "#### (4) range()/np.arange() 함수 사용해서 생성  "
   ]
  },
  {
   "cell_type": "code",
   "execution_count": 19,
   "id": "1d749620-29ab-49a9-9b56-d0fdc2dde0e2",
   "metadata": {},
   "outputs": [
    {
     "data": {
      "text/plain": [
       "0    0\n",
       "1    1\n",
       "2    2\n",
       "3    3\n",
       "4    4\n",
       "dtype: int64"
      ]
     },
     "execution_count": 19,
     "metadata": {},
     "output_type": "execute_result"
    }
   ],
   "source": [
    "s = pd.Series(range(5))\n",
    "s"
   ]
  },
  {
   "cell_type": "code",
   "execution_count": 20,
   "id": "5cdbba63",
   "metadata": {},
   "outputs": [
    {
     "data": {
      "text/plain": [
       "0    11\n",
       "1    12\n",
       "2    13\n",
       "3    14\n",
       "dtype: int64"
      ]
     },
     "execution_count": 20,
     "metadata": {},
     "output_type": "execute_result"
    }
   ],
   "source": [
    "s = pd.Series(range(11, 15))\n",
    "s"
   ]
  },
  {
   "cell_type": "code",
   "execution_count": 21,
   "id": "e79df8e1",
   "metadata": {},
   "outputs": [
    {
     "data": {
      "text/plain": [
       "1    11\n",
       "2    12\n",
       "3    13\n",
       "4    14\n",
       "dtype: int64"
      ]
     },
     "execution_count": 21,
     "metadata": {},
     "output_type": "execute_result"
    }
   ],
   "source": [
    "s = pd.Series(range(11, 15), range(1, 5))\n",
    "s"
   ]
  },
  {
   "cell_type": "code",
   "execution_count": 22,
   "id": "f790caef",
   "metadata": {},
   "outputs": [
    {
     "data": {
      "text/plain": [
       "0    1.0\n",
       "1    2.0\n",
       "2    3.0\n",
       "3    NaN\n",
       "4    5.0\n",
       "5    6.0\n",
       "dtype: float64"
      ]
     },
     "execution_count": 22,
     "metadata": {},
     "output_type": "execute_result"
    }
   ],
   "source": [
    "# 그냥 NaN으로 하면 오류가 뜨므로 None으로 넣는다\n",
    "s = pd.Series([1, 2, 3, None, 5, 6])\n",
    "s"
   ]
  },
  {
   "cell_type": "markdown",
   "id": "e8d93805",
   "metadata": {},
   "source": [
    "* 수정하기"
   ]
  },
  {
   "cell_type": "code",
   "execution_count": 28,
   "id": "f131a1a0",
   "metadata": {},
   "outputs": [
    {
     "data": {
      "text/plain": [
       "홍길동     95\n",
       "이몽룡    100\n",
       "성춘향     80\n",
       "dtype: int64"
      ]
     },
     "execution_count": 28,
     "metadata": {},
     "output_type": "execute_result"
    }
   ],
   "source": [
    "s = pd.Series([95, 100, 80], ['홍길동', '이몽룡', '성춘향'])\n",
    "s"
   ]
  },
  {
   "cell_type": "code",
   "execution_count": 29,
   "id": "6b23b349",
   "metadata": {
    "scrolled": true
   },
   "outputs": [
    {
     "data": {
      "text/plain": [
       "홍길동     95\n",
       "이몽룡    100\n",
       "성춘향     80\n",
       "변학도     70\n",
       "dtype: int64"
      ]
     },
     "execution_count": 29,
     "metadata": {},
     "output_type": "execute_result"
    }
   ],
   "source": [
    "# 인덱스 추가\n",
    "s['변학도'] = 70\n",
    "s"
   ]
  },
  {
   "cell_type": "code",
   "execution_count": 30,
   "id": "5638deec",
   "metadata": {},
   "outputs": [
    {
     "data": {
      "text/plain": [
       "이몽룡    100\n",
       "성춘향     80\n",
       "변학도     70\n",
       "dtype: int64"
      ]
     },
     "execution_count": 30,
     "metadata": {},
     "output_type": "execute_result"
    }
   ],
   "source": [
    "# 인덱스 삭제\n",
    "del s['홍길동']\n",
    "s"
   ]
  },
  {
   "cell_type": "code",
   "execution_count": 31,
   "id": "1617c618",
   "metadata": {},
   "outputs": [
    {
     "data": {
      "text/plain": [
       "이몽룡    100\n",
       "변학도     70\n",
       "dtype: int64"
      ]
     },
     "execution_count": 31,
     "metadata": {},
     "output_type": "execute_result"
    },
    {
     "data": {
      "text/plain": [
       "이몽룡    100\n",
       "성춘향     80\n",
       "변학도     70\n",
       "dtype: int64"
      ]
     },
     "execution_count": 31,
     "metadata": {},
     "output_type": "execute_result"
    }
   ],
   "source": [
    "# drop()메소드는 삭제한 결과를 반환할 뿐, 데이터를 실제로 삭제하지 않는다\n",
    "s.drop('성춘향')\n",
    "s"
   ]
  },
  {
   "cell_type": "code",
   "execution_count": 32,
   "id": "9b5216e6",
   "metadata": {},
   "outputs": [
    {
     "data": {
      "text/plain": [
       "이몽룡    100\n",
       "성춘향     80\n",
       "dtype: int64"
      ]
     },
     "execution_count": 32,
     "metadata": {},
     "output_type": "execute_result"
    }
   ],
   "source": [
    "# 실제로 삭제하려면 inplace=True를 추가\n",
    "s.drop('변학도', inplace=True)\n",
    "s"
   ]
  },
  {
   "cell_type": "code",
   "execution_count": 24,
   "id": "d2bf4ea6-2237-4790-bd3c-59d2c1d5ede5",
   "metadata": {},
   "outputs": [],
   "source": [
    "#################################################################################"
   ]
  },
  {
   "cell_type": "markdown",
   "id": "5236f64d",
   "metadata": {},
   "source": [
    "### 인덱싱  \n",
    "    - 인덱스 종류    \n",
    "        (1) 문자형 인덱스    \n",
    "         - index 명시하지 않으면 0부터 시작하는 정수형 인덱스 자동 지정됨\n",
    "        (2) 정수형 인덱스   \n",
    "          -  정수형 인덱스로 명시한 경우 0-base 위치 인덱스 사용 못함 (에러)\n",
    "        (3) 위치 인덱스  : 0-base 위치 인덱스         \n",
    "    - 원소 접근  \n",
    "        (1) 정수형 인덱스 사용 : 시리즈[숫자 인덱스]  \n",
    "        (2) 문자형 인덱스 사용 : 시리즈['문자 인덱스']   \n",
    "        (3) 리스트 이용 인덱싱"
   ]
  },
  {
   "cell_type": "code",
   "execution_count": 44,
   "id": "e4aabdfe-8245-452d-a2cd-ba724a1485b1",
   "metadata": {},
   "outputs": [
    {
     "data": {
      "text/plain": [
       "홍길동     95\n",
       "이몽룡    100\n",
       "성춘향     80\n",
       "dtype: int64"
      ]
     },
     "execution_count": 44,
     "metadata": {},
     "output_type": "execute_result"
    }
   ],
   "source": [
    "s = pd.Series([95, 100, 80], ['홍길동', '이몽룡', '성춘향'])\n",
    "s"
   ]
  },
  {
   "cell_type": "code",
   "execution_count": 45,
   "id": "df4eda82",
   "metadata": {},
   "outputs": [
    {
     "data": {
      "text/plain": [
       "95"
      ]
     },
     "execution_count": 45,
     "metadata": {},
     "output_type": "execute_result"
    }
   ],
   "source": [
    "# 단순 숫자 인덱싱은 future proof가 없다\n",
    "s.iloc[0]"
   ]
  },
  {
   "cell_type": "code",
   "execution_count": 46,
   "id": "14ba394e",
   "metadata": {},
   "outputs": [
    {
     "data": {
      "text/plain": [
       "성춘향     80\n",
       "홍길동     95\n",
       "이몽룡    100\n",
       "dtype: int64"
      ]
     },
     "execution_count": 46,
     "metadata": {},
     "output_type": "execute_result"
    }
   ],
   "source": [
    "s.iloc[[2, 0, 1]]"
   ]
  },
  {
   "cell_type": "code",
   "execution_count": 47,
   "id": "b83aeee2",
   "metadata": {},
   "outputs": [
    {
     "data": {
      "text/plain": [
       "95"
      ]
     },
     "execution_count": 47,
     "metadata": {},
     "output_type": "execute_result"
    }
   ],
   "source": [
    "# 문자형 인덱스는 이런것도 가능\n",
    "s.홍길동"
   ]
  },
  {
   "cell_type": "code",
   "execution_count": 25,
   "id": "8878cbd9-4f28-44e8-bb82-b8455a1cb89b",
   "metadata": {},
   "outputs": [],
   "source": [
    "#################################################################################"
   ]
  },
  {
   "cell_type": "markdown",
   "id": "461a2e52",
   "metadata": {},
   "source": [
    "### 슬라이싱  \n",
    "    (1) 0-base 위치 인덱스를 이용한 슬라이싱  \n",
    "        - 시리즈[start:end] : start ~ end-1까지 추출\n",
    "    (2) 문자(라벨) 인덱스를 이용한 슬라이싱 \n",
    "        - 시리즈['시작라벨':'끝라벨']\n",
    "            - 시작에서 끝까지 양쪽 라벨 포함된 범위 추출  "
   ]
  },
  {
   "cell_type": "code",
   "execution_count": 49,
   "id": "57f5dd63",
   "metadata": {},
   "outputs": [
    {
     "data": {
      "text/plain": [
       "부산    3393191\n",
       "인천    2632035\n",
       "dtype: int64"
      ]
     },
     "execution_count": 49,
     "metadata": {},
     "output_type": "execute_result"
    },
    {
     "data": {
      "text/plain": [
       "부산    3393191\n",
       "인천    2632035\n",
       "dtype: int64"
      ]
     },
     "execution_count": 49,
     "metadata": {},
     "output_type": "execute_result"
    }
   ],
   "source": [
    "cities.iloc[1:3]\n",
    "cities['부산':'인천']"
   ]
  },
  {
   "cell_type": "code",
   "execution_count": 51,
   "id": "8fe45ec5",
   "metadata": {},
   "outputs": [
    {
     "data": {
      "text/plain": [
       "1    100\n",
       "2    200\n",
       "3    300\n",
       "4    400\n",
       "dtype: int64"
      ]
     },
     "execution_count": 51,
     "metadata": {},
     "output_type": "execute_result"
    }
   ],
   "source": [
    "s = pd.Series([_*100 for _ in range(1, 5)], [_ for _ in range(1, 5)])\n",
    "s"
   ]
  },
  {
   "cell_type": "code",
   "execution_count": 53,
   "id": "6736c509",
   "metadata": {},
   "outputs": [
    {
     "data": {
      "text/plain": [
       "1    100\n",
       "2    200\n",
       "3    300\n",
       "dtype: int64"
      ]
     },
     "execution_count": 53,
     "metadata": {},
     "output_type": "execute_result"
    }
   ],
   "source": [
    "s[:3]"
   ]
  },
  {
   "cell_type": "code",
   "execution_count": 55,
   "id": "f43afe9b",
   "metadata": {},
   "outputs": [
    {
     "data": {
      "text/plain": [
       "2    200\n",
       "4    400\n",
       "3    300\n",
       "dtype: int64"
      ]
     },
     "execution_count": 55,
     "metadata": {},
     "output_type": "execute_result"
    }
   ],
   "source": [
    "s[[2, 4, 3]]"
   ]
  },
  {
   "cell_type": "code",
   "execution_count": null,
   "id": "6d0165a2-f0cc-40c3-adc1-c023c9f8c769",
   "metadata": {},
   "outputs": [],
   "source": [
    "#################################################################################"
   ]
  },
  {
   "cell_type": "markdown",
   "id": "c2ea1861",
   "metadata": {},
   "source": [
    "### 시리즈 연산  \n",
    "    (1) 벡터화 연산  \n",
    "    (2) Boolean selection  \n",
    "    (3) 두 시리즈간의 연산"
   ]
  },
  {
   "cell_type": "markdown",
   "id": "fb46f551",
   "metadata": {},
   "source": [
    "#####  (1) 벡터화 연산\n",
    "- 벡터화 연산 : 집합적 자료형의 원소 각각에 대해 독립적으로 계산 수행\n",
    "    - 단, 연산은 시리즈의 값에만 적용\n",
    "    - 인덱스 값은 변경 불가"
   ]
  },
  {
   "cell_type": "code",
   "execution_count": 56,
   "id": "d1931415-1621-4cae-a565-6c5df5a04a5c",
   "metadata": {},
   "outputs": [
    {
     "data": {
      "text/plain": [
       "0    11\n",
       "1    12\n",
       "2    13\n",
       "dtype: int64"
      ]
     },
     "execution_count": 56,
     "metadata": {},
     "output_type": "execute_result"
    }
   ],
   "source": [
    "pd.Series([1, 2, 3]) + 10"
   ]
  },
  {
   "cell_type": "markdown",
   "id": "c6037fd9",
   "metadata": {},
   "source": [
    "#### (2) Boolean selection\n",
    "  - boolean 연산 결과 True에 해당되는 값만 추출 \n",
    "  - [연산식] : 연산식 결과가 True인 것만 추출\n",
    "  - 다중조건의 경우, &(and), |(or)를 사용하여 연결 가능"
   ]
  },
  {
   "cell_type": "code",
   "execution_count": 61,
   "id": "5907b30f-102a-4ce0-a18a-f6815e5c9197",
   "metadata": {
    "scrolled": true
   },
   "outputs": [
    {
     "data": {
      "text/plain": [
       "서울     True\n",
       "부산     True\n",
       "인천     True\n",
       "대전    False\n",
       "dtype: bool"
      ]
     },
     "execution_count": 61,
     "metadata": {},
     "output_type": "execute_result"
    }
   ],
   "source": [
    "cities > 2_500_000"
   ]
  },
  {
   "cell_type": "code",
   "execution_count": 62,
   "id": "5df8d8f1",
   "metadata": {
    "scrolled": true
   },
   "outputs": [
    {
     "data": {
      "text/plain": [
       "서울    False\n",
       "부산     True\n",
       "인천     True\n",
       "대전     True\n",
       "dtype: bool"
      ]
     },
     "execution_count": 62,
     "metadata": {},
     "output_type": "execute_result"
    }
   ],
   "source": [
    "cities < 5_000_000"
   ]
  },
  {
   "cell_type": "code",
   "execution_count": 69,
   "id": "2ccfa227",
   "metadata": {},
   "outputs": [
    {
     "data": {
      "text/plain": [
       "서울    False\n",
       "부산     True\n",
       "인천     True\n",
       "대전    False\n",
       "dtype: bool"
      ]
     },
     "execution_count": 69,
     "metadata": {},
     "output_type": "execute_result"
    }
   ],
   "source": [
    "(cities > 2_500_000) & (cities < 5_000_000)"
   ]
  },
  {
   "cell_type": "code",
   "execution_count": 70,
   "id": "65532a08",
   "metadata": {},
   "outputs": [
    {
     "data": {
      "text/plain": [
       "부산    3393191\n",
       "인천    2632035\n",
       "dtype: int64"
      ]
     },
     "execution_count": 70,
     "metadata": {},
     "output_type": "execute_result"
    }
   ],
   "source": [
    "cities[(cities > 2_500_000) & (cities < 5_000_000)]"
   ]
  },
  {
   "cell_type": "code",
   "execution_count": 71,
   "id": "fc31e8f9-f6b4-4980-bb6c-43c6e4510ee4",
   "metadata": {},
   "outputs": [
    {
     "data": {
      "text/plain": [
       "1     0\n",
       "2     1\n",
       "3     2\n",
       "4     3\n",
       "5     4\n",
       "6     5\n",
       "7     6\n",
       "8     7\n",
       "9     8\n",
       "10    9\n",
       "dtype: int64"
      ]
     },
     "execution_count": 71,
     "metadata": {},
     "output_type": "execute_result"
    }
   ],
   "source": [
    "# 예제\n",
    "sq = pd.Series([_ for _ in range(10)], [_+1 for _ in range(10)])\n",
    "sq"
   ]
  },
  {
   "cell_type": "code",
   "execution_count": 72,
   "id": "3b46221f",
   "metadata": {},
   "outputs": [
    {
     "data": {
      "text/plain": [
       "5    4\n",
       "6    5\n",
       "7    6\n",
       "dtype: int64"
      ]
     },
     "execution_count": 72,
     "metadata": {},
     "output_type": "execute_result"
    }
   ],
   "source": [
    "sq[(sq>3)&(sq<7)]"
   ]
  },
  {
   "cell_type": "code",
   "execution_count": 74,
   "id": "fe206b24",
   "metadata": {},
   "outputs": [
    {
     "data": {
      "text/plain": [
       "1    0\n",
       "3    2\n",
       "5    4\n",
       "7    6\n",
       "9    8\n",
       "dtype: int64"
      ]
     },
     "execution_count": 74,
     "metadata": {},
     "output_type": "execute_result"
    }
   ],
   "source": [
    "sq[(sq%2==0)]"
   ]
  },
  {
   "cell_type": "markdown",
   "id": "bf044efe",
   "metadata": {},
   "source": [
    "* 인덱스도 관계연산 가능"
   ]
  },
  {
   "cell_type": "code",
   "execution_count": 76,
   "id": "ad136ff7",
   "metadata": {},
   "outputs": [
    {
     "data": {
      "text/plain": [
       "4    3\n",
       "5    4\n",
       "6    5\n",
       "dtype: int64"
      ]
     },
     "execution_count": 76,
     "metadata": {},
     "output_type": "execute_result"
    },
    {
     "data": {
      "text/plain": [
       "2     1\n",
       "4     3\n",
       "6     5\n",
       "8     7\n",
       "10    9\n",
       "dtype: int64"
      ]
     },
     "execution_count": 76,
     "metadata": {},
     "output_type": "execute_result"
    }
   ],
   "source": [
    "sq[(sq.index>3)&(sq.index<7)]\n",
    "sq[(sq.index%2==0)]"
   ]
  },
  {
   "cell_type": "code",
   "execution_count": 78,
   "id": "22e37dbd",
   "metadata": {},
   "outputs": [],
   "source": [
    "s = pd.Series([1, 2, 3, 4], ['a', 'b', 'c', 'd'])"
   ]
  },
  {
   "cell_type": "markdown",
   "id": "4ad09b67",
   "metadata": {},
   "source": [
    "##### 딕셔너리 와 시리즈의 관계\n",
    "- 시리즈 객체는 인덱스를 key로 가지는 딕셔너리 형과 같다고 볼 수 있음\n",
    "- 딕셔너리에서 제공하는 대부분의 연산자 사용 가능\n",
    "    - in 연산자 : T/F\n",
    "    - for 루프를 통해 각 원소의 key와 value에 접근 가능"
   ]
  },
  {
   "cell_type": "code",
   "execution_count": 79,
   "id": "520e848a",
   "metadata": {},
   "outputs": [
    {
     "data": {
      "text/plain": [
       "1"
      ]
     },
     "execution_count": 79,
     "metadata": {},
     "output_type": "execute_result"
    },
    {
     "data": {
      "text/plain": [
       "2"
      ]
     },
     "execution_count": 79,
     "metadata": {},
     "output_type": "execute_result"
    },
    {
     "data": {
      "text/plain": [
       "3"
      ]
     },
     "execution_count": 79,
     "metadata": {},
     "output_type": "execute_result"
    },
    {
     "data": {
      "text/plain": [
       "4"
      ]
     },
     "execution_count": 79,
     "metadata": {},
     "output_type": "execute_result"
    }
   ],
   "source": [
    "# for 문은 value를 말한다\n",
    "for i in s:\n",
    "    i"
   ]
  },
  {
   "cell_type": "code",
   "execution_count": 81,
   "id": "7926cf5f",
   "metadata": {},
   "outputs": [
    {
     "data": {
      "text/plain": [
       "True"
      ]
     },
     "execution_count": 81,
     "metadata": {},
     "output_type": "execute_result"
    },
    {
     "data": {
      "text/plain": [
       "False"
      ]
     },
     "execution_count": 81,
     "metadata": {},
     "output_type": "execute_result"
    }
   ],
   "source": [
    "# 근데 in 연산자는 index 안에 있는지를 확인\n",
    "'a' in s\n",
    "1 in s"
   ]
  },
  {
   "cell_type": "code",
   "execution_count": 87,
   "id": "e7bde596",
   "metadata": {},
   "outputs": [
    {
     "data": {
      "text/plain": [
       "Index(['a', 'b', 'c', 'd'], dtype='object')"
      ]
     },
     "execution_count": 87,
     "metadata": {},
     "output_type": "execute_result"
    },
    {
     "data": {
      "text/plain": [
       "array([1, 2, 3, 4])"
      ]
     },
     "execution_count": 87,
     "metadata": {},
     "output_type": "execute_result"
    },
    {
     "data": {
      "text/plain": [
       "<zip at 0x1654b2ac0>"
      ]
     },
     "execution_count": 87,
     "metadata": {},
     "output_type": "execute_result"
    }
   ],
   "source": [
    "# dict처럼 메소드 활용\n",
    "s.keys()\n",
    "s.values\n",
    "s.items()"
   ]
  },
  {
   "cell_type": "code",
   "execution_count": 89,
   "id": "eb529bce",
   "metadata": {},
   "outputs": [
    {
     "data": {
      "text/plain": [
       "('a', 1)"
      ]
     },
     "execution_count": 89,
     "metadata": {},
     "output_type": "execute_result"
    },
    {
     "data": {
      "text/plain": [
       "('b', 2)"
      ]
     },
     "execution_count": 89,
     "metadata": {},
     "output_type": "execute_result"
    },
    {
     "data": {
      "text/plain": [
       "('c', 3)"
      ]
     },
     "execution_count": 89,
     "metadata": {},
     "output_type": "execute_result"
    },
    {
     "data": {
      "text/plain": [
       "('d', 4)"
      ]
     },
     "execution_count": 89,
     "metadata": {},
     "output_type": "execute_result"
    }
   ],
   "source": [
    "for a, b in s.items():\n",
    "    a, b"
   ]
  },
  {
   "cell_type": "markdown",
   "id": "371da524",
   "metadata": {},
   "source": [
    "### 시리즈 속성 및 함수(메소드)      \n",
    "     - size 속성 : 원소 개수 반환  \n",
    "     - shape 속성 : 튜플형태로 shape반환  \n",
    "     - len() : 길이 (원소 개수 반환)\n",
    "     - unique() : 유일한 값만 ndarray로 반환  \n",
    "     - count() : NaN을 제외한 개수를 반환  \n",
    "     - mean(): NaN을 제외한 평균  \n",
    "     - value_counts() : NaN을 제외하고 각 값들의 빈도를 반환 "
   ]
  },
  {
   "cell_type": "code",
   "execution_count": 91,
   "id": "bc17bec2-a355-4dbb-95fa-e662b1212ad1",
   "metadata": {},
   "outputs": [
    {
     "data": {
      "text/plain": [
       "4"
      ]
     },
     "execution_count": 91,
     "metadata": {},
     "output_type": "execute_result"
    },
    {
     "data": {
      "text/plain": [
       "4"
      ]
     },
     "execution_count": 91,
     "metadata": {},
     "output_type": "execute_result"
    }
   ],
   "source": [
    "# 길이 반환\n",
    "len(s)\n",
    "s.size"
   ]
  },
  {
   "cell_type": "code",
   "execution_count": 92,
   "id": "be43ebee",
   "metadata": {},
   "outputs": [
    {
     "data": {
      "text/plain": [
       "(4,)"
      ]
     },
     "execution_count": 92,
     "metadata": {},
     "output_type": "execute_result"
    }
   ],
   "source": [
    "# 차원 표시\n",
    "s.shape"
   ]
  },
  {
   "cell_type": "code",
   "execution_count": 95,
   "id": "afeb87f4",
   "metadata": {},
   "outputs": [
    {
     "data": {
      "text/plain": [
       "array([ 1.,  3., nan,  4.,  5.,  6.,  9.])"
      ]
     },
     "execution_count": 95,
     "metadata": {},
     "output_type": "execute_result"
    }
   ],
   "source": [
    "# 중복 제외\n",
    "s1 = pd.Series([1, 3, 3, None, 4, 5, 6, 6, 9])\n",
    "s1.unique()"
   ]
  },
  {
   "cell_type": "code",
   "execution_count": 97,
   "id": "863a3231",
   "metadata": {},
   "outputs": [
    {
     "data": {
      "text/plain": [
       "8"
      ]
     },
     "execution_count": 97,
     "metadata": {},
     "output_type": "execute_result"
    }
   ],
   "source": [
    "# NaN을 제외한 갯수\n",
    "s1.count()"
   ]
  },
  {
   "cell_type": "code",
   "execution_count": 99,
   "id": "46424883",
   "metadata": {},
   "outputs": [
    {
     "data": {
      "text/plain": [
       "4.625"
      ]
     },
     "execution_count": 99,
     "metadata": {},
     "output_type": "execute_result"
    }
   ],
   "source": [
    "# NaN을 제외한 평균\n",
    "s1.mean()"
   ]
  },
  {
   "cell_type": "code",
   "execution_count": 100,
   "id": "74c397ba",
   "metadata": {
    "scrolled": true
   },
   "outputs": [
    {
     "data": {
      "text/plain": [
       "3.0    2\n",
       "6.0    2\n",
       "1.0    1\n",
       "4.0    1\n",
       "5.0    1\n",
       "9.0    1\n",
       "Name: count, dtype: int64"
      ]
     },
     "execution_count": 100,
     "metadata": {},
     "output_type": "execute_result"
    }
   ],
   "source": [
    "# NaN을 제외한 각 값의 빈도\n",
    "s1.value_counts()"
   ]
  },
  {
   "cell_type": "code",
   "execution_count": 105,
   "id": "2d172b2c",
   "metadata": {},
   "outputs": [
    {
     "data": {
      "text/plain": [
       "True"
      ]
     },
     "execution_count": 105,
     "metadata": {},
     "output_type": "execute_result"
    },
    {
     "data": {
      "text/plain": [
       "True"
      ]
     },
     "execution_count": 105,
     "metadata": {},
     "output_type": "execute_result"
    }
   ],
   "source": [
    "s.is_unique\n",
    "s.index.is_unique"
   ]
  },
  {
   "cell_type": "code",
   "execution_count": null,
   "id": "e1675919-ae84-41fb-a31c-615a59c43f5b",
   "metadata": {},
   "outputs": [],
   "source": [
    "#################################################################################"
   ]
  },
  {
   "cell_type": "code",
   "execution_count": null,
   "id": "32fe57d1-5161-419b-a84a-cb7da13ffc21",
   "metadata": {},
   "outputs": [],
   "source": []
  },
  {
   "cell_type": "code",
   "execution_count": null,
   "id": "20468949",
   "metadata": {},
   "outputs": [],
   "source": []
  }
 ],
 "metadata": {
  "kernelspec": {
   "display_name": "Python 3 (ipykernel)",
   "language": "python",
   "name": "python3"
  },
  "language_info": {
   "codemirror_mode": {
    "name": "ipython",
    "version": 3
   },
   "file_extension": ".py",
   "mimetype": "text/x-python",
   "name": "python",
   "nbconvert_exporter": "python",
   "pygments_lexer": "ipython3",
   "version": "3.11.5"
  }
 },
 "nbformat": 4,
 "nbformat_minor": 5
}
