{
 "cells": [
  {
   "cell_type": "markdown",
   "id": "1f26a72c",
   "metadata": {},
   "source": [
    "### 데이터프레임 데이터 조작 함수 연습문제"
   ]
  },
  {
   "cell_type": "code",
   "execution_count": 1,
   "id": "ff03d825",
   "metadata": {},
   "outputs": [],
   "source": [
    "# 패키지 임포트\n",
    "import pandas as pd\n",
    "import numpy as np\n",
    "import seaborn"
   ]
  },
  {
   "cell_type": "code",
   "execution_count": 2,
   "id": "49ff0c9c",
   "metadata": {},
   "outputs": [],
   "source": [
    "# seaborn 패키지의 titanic 데이터셋을 load 하시오\n",
    "titanic = seaborn.load_dataset('titanic')"
   ]
  },
  {
   "cell_type": "markdown",
   "id": "8b5a9210",
   "metadata": {},
   "source": [
    "#### 연습문제 1\n",
    "- 타이타닉 호 승객에 대해서 다음의 값 추출\n",
    "  - 성별(sex) 인원수 : 인덱스 기준으로 정렬\n",
    "  - 나이별(age) 인원수 : 값 기준 정렬  \n",
    "  - 선실별(class) 인원수, 사망/생존(alive)인원수 : 임의 정렬     "
   ]
  },
  {
   "cell_type": "code",
   "execution_count": 3,
   "id": "7086636e",
   "metadata": {},
   "outputs": [
    {
     "data": {
      "text/plain": [
       "sex\n",
       "female    314\n",
       "male      577\n",
       "Name: count, dtype: int64"
      ]
     },
     "execution_count": 3,
     "metadata": {},
     "output_type": "execute_result"
    }
   ],
   "source": [
    "titanic['sex'].value_counts().sort_index()"
   ]
  },
  {
   "cell_type": "code",
   "execution_count": 4,
   "id": "0592158c",
   "metadata": {},
   "outputs": [
    {
     "data": {
      "text/plain": [
       "age\n",
       "74.00     1\n",
       "34.50     1\n",
       "0.42      1\n",
       "0.67      1\n",
       "66.00     1\n",
       "         ..\n",
       "28.00    25\n",
       "19.00    25\n",
       "18.00    26\n",
       "22.00    27\n",
       "24.00    30\n",
       "Name: count, Length: 88, dtype: int64"
      ]
     },
     "execution_count": 4,
     "metadata": {},
     "output_type": "execute_result"
    }
   ],
   "source": [
    "titanic['age'].value_counts().sort_values()"
   ]
  },
  {
   "cell_type": "code",
   "execution_count": 5,
   "id": "6a0efb09",
   "metadata": {},
   "outputs": [
    {
     "data": {
      "text/plain": [
       "class   alive\n",
       "First   no        80\n",
       "        yes      136\n",
       "Second  no        97\n",
       "        yes       87\n",
       "Third   no       372\n",
       "        yes      119\n",
       "Name: count, dtype: int64"
      ]
     },
     "execution_count": 5,
     "metadata": {},
     "output_type": "execute_result"
    }
   ],
   "source": [
    "titanic.value_counts(['class', 'alive']).sort_index()"
   ]
  },
  {
   "cell_type": "markdown",
   "id": "d406a49f",
   "metadata": {},
   "source": [
    "#### 연습문제 2\n",
    "- 성별에 따른 생존자수와 사망자수의 정보를 갖고 있는 데이터프레임 생성  \n",
    "    - 0은 생존 1은 사망"
   ]
  },
  {
   "cell_type": "code",
   "execution_count": 6,
   "id": "048af8ba",
   "metadata": {},
   "outputs": [
    {
     "data": {
      "text/html": [
       "<div>\n",
       "<style scoped>\n",
       "    .dataframe tbody tr th:only-of-type {\n",
       "        vertical-align: middle;\n",
       "    }\n",
       "\n",
       "    .dataframe tbody tr th {\n",
       "        vertical-align: top;\n",
       "    }\n",
       "\n",
       "    .dataframe thead th {\n",
       "        text-align: right;\n",
       "    }\n",
       "</style>\n",
       "<table border=\"1\" class=\"dataframe\">\n",
       "  <thead>\n",
       "    <tr style=\"text-align: right;\">\n",
       "      <th></th>\n",
       "      <th></th>\n",
       "      <th>count</th>\n",
       "    </tr>\n",
       "    <tr>\n",
       "      <th>sex</th>\n",
       "      <th>survived</th>\n",
       "      <th></th>\n",
       "    </tr>\n",
       "  </thead>\n",
       "  <tbody>\n",
       "    <tr>\n",
       "      <th rowspan=\"2\" valign=\"top\">female</th>\n",
       "      <th>0</th>\n",
       "      <td>81</td>\n",
       "    </tr>\n",
       "    <tr>\n",
       "      <th>1</th>\n",
       "      <td>233</td>\n",
       "    </tr>\n",
       "    <tr>\n",
       "      <th rowspan=\"2\" valign=\"top\">male</th>\n",
       "      <th>0</th>\n",
       "      <td>468</td>\n",
       "    </tr>\n",
       "    <tr>\n",
       "      <th>1</th>\n",
       "      <td>109</td>\n",
       "    </tr>\n",
       "  </tbody>\n",
       "</table>\n",
       "</div>"
      ],
      "text/plain": [
       "                 count\n",
       "sex    survived       \n",
       "female 0            81\n",
       "       1           233\n",
       "male   0           468\n",
       "       1           109"
      ]
     },
     "execution_count": 6,
     "metadata": {},
     "output_type": "execute_result"
    }
   ],
   "source": [
    "data = titanic.value_counts(['sex', 'survived'])\n",
    "surv_df = pd.DataFrame(data.sort_index())\n",
    "surv_df"
   ]
  },
  {
   "cell_type": "markdown",
   "id": "6b5e45de",
   "metadata": {},
   "source": [
    "![](데이터조작문제.PNG)"
   ]
  },
  {
   "cell_type": "markdown",
   "id": "dcbe7084",
   "metadata": {},
   "source": [
    "#### 연습문제 3\n",
    "- 타이타닉호 승객을 사망자와 생존자 그룹으로 나누고(alive)\n",
    "- 각 그룹에 대해 미성년자, 청년, 중년, 장년, 노년 승객의 비율 출력  \n",
    "    - bins=[0,18,35,50,65,99]\n",
    "    - labels=['미성년자','청년','중년','장년','노년']"
   ]
  },
  {
   "cell_type": "code",
   "execution_count": 7,
   "id": "fa11bf9c",
   "metadata": {},
   "outputs": [],
   "source": [
    "bins=[0,18,35,50,65,99]\n",
    "labels=['미성년자','청년','중년','장년','노년']\n",
    "\n",
    "alive_group = titanic[titanic['alive']=='yes']['age']\n",
    "dead_group = titanic[titanic['alive']=='no']['age']\n",
    "\n",
    "alive_ratio = pd.cut(alive_group, bins=bins, labels=labels).value_counts(normalize=True)*100\n",
    "dead_ratio = pd.cut(dead_group, bins=bins, labels=labels).value_counts(normalize=True)*100"
   ]
  },
  {
   "cell_type": "code",
   "execution_count": 8,
   "id": "ed7d9dd1",
   "metadata": {},
   "outputs": [
    {
     "data": {
      "text/plain": [
       "age\n",
       "청년      47.241379\n",
       "미성년자    24.137931\n",
       "중년      21.034483\n",
       "장년       7.241379\n",
       "노년       0.344828\n",
       "Name: proportion, dtype: float64"
      ]
     },
     "execution_count": 8,
     "metadata": {},
     "output_type": "execute_result"
    }
   ],
   "source": [
    "alive_ratio"
   ]
  },
  {
   "cell_type": "code",
   "execution_count": 9,
   "id": "ec337ba6",
   "metadata": {},
   "outputs": [
    {
     "data": {
      "text/plain": [
       "age\n",
       "청년      52.122642\n",
       "중년      21.698113\n",
       "미성년자    16.273585\n",
       "장년       8.254717\n",
       "노년       1.650943\n",
       "Name: proportion, dtype: float64"
      ]
     },
     "execution_count": 9,
     "metadata": {},
     "output_type": "execute_result"
    }
   ],
   "source": [
    "dead_ratio"
   ]
  },
  {
   "cell_type": "markdown",
   "id": "32ad9969",
   "metadata": {},
   "source": [
    "#### 연습문제 4\n",
    "- 내포 for문을 이용해서 리스트 ['id_1','id_2','id_3','id_4'] 생성"
   ]
  },
  {
   "cell_type": "code",
   "execution_count": 10,
   "id": "0d8a6158",
   "metadata": {},
   "outputs": [
    {
     "data": {
      "text/plain": [
       "['id_1', 'id_2', 'id_3', 'id_4']"
      ]
     },
     "execution_count": 10,
     "metadata": {},
     "output_type": "execute_result"
    }
   ],
   "source": [
    "ls = ['id_'+str(i+1) for i in range(4)]\n",
    "ls"
   ]
  }
 ],
 "metadata": {
  "kernelspec": {
   "display_name": "Python 3 (ipykernel)",
   "language": "python",
   "name": "python3"
  },
  "language_info": {
   "codemirror_mode": {
    "name": "ipython",
    "version": 3
   },
   "file_extension": ".py",
   "mimetype": "text/x-python",
   "name": "python",
   "nbconvert_exporter": "python",
   "pygments_lexer": "ipython3",
   "version": "3.11.5"
  }
 },
 "nbformat": 4,
 "nbformat_minor": 5
}
