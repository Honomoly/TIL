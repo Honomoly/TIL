{
 "cells": [
  {
   "cell_type": "markdown",
   "metadata": {},
   "source": [
    "## 로지스틱 회귀(분류)-연습문제"
   ]
  },
  {
   "cell_type": "markdown",
   "metadata": {},
   "source": [
    "### 로지스틱 회귀(분류) 알고리즘 사용 모델링 예제\n",
    "- Body Peformance 데이터 사용 "
   ]
  },
  {
   "cell_type": "code",
   "execution_count": 1,
   "metadata": {
    "scrolled": false
   },
   "outputs": [
    {
     "data": {
      "text/html": [
       "<div>\n",
       "<style scoped>\n",
       "    .dataframe tbody tr th:only-of-type {\n",
       "        vertical-align: middle;\n",
       "    }\n",
       "\n",
       "    .dataframe tbody tr th {\n",
       "        vertical-align: top;\n",
       "    }\n",
       "\n",
       "    .dataframe thead th {\n",
       "        text-align: right;\n",
       "    }\n",
       "</style>\n",
       "<table border=\"1\" class=\"dataframe\">\n",
       "  <thead>\n",
       "    <tr style=\"text-align: right;\">\n",
       "      <th></th>\n",
       "      <th>age</th>\n",
       "      <th>gender</th>\n",
       "      <th>height_cm</th>\n",
       "      <th>weight_kg</th>\n",
       "      <th>body fat_%</th>\n",
       "      <th>diastolic</th>\n",
       "      <th>systolic</th>\n",
       "      <th>gripForce</th>\n",
       "      <th>sit and bend forward_cm</th>\n",
       "      <th>sit-ups counts</th>\n",
       "      <th>broad jump_cm</th>\n",
       "      <th>class</th>\n",
       "    </tr>\n",
       "  </thead>\n",
       "  <tbody>\n",
       "    <tr>\n",
       "      <th>0</th>\n",
       "      <td>27.0</td>\n",
       "      <td>M</td>\n",
       "      <td>172.3</td>\n",
       "      <td>75.24</td>\n",
       "      <td>21.3</td>\n",
       "      <td>80.0</td>\n",
       "      <td>130.0</td>\n",
       "      <td>54.9</td>\n",
       "      <td>18.4</td>\n",
       "      <td>60.0</td>\n",
       "      <td>217.0</td>\n",
       "      <td>C</td>\n",
       "    </tr>\n",
       "    <tr>\n",
       "      <th>1</th>\n",
       "      <td>25.0</td>\n",
       "      <td>M</td>\n",
       "      <td>165.0</td>\n",
       "      <td>55.80</td>\n",
       "      <td>15.7</td>\n",
       "      <td>77.0</td>\n",
       "      <td>126.0</td>\n",
       "      <td>36.4</td>\n",
       "      <td>16.3</td>\n",
       "      <td>53.0</td>\n",
       "      <td>229.0</td>\n",
       "      <td>A</td>\n",
       "    </tr>\n",
       "    <tr>\n",
       "      <th>2</th>\n",
       "      <td>31.0</td>\n",
       "      <td>M</td>\n",
       "      <td>179.6</td>\n",
       "      <td>78.00</td>\n",
       "      <td>20.1</td>\n",
       "      <td>92.0</td>\n",
       "      <td>152.0</td>\n",
       "      <td>44.8</td>\n",
       "      <td>12.0</td>\n",
       "      <td>49.0</td>\n",
       "      <td>181.0</td>\n",
       "      <td>C</td>\n",
       "    </tr>\n",
       "    <tr>\n",
       "      <th>3</th>\n",
       "      <td>32.0</td>\n",
       "      <td>M</td>\n",
       "      <td>174.5</td>\n",
       "      <td>71.10</td>\n",
       "      <td>18.4</td>\n",
       "      <td>76.0</td>\n",
       "      <td>147.0</td>\n",
       "      <td>41.4</td>\n",
       "      <td>15.2</td>\n",
       "      <td>53.0</td>\n",
       "      <td>219.0</td>\n",
       "      <td>B</td>\n",
       "    </tr>\n",
       "    <tr>\n",
       "      <th>4</th>\n",
       "      <td>28.0</td>\n",
       "      <td>M</td>\n",
       "      <td>173.8</td>\n",
       "      <td>67.70</td>\n",
       "      <td>17.1</td>\n",
       "      <td>70.0</td>\n",
       "      <td>127.0</td>\n",
       "      <td>43.5</td>\n",
       "      <td>27.1</td>\n",
       "      <td>45.0</td>\n",
       "      <td>217.0</td>\n",
       "      <td>B</td>\n",
       "    </tr>\n",
       "  </tbody>\n",
       "</table>\n",
       "</div>"
      ],
      "text/plain": [
       "    age gender  height_cm  weight_kg  body fat_%  diastolic  systolic   \n",
       "0  27.0      M      172.3      75.24        21.3       80.0     130.0  \\\n",
       "1  25.0      M      165.0      55.80        15.7       77.0     126.0   \n",
       "2  31.0      M      179.6      78.00        20.1       92.0     152.0   \n",
       "3  32.0      M      174.5      71.10        18.4       76.0     147.0   \n",
       "4  28.0      M      173.8      67.70        17.1       70.0     127.0   \n",
       "\n",
       "   gripForce  sit and bend forward_cm  sit-ups counts  broad jump_cm class  \n",
       "0       54.9                     18.4            60.0          217.0     C  \n",
       "1       36.4                     16.3            53.0          229.0     A  \n",
       "2       44.8                     12.0            49.0          181.0     C  \n",
       "3       41.4                     15.2            53.0          219.0     B  \n",
       "4       43.5                     27.1            45.0          217.0     B  "
      ]
     },
     "execution_count": 1,
     "metadata": {},
     "output_type": "execute_result"
    }
   ],
   "source": [
    "import pandas as pd\n",
    "import numpy as np\n",
    "import warnings\n",
    "warnings.filterwarnings('ignore')\n",
    "\n",
    "body = pd.read_csv('../data/bodyPerformance.csv')\n",
    "body.head()"
   ]
  },
  {
   "cell_type": "code",
   "execution_count": 2,
   "metadata": {},
   "outputs": [
    {
     "data": {
      "text/plain": [
       "class\n",
       "C    3349\n",
       "D    3349\n",
       "A    3348\n",
       "B    3347\n",
       "Name: count, dtype: int64"
      ]
     },
     "execution_count": 2,
     "metadata": {},
     "output_type": "execute_result"
    }
   ],
   "source": [
    "# class가 A, B, C, D로 되어 있는데\n",
    "# A인 경우 1, A가 아닌 경우 0으로 변경 (이진 분류)\n",
    "body['class'].value_counts()"
   ]
  },
  {
   "cell_type": "code",
   "execution_count": 3,
   "metadata": {},
   "outputs": [
    {
     "data": {
      "text/plain": [
       "class\n",
       "0    10045\n",
       "1     3348\n",
       "Name: count, dtype: int64"
      ]
     },
     "execution_count": 3,
     "metadata": {},
     "output_type": "execute_result"
    }
   ],
   "source": [
    "body['class'] = (body['class']=='A').astype(int)\n",
    "body['class'].value_counts()"
   ]
  },
  {
   "cell_type": "code",
   "execution_count": 4,
   "metadata": {},
   "outputs": [],
   "source": [
    "feature_data = body.drop('class', axis=1)\n",
    "label_data = body['class']"
   ]
  },
  {
   "cell_type": "code",
   "execution_count": 5,
   "metadata": {},
   "outputs": [
    {
     "name": "stdout",
     "output_type": "stream",
     "text": [
      "<class 'pandas.core.frame.DataFrame'>\n",
      "RangeIndex: 13393 entries, 0 to 13392\n",
      "Data columns (total 11 columns):\n",
      " #   Column                   Non-Null Count  Dtype  \n",
      "---  ------                   --------------  -----  \n",
      " 0   age                      13393 non-null  float64\n",
      " 1   gender                   13393 non-null  object \n",
      " 2   height_cm                13393 non-null  float64\n",
      " 3   weight_kg                13393 non-null  float64\n",
      " 4   body fat_%               13393 non-null  float64\n",
      " 5   diastolic                13393 non-null  float64\n",
      " 6   systolic                 13393 non-null  float64\n",
      " 7   gripForce                13393 non-null  float64\n",
      " 8   sit and bend forward_cm  13393 non-null  float64\n",
      " 9   sit-ups counts           13393 non-null  float64\n",
      " 10  broad jump_cm            13393 non-null  float64\n",
      "dtypes: float64(10), object(1)\n",
      "memory usage: 1.1+ MB\n"
     ]
    }
   ],
   "source": [
    "feature_data.info()"
   ]
  },
  {
   "cell_type": "code",
   "execution_count": 6,
   "metadata": {},
   "outputs": [
    {
     "data": {
      "image/png": "[encoded data removed]",
      "text/plain": [
       "<Figure size 1200x400 with 11 Axes>"
      ]
     },
     "metadata": {},
     "output_type": "display_data"
    }
   ],
   "source": [
    "import seaborn as sns\n",
    "import matplotlib.pyplot as plt\n",
    "\n",
    "nn = len(feature_data.columns)\n",
    "plt.figure(figsize=(12, 4))\n",
    "for idx, col in enumerate(feature_data.columns):\n",
    "    plt.subplot(1, nn, idx+1)\n",
    "    if col=='gender':\n",
    "        sns.histplot(feature_data[col])\n",
    "    else:\n",
    "        sns.boxplot(feature_data[col])\n",
    "        plt.ylabel(col)\n",
    "plt.tight_layout()\n",
    "plt.show()"
   ]
  },
  {
   "cell_type": "code",
   "execution_count": 7,
   "metadata": {},
   "outputs": [
    {
     "data": {
      "text/plain": [
       "gender\n",
       "0    8467\n",
       "1    4926\n",
       "Name: count, dtype: int64"
      ]
     },
     "execution_count": 7,
     "metadata": {},
     "output_type": "execute_result"
    }
   ],
   "source": [
    "# 성별또한 숫자로 변경 / 남자:0, 여자:1\n",
    "feature_data['gender'] = (feature_data['gender']=='F').astype(int)\n",
    "feature_data['gender'].value_counts()"
   ]
  },
  {
   "cell_type": "code",
   "execution_count": 8,
   "metadata": {},
   "outputs": [],
   "source": [
    "# 함수에 넣게 묶어놓기\n",
    "datas = (feature_data, label_data)"
   ]
  },
  {
   "cell_type": "markdown",
   "metadata": {},
   "source": [
    "## 전 과정 함수화 하기"
   ]
  },
  {
   "cell_type": "code",
   "execution_count": 9,
   "metadata": {},
   "outputs": [],
   "source": [
    "# 성능 평가지표 출력 함수\n",
    "from sklearn.metrics import confusion_matrix,precision_score, \\\n",
    "recall_score, accuracy_score, f1_score, roc_curve, auc, roc_auc_score\n",
    "\n",
    "def get_clf_eval(y_test, y_pred, y_pred_proba):\n",
    "    print(\"< Confusion Matrix >\")\n",
    "    print(confusion_matrix(y_test, y_pred))\n",
    "    \n",
    "    print(\"Accuracy : \", end=\"\")\n",
    "    print(f\"{accuracy_score(y_test, y_pred):.4f}\", end=\", \")\n",
    "    \n",
    "    print(\"Precision : \", end=\"\")\n",
    "    print(f\"{precision_score(y_test, y_pred):.4f}\", end=\", \")\n",
    "    \n",
    "    print(\"Recall : \", end=\"\")\n",
    "    print(f\"{recall_score(y_test, y_pred):.4f}\", end=\", \")\n",
    "    \n",
    "    print(\"F1 Score : \", end=\"\")\n",
    "    print(f\"{f1_score(y_test, y_pred):.4f}\", end=\", \")\n",
    "    \n",
    "    fpr, tpr, thresholds = roc_curve(y_test, y_pred_proba, pos_label=1)\n",
    "    print(\"AUC of ROC : \", end=\"\")\n",
    "    print(f\"{auc(fpr, tpr):.4f}\")"
   ]
  },
  {
   "cell_type": "code",
   "execution_count": 10,
   "metadata": {},
   "outputs": [],
   "source": [
    "from sklearn.model_selection import train_test_split\n",
    "from sklearn.preprocessing import StandardScaler\n",
    "from sklearn.linear_model import LogisticRegression\n",
    "from sklearn.model_selection import GridSearchCV\n",
    "\n",
    "# 단순 성능평가랑 Grid Search기능 모두 우겨넣기\n",
    "def process(datas, is_scale=False, is_grid_search=False, param_grid=None, **params):\n",
    "    feature_data, label_data = datas\n",
    "    \n",
    "    # 스케일링 여부\n",
    "    if is_scale:\n",
    "        feature_data = StandardScaler().fit_transform(feature_data)\n",
    "    \n",
    "    # 데이터 분리\n",
    "    X_train, X_test, y_train, y_test = train_test_split(\n",
    "        feature_data, label_data, test_size=0.3, random_state=0\n",
    "    )\n",
    "    \n",
    "    if is_grid_search:\n",
    "        lr_clf = LogisticRegression(solver='liblinear')\n",
    "        # 폴드수 3, 5\n",
    "        for cv in [3, 5]:\n",
    "            grid_lr_clf = GridSearchCV(lr_clf, param_grid=param_grid, scoring='accuracy', cv=cv)\n",
    "            grid_lr_clf.fit(X_train, y_train)\n",
    "\n",
    "            result = pd.DataFrame(grid_lr_clf.cv_results_['params'])\n",
    "            result['mean_score'] = grid_lr_clf.cv_results_['mean_test_score']\n",
    "            print(result.sort_values(by='mean_score', ascending=False).head(10))\n",
    "            print()\n",
    "    else:\n",
    "        # 모델 학습\n",
    "        lr_clf = LogisticRegression(solver='liblinear', **params)\n",
    "        lr_clf.fit(X_train, y_train)\n",
    "\n",
    "        # 결과 출력\n",
    "        y_pred = lr_clf.predict(X_test)\n",
    "        y_pred_proba = lr_clf.predict_proba(X_test)[:,1]\n",
    "        get_clf_eval(y_test, y_pred, y_pred_proba)"
   ]
  },
  {
   "cell_type": "code",
   "execution_count": 11,
   "metadata": {},
   "outputs": [
    {
     "name": "stdout",
     "output_type": "stream",
     "text": [
      "       C  max_iter penalty  mean_score\n",
      "35  10.0       500      l2    0.847573\n",
      "33  10.0       300      l2    0.847467\n",
      "29   5.0       500      l2    0.847253\n",
      "9    0.5       300      l2    0.847040\n",
      "21   2.0       300      l2    0.846720\n",
      "23   2.0       500      l2    0.846720\n",
      "27   5.0       300      l2    0.846720\n",
      "17   1.0       500      l2    0.846507\n",
      "11   0.5       500      l2    0.846080\n",
      "15   1.0       300      l2    0.845867\n",
      "\n",
      "       C  max_iter penalty  mean_score\n",
      "15   1.0       300      l2    0.848107\n",
      "27   5.0       300      l2    0.848107\n",
      "17   1.0       500      l2    0.846933\n",
      "23   2.0       500      l2    0.846933\n",
      "11   0.5       500      l2    0.846827\n",
      "29   5.0       500      l2    0.846827\n",
      "35  10.0       500      l2    0.846720\n",
      "33  10.0       300      l2    0.846720\n",
      "21   2.0       300      l2    0.846400\n",
      "9    0.5       300      l2    0.846400\n",
      "\n"
     ]
    }
   ],
   "source": [
    "# Grid Search먼저 실행\n",
    "param_grid = {\n",
    "    'max_iter' : [100, 300, 500],\n",
    "    'penalty' : ['l1', 'l2'],\n",
    "    'C' : [0.1, 0.5, 1, 2, 5, 10]\n",
    "}\n",
    "\n",
    "process(datas=datas, is_grid_search=True, param_grid=param_grid)"
   ]
  },
  {
   "cell_type": "code",
   "execution_count": 27,
   "metadata": {},
   "outputs": [
    {
     "ename": "NameError",
     "evalue": "name 'process' is not defined",
     "output_type": "error",
     "traceback": [
      "\u001b[0;31m---------------------------------------------------------------------------\u001b[0m",
      "\u001b[0;31mNameError\u001b[0m                                 Traceback (most recent call last)",
      "Cell \u001b[0;32mIn[27], line 2\u001b[0m\n\u001b[1;32m      1\u001b[0m \u001b[38;5;66;03m# 스케일링 없음\u001b[39;00m\n\u001b[0;32m----> 2\u001b[0m process(datas\u001b[38;5;241m=\u001b[39mdatas,\n\u001b[1;32m      3\u001b[0m        max_iter\u001b[38;5;241m=\u001b[39m\u001b[38;5;241m3000\u001b[39m,\n\u001b[1;32m      4\u001b[0m        penalty\u001b[38;5;241m=\u001b[39m\u001b[38;5;124m'\u001b[39m\u001b[38;5;124ml2\u001b[39m\u001b[38;5;124m'\u001b[39m,\n\u001b[1;32m      5\u001b[0m        C\u001b[38;5;241m=\u001b[39m\u001b[38;5;241m1\u001b[39m\n\u001b[1;32m      6\u001b[0m )\n",
      "\u001b[0;31mNameError\u001b[0m: name 'process' is not defined"
     ]
    }
   ],
   "source": [
    "# 스케일링 없음\n",
    "process(datas=datas,\n",
    "       max_iter=3000,\n",
    "       penalty='l2',\n",
    "       C=1\n",
    ")"
   ]
  },
  {
   "cell_type": "code",
   "execution_count": 13,
   "metadata": {},
   "outputs": [
    {
     "name": "stdout",
     "output_type": "stream",
     "text": [
      "< Confusion Matrix >\n",
      "[[2795  212]\n",
      " [ 392  619]]\n",
      "Accuracy : 0.8497, Precision : 0.7449, Recall : 0.6123, F1 Score : 0.6721, AUC of ROC : 0.9235\n"
     ]
    }
   ],
   "source": [
    "# 스케일링 있음\n",
    "process(datas=datas, is_scale=True,\n",
    "       max_iter=3000,\n",
    "       penalty='l2',\n",
    "       C=1\n",
    ")\n",
    "# 놀라울 정도로 차이가 없다"
   ]
  },
  {
   "cell_type": "code",
   "execution_count": null,
   "metadata": {},
   "outputs": [],
   "source": []
  },
  {
   "cell_type": "code",
   "execution_count": null,
   "metadata": {},
   "outputs": [],
   "source": []
  },
  {
   "cell_type": "markdown",
   "metadata": {},
   "source": [
    "## 다중 분류"
   ]
  },
  {
   "cell_type": "code",
   "execution_count": 1,
   "metadata": {},
   "outputs": [
    {
     "data": {
      "text/html": [
       "<div>\n",
       "<style scoped>\n",
       "    .dataframe tbody tr th:only-of-type {\n",
       "        vertical-align: middle;\n",
       "    }\n",
       "\n",
       "    .dataframe tbody tr th {\n",
       "        vertical-align: top;\n",
       "    }\n",
       "\n",
       "    .dataframe thead th {\n",
       "        text-align: right;\n",
       "    }\n",
       "</style>\n",
       "<table border=\"1\" class=\"dataframe\">\n",
       "  <thead>\n",
       "    <tr style=\"text-align: right;\">\n",
       "      <th></th>\n",
       "      <th>age</th>\n",
       "      <th>gender</th>\n",
       "      <th>height_cm</th>\n",
       "      <th>weight_kg</th>\n",
       "      <th>body fat_%</th>\n",
       "      <th>diastolic</th>\n",
       "      <th>systolic</th>\n",
       "      <th>gripForce</th>\n",
       "      <th>sit and bend forward_cm</th>\n",
       "      <th>sit-ups counts</th>\n",
       "      <th>broad jump_cm</th>\n",
       "      <th>class</th>\n",
       "    </tr>\n",
       "  </thead>\n",
       "  <tbody>\n",
       "    <tr>\n",
       "      <th>0</th>\n",
       "      <td>27.0</td>\n",
       "      <td>M</td>\n",
       "      <td>172.3</td>\n",
       "      <td>75.24</td>\n",
       "      <td>21.3</td>\n",
       "      <td>80.0</td>\n",
       "      <td>130.0</td>\n",
       "      <td>54.9</td>\n",
       "      <td>18.4</td>\n",
       "      <td>60.0</td>\n",
       "      <td>217.0</td>\n",
       "      <td>C</td>\n",
       "    </tr>\n",
       "    <tr>\n",
       "      <th>1</th>\n",
       "      <td>25.0</td>\n",
       "      <td>M</td>\n",
       "      <td>165.0</td>\n",
       "      <td>55.80</td>\n",
       "      <td>15.7</td>\n",
       "      <td>77.0</td>\n",
       "      <td>126.0</td>\n",
       "      <td>36.4</td>\n",
       "      <td>16.3</td>\n",
       "      <td>53.0</td>\n",
       "      <td>229.0</td>\n",
       "      <td>A</td>\n",
       "    </tr>\n",
       "    <tr>\n",
       "      <th>2</th>\n",
       "      <td>31.0</td>\n",
       "      <td>M</td>\n",
       "      <td>179.6</td>\n",
       "      <td>78.00</td>\n",
       "      <td>20.1</td>\n",
       "      <td>92.0</td>\n",
       "      <td>152.0</td>\n",
       "      <td>44.8</td>\n",
       "      <td>12.0</td>\n",
       "      <td>49.0</td>\n",
       "      <td>181.0</td>\n",
       "      <td>C</td>\n",
       "    </tr>\n",
       "    <tr>\n",
       "      <th>3</th>\n",
       "      <td>32.0</td>\n",
       "      <td>M</td>\n",
       "      <td>174.5</td>\n",
       "      <td>71.10</td>\n",
       "      <td>18.4</td>\n",
       "      <td>76.0</td>\n",
       "      <td>147.0</td>\n",
       "      <td>41.4</td>\n",
       "      <td>15.2</td>\n",
       "      <td>53.0</td>\n",
       "      <td>219.0</td>\n",
       "      <td>B</td>\n",
       "    </tr>\n",
       "    <tr>\n",
       "      <th>4</th>\n",
       "      <td>28.0</td>\n",
       "      <td>M</td>\n",
       "      <td>173.8</td>\n",
       "      <td>67.70</td>\n",
       "      <td>17.1</td>\n",
       "      <td>70.0</td>\n",
       "      <td>127.0</td>\n",
       "      <td>43.5</td>\n",
       "      <td>27.1</td>\n",
       "      <td>45.0</td>\n",
       "      <td>217.0</td>\n",
       "      <td>B</td>\n",
       "    </tr>\n",
       "  </tbody>\n",
       "</table>\n",
       "</div>"
      ],
      "text/plain": [
       "    age gender  height_cm  weight_kg  body fat_%  diastolic  systolic   \n",
       "0  27.0      M      172.3      75.24        21.3       80.0     130.0  \\\n",
       "1  25.0      M      165.0      55.80        15.7       77.0     126.0   \n",
       "2  31.0      M      179.6      78.00        20.1       92.0     152.0   \n",
       "3  32.0      M      174.5      71.10        18.4       76.0     147.0   \n",
       "4  28.0      M      173.8      67.70        17.1       70.0     127.0   \n",
       "\n",
       "   gripForce  sit and bend forward_cm  sit-ups counts  broad jump_cm class  \n",
       "0       54.9                     18.4            60.0          217.0     C  \n",
       "1       36.4                     16.3            53.0          229.0     A  \n",
       "2       44.8                     12.0            49.0          181.0     C  \n",
       "3       41.4                     15.2            53.0          219.0     B  \n",
       "4       43.5                     27.1            45.0          217.0     B  "
      ]
     },
     "execution_count": 1,
     "metadata": {},
     "output_type": "execute_result"
    }
   ],
   "source": [
    "import pandas as pd\n",
    "import numpy as np\n",
    "\n",
    "body = pd.read_csv('../data/bodyPerformance.csv')\n",
    "body.head()"
   ]
  },
  {
   "cell_type": "code",
   "execution_count": 2,
   "metadata": {},
   "outputs": [],
   "source": [
    "feature_data = body.drop('class', axis=1)\n",
    "label_data = body['class']"
   ]
  },
  {
   "cell_type": "code",
   "execution_count": 3,
   "metadata": {},
   "outputs": [
    {
     "data": {
      "text/plain": [
       "gender\n",
       "0    8467\n",
       "1    4926\n",
       "Name: count, dtype: int64"
      ]
     },
     "execution_count": 3,
     "metadata": {},
     "output_type": "execute_result"
    }
   ],
   "source": [
    "# 성별만 숫자로 변경 / 남자:0, 여자:1\n",
    "feature_data['gender'] = (feature_data['gender']=='F').astype(int)\n",
    "feature_data['gender'].value_counts()"
   ]
  },
  {
   "cell_type": "code",
   "execution_count": 4,
   "metadata": {},
   "outputs": [],
   "source": [
    "datas = (feature_data, label_data)"
   ]
  },
  {
   "cell_type": "code",
   "execution_count": 5,
   "metadata": {},
   "outputs": [],
   "source": [
    "from sklearn.model_selection import train_test_split\n",
    "from sklearn.preprocessing import StandardScaler\n",
    "from sklearn.linear_model import LogisticRegression\n",
    "from sklearn.model_selection import GridSearchCV\n",
    "from sklearn.metrics import confusion_matrix, precision_score, recall_score, accuracy_score, roc_auc_score\n",
    "\n",
    "def process2(datas, is_scale=False, param_grid=None, **params):\n",
    "    feature_data, label_data = datas\n",
    "    \n",
    "    # 스케일링 여부\n",
    "    if is_scale:\n",
    "        feature_data = StandardScaler().fit_transform(feature_data)\n",
    "    \n",
    "    # 데이터 분리\n",
    "    X_train, X_test, y_train, y_test = train_test_split(\n",
    "        feature_data, label_data, test_size=0.3, random_state=0\n",
    "    )\n",
    "    \n",
    "    # 모델 학습\n",
    "    lr_clf = LogisticRegression(solver='lbfgs', multi_class='multinomial', **params)\n",
    "    lr_clf.fit(X_train, y_train)\n",
    "\n",
    "    # 결과 출력\n",
    "    y_pred = lr_clf.predict(X_test)\n",
    "    y_pred_proba = lr_clf.predict_proba(X_test)\n",
    "    \n",
    "    print(\"< Confusion Matrix >\")\n",
    "    print(confusion_matrix(y_test, y_pred))\n",
    "    print('\\n---------------------\\n')\n",
    "    \n",
    "    print(f'Accuracy : {accuracy_score(y_test, y_pred)*100:.2f}%')\n",
    "    print('\\n---------------------\\n')\n",
    "    \n",
    "    precision = []\n",
    "    recall = []\n",
    "    indices = ['micro', 'macro', 'weighted']\n",
    "    for l in indices:\n",
    "        precision.append(precision_score(y_test, y_pred, average=l)*100)\n",
    "        recall.append(recall_score(y_test, y_pred, average=l)*100)\n",
    "    print(pd.DataFrame({'Precision Score(%)':precision, 'Recall Score(%)':recall}, index=indices))\n",
    "    print('\\n---------------------\\n')\n",
    "    \n",
    "    print('ROC_AUC Score')\n",
    "    print(f'ovo : {roc_auc_score(y_test, y_pred_proba, multi_class=\"ovo\")*100:.2f}%')\n",
    "    print(f'ovr : {roc_auc_score(y_test, y_pred_proba, multi_class=\"ovr\")*100:.2f}%')"
   ]
  },
  {
   "cell_type": "code",
   "execution_count": 6,
   "metadata": {},
   "outputs": [
    {
     "name": "stdout",
     "output_type": "stream",
     "text": [
      "< Confusion Matrix >\n",
      "[[755 234  22   0]\n",
      " [214 459 287  34]\n",
      " [ 75 190 532 190]\n",
      " [ 15  37 158 816]]\n",
      "\n",
      "---------------------\n",
      "\n",
      "Accuracy : 63.76%\n",
      "\n",
      "---------------------\n",
      "\n",
      "          Precision Score(%)  Recall Score(%)\n",
      "micro              63.763066        63.763066\n",
      "macro              63.224942        63.572118\n",
      "weighted           63.397800        63.763066\n",
      "\n",
      "---------------------\n",
      "\n",
      "ROC_AUC Score\n",
      "ovo : 85.91%\n",
      "ovr : 85.99%\n"
     ]
    }
   ],
   "source": [
    "process2(datas=datas,\n",
    "        max_iter=6000,\n",
    "        C=1\n",
    ")"
   ]
  },
  {
   "cell_type": "code",
   "execution_count": 7,
   "metadata": {},
   "outputs": [
    {
     "name": "stdout",
     "output_type": "stream",
     "text": [
      "< Confusion Matrix >\n",
      "[[749 241  21   0]\n",
      " [215 460 281  38]\n",
      " [ 72 194 534 187]\n",
      " [ 15  38 157 816]]\n",
      "\n",
      "---------------------\n",
      "\n",
      "Accuracy : 63.69%\n",
      "\n",
      "---------------------\n",
      "\n",
      "          Precision Score(%)  Recall Score(%)\n",
      "micro              63.688402        63.688402\n",
      "macro              63.182847        63.499559\n",
      "weighted           63.354513        63.688402\n",
      "\n",
      "---------------------\n",
      "\n",
      "ROC_AUC Score\n",
      "ovo : 85.93%\n",
      "ovr : 86.01%\n"
     ]
    }
   ],
   "source": [
    "# 스케일링 하는게 훨씬 빠르다\n",
    "process2(datas=datas, is_scale=True,\n",
    "        max_iter=100,\n",
    "        C=1\n",
    ")"
   ]
  },
  {
   "cell_type": "code",
   "execution_count": 8,
   "metadata": {},
   "outputs": [
    {
     "name": "stdout",
     "output_type": "stream",
     "text": [
      "< Confusion Matrix >\n",
      "[[754 236  21   0]\n",
      " [222 452 283  37]\n",
      " [ 74 191 534 188]\n",
      " [ 15  41 155 815]]\n",
      "\n",
      "---------------------\n",
      "\n",
      "Accuracy : 63.59%\n",
      "\n",
      "---------------------\n",
      "\n",
      "          Precision Score(%)  Recall Score(%)\n",
      "micro              63.588850        63.588850\n",
      "macro              63.017594        63.397626\n",
      "weighted           63.188845        63.588850\n",
      "\n",
      "---------------------\n",
      "\n",
      "ROC_AUC Score\n",
      "ovo : 85.92%\n",
      "ovr : 86.00%\n"
     ]
    }
   ],
   "source": [
    "process2(datas=datas, is_scale=True,\n",
    "        max_iter=100,\n",
    "        C=0.2\n",
    ")"
   ]
  },
  {
   "cell_type": "code",
   "execution_count": 9,
   "metadata": {},
   "outputs": [
    {
     "name": "stdout",
     "output_type": "stream",
     "text": [
      "< Confusion Matrix >\n",
      "[[750 240  21   0]\n",
      " [215 461 280  38]\n",
      " [ 72 194 534 187]\n",
      " [ 15  38 157 816]]\n",
      "\n",
      "---------------------\n",
      "\n",
      "Accuracy : 63.74%\n",
      "\n",
      "---------------------\n",
      "\n",
      "          Precision Score(%)  Recall Score(%)\n",
      "micro              63.738178        63.738178\n",
      "macro              63.230023        63.549438\n",
      "weighted           63.401217        63.738178\n",
      "\n",
      "---------------------\n",
      "\n",
      "ROC_AUC Score\n",
      "ovo : 85.93%\n",
      "ovr : 86.01%\n"
     ]
    }
   ],
   "source": [
    "process2(datas=datas, is_scale=True,\n",
    "        max_iter=100,\n",
    "        C=5\n",
    ")"
   ]
  },
  {
   "cell_type": "code",
   "execution_count": null,
   "metadata": {},
   "outputs": [],
   "source": []
  }
 ],
 "metadata": {
  "kernelspec": {
   "display_name": "Python 3 (ipykernel)",
   "language": "python",
   "name": "python3"
  },
  "language_info": {
   "codemirror_mode": {
    "name": "ipython",
    "version": 3
   },
   "file_extension": ".py",
   "mimetype": "text/x-python",
   "name": "python",
   "nbconvert_exporter": "python",
   "pygments_lexer": "ipython3",
   "version": "3.11.5"
  }
 },
 "nbformat": 4,
 "nbformat_minor": 4
}
