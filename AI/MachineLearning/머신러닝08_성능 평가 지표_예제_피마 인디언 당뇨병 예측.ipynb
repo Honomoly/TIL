{
 "cells": [
  {
   "cell_type": "markdown",
   "id": "e3982ccf",
   "metadata": {},
   "source": [
    "## 여러 분류 모델 성능 평가 지표를 활용한 모델 평가"
   ]
  },
  {
   "cell_type": "markdown",
   "id": "aa3613fe",
   "metadata": {},
   "source": [
    "### 피마 인디언 당뇨병 예측\n",
    "- 피마 인디언 당뇨병 (Pima Indian Diabetes) 데이터 세트를 이용해  \n",
    "- 당뇨병 여부를 판단하는 머신러닝 예측 모델을 수립하고  \n",
    "- 오차행렬, 정확도, 정밀도, 재현율, F1 스코어, ROC AUC 평가 지표 적용  "
   ]
  },
  {
   "cell_type": "markdown",
   "id": "026259a4",
   "metadata": {},
   "source": [
    "### 피마 인디언 당뇨병 예측 모델  \n",
    "- 사용 데이터 세트 : Pima Indian Diabetes  \n",
    "- 데이터 세트 분리 : 테스트용(평가용) 데이터 세트 20%  \n",
    "- 사용하는 ML 알고리즘 : 로지스틱 회귀 알고리즘  \n",
    "- 모델 평가 : 예측 성능 평가   \n",
    "    - 오차행렬, 정확도, 정밀도, 재현율, F1 스코어, ROC AUC 평가 지표 "
   ]
  },
  {
   "cell_type": "markdown",
   "id": "aa5265a6",
   "metadata": {},
   "source": [
    "#### 피마 인디언 당뇨명 데이터 세트  \n",
    "- 북아메리카 피마 지역 원주민의 Type-2 당뇨병 결과 데이터  \n",
    "- 보통 당뇨 원인으로 식습관과 유전을 꼽음  \n",
    "- 피마 지역은 고립된 지역에서 인디언 고유의 활동이 지속돼 왔지만  \n",
    "- 20세기 후반에 들어서면서 서구화된 식습관으로 많은 당뇨 환자 발생  \n",
    "- 고립된 유전적 특성 때문에 당뇨학회에서는 피마 인디언의 당뇨병 자료에 대해 많은 연구 수행  "
   ]
  },
  {
   "cell_type": "markdown",
   "id": "ce14454b",
   "metadata": {},
   "source": [
    "https://www.kaggle.com/  \n",
    "회원가입하고 데이터 다운로드  \n"
   ]
  },
  {
   "cell_type": "markdown",
   "id": "6d23209c",
   "metadata": {},
   "source": [
    "###  피마 인디언 당뇨병 예측 프로세스\n",
    "(1) 데이터 세트 준비 : 피마 인디언 당뇨명 데이터 세트  \n",
    "(2) 데이터 세트 분리 : 학습 데이터 / 테스트 데이터 세트  \n",
    "(3) 모델 학습 및 예측 수행 :  로지스틱 회귀 알고리즘 적용하여 모델 학습 및 예측   \n",
    "(4) 평가 : 예측 성능 평가 지표 출력   \n",
    "(5) 재현율 성능에 조금 더 초점을 맞춰 조정  \n",
    "(6) 예측 성능을 향상시키기 위해 데이터 가공 수행  \n",
    "(7) 다시 예측 성능 평가  "
   ]
  },
  {
   "cell_type": "markdown",
   "id": "07fa01ad",
   "metadata": {},
   "source": [
    "from IPython.core.interactiveshell import InteractiveShell\n",
    "InteractiveShell.ast_node_interactivity=\"all\""
   ]
  },
  {
   "cell_type": "code",
   "execution_count": 1,
   "id": "fa025397",
   "metadata": {},
   "outputs": [],
   "source": [
    "import numpy as np\n",
    "import pandas as pd\n",
    "import matplotlib.pyplot as plt\n",
    "%matplotlib inline"
   ]
  },
  {
   "cell_type": "markdown",
   "id": "53e7f9de",
   "metadata": {},
   "source": [
    "### (1) 데이터 세트 준비 : 피마 인디언 당뇨명 데이터 세트"
   ]
  },
  {
   "cell_type": "code",
   "execution_count": 2,
   "id": "a4de6c94",
   "metadata": {
    "scrolled": true
   },
   "outputs": [
    {
     "data": {
      "text/html": [
       "<div>\n",
       "<style scoped>\n",
       "    .dataframe tbody tr th:only-of-type {\n",
       "        vertical-align: middle;\n",
       "    }\n",
       "\n",
       "    .dataframe tbody tr th {\n",
       "        vertical-align: top;\n",
       "    }\n",
       "\n",
       "    .dataframe thead th {\n",
       "        text-align: right;\n",
       "    }\n",
       "</style>\n",
       "<table border=\"1\" class=\"dataframe\">\n",
       "  <thead>\n",
       "    <tr style=\"text-align: right;\">\n",
       "      <th></th>\n",
       "      <th>Pregnancies</th>\n",
       "      <th>Glucose</th>\n",
       "      <th>BloodPressure</th>\n",
       "      <th>SkinThickness</th>\n",
       "      <th>Insulin</th>\n",
       "      <th>BMI</th>\n",
       "      <th>DiabetesPedigreeFunction</th>\n",
       "      <th>Age</th>\n",
       "      <th>Outcome</th>\n",
       "    </tr>\n",
       "  </thead>\n",
       "  <tbody>\n",
       "    <tr>\n",
       "      <th>0</th>\n",
       "      <td>6</td>\n",
       "      <td>148</td>\n",
       "      <td>72</td>\n",
       "      <td>35</td>\n",
       "      <td>0</td>\n",
       "      <td>33.6</td>\n",
       "      <td>0.627</td>\n",
       "      <td>50</td>\n",
       "      <td>1</td>\n",
       "    </tr>\n",
       "    <tr>\n",
       "      <th>1</th>\n",
       "      <td>1</td>\n",
       "      <td>85</td>\n",
       "      <td>66</td>\n",
       "      <td>29</td>\n",
       "      <td>0</td>\n",
       "      <td>26.6</td>\n",
       "      <td>0.351</td>\n",
       "      <td>31</td>\n",
       "      <td>0</td>\n",
       "    </tr>\n",
       "    <tr>\n",
       "      <th>2</th>\n",
       "      <td>8</td>\n",
       "      <td>183</td>\n",
       "      <td>64</td>\n",
       "      <td>0</td>\n",
       "      <td>0</td>\n",
       "      <td>23.3</td>\n",
       "      <td>0.672</td>\n",
       "      <td>32</td>\n",
       "      <td>1</td>\n",
       "    </tr>\n",
       "    <tr>\n",
       "      <th>3</th>\n",
       "      <td>1</td>\n",
       "      <td>89</td>\n",
       "      <td>66</td>\n",
       "      <td>23</td>\n",
       "      <td>94</td>\n",
       "      <td>28.1</td>\n",
       "      <td>0.167</td>\n",
       "      <td>21</td>\n",
       "      <td>0</td>\n",
       "    </tr>\n",
       "    <tr>\n",
       "      <th>4</th>\n",
       "      <td>0</td>\n",
       "      <td>137</td>\n",
       "      <td>40</td>\n",
       "      <td>35</td>\n",
       "      <td>168</td>\n",
       "      <td>43.1</td>\n",
       "      <td>2.288</td>\n",
       "      <td>33</td>\n",
       "      <td>1</td>\n",
       "    </tr>\n",
       "  </tbody>\n",
       "</table>\n",
       "</div>"
      ],
      "text/plain": [
       "   Pregnancies  Glucose  BloodPressure  SkinThickness  Insulin   BMI   \n",
       "0            6      148             72             35        0  33.6  \\\n",
       "1            1       85             66             29        0  26.6   \n",
       "2            8      183             64              0        0  23.3   \n",
       "3            1       89             66             23       94  28.1   \n",
       "4            0      137             40             35      168  43.1   \n",
       "\n",
       "   DiabetesPedigreeFunction  Age  Outcome  \n",
       "0                     0.627   50        1  \n",
       "1                     0.351   31        0  \n",
       "2                     0.672   32        1  \n",
       "3                     0.167   21        0  \n",
       "4                     2.288   33        1  "
      ]
     },
     "execution_count": 2,
     "metadata": {},
     "output_type": "execute_result"
    }
   ],
   "source": [
    "diabetes_data = pd.read_csv('../data/diabetes.csv')\n",
    "diabetes_data.head()\n"
   ]
  },
  {
   "cell_type": "markdown",
   "id": "03559675",
   "metadata": {},
   "source": [
    "피마 인디언 당뇨병 데이터 세트 피처\n",
    "* Pregnancies: 임신 횟수\n",
    "* Glucose: 포도당 부하 검사 수치\n",
    "* BloodPressure: 혈압(mm Hg)\n",
    "* SkinThickness: 팔 삼두근 뒤쪽의 피하지방 측정값(mm)\n",
    "* Insulin: 혈청 인슐린(mu U/ml)\n",
    "* BMI: 체질량지수(체중(kg)/(키(m))^2)\n",
    "* DiabetesPedigreeFunction: 당뇨 내력 가중치 값\n",
    "* Age: 나이\n",
    "* Outcome: 클래스 결정 값(0또는 1)"
   ]
  },
  {
   "cell_type": "code",
   "execution_count": 3,
   "id": "37ba4afd",
   "metadata": {},
   "outputs": [
    {
     "data": {
      "text/plain": [
       "0    1\n",
       "1    0\n",
       "2    1\n",
       "3    0\n",
       "4    1\n",
       "Name: Outcome, dtype: int64"
      ]
     },
     "execution_count": 3,
     "metadata": {},
     "output_type": "execute_result"
    }
   ],
   "source": [
    "feature_data = diabetes_data.drop('Outcome', axis=1)\n",
    "label_data = diabetes_data['Outcome']\n",
    "feature_data.head()\n",
    "label_data.head()"
   ]
  },
  {
   "cell_type": "code",
   "execution_count": 4,
   "id": "abdebfc1",
   "metadata": {},
   "outputs": [
    {
     "data": {
      "text/plain": [
       "Outcome\n",
       "0    500\n",
       "1    268\n",
       "Name: count, dtype: int64"
      ]
     },
     "execution_count": 4,
     "metadata": {},
     "output_type": "execute_result"
    }
   ],
   "source": [
    "label_data.value_counts()"
   ]
  },
  {
   "cell_type": "markdown",
   "id": "a7980848",
   "metadata": {},
   "source": [
    "### (2) 데이터 세트 분리 : 학습 데이터 / 테스트 데이터 세트"
   ]
  },
  {
   "cell_type": "code",
   "execution_count": 5,
   "id": "52476ef4",
   "metadata": {},
   "outputs": [],
   "source": [
    "from sklearn.model_selection import train_test_split"
   ]
  },
  {
   "cell_type": "markdown",
   "id": "b43bab6f",
   "metadata": {},
   "source": [
    "#### stratify=y 옵션\n",
    "- 레이블 값에서 0과 1의 비율을 유지하면서 데이터 세트 분리\n",
    "\n",
    "피마 인디언 당뇨병 데이터 세트    \n",
    "- 전체 768개 중에서 1이 268개 : 34.89 %   \n",
    "     \n",
    "- stratify=y로 설정한 경우 (1의 비율 거의 유사)  \n",
    "    - 학습 데이터 세트 에서 1의 비율 : 34.85 %  \n",
    "    - 테스트 데이터 세트에서 1의 비율 : 35.06%  \n",
    "         \n",
    "- stratify=y로 설정하지 않은 경우 (1의 비율 차이가 있음)  \n",
    "    - 학습 데이터 세트 에서 1의 비율 : 34.36 %  \n",
    "    - 테스트 데이터 세트에서 1의 비율 : 37.01 %  "
   ]
  },
  {
   "cell_type": "code",
   "execution_count": 6,
   "id": "e2f29643",
   "metadata": {},
   "outputs": [
    {
     "data": {
      "text/plain": [
       "Outcome\n",
       "0    0.649351\n",
       "1    0.350649\n",
       "Name: proportion, dtype: float64"
      ]
     },
     "execution_count": 6,
     "metadata": {},
     "output_type": "execute_result"
    }
   ],
   "source": [
    "X_train, X_test, y_train, y_test = train_test_split(feature_data,\n",
    "                                                    label_data,\n",
    "                                                    test_size=0.2, \n",
    "                                                    random_state=11,\n",
    "                                                    stratify=label_data)\n",
    "y_train.value_counts(normalize=True)\n",
    "y_test.value_counts(normalize=True)"
   ]
  },
  {
   "cell_type": "markdown",
   "id": "0a6f7a3c",
   "metadata": {},
   "source": [
    "### (3) 모델 학습 및 예측 수행 \n",
    "- 로지스틱 회귀 알고리즘 적용하여 모델 학습 및 예측 "
   ]
  },
  {
   "cell_type": "code",
   "execution_count": 7,
   "id": "88286a8a",
   "metadata": {},
   "outputs": [],
   "source": [
    "from sklearn.linear_model import LogisticRegression\n",
    "\n",
    "lr_clf = LogisticRegression(max_iter=3000)\n",
    "lr_clf.fit(X_train, y_train)\n",
    "y_pred = lr_clf.predict(X_test)\n",
    "y_pred_proba = lr_clf.predict_proba(X_test)[:, 1] # Positive 확률값만 사용"
   ]
  },
  {
   "cell_type": "markdown",
   "id": "38dd64c7",
   "metadata": {},
   "source": [
    "### (4) 평가 : 예측 성능 평가 지표 출력 \n",
    "- 오차행렬, 정확도, 정밀도, 재현율, F1 스코어, ROC AUC 평가 지표"
   ]
  },
  {
   "cell_type": "code",
   "execution_count": 8,
   "id": "183624a3",
   "metadata": {},
   "outputs": [],
   "source": [
    "from sklearn.metrics import confusion_matrix,precision_score, \\\n",
    "recall_score, accuracy_score, f1_score, roc_curve, auc, roc_auc_score\n",
    "\n",
    "def get_clf_eval(y_test, y_pred, y_pred_proba):\n",
    "    print(\"< Confusion Matrix >\")\n",
    "    print(confusion_matrix(y_test, y_pred))\n",
    "    \n",
    "    print(\"Accuracy : \", end=\"\")\n",
    "    print(f\"{accuracy_score(y_test, y_pred):.4f}\", end=\", \")\n",
    "    \n",
    "    print(\"Precision : \", end=\"\")\n",
    "    print(f\"{precision_score(y_test, y_pred):.4f}\", end=\", \")\n",
    "    \n",
    "    print(\"Recall : \", end=\"\")\n",
    "    print(f\"{recall_score(y_test, y_pred):.4f}\", end=\", \")\n",
    "    \n",
    "    print(\"F1 Score : \", end=\"\")\n",
    "    print(f\"{f1_score(y_test, y_pred):.4f}\", end=\", \")\n",
    "    \n",
    "    fpr, tpr, thresholds = roc_curve(y_test, y_pred_proba, pos_label=1)\n",
    "    print(\"AUC of ROC : \", end=\"\")\n",
    "    print(f\"{auc(fpr, tpr):.4f}\")\n",
    "    \n",
    "#     print(\"AUC of ROC(short) : \")\n",
    "#     print(f\"{roc_auc_score(y_test, y_pred_proba):.4f}\")"
   ]
  },
  {
   "cell_type": "code",
   "execution_count": 9,
   "id": "9ee908ef",
   "metadata": {},
   "outputs": [
    {
     "name": "stdout",
     "output_type": "stream",
     "text": [
      "< Confusion Matrix >\n",
      "[[90 10]\n",
      " [24 30]]\n",
      "Accuracy : 0.7792, Precision : 0.7500, Recall : 0.5556, F1 Score : 0.6383, AUC of ROC : 0.8513\n"
     ]
    }
   ],
   "source": [
    "get_clf_eval(y_test, y_pred, y_pred_proba)"
   ]
  },
  {
   "cell_type": "markdown",
   "id": "224f6280",
   "metadata": {},
   "source": [
    "### (5) 재현율 성능에 조금 더 초점을 맞춰 조정"
   ]
  },
  {
   "cell_type": "code",
   "execution_count": 10,
   "id": "3415e9c8",
   "metadata": {},
   "outputs": [],
   "source": [
    "import numpy as np\n",
    "import matplotlib.pyplot as plt\n",
    "%matplotlib inline"
   ]
  },
  {
   "cell_type": "code",
   "execution_count": 11,
   "id": "8d1d6f4b",
   "metadata": {},
   "outputs": [
    {
     "data": {
      "image/png": "[encoded data removed]",
      "text/plain": [
       "<Figure size 640x480 with 1 Axes>"
      ]
     },
     "metadata": {},
     "output_type": "display_data"
    }
   ],
   "source": [
    "from sklearn.metrics import precision_recall_curve\n",
    "precision, recalls, thresholds = precision_recall_curve(y_test, y_pred_proba)\n",
    "lim = thresholds.size\n",
    "lim\n",
    "\n",
    "plt.plot(thresholds, precision[:lim], linestyle='--', label='Precision')\n",
    "plt.plot(thresholds, recalls[:lim], label='Recall')\n",
    "plt.yticks(np.linspace(0, 1, 11))\n",
    "plt.xlabel('Threshold')\n",
    "plt.xticks(np.linspace(0, 1, 21), rotation=60)\n",
    "plt.grid(True)\n",
    "plt.legend(ncol=1)\n",
    "plt.show()\n"
   ]
  },
  {
   "cell_type": "markdown",
   "id": "df6b3533",
   "metadata": {},
   "source": [
    "### (6) 예측 성능을 향상시키기 위해 데이터 가공 수행\n",
    "- 0 값 확인하고 다른 값으로 대체\n",
    "- 피처 스케일링 "
   ]
  },
  {
   "cell_type": "code",
   "execution_count": 12,
   "id": "05135a2e",
   "metadata": {},
   "outputs": [
    {
     "data": {
      "text/html": [
       "<div>\n",
       "<style scoped>\n",
       "    .dataframe tbody tr th:only-of-type {\n",
       "        vertical-align: middle;\n",
       "    }\n",
       "\n",
       "    .dataframe tbody tr th {\n",
       "        vertical-align: top;\n",
       "    }\n",
       "\n",
       "    .dataframe thead th {\n",
       "        text-align: right;\n",
       "    }\n",
       "</style>\n",
       "<table border=\"1\" class=\"dataframe\">\n",
       "  <thead>\n",
       "    <tr style=\"text-align: right;\">\n",
       "      <th></th>\n",
       "      <th>Pregnancies</th>\n",
       "      <th>Glucose</th>\n",
       "      <th>BloodPressure</th>\n",
       "      <th>SkinThickness</th>\n",
       "      <th>Insulin</th>\n",
       "      <th>BMI</th>\n",
       "      <th>DiabetesPedigreeFunction</th>\n",
       "      <th>Age</th>\n",
       "      <th>Outcome</th>\n",
       "    </tr>\n",
       "  </thead>\n",
       "  <tbody>\n",
       "    <tr>\n",
       "      <th>count</th>\n",
       "      <td>768.000000</td>\n",
       "      <td>768.000000</td>\n",
       "      <td>768.000000</td>\n",
       "      <td>768.000000</td>\n",
       "      <td>768.000000</td>\n",
       "      <td>768.000000</td>\n",
       "      <td>768.000000</td>\n",
       "      <td>768.000000</td>\n",
       "      <td>768.000000</td>\n",
       "    </tr>\n",
       "    <tr>\n",
       "      <th>mean</th>\n",
       "      <td>3.845052</td>\n",
       "      <td>120.894531</td>\n",
       "      <td>69.105469</td>\n",
       "      <td>20.536458</td>\n",
       "      <td>79.799479</td>\n",
       "      <td>31.992578</td>\n",
       "      <td>0.471876</td>\n",
       "      <td>33.240885</td>\n",
       "      <td>0.348958</td>\n",
       "    </tr>\n",
       "    <tr>\n",
       "      <th>std</th>\n",
       "      <td>3.369578</td>\n",
       "      <td>31.972618</td>\n",
       "      <td>19.355807</td>\n",
       "      <td>15.952218</td>\n",
       "      <td>115.244002</td>\n",
       "      <td>7.884160</td>\n",
       "      <td>0.331329</td>\n",
       "      <td>11.760232</td>\n",
       "      <td>0.476951</td>\n",
       "    </tr>\n",
       "    <tr>\n",
       "      <th>min</th>\n",
       "      <td>0.000000</td>\n",
       "      <td>0.000000</td>\n",
       "      <td>0.000000</td>\n",
       "      <td>0.000000</td>\n",
       "      <td>0.000000</td>\n",
       "      <td>0.000000</td>\n",
       "      <td>0.078000</td>\n",
       "      <td>21.000000</td>\n",
       "      <td>0.000000</td>\n",
       "    </tr>\n",
       "    <tr>\n",
       "      <th>25%</th>\n",
       "      <td>1.000000</td>\n",
       "      <td>99.000000</td>\n",
       "      <td>62.000000</td>\n",
       "      <td>0.000000</td>\n",
       "      <td>0.000000</td>\n",
       "      <td>27.300000</td>\n",
       "      <td>0.243750</td>\n",
       "      <td>24.000000</td>\n",
       "      <td>0.000000</td>\n",
       "    </tr>\n",
       "    <tr>\n",
       "      <th>50%</th>\n",
       "      <td>3.000000</td>\n",
       "      <td>117.000000</td>\n",
       "      <td>72.000000</td>\n",
       "      <td>23.000000</td>\n",
       "      <td>30.500000</td>\n",
       "      <td>32.000000</td>\n",
       "      <td>0.372500</td>\n",
       "      <td>29.000000</td>\n",
       "      <td>0.000000</td>\n",
       "    </tr>\n",
       "    <tr>\n",
       "      <th>75%</th>\n",
       "      <td>6.000000</td>\n",
       "      <td>140.250000</td>\n",
       "      <td>80.000000</td>\n",
       "      <td>32.000000</td>\n",
       "      <td>127.250000</td>\n",
       "      <td>36.600000</td>\n",
       "      <td>0.626250</td>\n",
       "      <td>41.000000</td>\n",
       "      <td>1.000000</td>\n",
       "    </tr>\n",
       "    <tr>\n",
       "      <th>max</th>\n",
       "      <td>17.000000</td>\n",
       "      <td>199.000000</td>\n",
       "      <td>122.000000</td>\n",
       "      <td>99.000000</td>\n",
       "      <td>846.000000</td>\n",
       "      <td>67.100000</td>\n",
       "      <td>2.420000</td>\n",
       "      <td>81.000000</td>\n",
       "      <td>1.000000</td>\n",
       "    </tr>\n",
       "  </tbody>\n",
       "</table>\n",
       "</div>"
      ],
      "text/plain": [
       "       Pregnancies     Glucose  BloodPressure  SkinThickness     Insulin   \n",
       "count   768.000000  768.000000     768.000000     768.000000  768.000000  \\\n",
       "mean      3.845052  120.894531      69.105469      20.536458   79.799479   \n",
       "std       3.369578   31.972618      19.355807      15.952218  115.244002   \n",
       "min       0.000000    0.000000       0.000000       0.000000    0.000000   \n",
       "25%       1.000000   99.000000      62.000000       0.000000    0.000000   \n",
       "50%       3.000000  117.000000      72.000000      23.000000   30.500000   \n",
       "75%       6.000000  140.250000      80.000000      32.000000  127.250000   \n",
       "max      17.000000  199.000000     122.000000      99.000000  846.000000   \n",
       "\n",
       "              BMI  DiabetesPedigreeFunction         Age     Outcome  \n",
       "count  768.000000                768.000000  768.000000  768.000000  \n",
       "mean    31.992578                  0.471876   33.240885    0.348958  \n",
       "std      7.884160                  0.331329   11.760232    0.476951  \n",
       "min      0.000000                  0.078000   21.000000    0.000000  \n",
       "25%     27.300000                  0.243750   24.000000    0.000000  \n",
       "50%     32.000000                  0.372500   29.000000    0.000000  \n",
       "75%     36.600000                  0.626250   41.000000    1.000000  \n",
       "max     67.100000                  2.420000   81.000000    1.000000  "
      ]
     },
     "execution_count": 12,
     "metadata": {},
     "output_type": "execute_result"
    }
   ],
   "source": [
    "diabetes_data.describe()\n",
    "\n",
    "# min 값이 0인 피처가 어느 정도 존재하는 것을 확인\n",
    "# Glucose(포도당), BloodPressure(혈압),SkinThickness(팔 뒤쪽 피하지방), Insulin,  BMI(체질량지수)\n",
    "# 이런 피처들이 0이 날올 수 없는데 0으로 되어 있음\n",
    "# ----> 전처리(가공) 작업 필요"
   ]
  },
  {
   "cell_type": "markdown",
   "id": "3d649992",
   "metadata": {},
   "source": [
    "### 각 피처들의 값 분포 확인"
   ]
  },
  {
   "cell_type": "code",
   "execution_count": 13,
   "id": "46eda9a0",
   "metadata": {},
   "outputs": [
    {
     "data": {
      "text/plain": [
       "(array([  5.,   0.,   4.,  32., 156., 211., 163.,  95.,  56.,  46.]),\n",
       " array([  0. ,  19.9,  39.8,  59.7,  79.6,  99.5, 119.4, 139.3, 159.2,\n",
       "        179.1, 199. ]),\n",
       " <BarContainer object of 10 artists>)"
      ]
     },
     "execution_count": 13,
     "metadata": {},
     "output_type": "execute_result"
    },
    {
     "data": {
      "image/png": "[encoded data removed]",
      "text/plain": [
       "<Figure size 640x480 with 1 Axes>"
      ]
     },
     "metadata": {},
     "output_type": "display_data"
    }
   ],
   "source": [
    "# Glucose(포도당) 피처의 히스토그램 확인\n",
    "plt.hist(diabetes_data['Glucose'], bins=10)\n",
    "# 0값이 일정 수준 존재 확인"
   ]
  },
  {
   "cell_type": "markdown",
   "id": "62045625",
   "metadata": {},
   "source": [
    "### 0값이 있는 피처들에서 0값의 데이터 건수와 퍼센트 계산\n",
    "- 0값의 데이터 건수  \n",
    "- 전체 데이터 건수 대비 몇 퍼센트의 비율인지 확인  "
   ]
  },
  {
   "cell_type": "code",
   "execution_count": 14,
   "id": "a2d390ec",
   "metadata": {
    "scrolled": true
   },
   "outputs": [
    {
     "name": "stdout",
     "output_type": "stream",
     "text": [
      "Glucose 0건수는 5, 퍼센트 0.65 %\n",
      "BloodPressure 0건수는 35, 퍼센트 4.56 %\n",
      "SkinThickness 0건수는 227, 퍼센트 29.56 %\n",
      "Insulin 0건수는 374, 퍼센트 48.70 %\n",
      "BMI 0건수는 11, 퍼센트 1.43 %\n"
     ]
    }
   ],
   "source": [
    "# 0값을 검사할 피처명 리스트 생성\n",
    "zero_features = ['Glucose', 'BloodPressure', 'SkinThickness', 'Insulin', 'BMI']\n",
    "\n",
    "# 전체 데이터건수\n",
    "total_count = diabetes_data['Glucose'].count()\n",
    "total_count\n",
    "\n",
    "# 피처별로 반복하면서 데이터 값이 0인 데이터 건수 추출하고, 퍼센트 계산\n",
    "for feature in zero_features:\n",
    "    zero_count = diabetes_data[diabetes_data[feature] == 0][feature].count()\n",
    "    print('{0} 0건수는 {1}, 퍼센트 {2:.2f} %'.format(feature, zero_count, 100*zero_count/total_count))\n",
    "\n",
    "\n",
    "# 0 값이 상당히 많음\n",
    "# 전체 데이터 건수가 많지 않기 때문에\n",
    "# 0값인 데이터를 삭제할 경우에\n",
    "# 학습을 효과적으로 수행하기 어려울 것 같으므로\n",
    "# 0값을 평균값으로 대체"
   ]
  },
  {
   "cell_type": "markdown",
   "id": "d7385447",
   "metadata": {},
   "source": [
    "**0값을 평균값으로 대체**"
   ]
  },
  {
   "cell_type": "code",
   "execution_count": 15,
   "id": "24e29ee7",
   "metadata": {},
   "outputs": [
    {
     "name": "stdout",
     "output_type": "stream",
     "text": [
      "120.89453125\n",
      "69.10546875\n",
      "20.536458333333332\n",
      "79.79947916666667\n",
      "31.992578124999998\n",
      "Glucose 0건수는 0, 퍼센트 0.00 %\n",
      "BloodPressure 0건수는 0, 퍼센트 0.00 %\n",
      "SkinThickness 0건수는 0, 퍼센트 0.00 %\n",
      "Insulin 0건수는 0, 퍼센트 0.00 %\n",
      "BMI 0건수는 0, 퍼센트 0.00 %\n"
     ]
    }
   ],
   "source": [
    "for feature in zero_features:\n",
    "    mean = diabetes_data[feature].mean()\n",
    "    print(mean)\n",
    "    diabetes_data[feature] = diabetes_data[feature].apply(lambda x: x if x>0 else mean)\n",
    "\n",
    "# 확인\n",
    "for feature in zero_features:\n",
    "    zero_count = diabetes_data[diabetes_data[feature] == 0][feature].count()\n",
    "    print('{0} 0건수는 {1}, 퍼센트 {2:.2f} %'.format(feature, zero_count, 100*zero_count/total_count))"
   ]
  },
  {
   "cell_type": "code",
   "execution_count": 16,
   "id": "58293ade",
   "metadata": {},
   "outputs": [
    {
     "data": {
      "text/plain": [
       "(array([  4.,  19.,  87., 149., 166., 125.,  88.,  54.,  44.,  32.]),\n",
       " array([ 44. ,  59.5,  75. ,  90.5, 106. , 121.5, 137. , 152.5, 168. ,\n",
       "        183.5, 199. ]),\n",
       " <BarContainer object of 10 artists>)"
      ]
     },
     "execution_count": 16,
     "metadata": {},
     "output_type": "execute_result"
    },
    {
     "data": {
      "image/png": "[encoded data removed]",
      "text/plain": [
       "<Figure size 640x480 with 1 Axes>"
      ]
     },
     "metadata": {},
     "output_type": "display_data"
    }
   ],
   "source": [
    "plt.hist(diabetes_data['Glucose'], bins=10)"
   ]
  },
  {
   "cell_type": "code",
   "execution_count": 17,
   "id": "b231eb53",
   "metadata": {},
   "outputs": [
    {
     "data": {
      "text/html": [
       "<div>\n",
       "<style scoped>\n",
       "    .dataframe tbody tr th:only-of-type {\n",
       "        vertical-align: middle;\n",
       "    }\n",
       "\n",
       "    .dataframe tbody tr th {\n",
       "        vertical-align: top;\n",
       "    }\n",
       "\n",
       "    .dataframe thead th {\n",
       "        text-align: right;\n",
       "    }\n",
       "</style>\n",
       "<table border=\"1\" class=\"dataframe\">\n",
       "  <thead>\n",
       "    <tr style=\"text-align: right;\">\n",
       "      <th></th>\n",
       "      <th>Pregnancies</th>\n",
       "      <th>Glucose</th>\n",
       "      <th>BloodPressure</th>\n",
       "      <th>SkinThickness</th>\n",
       "      <th>Insulin</th>\n",
       "      <th>BMI</th>\n",
       "      <th>DiabetesPedigreeFunction</th>\n",
       "      <th>Age</th>\n",
       "      <th>Outcome</th>\n",
       "    </tr>\n",
       "  </thead>\n",
       "  <tbody>\n",
       "    <tr>\n",
       "      <th>count</th>\n",
       "      <td>768.000000</td>\n",
       "      <td>768.000000</td>\n",
       "      <td>768.000000</td>\n",
       "      <td>768.000000</td>\n",
       "      <td>768.000000</td>\n",
       "      <td>768.000000</td>\n",
       "      <td>768.000000</td>\n",
       "      <td>768.000000</td>\n",
       "      <td>768.000000</td>\n",
       "    </tr>\n",
       "    <tr>\n",
       "      <th>mean</th>\n",
       "      <td>3.845052</td>\n",
       "      <td>121.681605</td>\n",
       "      <td>72.254807</td>\n",
       "      <td>26.606479</td>\n",
       "      <td>118.660163</td>\n",
       "      <td>32.450805</td>\n",
       "      <td>0.471876</td>\n",
       "      <td>33.240885</td>\n",
       "      <td>0.348958</td>\n",
       "    </tr>\n",
       "    <tr>\n",
       "      <th>std</th>\n",
       "      <td>3.369578</td>\n",
       "      <td>30.436016</td>\n",
       "      <td>12.115932</td>\n",
       "      <td>9.631241</td>\n",
       "      <td>93.080358</td>\n",
       "      <td>6.875374</td>\n",
       "      <td>0.331329</td>\n",
       "      <td>11.760232</td>\n",
       "      <td>0.476951</td>\n",
       "    </tr>\n",
       "    <tr>\n",
       "      <th>min</th>\n",
       "      <td>0.000000</td>\n",
       "      <td>44.000000</td>\n",
       "      <td>24.000000</td>\n",
       "      <td>7.000000</td>\n",
       "      <td>14.000000</td>\n",
       "      <td>18.200000</td>\n",
       "      <td>0.078000</td>\n",
       "      <td>21.000000</td>\n",
       "      <td>0.000000</td>\n",
       "    </tr>\n",
       "    <tr>\n",
       "      <th>25%</th>\n",
       "      <td>1.000000</td>\n",
       "      <td>99.750000</td>\n",
       "      <td>64.000000</td>\n",
       "      <td>20.536458</td>\n",
       "      <td>79.799479</td>\n",
       "      <td>27.500000</td>\n",
       "      <td>0.243750</td>\n",
       "      <td>24.000000</td>\n",
       "      <td>0.000000</td>\n",
       "    </tr>\n",
       "    <tr>\n",
       "      <th>50%</th>\n",
       "      <td>3.000000</td>\n",
       "      <td>117.000000</td>\n",
       "      <td>72.000000</td>\n",
       "      <td>23.000000</td>\n",
       "      <td>79.799479</td>\n",
       "      <td>32.000000</td>\n",
       "      <td>0.372500</td>\n",
       "      <td>29.000000</td>\n",
       "      <td>0.000000</td>\n",
       "    </tr>\n",
       "    <tr>\n",
       "      <th>75%</th>\n",
       "      <td>6.000000</td>\n",
       "      <td>140.250000</td>\n",
       "      <td>80.000000</td>\n",
       "      <td>32.000000</td>\n",
       "      <td>127.250000</td>\n",
       "      <td>36.600000</td>\n",
       "      <td>0.626250</td>\n",
       "      <td>41.000000</td>\n",
       "      <td>1.000000</td>\n",
       "    </tr>\n",
       "    <tr>\n",
       "      <th>max</th>\n",
       "      <td>17.000000</td>\n",
       "      <td>199.000000</td>\n",
       "      <td>122.000000</td>\n",
       "      <td>99.000000</td>\n",
       "      <td>846.000000</td>\n",
       "      <td>67.100000</td>\n",
       "      <td>2.420000</td>\n",
       "      <td>81.000000</td>\n",
       "      <td>1.000000</td>\n",
       "    </tr>\n",
       "  </tbody>\n",
       "</table>\n",
       "</div>"
      ],
      "text/plain": [
       "       Pregnancies     Glucose  BloodPressure  SkinThickness     Insulin   \n",
       "count   768.000000  768.000000     768.000000     768.000000  768.000000  \\\n",
       "mean      3.845052  121.681605      72.254807      26.606479  118.660163   \n",
       "std       3.369578   30.436016      12.115932       9.631241   93.080358   \n",
       "min       0.000000   44.000000      24.000000       7.000000   14.000000   \n",
       "25%       1.000000   99.750000      64.000000      20.536458   79.799479   \n",
       "50%       3.000000  117.000000      72.000000      23.000000   79.799479   \n",
       "75%       6.000000  140.250000      80.000000      32.000000  127.250000   \n",
       "max      17.000000  199.000000     122.000000      99.000000  846.000000   \n",
       "\n",
       "              BMI  DiabetesPedigreeFunction         Age     Outcome  \n",
       "count  768.000000                768.000000  768.000000  768.000000  \n",
       "mean    32.450805                  0.471876   33.240885    0.348958  \n",
       "std      6.875374                  0.331329   11.760232    0.476951  \n",
       "min     18.200000                  0.078000   21.000000    0.000000  \n",
       "25%     27.500000                  0.243750   24.000000    0.000000  \n",
       "50%     32.000000                  0.372500   29.000000    0.000000  \n",
       "75%     36.600000                  0.626250   41.000000    1.000000  \n",
       "max     67.100000                  2.420000   81.000000    1.000000  "
      ]
     },
     "execution_count": 17,
     "metadata": {},
     "output_type": "execute_result"
    }
   ],
   "source": [
    "diabetes_data.describe()"
   ]
  },
  {
   "cell_type": "markdown",
   "id": "545451b1",
   "metadata": {},
   "source": [
    "### 피처 스케일링 (feature scaling)\n",
    "- 서로 다른 변수의 값 범위를 일정한 수준으로 맞춤\n",
    "- StandardScaler 클래스의 fit_transform() 메소드 이용해서 \n",
    "- 피처 데이터 세트에 일괄적으로 스케일링 적용하고  \n",
    "- 0값을 평균으로 대체한 데이터 세트로 학습/예측 수행  \n",
    "- 개별 피처를 평균이 0이고 분산이 1인 값으로 변환"
   ]
  },
  {
   "cell_type": "markdown",
   "id": "c33264fd",
   "metadata": {},
   "source": [
    "### 피처 스케일링 후 다시 예측 프로세스 진행"
   ]
  },
  {
   "cell_type": "code",
   "execution_count": 18,
   "id": "5f54e820",
   "metadata": {},
   "outputs": [
    {
     "name": "stdout",
     "output_type": "stream",
     "text": [
      "< Confusion Matrix >\n",
      "[[90 10]\n",
      " [24 30]]\n",
      "Accuracy : 0.7792, Precision : 0.7500, Recall : 0.5556, F1 Score : 0.6383, AUC of ROC : 0.8511\n"
     ]
    }
   ],
   "source": [
    "from sklearn.preprocessing import StandardScaler\n",
    "std_scaler = StandardScaler()\n",
    "\n",
    "feature_data_scaled = std_scaler.fit_transform(feature_data)\n",
    "\n",
    "X_train, X_test, y_train, y_test = train_test_split(feature_data_scaled,\n",
    "                                                    label_data,\n",
    "                                                    test_size=0.2, \n",
    "                                                    random_state=11,\n",
    "                                                    stratify=label_data)\n",
    "\n",
    "lr_clf = LogisticRegression(max_iter=3000)\n",
    "lr_clf.fit(X_train, y_train)\n",
    "y_pred = lr_clf.predict(X_test)\n",
    "y_pred_proba = lr_clf.predict_proba(X_test)[:, 1]\n",
    "\n",
    "get_clf_eval(y_test, y_pred, y_pred_proba)"
   ]
  },
  {
   "cell_type": "markdown",
   "id": "881deb72",
   "metadata": {},
   "source": [
    "### 임계값을 변화시키면서 재현율 성능 측정\n",
    "- 임계값을 0.3에서 0.5까지 0.03씩 변화시키면서\n",
    "- 재현율과 다른 평가 지표의 값 확인"
   ]
  },
  {
   "cell_type": "code",
   "execution_count": 21,
   "id": "91dd6146",
   "metadata": {},
   "outputs": [],
   "source": [
    "from sklearn.preprocessing import Binarizer\n",
    "\n",
    "def get_eval_by_threshold(y_test, y_pred_proba, thresholds):\n",
    "    for custom_threshold in thresholds:\n",
    "        # binarizer = Binarizer(threshold=custom_threshold).fit(y_pred_proba)\n",
    "        # custom_predict = binarizer.transform(y_pred_proba)\n",
    "        custom_predict = Binarizer(threshold=custom_threshold).fit_transform(y_pred_proba)\n",
    "        print('\\n ** Threshold : ', custom_threshold, ' **')\n",
    "        get_clf_eval(y_test, custom_predict, y_pred_proba)"
   ]
  },
  {
   "cell_type": "code",
   "execution_count": 23,
   "id": "ee54d561",
   "metadata": {},
   "outputs": [
    {
     "name": "stdout",
     "output_type": "stream",
     "text": [
      "\n",
      " ** Threshold :  0.3  **\n",
      "< Confusion Matrix >\n",
      "[[74 26]\n",
      " [13 41]]\n",
      "Accuracy : 0.7468, Precision : 0.6119, Recall : 0.7593, F1 Score : 0.6777, AUC of ROC : 0.8511\n",
      "\n",
      " ** Threshold :  0.32  **\n",
      "< Confusion Matrix >\n",
      "[[76 24]\n",
      " [13 41]]\n",
      "Accuracy : 0.7597, Precision : 0.6308, Recall : 0.7593, F1 Score : 0.6891, AUC of ROC : 0.8511\n",
      "\n",
      " ** Threshold :  0.33999999999999997  **\n",
      "< Confusion Matrix >\n",
      "[[77 23]\n",
      " [14 40]]\n",
      "Accuracy : 0.7597, Precision : 0.6349, Recall : 0.7407, F1 Score : 0.6838, AUC of ROC : 0.8511\n",
      "\n",
      " ** Threshold :  0.36  **\n",
      "< Confusion Matrix >\n",
      "[[80 20]\n",
      " [14 40]]\n",
      "Accuracy : 0.7792, Precision : 0.6667, Recall : 0.7407, F1 Score : 0.7018, AUC of ROC : 0.8511\n",
      "\n",
      " ** Threshold :  0.38  **\n",
      "< Confusion Matrix >\n",
      "[[82 18]\n",
      " [16 38]]\n",
      "Accuracy : 0.7792, Precision : 0.6786, Recall : 0.7037, F1 Score : 0.6909, AUC of ROC : 0.8511\n",
      "\n",
      " ** Threshold :  0.4  **\n",
      "< Confusion Matrix >\n",
      "[[82 18]\n",
      " [16 38]]\n",
      "Accuracy : 0.7792, Precision : 0.6786, Recall : 0.7037, F1 Score : 0.6909, AUC of ROC : 0.8511\n",
      "\n",
      " ** Threshold :  0.42  **\n",
      "< Confusion Matrix >\n",
      "[[83 17]\n",
      " [18 36]]\n",
      "Accuracy : 0.7727, Precision : 0.6792, Recall : 0.6667, F1 Score : 0.6729, AUC of ROC : 0.8511\n",
      "\n",
      " ** Threshold :  0.44  **\n",
      "< Confusion Matrix >\n",
      "[[84 16]\n",
      " [19 35]]\n",
      "Accuracy : 0.7727, Precision : 0.6863, Recall : 0.6481, F1 Score : 0.6667, AUC of ROC : 0.8511\n",
      "\n",
      " ** Threshold :  0.45999999999999996  **\n",
      "< Confusion Matrix >\n",
      "[[87 13]\n",
      " [21 33]]\n",
      "Accuracy : 0.7792, Precision : 0.7174, Recall : 0.6111, F1 Score : 0.6600, AUC of ROC : 0.8511\n",
      "\n",
      " ** Threshold :  0.48  **\n",
      "< Confusion Matrix >\n",
      "[[89 11]\n",
      " [23 31]]\n",
      "Accuracy : 0.7792, Precision : 0.7381, Recall : 0.5741, F1 Score : 0.6458, AUC of ROC : 0.8511\n",
      "\n",
      " ** Threshold :  0.5  **\n",
      "< Confusion Matrix >\n",
      "[[90 10]\n",
      " [24 30]]\n",
      "Accuracy : 0.7792, Precision : 0.7500, Recall : 0.5556, F1 Score : 0.6383, AUC of ROC : 0.8511\n"
     ]
    }
   ],
   "source": [
    "thresholds = np.linspace(0.3, 0.5, 11)\n",
    "get_eval_by_threshold(y_test, y_pred_proba.reshape(-1, 1), thresholds)"
   ]
  },
  {
   "cell_type": "code",
   "execution_count": null,
   "id": "19fbc2dc",
   "metadata": {},
   "outputs": [],
   "source": []
  },
  {
   "cell_type": "code",
   "execution_count": null,
   "id": "2eface0c",
   "metadata": {},
   "outputs": [],
   "source": []
  },
  {
   "cell_type": "code",
   "execution_count": null,
   "id": "c6de1bd5",
   "metadata": {},
   "outputs": [],
   "source": []
  }
 ],
 "metadata": {
  "kernelspec": {
   "display_name": "Python 3 (ipykernel)",
   "language": "python",
   "name": "python3"
  },
  "language_info": {
   "codemirror_mode": {
    "name": "ipython",
    "version": 3
   },
   "file_extension": ".py",
   "mimetype": "text/x-python",
   "name": "python",
   "nbconvert_exporter": "python",
   "pygments_lexer": "ipython3",
   "version": "3.11.5"
  }
 },
 "nbformat": 4,
 "nbformat_minor": 5
}
