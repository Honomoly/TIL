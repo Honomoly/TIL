{
 "cells": [
  {
   "cell_type": "markdown",
   "id": "cb976ad7",
   "metadata": {},
   "source": [
    "##  고급 회기 실습 : 캐글 주택 가격 회기 분석"
   ]
  },
  {
   "cell_type": "markdown",
   "id": "39d2ee0b",
   "metadata": {},
   "source": [
    "### 사용 데이터 \n",
    "데이터 다운로드  \n",
    "https:www.kaggle.com  \n",
    "house 검색  \n",
    "train.csv 파일 다운로드 받아서  \n",
    "house_price.csv로 저장\n",
    "\n",
    "---\n",
    "house_price 데이터\n",
    "- 79개의 변수로 구성\n",
    "- 미국 아이오와 주의 에임즈(Ames) 지방의 주택 가격 정보 데이터"
   ]
  },
  {
   "cell_type": "markdown",
   "id": "dc6cc502",
   "metadata": {},
   "source": [
    "### 전체 회귀 분석 과정\n",
    "1. 데이터 전처리 : Null, target 값 로그 변환, 원-핫 인코딩  \n",
    "2. 선형 회귀 모델 : LinearRegression, Ridge, Lasso  \n",
    "   (1) 학습/예측/평가   \n",
    "   (2) 모델별 회귀 계수 시각화  \n",
    "   (3) 교차 검증 수  \n",
    "   (4) 하이퍼 파라미터 튜닝 후 재학습 / 예측 / 평가  \n",
    "3. 피처 데이터 변환  \n",
    "   (1) 왜곡도 / 피처 데이터 로그 변환 / 원-핫 인코딩  \n",
    "   (2) 모델 학습/예측/평가   \n",
    "   (3) 모델별 회귀 계수 시각화  \n",
    "   (4) 이상치 처리  \n",
    "   (5) 릿지 / 라쏘 모델 최적화 수행  \n",
    "4. 회귀 트리 모델  : XGBoost와 LightGBM   \n",
    "   (1) 학습/예측/평가   \n",
    "   (2) 피처 중요도 시각화  \n",
    "5. 회귀 모델의 예측 결과 혼합을 통한 최종 예측\n",
    "   -  릿지 모델(40%)과 라쏘 모델(60%) 혼합  \n",
    "6. 스태킹 앙상블 모델을 통한 회귀 예측  \n",
    "   - 스태킹 앙상블 모델  "
   ]
  },
  {
   "cell_type": "code",
   "execution_count": 1,
   "id": "2de30895",
   "metadata": {},
   "outputs": [],
   "source": [
    "from IPython.core.interactiveshell import InteractiveShell\n",
    "InteractiveShell.ast_node_interactivity=\"all\""
   ]
  },
  {
   "cell_type": "markdown",
   "id": "fddcc1e4",
   "metadata": {},
   "source": [
    "### 1.  데이터 전처리\n",
    "- Null 값 처리, target 값 로그 변환, 원-핫 인코딩   "
   ]
  },
  {
   "cell_type": "code",
   "execution_count": 2,
   "id": "e74ece12",
   "metadata": {},
   "outputs": [
    {
     "data": {
      "text/html": [
       "<div>\n",
       "<style scoped>\n",
       "    .dataframe tbody tr th:only-of-type {\n",
       "        vertical-align: middle;\n",
       "    }\n",
       "\n",
       "    .dataframe tbody tr th {\n",
       "        vertical-align: top;\n",
       "    }\n",
       "\n",
       "    .dataframe thead th {\n",
       "        text-align: right;\n",
       "    }\n",
       "</style>\n",
       "<table border=\"1\" class=\"dataframe\">\n",
       "  <thead>\n",
       "    <tr style=\"text-align: right;\">\n",
       "      <th></th>\n",
       "      <th>Id</th>\n",
       "      <th>MSSubClass</th>\n",
       "      <th>MSZoning</th>\n",
       "      <th>LotFrontage</th>\n",
       "      <th>LotArea</th>\n",
       "      <th>Street</th>\n",
       "      <th>Alley</th>\n",
       "      <th>LotShape</th>\n",
       "      <th>LandContour</th>\n",
       "      <th>Utilities</th>\n",
       "      <th>...</th>\n",
       "      <th>PoolArea</th>\n",
       "      <th>PoolQC</th>\n",
       "      <th>Fence</th>\n",
       "      <th>MiscFeature</th>\n",
       "      <th>MiscVal</th>\n",
       "      <th>MoSold</th>\n",
       "      <th>YrSold</th>\n",
       "      <th>SaleType</th>\n",
       "      <th>SaleCondition</th>\n",
       "      <th>SalePrice</th>\n",
       "    </tr>\n",
       "  </thead>\n",
       "  <tbody>\n",
       "    <tr>\n",
       "      <th>0</th>\n",
       "      <td>1</td>\n",
       "      <td>60</td>\n",
       "      <td>RL</td>\n",
       "      <td>65.0</td>\n",
       "      <td>8450</td>\n",
       "      <td>Pave</td>\n",
       "      <td>NaN</td>\n",
       "      <td>Reg</td>\n",
       "      <td>Lvl</td>\n",
       "      <td>AllPub</td>\n",
       "      <td>...</td>\n",
       "      <td>0</td>\n",
       "      <td>NaN</td>\n",
       "      <td>NaN</td>\n",
       "      <td>NaN</td>\n",
       "      <td>0</td>\n",
       "      <td>2</td>\n",
       "      <td>2008</td>\n",
       "      <td>WD</td>\n",
       "      <td>Normal</td>\n",
       "      <td>208500</td>\n",
       "    </tr>\n",
       "    <tr>\n",
       "      <th>1</th>\n",
       "      <td>2</td>\n",
       "      <td>20</td>\n",
       "      <td>RL</td>\n",
       "      <td>80.0</td>\n",
       "      <td>9600</td>\n",
       "      <td>Pave</td>\n",
       "      <td>NaN</td>\n",
       "      <td>Reg</td>\n",
       "      <td>Lvl</td>\n",
       "      <td>AllPub</td>\n",
       "      <td>...</td>\n",
       "      <td>0</td>\n",
       "      <td>NaN</td>\n",
       "      <td>NaN</td>\n",
       "      <td>NaN</td>\n",
       "      <td>0</td>\n",
       "      <td>5</td>\n",
       "      <td>2007</td>\n",
       "      <td>WD</td>\n",
       "      <td>Normal</td>\n",
       "      <td>181500</td>\n",
       "    </tr>\n",
       "    <tr>\n",
       "      <th>2</th>\n",
       "      <td>3</td>\n",
       "      <td>60</td>\n",
       "      <td>RL</td>\n",
       "      <td>68.0</td>\n",
       "      <td>11250</td>\n",
       "      <td>Pave</td>\n",
       "      <td>NaN</td>\n",
       "      <td>IR1</td>\n",
       "      <td>Lvl</td>\n",
       "      <td>AllPub</td>\n",
       "      <td>...</td>\n",
       "      <td>0</td>\n",
       "      <td>NaN</td>\n",
       "      <td>NaN</td>\n",
       "      <td>NaN</td>\n",
       "      <td>0</td>\n",
       "      <td>9</td>\n",
       "      <td>2008</td>\n",
       "      <td>WD</td>\n",
       "      <td>Normal</td>\n",
       "      <td>223500</td>\n",
       "    </tr>\n",
       "    <tr>\n",
       "      <th>3</th>\n",
       "      <td>4</td>\n",
       "      <td>70</td>\n",
       "      <td>RL</td>\n",
       "      <td>60.0</td>\n",
       "      <td>9550</td>\n",
       "      <td>Pave</td>\n",
       "      <td>NaN</td>\n",
       "      <td>IR1</td>\n",
       "      <td>Lvl</td>\n",
       "      <td>AllPub</td>\n",
       "      <td>...</td>\n",
       "      <td>0</td>\n",
       "      <td>NaN</td>\n",
       "      <td>NaN</td>\n",
       "      <td>NaN</td>\n",
       "      <td>0</td>\n",
       "      <td>2</td>\n",
       "      <td>2006</td>\n",
       "      <td>WD</td>\n",
       "      <td>Abnorml</td>\n",
       "      <td>140000</td>\n",
       "    </tr>\n",
       "    <tr>\n",
       "      <th>4</th>\n",
       "      <td>5</td>\n",
       "      <td>60</td>\n",
       "      <td>RL</td>\n",
       "      <td>84.0</td>\n",
       "      <td>14260</td>\n",
       "      <td>Pave</td>\n",
       "      <td>NaN</td>\n",
       "      <td>IR1</td>\n",
       "      <td>Lvl</td>\n",
       "      <td>AllPub</td>\n",
       "      <td>...</td>\n",
       "      <td>0</td>\n",
       "      <td>NaN</td>\n",
       "      <td>NaN</td>\n",
       "      <td>NaN</td>\n",
       "      <td>0</td>\n",
       "      <td>12</td>\n",
       "      <td>2008</td>\n",
       "      <td>WD</td>\n",
       "      <td>Normal</td>\n",
       "      <td>250000</td>\n",
       "    </tr>\n",
       "  </tbody>\n",
       "</table>\n",
       "<p>5 rows × 81 columns</p>\n",
       "</div>"
      ],
      "text/plain": [
       "   Id  MSSubClass MSZoning  LotFrontage  LotArea Street Alley LotShape   \n",
       "0   1          60       RL         65.0     8450   Pave   NaN      Reg  \\\n",
       "1   2          20       RL         80.0     9600   Pave   NaN      Reg   \n",
       "2   3          60       RL         68.0    11250   Pave   NaN      IR1   \n",
       "3   4          70       RL         60.0     9550   Pave   NaN      IR1   \n",
       "4   5          60       RL         84.0    14260   Pave   NaN      IR1   \n",
       "\n",
       "  LandContour Utilities  ... PoolArea PoolQC Fence MiscFeature MiscVal MoSold   \n",
       "0         Lvl    AllPub  ...        0    NaN   NaN         NaN       0      2  \\\n",
       "1         Lvl    AllPub  ...        0    NaN   NaN         NaN       0      5   \n",
       "2         Lvl    AllPub  ...        0    NaN   NaN         NaN       0      9   \n",
       "3         Lvl    AllPub  ...        0    NaN   NaN         NaN       0      2   \n",
       "4         Lvl    AllPub  ...        0    NaN   NaN         NaN       0     12   \n",
       "\n",
       "  YrSold  SaleType  SaleCondition  SalePrice  \n",
       "0   2008        WD         Normal     208500  \n",
       "1   2007        WD         Normal     181500  \n",
       "2   2008        WD         Normal     223500  \n",
       "3   2006        WD        Abnorml     140000  \n",
       "4   2008        WD         Normal     250000  \n",
       "\n",
       "[5 rows x 81 columns]"
      ]
     },
     "execution_count": 2,
     "metadata": {},
     "output_type": "execute_result"
    },
    {
     "data": {
      "text/html": [
       "<div>\n",
       "<style scoped>\n",
       "    .dataframe tbody tr th:only-of-type {\n",
       "        vertical-align: middle;\n",
       "    }\n",
       "\n",
       "    .dataframe tbody tr th {\n",
       "        vertical-align: top;\n",
       "    }\n",
       "\n",
       "    .dataframe thead th {\n",
       "        text-align: right;\n",
       "    }\n",
       "</style>\n",
       "<table border=\"1\" class=\"dataframe\">\n",
       "  <thead>\n",
       "    <tr style=\"text-align: right;\">\n",
       "      <th></th>\n",
       "      <th>Id</th>\n",
       "      <th>MSSubClass</th>\n",
       "      <th>MSZoning</th>\n",
       "      <th>LotFrontage</th>\n",
       "      <th>LotArea</th>\n",
       "      <th>Street</th>\n",
       "      <th>Alley</th>\n",
       "      <th>LotShape</th>\n",
       "      <th>LandContour</th>\n",
       "      <th>Utilities</th>\n",
       "      <th>...</th>\n",
       "      <th>PoolArea</th>\n",
       "      <th>PoolQC</th>\n",
       "      <th>Fence</th>\n",
       "      <th>MiscFeature</th>\n",
       "      <th>MiscVal</th>\n",
       "      <th>MoSold</th>\n",
       "      <th>YrSold</th>\n",
       "      <th>SaleType</th>\n",
       "      <th>SaleCondition</th>\n",
       "      <th>SalePrice</th>\n",
       "    </tr>\n",
       "  </thead>\n",
       "  <tbody>\n",
       "    <tr>\n",
       "      <th>1455</th>\n",
       "      <td>1456</td>\n",
       "      <td>60</td>\n",
       "      <td>RL</td>\n",
       "      <td>62.0</td>\n",
       "      <td>7917</td>\n",
       "      <td>Pave</td>\n",
       "      <td>NaN</td>\n",
       "      <td>Reg</td>\n",
       "      <td>Lvl</td>\n",
       "      <td>AllPub</td>\n",
       "      <td>...</td>\n",
       "      <td>0</td>\n",
       "      <td>NaN</td>\n",
       "      <td>NaN</td>\n",
       "      <td>NaN</td>\n",
       "      <td>0</td>\n",
       "      <td>8</td>\n",
       "      <td>2007</td>\n",
       "      <td>WD</td>\n",
       "      <td>Normal</td>\n",
       "      <td>175000</td>\n",
       "    </tr>\n",
       "    <tr>\n",
       "      <th>1456</th>\n",
       "      <td>1457</td>\n",
       "      <td>20</td>\n",
       "      <td>RL</td>\n",
       "      <td>85.0</td>\n",
       "      <td>13175</td>\n",
       "      <td>Pave</td>\n",
       "      <td>NaN</td>\n",
       "      <td>Reg</td>\n",
       "      <td>Lvl</td>\n",
       "      <td>AllPub</td>\n",
       "      <td>...</td>\n",
       "      <td>0</td>\n",
       "      <td>NaN</td>\n",
       "      <td>MnPrv</td>\n",
       "      <td>NaN</td>\n",
       "      <td>0</td>\n",
       "      <td>2</td>\n",
       "      <td>2010</td>\n",
       "      <td>WD</td>\n",
       "      <td>Normal</td>\n",
       "      <td>210000</td>\n",
       "    </tr>\n",
       "    <tr>\n",
       "      <th>1457</th>\n",
       "      <td>1458</td>\n",
       "      <td>70</td>\n",
       "      <td>RL</td>\n",
       "      <td>66.0</td>\n",
       "      <td>9042</td>\n",
       "      <td>Pave</td>\n",
       "      <td>NaN</td>\n",
       "      <td>Reg</td>\n",
       "      <td>Lvl</td>\n",
       "      <td>AllPub</td>\n",
       "      <td>...</td>\n",
       "      <td>0</td>\n",
       "      <td>NaN</td>\n",
       "      <td>GdPrv</td>\n",
       "      <td>Shed</td>\n",
       "      <td>2500</td>\n",
       "      <td>5</td>\n",
       "      <td>2010</td>\n",
       "      <td>WD</td>\n",
       "      <td>Normal</td>\n",
       "      <td>266500</td>\n",
       "    </tr>\n",
       "    <tr>\n",
       "      <th>1458</th>\n",
       "      <td>1459</td>\n",
       "      <td>20</td>\n",
       "      <td>RL</td>\n",
       "      <td>68.0</td>\n",
       "      <td>9717</td>\n",
       "      <td>Pave</td>\n",
       "      <td>NaN</td>\n",
       "      <td>Reg</td>\n",
       "      <td>Lvl</td>\n",
       "      <td>AllPub</td>\n",
       "      <td>...</td>\n",
       "      <td>0</td>\n",
       "      <td>NaN</td>\n",
       "      <td>NaN</td>\n",
       "      <td>NaN</td>\n",
       "      <td>0</td>\n",
       "      <td>4</td>\n",
       "      <td>2010</td>\n",
       "      <td>WD</td>\n",
       "      <td>Normal</td>\n",
       "      <td>142125</td>\n",
       "    </tr>\n",
       "    <tr>\n",
       "      <th>1459</th>\n",
       "      <td>1460</td>\n",
       "      <td>20</td>\n",
       "      <td>RL</td>\n",
       "      <td>75.0</td>\n",
       "      <td>9937</td>\n",
       "      <td>Pave</td>\n",
       "      <td>NaN</td>\n",
       "      <td>Reg</td>\n",
       "      <td>Lvl</td>\n",
       "      <td>AllPub</td>\n",
       "      <td>...</td>\n",
       "      <td>0</td>\n",
       "      <td>NaN</td>\n",
       "      <td>NaN</td>\n",
       "      <td>NaN</td>\n",
       "      <td>0</td>\n",
       "      <td>6</td>\n",
       "      <td>2008</td>\n",
       "      <td>WD</td>\n",
       "      <td>Normal</td>\n",
       "      <td>147500</td>\n",
       "    </tr>\n",
       "  </tbody>\n",
       "</table>\n",
       "<p>5 rows × 81 columns</p>\n",
       "</div>"
      ],
      "text/plain": [
       "        Id  MSSubClass MSZoning  LotFrontage  LotArea Street Alley LotShape   \n",
       "1455  1456          60       RL         62.0     7917   Pave   NaN      Reg  \\\n",
       "1456  1457          20       RL         85.0    13175   Pave   NaN      Reg   \n",
       "1457  1458          70       RL         66.0     9042   Pave   NaN      Reg   \n",
       "1458  1459          20       RL         68.0     9717   Pave   NaN      Reg   \n",
       "1459  1460          20       RL         75.0     9937   Pave   NaN      Reg   \n",
       "\n",
       "     LandContour Utilities  ... PoolArea PoolQC  Fence MiscFeature MiscVal   \n",
       "1455         Lvl    AllPub  ...        0    NaN    NaN         NaN       0  \\\n",
       "1456         Lvl    AllPub  ...        0    NaN  MnPrv         NaN       0   \n",
       "1457         Lvl    AllPub  ...        0    NaN  GdPrv        Shed    2500   \n",
       "1458         Lvl    AllPub  ...        0    NaN    NaN         NaN       0   \n",
       "1459         Lvl    AllPub  ...        0    NaN    NaN         NaN       0   \n",
       "\n",
       "     MoSold YrSold  SaleType  SaleCondition  SalePrice  \n",
       "1455      8   2007        WD         Normal     175000  \n",
       "1456      2   2010        WD         Normal     210000  \n",
       "1457      5   2010        WD         Normal     266500  \n",
       "1458      4   2010        WD         Normal     142125  \n",
       "1459      6   2008        WD         Normal     147500  \n",
       "\n",
       "[5 rows x 81 columns]"
      ]
     },
     "execution_count": 2,
     "metadata": {},
     "output_type": "execute_result"
    }
   ],
   "source": [
    "import pandas as pd\n",
    "import numpy as np\n",
    "import seaborn as sns\n",
    "import matplotlib.pyplot as plt\n",
    "%matplotlib inline\n",
    "import warnings\n",
    "warnings.filterwarnings('ignore')\n",
    "\n",
    "house_df_org = pd.read_csv('../data/house_price.csv')\n",
    "# 가공 작업 중에 원본 데이터 필요\n",
    "# 원본 데이터 유지하기 위해, 복사본으로 가공 작업 진행 \n",
    "house_df = house_df_org.copy()\n",
    "house_df.head()\n",
    "house_df.tail()\n",
    "\n",
    "# Target 값 : SalePrice (주택 가격) (마지막 칼럼)"
   ]
  },
  {
   "cell_type": "markdown",
   "id": "1baab02e",
   "metadata": {},
   "source": [
    "주요 피처들\n",
    "\n",
    "- 1stFlrSF: First Floor square feet  \n",
    "- 2ndFlrSF: Second floor square feet  \n",
    "- GrLivArea: Above grade (ground) living area square feet      \n",
    "- Bedroom: Bedrooms above grade (does NOT include basement bedrooms)  \n",
    "- LotArea: Lot size in square feet      \n",
    "- GarageArea: Size of garage in square feet      \n",
    "- OverallQual: Rates the overall material and finish of the house  \n",
    "       10\tVery Excellent  \n",
    "       9\tExcellent  \n",
    "       8\tVery Good  \n",
    "       7\tGood  \n",
    "       6\tAbove Average  \n",
    "       5\tAverage  \n",
    "       4\tBelow Average  \n",
    "       3\tFair  \n",
    "       2\tPoor  \n",
    "       1\tVery Poor\t  \n",
    "- OverallCond: Rates the overall condition of the house  \n",
    "       10\tVery Excellent  \n",
    "       9\tExcellent  \n",
    "       8\tVery Good  \n",
    "       7\tGood  \n",
    "       6\tAbove Average\t  \n",
    "       5\tAverage  \n",
    "       4\tBelow Average\t  \n",
    "       3\tFair  \n",
    "       2\tPoor  \n",
    "       1\tVery Poor  \n",
    "- YearBuilt: Original construction date  \n",
    "- Neighborhood: Physical locations within Ames city limits  \n",
    "   Blmngtn  Bloomington Heights  \n",
    "   Blueste  Bluestem  \n",
    "   BrDale   Briardale  \n",
    "   .....\n",
    "\n",
    "- RoofMatl: Roof material  \n",
    "\tClyTile\tClay or Tile  \n",
    "\tCompShg\tStandard (Composite) Shingle  \n",
    "\tMembran\tMembrane  \n",
    "\tMetal\tMetal  \n",
    "\t.....\n",
    "\n",
    "- RoofStyle: Type of roof  \n",
    "\tFlat\tFlat  \n",
    "\tGable\tGable  \n",
    "\tGambrel\tGabrel (Barn)  \n",
    "\t....."
   ]
  },
  {
   "cell_type": "markdown",
   "id": "6753d822",
   "metadata": {},
   "source": [
    "#### 데이터 확인"
   ]
  },
  {
   "cell_type": "code",
   "execution_count": 3,
   "id": "38c5eb1a",
   "metadata": {},
   "outputs": [
    {
     "name": "stdout",
     "output_type": "stream",
     "text": [
      "<class 'pandas.core.frame.DataFrame'>\n",
      "RangeIndex: 1460 entries, 0 to 1459\n",
      "Data columns (total 81 columns):\n",
      " #   Column         Non-Null Count  Dtype  \n",
      "---  ------         --------------  -----  \n",
      " 0   Id             1460 non-null   int64  \n",
      " 1   MSSubClass     1460 non-null   int64  \n",
      " 2   MSZoning       1460 non-null   object \n",
      " 3   LotFrontage    1201 non-null   float64\n",
      " 4   LotArea        1460 non-null   int64  \n",
      " 5   Street         1460 non-null   object \n",
      " 6   Alley          91 non-null     object \n",
      " 7   LotShape       1460 non-null   object \n",
      " 8   LandContour    1460 non-null   object \n",
      " 9   Utilities      1460 non-null   object \n",
      " 10  LotConfig      1460 non-null   object \n",
      " 11  LandSlope      1460 non-null   object \n",
      " 12  Neighborhood   1460 non-null   object \n",
      " 13  Condition1     1460 non-null   object \n",
      " 14  Condition2     1460 non-null   object \n",
      " 15  BldgType       1460 non-null   object \n",
      " 16  HouseStyle     1460 non-null   object \n",
      " 17  OverallQual    1460 non-null   int64  \n",
      " 18  OverallCond    1460 non-null   int64  \n",
      " 19  YearBuilt      1460 non-null   int64  \n",
      " 20  YearRemodAdd   1460 non-null   int64  \n",
      " 21  RoofStyle      1460 non-null   object \n",
      " 22  RoofMatl       1460 non-null   object \n",
      " 23  Exterior1st    1460 non-null   object \n",
      " 24  Exterior2nd    1460 non-null   object \n",
      " 25  MasVnrType     588 non-null    object \n",
      " 26  MasVnrArea     1452 non-null   float64\n",
      " 27  ExterQual      1460 non-null   object \n",
      " 28  ExterCond      1460 non-null   object \n",
      " 29  Foundation     1460 non-null   object \n",
      " 30  BsmtQual       1423 non-null   object \n",
      " 31  BsmtCond       1423 non-null   object \n",
      " 32  BsmtExposure   1422 non-null   object \n",
      " 33  BsmtFinType1   1423 non-null   object \n",
      " 34  BsmtFinSF1     1460 non-null   int64  \n",
      " 35  BsmtFinType2   1422 non-null   object \n",
      " 36  BsmtFinSF2     1460 non-null   int64  \n",
      " 37  BsmtUnfSF      1460 non-null   int64  \n",
      " 38  TotalBsmtSF    1460 non-null   int64  \n",
      " 39  Heating        1460 non-null   object \n",
      " 40  HeatingQC      1460 non-null   object \n",
      " 41  CentralAir     1460 non-null   object \n",
      " 42  Electrical     1459 non-null   object \n",
      " 43  1stFlrSF       1460 non-null   int64  \n",
      " 44  2ndFlrSF       1460 non-null   int64  \n",
      " 45  LowQualFinSF   1460 non-null   int64  \n",
      " 46  GrLivArea      1460 non-null   int64  \n",
      " 47  BsmtFullBath   1460 non-null   int64  \n",
      " 48  BsmtHalfBath   1460 non-null   int64  \n",
      " 49  FullBath       1460 non-null   int64  \n",
      " 50  HalfBath       1460 non-null   int64  \n",
      " 51  BedroomAbvGr   1460 non-null   int64  \n",
      " 52  KitchenAbvGr   1460 non-null   int64  \n",
      " 53  KitchenQual    1460 non-null   object \n",
      " 54  TotRmsAbvGrd   1460 non-null   int64  \n",
      " 55  Functional     1460 non-null   object \n",
      " 56  Fireplaces     1460 non-null   int64  \n",
      " 57  FireplaceQu    770 non-null    object \n",
      " 58  GarageType     1379 non-null   object \n",
      " 59  GarageYrBlt    1379 non-null   float64\n",
      " 60  GarageFinish   1379 non-null   object \n",
      " 61  GarageCars     1460 non-null   int64  \n",
      " 62  GarageArea     1460 non-null   int64  \n",
      " 63  GarageQual     1379 non-null   object \n",
      " 64  GarageCond     1379 non-null   object \n",
      " 65  PavedDrive     1460 non-null   object \n",
      " 66  WoodDeckSF     1460 non-null   int64  \n",
      " 67  OpenPorchSF    1460 non-null   int64  \n",
      " 68  EnclosedPorch  1460 non-null   int64  \n",
      " 69  3SsnPorch      1460 non-null   int64  \n",
      " 70  ScreenPorch    1460 non-null   int64  \n",
      " 71  PoolArea       1460 non-null   int64  \n",
      " 72  PoolQC         7 non-null      object \n",
      " 73  Fence          281 non-null    object \n",
      " 74  MiscFeature    54 non-null     object \n",
      " 75  MiscVal        1460 non-null   int64  \n",
      " 76  MoSold         1460 non-null   int64  \n",
      " 77  YrSold         1460 non-null   int64  \n",
      " 78  SaleType       1460 non-null   object \n",
      " 79  SaleCondition  1460 non-null   object \n",
      " 80  SalePrice      1460 non-null   int64  \n",
      "dtypes: float64(3), int64(35), object(43)\n",
      "memory usage: 924.0+ KB\n"
     ]
    }
   ],
   "source": [
    "house_df.info()"
   ]
  },
  {
   "cell_type": "code",
   "execution_count": 4,
   "id": "e5dcde88",
   "metadata": {},
   "outputs": [],
   "source": [
    "#  데이터 타입 확인\n"
   ]
  },
  {
   "cell_type": "code",
   "execution_count": 5,
   "id": "f06cd1ad",
   "metadata": {},
   "outputs": [
    {
     "data": {
      "text/plain": [
       "LotFrontage      259\n",
       "Alley           1369\n",
       "MasVnrType       872\n",
       "MasVnrArea         8\n",
       "BsmtQual          37\n",
       "BsmtCond          37\n",
       "BsmtExposure      38\n",
       "BsmtFinType1      37\n",
       "BsmtFinType2      38\n",
       "Electrical         1\n",
       "FireplaceQu      690\n",
       "GarageType        81\n",
       "GarageYrBlt       81\n",
       "GarageFinish      81\n",
       "GarageQual        81\n",
       "GarageCond        81\n",
       "PoolQC          1453\n",
       "Fence           1179\n",
       "MiscFeature     1406\n",
       "dtype: int64"
      ]
     },
     "execution_count": 5,
     "metadata": {},
     "output_type": "execute_result"
    }
   ],
   "source": [
    "# Null 값 개수 및 피처 확인 \n",
    "null_count = house_df.isnull().sum()\n",
    "null_count[null_count>0]"
   ]
  },
  {
   "cell_type": "markdown",
   "id": "c9793c1e",
   "metadata": {},
   "source": [
    "데이터 확인 결과\n",
    "- 1460개의 레코드(행, 건), 81개의 피처로 구성\n",
    "- 피처 타입 : 문자형(object), 숫자형(정수(int), 실수(float))\n",
    "- Target을 제외한 80개의 피처 중 43개 문자형, 나머지 숫자형\n",
    "- 데이터 양에 비해 Null 값이 많은 피처 존재\n",
    "- 1,000개가 넘는 데이터가 Null 인 피처도 존재\n",
    "- Null이 너무 많은 피처는 drop할 것임"
   ]
  },
  {
   "cell_type": "markdown",
   "id": "3cc99688",
   "metadata": {},
   "source": [
    "### 회귀 모델을 적용하기 전에 타깃 값의 분포도가 정규 분포인지 확인"
   ]
  },
  {
   "cell_type": "code",
   "execution_count": 6,
   "id": "d9b0fe67",
   "metadata": {},
   "outputs": [
    {
     "data": {
      "text/plain": [
       "<Axes: xlabel='SalePrice', ylabel='Count'>"
      ]
     },
     "execution_count": 6,
     "metadata": {},
     "output_type": "execute_result"
    },
    {
     "data": {
      "image/png": "[encoded data removed]",
      "text/plain": [
       "<Figure size 640x480 with 1 Axes>"
      ]
     },
     "metadata": {},
     "output_type": "display_data"
    }
   ],
   "source": [
    "# 타깃값 SalePrice의 분포도 확인\n",
    "sns.histplot(house_df['SalePrice'])\n",
    "plt.show()"
   ]
  },
  {
   "cell_type": "markdown",
   "id": "fe0939ab",
   "metadata": {},
   "source": [
    "\n",
    "### 로그 변환 및 환원\n",
    "- 정규 분포가 아닌 결과값을 정규 분포 형태로 변환  \n",
    "- 왜곡된 값을 정규 분포 형태로 바꾸는 가장 일반적인 방법이 로그 변환    \n",
    "- log1p() 이용해 로그 변환한 결과값을 기반으로 학습한 후  \n",
    "- 예측 시 다시 결과값을 expm1()으로 환원해서 사용  \n",
    " "
   ]
  },
  {
   "cell_type": "code",
   "execution_count": 7,
   "id": "89349c1d",
   "metadata": {},
   "outputs": [
    {
     "data": {
      "text/plain": [
       "<Axes: xlabel='SalePrice', ylabel='Count'>"
      ]
     },
     "execution_count": 7,
     "metadata": {},
     "output_type": "execute_result"
    },
    {
     "data": {
      "image/png": "[encoded data removed]",
      "text/plain": [
       "<Figure size 640x480 with 1 Axes>"
      ]
     },
     "metadata": {},
     "output_type": "display_data"
    }
   ],
   "source": [
    "# target값을 로그 변환 후 SalePrice 값 분포도 확인\n",
    "house_df['SalePrice'] = np.log1p(house_df['SalePrice'])\n",
    "sns.histplot(house_df['SalePrice'])\n",
    "plt.show()"
   ]
  },
  {
   "cell_type": "markdown",
   "id": "870172a7",
   "metadata": {},
   "source": [
    "### 데이터 확인 후 : 로그 변환 및 Null 처리\n",
    "- 숫자형 피처에 대해 \n",
    "    - Null이 너무 많은 피처는 삭제  \n",
    "    - 기타 숫자형 Null값은 평균값으로 대체  "
   ]
  },
  {
   "cell_type": "code",
   "execution_count": 8,
   "id": "203d65a0",
   "metadata": {},
   "outputs": [],
   "source": [
    "# SalePrice 로그 변환"
   ]
  },
  {
   "cell_type": "code",
   "execution_count": 9,
   "id": "805316ff",
   "metadata": {},
   "outputs": [
    {
     "data": {
      "text/plain": [
       "(1460, 74)"
      ]
     },
     "execution_count": 9,
     "metadata": {},
     "output_type": "execute_result"
    }
   ],
   "source": [
    "# Null 이 너무 많은 피처와 불필요한 피처 삭제 \n",
    "# ['Id', 'PoolQC', 'MiscFeature', 'Alley', 'Fence', 'FireplaceQu', 'MasVnrType']\n",
    "need_to_drop = ['Id', 'PoolQC', 'MiscFeature', 'Alley', 'Fence', 'FireplaceQu', 'MasVnrType']\n",
    "house_df.drop(need_to_drop, axis=1, inplace=True)\n",
    "house_df.shape # column이 7개 줄어듦"
   ]
  },
  {
   "cell_type": "code",
   "execution_count": 10,
   "id": "7aea2535",
   "metadata": {},
   "outputs": [],
   "source": [
    "# 삭제하지 않은 숫자형 Null 피처들은 평균값으로 대체\n",
    "house_df.fillna(house_df.mean(numeric_only=True), inplace=True)\n",
    "# mean() : 자동으로 숫자형 칼럼만 추출해서 칼럼별 평균값을 시리즈 객체로 반환\n",
    "# 버전 변경 후 자동으로 안 됨 : numeric_only 설정 필요"
   ]
  },
  {
   "cell_type": "code",
   "execution_count": 11,
   "id": "8074d591",
   "metadata": {},
   "outputs": [
    {
     "data": {
      "text/plain": [
       "BsmtQual        object\n",
       "BsmtCond        object\n",
       "BsmtExposure    object\n",
       "BsmtFinType1    object\n",
       "BsmtFinType2    object\n",
       "Electrical      object\n",
       "GarageType      object\n",
       "GarageFinish    object\n",
       "GarageQual      object\n",
       "GarageCond      object\n",
       "dtype: object"
      ]
     },
     "execution_count": 11,
     "metadata": {},
     "output_type": "execute_result"
    }
   ],
   "source": [
    "# Null 처리 후 확인 : Null 값이 있는 피처명과 타입 추출\n",
    "null_count = house_df.isnull().sum()\n",
    "col_with_null = null_count[null_count>0].index\n",
    "house_df[col_with_null].dtypes"
   ]
  },
  {
   "cell_type": "markdown",
   "id": "4080eec5",
   "metadata": {},
   "source": [
    "### 카테고리 값의 문자열 변환\n",
    "- ML 알고리즘에서 문자열 값을 입력 값으로 허용하지 않음\n",
    "- 인코딩 처리하여 숫자형으로 변환\n",
    "\n",
    "\n",
    "### 머신러닝의 대표적인 인코딩 방식\n",
    "- 레이블 인코딩 (Label Encoding)\n",
    "- 원-핫 인코딩 (One-Hot-Encoding)\n"
   ]
  },
  {
   "cell_type": "code",
   "execution_count": 12,
   "id": "bc431b7b",
   "metadata": {},
   "outputs": [
    {
     "data": {
      "text/plain": [
       "(1460, 267)"
      ]
     },
     "execution_count": 12,
     "metadata": {},
     "output_type": "execute_result"
    }
   ],
   "source": [
    "# 원-핫 인코딩 수행 \n",
    "house_df_ohe = pd.get_dummies(house_df, dtype=int)\n",
    "house_df_ohe.shape"
   ]
  },
  {
   "cell_type": "code",
   "execution_count": 13,
   "id": "1f84b7b6",
   "metadata": {},
   "outputs": [
    {
     "data": {
      "text/plain": [
       "Series([], dtype: object)"
      ]
     },
     "execution_count": 13,
     "metadata": {},
     "output_type": "execute_result"
    }
   ],
   "source": [
    "# Null 값을 가진 피처 확인\n",
    "null_count = house_df_ohe.isnull().sum()\n",
    "col_with_null = null_count[null_count>0].index\n",
    "house_df_ohe[col_with_null].dtypes\n",
    "# 더 이상 없다"
   ]
  },
  {
   "cell_type": "markdown",
   "id": "cb05ca80",
   "metadata": {},
   "source": [
    "### 전처리 작업 완료 \n",
    "- 종속 변수는 로그 변환\n",
    "- 결측값 1000 건 이상 피처는 삭제\n",
    "- 나머지 숫자형 피처의 결측값은 평균값으로 대체\n",
    "- 문자형 피처는 원-핫 인코딩 진행 "
   ]
  },
  {
   "cell_type": "markdown",
   "id": "a45b8076",
   "metadata": {},
   "source": [
    "### 2. 선형 회귀 모델 : LinearRegression, Ridge, Lasso  "
   ]
  },
  {
   "cell_type": "markdown",
   "id": "8d5e6e45",
   "metadata": {},
   "source": [
    "### (1) 학습/예측/평가"
   ]
  },
  {
   "cell_type": "code",
   "execution_count": 14,
   "id": "0c187f6c",
   "metadata": {},
   "outputs": [],
   "source": [
    "X_feature = house_df_ohe.drop('SalePrice', axis=1)\n",
    "y_target = house_df_ohe['SalePrice']"
   ]
  },
  {
   "cell_type": "code",
   "execution_count": 15,
   "id": "4ebf9e53",
   "metadata": {},
   "outputs": [],
   "source": [
    "from sklearn.model_selection import train_test_split\n",
    "\n",
    "def data_sep(X_feature, y_target):\n",
    "    return [X_feature, y_target] + train_test_split(X_feature, y_target, test_size=0.3, random_state=156)\n",
    "\n",
    "datas = data_sep(X_feature, y_target)"
   ]
  },
  {
   "cell_type": "markdown",
   "id": "0d1236cd",
   "metadata": {},
   "source": [
    "### 모델 생성/학습/예측/평가 "
   ]
  },
  {
   "cell_type": "code",
   "execution_count": 16,
   "id": "ad73e8f2",
   "metadata": {},
   "outputs": [
    {
     "name": "stdout",
     "output_type": "stream",
     "text": [
      "<Linear Regression>\n",
      "MSE : 0.016658\n",
      "RMSE : 0.129064\n",
      "R2 : 0.894153\n",
      "---------------------\n",
      "<Ridge>\n",
      "MSE : 0.015482\n",
      "RMSE : 0.124425\n",
      "R2 : 0.901625\n",
      "---------------------\n",
      "<Lasso>\n",
      "MSE : 0.029454\n",
      "RMSE : 0.171621\n",
      "R2 : 0.812842\n"
     ]
    }
   ],
   "source": [
    "from sklearn.linear_model import LinearRegression, Ridge, Lasso\n",
    "from evaluator import get_eval\n",
    "\n",
    "def models_eval(datas):\n",
    "    *_, X_train , X_test , y_train , y_test = datas\n",
    "    lr_reg = LinearRegression()\n",
    "    lr_reg.fit(X_train, y_train)\n",
    "    ridge = Ridge()\n",
    "    ridge.fit(X_train, y_train)\n",
    "    lasso = Lasso()\n",
    "    lasso.fit(X_train, y_train)\n",
    "\n",
    "    print('<Linear Regression>')\n",
    "    get_eval(lr_reg, X_test, y_test)\n",
    "    print('---------------------')\n",
    "    print('<Ridge>')\n",
    "    get_eval(ridge, X_test, y_test)\n",
    "    print('---------------------')\n",
    "    print('<Lasso>')\n",
    "    get_eval(lasso, X_test, y_test)\n",
    "\n",
    "models_eval(datas)"
   ]
  },
  {
   "cell_type": "markdown",
   "id": "8a2d8c6c",
   "metadata": {},
   "source": [
    "### (2) 모델별 회귀 계수 시각화"
   ]
  },
  {
   "cell_type": "code",
   "execution_count": null,
   "id": "cd86b5d6",
   "metadata": {},
   "outputs": [],
   "source": []
  },
  {
   "cell_type": "code",
   "execution_count": 17,
   "id": "0a8f60e4",
   "metadata": {},
   "outputs": [
    {
     "data": {
      "image/png": "[encoded data removed]",
      "text/plain": [
       "<Figure size 1600x600 with 3 Axes>"
      ]
     },
     "metadata": {},
     "output_type": "display_data"
    }
   ],
   "source": [
    "def models_visualize(datas):\n",
    "    X_feature, y_target, *_ = datas\n",
    "    models = [LinearRegression(), Ridge(), Lasso()]\n",
    "    model_names = ['LR', 'Ridge', 'Lasso']\n",
    "\n",
    "    fig, axs = plt.subplots(figsize=(16, 6), nrows=1, ncols=3)\n",
    "\n",
    "    for pos, model in enumerate(models):\n",
    "        model.fit(X_feature, y_target)\n",
    "        coef = pd.Series(data=model.coef_, index=X_feature.columns)\n",
    "        colname = 'Model : ' + model_names[pos]\n",
    "        coef_h = coef.sort_values(ascending=False).head(10)\n",
    "        coef_t = coef.sort_values(ascending=False).tail(10)\n",
    "        coef = pd.concat([coef_h, coef_t])\n",
    "        axs[pos].set_title(colname)\n",
    "        sns.barplot(x=coef.values, y=coef.index, ax=axs[pos])\n",
    "    plt.tight_layout()\n",
    "    plt.show()\n",
    "\n",
    "models_visualize(datas)"
   ]
  },
  {
   "cell_type": "markdown",
   "id": "699d9b1e",
   "metadata": {},
   "source": [
    "### (3) 교차 검증 수행"
   ]
  },
  {
   "cell_type": "code",
   "execution_count": 18,
   "id": "0078f41a",
   "metadata": {},
   "outputs": [
    {
     "name": "stdout",
     "output_type": "stream",
     "text": [
      "Model :  LR\n",
      "MSE :  [0.0182 0.027  0.0277 0.0123 0.039 ]\n",
      "RMSE :  [0.1349 0.1643 0.1664 0.1108 0.1976]\n",
      "Average of RMSE :  0.1548\n",
      "----------------------------------\n",
      "Model :  Ridge\n",
      "MSE :  [0.0138 0.0238 0.0201 0.0135 0.0356]\n",
      "RMSE :  [0.1173 0.1541 0.1418 0.1164 0.1886]\n",
      "Average of RMSE :  0.1437\n",
      "----------------------------------\n",
      "Model :  Lasso\n",
      "MSE :  [0.0258 0.0418 0.0312 0.0329 0.0703]\n",
      "RMSE :  [0.1608 0.2044 0.1768 0.1813 0.2651]\n",
      "Average of RMSE :  0.1977\n",
      "----------------------------------\n"
     ]
    }
   ],
   "source": [
    "from sklearn.model_selection import cross_val_score\n",
    "\n",
    "def models_cross_val(datas):\n",
    "    X_feature, y_target, *_ = datas\n",
    "    models = [LinearRegression(), Ridge(), Lasso()]\n",
    "    model_names = ['LR', 'Ridge', 'Lasso']\n",
    "    for idx, model in enumerate(models):\n",
    "        neg_mse = cross_val_score(model, X_feature, y_target, scoring='neg_mean_squared_error', cv=5)\n",
    "        mse = -1*neg_mse\n",
    "        print('Model : ', model_names[idx])\n",
    "        print('MSE : ', mse.round(4))\n",
    "        print('RMSE : ', np.sqrt(mse).round(4))\n",
    "        print('Average of RMSE : ', np.mean(np.sqrt(mse)).round(4))\n",
    "        print('----------------------------------')\n",
    "\n",
    "models_cross_val(datas)"
   ]
  },
  {
   "cell_type": "code",
   "execution_count": null,
   "id": "6ef2806b",
   "metadata": {},
   "outputs": [],
   "source": []
  },
  {
   "cell_type": "markdown",
   "id": "a35b4afa",
   "metadata": {},
   "source": [
    "### (4) 하이퍼 파라미터 튜닝 후 재학습 / 예측 / 평가 "
   ]
  },
  {
   "cell_type": "code",
   "execution_count": 19,
   "id": "8da5d659",
   "metadata": {},
   "outputs": [],
   "source": [
    "ridge_params = [0.05, 0.1, 1, 5, 8, 10, 12, 15, 20]\n",
    "lasso_params = [0.001, 0.005, 0.008, 0.05, 0.03, 0.1, 0.5, 1, 5, 10]\n",
    "\n",
    "def param_tuning(lin_reg, datas, params):\n",
    "    *_, X_train, X_test, y_train, y_test = datas\n",
    "    for alpha in params:\n",
    "        print(\"\\n * Alpha : \", alpha)\n",
    "        model = lin_reg(alpha=alpha)\n",
    "        model.fit(X_train, y_train)\n",
    "        get_eval(model, X_test, y_test)\n",
    "        print('-----------------------')"
   ]
  },
  {
   "cell_type": "code",
   "execution_count": 20,
   "id": "d693a90e",
   "metadata": {},
   "outputs": [
    {
     "name": "stdout",
     "output_type": "stream",
     "text": [
      "\n",
      " * Alpha :  0.05\n",
      "MSE : 0.016198\n",
      "RMSE : 0.127270\n",
      "R2 : 0.897075\n",
      "-----------------------\n",
      "\n",
      " * Alpha :  0.1\n",
      "MSE : 0.015952\n",
      "RMSE : 0.126302\n",
      "R2 : 0.898635\n",
      "-----------------------\n",
      "\n",
      " * Alpha :  1\n",
      "MSE : 0.015482\n",
      "RMSE : 0.124425\n",
      "R2 : 0.901625\n",
      "-----------------------\n",
      "\n",
      " * Alpha :  5\n",
      "MSE : 0.015074\n",
      "RMSE : 0.122778\n",
      "R2 : 0.904213\n",
      "-----------------------\n",
      "\n",
      " * Alpha :  8\n",
      "MSE : 0.014891\n",
      "RMSE : 0.122029\n",
      "R2 : 0.905377\n",
      "-----------------------\n",
      "\n",
      " * Alpha :  10\n",
      "MSE : 0.014814\n",
      "RMSE : 0.121713\n",
      "R2 : 0.905867\n",
      "-----------------------\n",
      "\n",
      " * Alpha :  12\n",
      "MSE : 0.014760\n",
      "RMSE : 0.121493\n",
      "R2 : 0.906207\n",
      "-----------------------\n",
      "\n",
      " * Alpha :  15\n",
      "MSE : 0.014710\n",
      "RMSE : 0.121285\n",
      "R2 : 0.906528\n",
      "-----------------------\n",
      "\n",
      " * Alpha :  20\n",
      "MSE : 0.014676\n",
      "RMSE : 0.121144\n",
      "R2 : 0.906745\n",
      "-----------------------\n"
     ]
    }
   ],
   "source": [
    "param_tuning(Ridge, datas, ridge_params)"
   ]
  },
  {
   "cell_type": "code",
   "execution_count": 21,
   "id": "c0a960d7",
   "metadata": {
    "scrolled": false
   },
   "outputs": [
    {
     "name": "stdout",
     "output_type": "stream",
     "text": [
      "\n",
      " * Alpha :  0.001\n",
      "MSE : 0.013631\n",
      "RMSE : 0.116752\n",
      "R2 : 0.913384\n",
      "-----------------------\n",
      "\n",
      " * Alpha :  0.005\n",
      "MSE : 0.018926\n",
      "RMSE : 0.137572\n",
      "R2 : 0.879738\n",
      "-----------------------\n",
      "\n",
      " * Alpha :  0.008\n",
      "MSE : 0.020045\n",
      "RMSE : 0.141579\n",
      "R2 : 0.872631\n",
      "-----------------------\n",
      "\n",
      " * Alpha :  0.05\n",
      "MSE : 0.024376\n",
      "RMSE : 0.156127\n",
      "R2 : 0.845110\n",
      "-----------------------\n",
      "\n",
      " * Alpha :  0.03\n",
      "MSE : 0.021744\n",
      "RMSE : 0.147459\n",
      "R2 : 0.861831\n",
      "-----------------------\n",
      "\n",
      " * Alpha :  0.1\n",
      "MSE : 0.028224\n",
      "RMSE : 0.167999\n",
      "R2 : 0.820659\n",
      "-----------------------\n",
      "\n",
      " * Alpha :  0.5\n",
      "MSE : 0.027816\n",
      "RMSE : 0.166783\n",
      "R2 : 0.823245\n",
      "-----------------------\n",
      "\n",
      " * Alpha :  1\n",
      "MSE : 0.029454\n",
      "RMSE : 0.171621\n",
      "R2 : 0.812842\n",
      "-----------------------\n",
      "\n",
      " * Alpha :  5\n",
      "MSE : 0.043449\n",
      "RMSE : 0.208443\n",
      "R2 : 0.723914\n",
      "-----------------------\n",
      "\n",
      " * Alpha :  10\n",
      "MSE : 0.046578\n",
      "RMSE : 0.215819\n",
      "R2 : 0.704030\n",
      "-----------------------\n"
     ]
    }
   ],
   "source": [
    "param_tuning(Lasso, datas, lasso_params)"
   ]
  },
  {
   "cell_type": "markdown",
   "id": "cdd77932",
   "metadata": {},
   "source": [
    "### 최적의 alpha 값으로 학습 / 예측 / 평가 "
   ]
  },
  {
   "cell_type": "code",
   "execution_count": null,
   "id": "f178546e",
   "metadata": {},
   "outputs": [],
   "source": []
  },
  {
   "cell_type": "code",
   "execution_count": null,
   "id": "99c75b1b",
   "metadata": {},
   "outputs": [],
   "source": []
  },
  {
   "cell_type": "markdown",
   "id": "77716fcb",
   "metadata": {},
   "source": [
    "### 지금까지는 target 값에 대해서만 데이터 분포 확인하고 로그 변환 수행 "
   ]
  },
  {
   "cell_type": "code",
   "execution_count": 22,
   "id": "5ecf5cc4",
   "metadata": {},
   "outputs": [],
   "source": [
    "############################################################################"
   ]
  },
  {
   "cell_type": "markdown",
   "id": "efc1e078",
   "metadata": {},
   "source": [
    "## 3. 피처 데이터 변환"
   ]
  },
  {
   "cell_type": "code",
   "execution_count": 23,
   "id": "f43cb7e2",
   "metadata": {},
   "outputs": [],
   "source": [
    "house_df = house_df_org.copy()\n",
    "need_to_drop = ['Id', 'PoolQC', 'MiscFeature', 'Alley', 'Fence', 'FireplaceQu', 'MasVnrType']\n",
    "house_df.drop(need_to_drop, axis=1, inplace=True)\n",
    "house_df.fillna(house_df.mean(numeric_only=True), inplace=True)"
   ]
  },
  {
   "cell_type": "markdown",
   "id": "a0b9a3c8",
   "metadata": {},
   "source": [
    "### 추가 가공 작업 진행 후 모델 튜닝 좀 더 진행 \n",
    "- (1) 피처 데이터 세트의 데이터 분포도 확인  \n",
    "- (2) 이상치 데이터 처리"
   ]
  },
  {
   "cell_type": "markdown",
   "id": "e8e7a8cf",
   "metadata": {},
   "source": [
    "### (1) 피처 데이터 세트의 데이터 분포도 확인\n",
    "- 앞에서 타깃 데이터(종속 변수) 세트의 데이터 분포도의 왜곡 확인했음\n",
    "- 피처 데이터 세트의 경우도 지나치게 왜곡된 피처가 존재할 경우\n",
    "- 회귀 예측 성능 저하 가능\n",
    "- 모든 숫자형 피처의 데이터 분포도 확인해서 왜곡 정도 확인\n",
    "- 왜곡도 높은 피처들은 로그 변환 수행\n",
    "\n",
    "\n",
    "#### 왜곡된 정도 추출\n",
    "- 사이파이 status 모듈의 skew() 함수 사용\n",
    "    - 일반적으로 skew() 함수 반환 값이 1 이상인 경우 \n",
    "    - 왜곡도가 높다고 판단  \n",
    "- 주의 : 숫자형 피처에서 원-핫 인코딩된 카테고리 숫자형 제외\n",
    "    - 코드성 피처이므로 인코딩 시 당연히 왜곡될 가능성이 높음"
   ]
  },
  {
   "cell_type": "markdown",
   "id": "082d397b",
   "metadata": {},
   "source": [
    "### (1) 왜곡도 / 피처 데이터 로그 변환 / 원-핫 인코딩\n",
    "- 피처 중 왜곡도가 심한 피처를 로그 변환  "
   ]
  },
  {
   "cell_type": "code",
   "execution_count": 24,
   "id": "b20db775",
   "metadata": {},
   "outputs": [
    {
     "data": {
      "text/plain": [
       "MiscVal          24.451640\n",
       "PoolArea         14.813135\n",
       "LotArea          12.195142\n",
       "3SsnPorch        10.293752\n",
       "LowQualFinSF      9.002080\n",
       "KitchenAbvGr      4.483784\n",
       "BsmtFinSF2        4.250888\n",
       "ScreenPorch       4.117977\n",
       "BsmtHalfBath      4.099186\n",
       "EnclosedPorch     3.086696\n",
       "MasVnrArea        2.673661\n",
       "LotFrontage       2.382499\n",
       "OpenPorchSF       2.361912\n",
       "SalePrice         1.880941\n",
       "BsmtFinSF1        1.683771\n",
       "WoodDeckSF        1.539792\n",
       "TotalBsmtSF       1.522688\n",
       "MSSubClass        1.406210\n",
       "1stFlrSF          1.375342\n",
       "GrLivArea         1.365156\n",
       "dtype: float64"
      ]
     },
     "execution_count": 24,
     "metadata": {},
     "output_type": "execute_result"
    }
   ],
   "source": [
    "# 숫자형 데이터들 중 왜곡도가 높은 데이터 확인\n",
    "from scipy.stats import skew\n",
    "\n",
    "# object아닌 컬럼 추출\n",
    "feature_index = house_df.dtypes[house_df.dtypes != 'object'].index\n",
    "\n",
    "# skew : 왜곡도를 나타낸다\n",
    "skew_features = house_df[feature_index].apply(lambda x: skew(x))\n",
    "\n",
    "need_to_log = skew_features[skew_features > 1].sort_values(ascending=False)\n",
    "need_to_log"
   ]
  },
  {
   "cell_type": "markdown",
   "id": "9f23f57f",
   "metadata": {},
   "source": [
    "#### 로그 변환"
   ]
  },
  {
   "cell_type": "code",
   "execution_count": 25,
   "id": "8a46b9c6",
   "metadata": {},
   "outputs": [],
   "source": [
    "# 왜곡도가 높은 피처들을 로그 변환\n",
    "# skew 정도가 1이상인 피처들\n",
    "house_df[need_to_log.index] = np.log1p(house_df[need_to_log.index])"
   ]
  },
  {
   "cell_type": "code",
   "execution_count": 26,
   "id": "488832b1",
   "metadata": {},
   "outputs": [
    {
     "data": {
      "text/plain": [
       "PoolArea         14.348342\n",
       "3SsnPorch         7.727026\n",
       "LowQualFinSF      7.452650\n",
       "MiscVal           5.165390\n",
       "BsmtHalfBath      3.929022\n",
       "KitchenAbvGr      3.865437\n",
       "ScreenPorch       3.147171\n",
       "BsmtFinSF2        2.521100\n",
       "EnclosedPorch     2.110104\n",
       "dtype: float64"
      ]
     },
     "execution_count": 26,
     "metadata": {},
     "output_type": "execute_result"
    }
   ],
   "source": [
    "# 로그 변환 후 다시 왜곡 정도 확인\n",
    "feature_index = house_df.dtypes[house_df.dtypes != 'object'].index\n",
    "\n",
    "skew_features = house_df[feature_index].apply(lambda x: skew(x))\n",
    "\n",
    "need_to_log = skew_features[skew_features > 1].sort_values(ascending=False)\n",
    "need_to_log"
   ]
  },
  {
   "cell_type": "markdown",
   "id": "4ca92e4d",
   "metadata": {},
   "source": [
    "### (2) 모델 학습/예측/평가\n",
    "- 원-핫 인코딩 적용 후 최적 하이퍼 파라미터 튜닝 후 평가 지표 확인"
   ]
  },
  {
   "cell_type": "code",
   "execution_count": null,
   "id": "a06cd041",
   "metadata": {},
   "outputs": [],
   "source": []
  },
  {
   "cell_type": "code",
   "execution_count": 27,
   "id": "5053c48c",
   "metadata": {},
   "outputs": [],
   "source": [
    "# skew가 높은 피처들을 로그 변환했으므로\n",
    "# 다시 원-핫 인코딩 적용\n",
    "# 피처/타깃 데이터 세트 다시 생성\n",
    "# 최적 alpha 값과  RMSE 출력\n",
    "house_df_ohe2 = pd.get_dummies(house_df, dtype=int)\n",
    "\n",
    "X_feature = house_df_ohe2.drop('SalePrice', axis=1)\n",
    "y_target = house_df_ohe2['SalePrice']\n",
    "datas = data_sep(X_feature, y_target)"
   ]
  },
  {
   "cell_type": "code",
   "execution_count": 28,
   "id": "123b2b0b",
   "metadata": {},
   "outputs": [
    {
     "name": "stdout",
     "output_type": "stream",
     "text": [
      "<Linear Regression>\n",
      "MSE : 0.015228\n",
      "RMSE : 0.123401\n",
      "R2 : 0.903237\n",
      "---------------------\n",
      "<Ridge>\n",
      "MSE : 0.014308\n",
      "RMSE : 0.119616\n",
      "R2 : 0.909083\n",
      "---------------------\n",
      "<Lasso>\n",
      "MSE : 0.059055\n",
      "RMSE : 0.243013\n",
      "R2 : 0.624746\n"
     ]
    }
   ],
   "source": [
    "models_eval(datas)"
   ]
  },
  {
   "cell_type": "code",
   "execution_count": 29,
   "id": "dffd1ca0",
   "metadata": {},
   "outputs": [
    {
     "name": "stdout",
     "output_type": "stream",
     "text": [
      "\n",
      " * Alpha :  0.05\n",
      "MSE : 0.014852\n",
      "RMSE : 0.121867\n",
      "R2 : 0.905628\n",
      "-----------------------\n",
      "\n",
      " * Alpha :  0.1\n",
      "MSE : 0.014670\n",
      "RMSE : 0.121121\n",
      "R2 : 0.906781\n",
      "-----------------------\n",
      "\n",
      " * Alpha :  1\n",
      "MSE : 0.014308\n",
      "RMSE : 0.119616\n",
      "R2 : 0.909083\n",
      "-----------------------\n",
      "\n",
      " * Alpha :  5\n",
      "MSE : 0.014204\n",
      "RMSE : 0.119181\n",
      "R2 : 0.909743\n",
      "-----------------------\n",
      "\n",
      " * Alpha :  8\n",
      "MSE : 0.014128\n",
      "RMSE : 0.118861\n",
      "R2 : 0.910227\n",
      "-----------------------\n",
      "\n",
      " * Alpha :  10\n",
      "MSE : 0.014105\n",
      "RMSE : 0.118763\n",
      "R2 : 0.910375\n",
      "-----------------------\n",
      "\n",
      " * Alpha :  12\n",
      "MSE : 0.014098\n",
      "RMSE : 0.118737\n",
      "R2 : 0.910414\n",
      "-----------------------\n",
      "\n",
      " * Alpha :  15\n",
      "MSE : 0.014112\n",
      "RMSE : 0.118794\n",
      "R2 : 0.910327\n",
      "-----------------------\n",
      "\n",
      " * Alpha :  20\n",
      "MSE : 0.014173\n",
      "RMSE : 0.119050\n",
      "R2 : 0.909941\n",
      "-----------------------\n"
     ]
    }
   ],
   "source": [
    "param_tuning(Ridge, datas, ridge_params)"
   ]
  },
  {
   "cell_type": "code",
   "execution_count": 30,
   "id": "d9a29e4c",
   "metadata": {},
   "outputs": [
    {
     "name": "stdout",
     "output_type": "stream",
     "text": [
      "\n",
      " * Alpha :  0.001\n",
      "MSE : 0.013545\n",
      "RMSE : 0.116381\n",
      "R2 : 0.913934\n",
      "-----------------------\n",
      "\n",
      " * Alpha :  0.005\n",
      "MSE : 0.018264\n",
      "RMSE : 0.135143\n",
      "R2 : 0.883947\n",
      "-----------------------\n",
      "\n",
      " * Alpha :  0.008\n",
      "MSE : 0.019922\n",
      "RMSE : 0.141146\n",
      "R2 : 0.873407\n",
      "-----------------------\n",
      "\n",
      " * Alpha :  0.05\n",
      "MSE : 0.032358\n",
      "RMSE : 0.179882\n",
      "R2 : 0.794389\n",
      "-----------------------\n",
      "\n",
      " * Alpha :  0.03\n",
      "MSE : 0.028012\n",
      "RMSE : 0.167369\n",
      "R2 : 0.822000\n",
      "-----------------------\n",
      "\n",
      " * Alpha :  0.1\n",
      "MSE : 0.043408\n",
      "RMSE : 0.208345\n",
      "R2 : 0.724175\n",
      "-----------------------\n",
      "\n",
      " * Alpha :  0.5\n",
      "MSE : 0.057432\n",
      "RMSE : 0.239650\n",
      "R2 : 0.635058\n",
      "-----------------------\n",
      "\n",
      " * Alpha :  1\n",
      "MSE : 0.059055\n",
      "RMSE : 0.243013\n",
      "R2 : 0.624746\n",
      "-----------------------\n",
      "\n",
      " * Alpha :  5\n",
      "MSE : 0.075786\n",
      "RMSE : 0.275292\n",
      "R2 : 0.518433\n",
      "-----------------------\n",
      "\n",
      " * Alpha :  10\n",
      "MSE : 0.078000\n",
      "RMSE : 0.279285\n",
      "R2 : 0.504365\n",
      "-----------------------\n"
     ]
    }
   ],
   "source": [
    "param_tuning(Lasso, datas, lasso_params)"
   ]
  },
  {
   "cell_type": "markdown",
   "id": "ac7ca66f",
   "metadata": {},
   "source": [
    "### (3) 모델별 회귀 계수 시각화  \n",
    "- 모델의 학습/예측/평가 및 모델별 회귀 계수 시각화"
   ]
  },
  {
   "cell_type": "code",
   "execution_count": 31,
   "id": "bcdaf3ea",
   "metadata": {
    "scrolled": false
   },
   "outputs": [
    {
     "data": {
      "image/png": "[encoded data removed]",
      "text/plain": [
       "<Figure size 1600x600 with 3 Axes>"
      ]
     },
     "metadata": {},
     "output_type": "display_data"
    }
   ],
   "source": [
    "models_visualize(datas)"
   ]
  },
  {
   "cell_type": "code",
   "execution_count": null,
   "id": "ff4bb3ed",
   "metadata": {},
   "outputs": [],
   "source": []
  },
  {
   "cell_type": "markdown",
   "id": "bd329801",
   "metadata": {},
   "source": [
    "### (4) 이상치 데이터 처리\n",
    "\n",
    "다음으로 좀 더 분석할 요소는 이상치 데이터  \n",
    "특히 회귀 계수가 높은 피처들은  \n",
    "예측에 많은 영향을 미치는 중요 피처들이기 때문에  \n",
    "이들 피처들의 이상치 데이터 처리가 중요함  \n",
    "\n",
    "먼저 3개 모델 모두에서 가장 큰 회귀 계수를 가지는  \n",
    "GrLivArea(주거 공간 크기) 피처의 데이터 분포 살펴 볼 것임"
   ]
  },
  {
   "cell_type": "code",
   "execution_count": null,
   "id": "045a636c",
   "metadata": {},
   "outputs": [],
   "source": []
  },
  {
   "cell_type": "code",
   "execution_count": 32,
   "id": "80129147",
   "metadata": {
    "scrolled": false
   },
   "outputs": [],
   "source": [
    "# 이상치 데이터 검출을 위해 주요 피처인 GrLivArea(주거 공간 크기) 값에 대한 산포도 확인\n",
    "# 주택 가격 데이터가 변환되기 이전의 원본 데이터 세트에서\n",
    "# GrLivArea(주거 공간 크기) 와 타깃 값인 SalePrice의 관계 시각화\n"
   ]
  },
  {
   "cell_type": "code",
   "execution_count": 33,
   "id": "5e11891c",
   "metadata": {},
   "outputs": [
    {
     "data": {
      "text/plain": [
       "<matplotlib.collections.PathCollection at 0x161941210>"
      ]
     },
     "execution_count": 33,
     "metadata": {},
     "output_type": "execute_result"
    },
    {
     "data": {
      "text/plain": [
       "Text(0, 0.5, 'SalePrice')"
      ]
     },
     "execution_count": 33,
     "metadata": {},
     "output_type": "execute_result"
    },
    {
     "data": {
      "text/plain": [
       "Text(0.5, 0, 'GrLivArea')"
      ]
     },
     "execution_count": 33,
     "metadata": {},
     "output_type": "execute_result"
    },
    {
     "data": {
      "text/plain": [
       "<matplotlib.collections.PathCollection at 0x1614fdcd0>"
      ]
     },
     "execution_count": 33,
     "metadata": {},
     "output_type": "execute_result"
    },
    {
     "data": {
      "image/png": "[encoded data removed]",
      "text/plain": [
       "<Figure size 640x480 with 1 Axes>"
      ]
     },
     "metadata": {},
     "output_type": "display_data"
    }
   ],
   "source": [
    "# 그래프에 확인한 이상치 표시\n",
    "plt.scatter(x=house_df_org['GrLivArea'], y=house_df_org['SalePrice'])\n",
    "plt.ylabel('SalePrice', fontsize=15)\n",
    "plt.xlabel('GrLivArea', fontsize=15)\n",
    "\n",
    "outlier = (house_df_org[\"GrLivArea\"] > 4000) & (house_df_org[\"SalePrice\"] < 200000)\n",
    "outlier_df = house_df_org[outlier]\n",
    "plt.scatter(x=outlier_df[\"GrLivArea\"] , y=outlier_df[\"SalePrice\"], s=300, c=\"r\", alpha=0.5 )\n",
    "\n",
    "plt.show()"
   ]
  },
  {
   "cell_type": "code",
   "execution_count": 34,
   "id": "85e52a6a",
   "metadata": {},
   "outputs": [
    {
     "data": {
      "text/plain": [
       "Index([523, 1298], dtype='int64')"
      ]
     },
     "execution_count": 34,
     "metadata": {},
     "output_type": "execute_result"
    }
   ],
   "source": [
    "need_to_drop = house_df_org[(house_df_org[\"GrLivArea\"] > 4000) & (house_df_org[\"SalePrice\"] < 500000)].index\n",
    "need_to_drop"
   ]
  },
  {
   "cell_type": "code",
   "execution_count": 35,
   "id": "db1e778b",
   "metadata": {},
   "outputs": [],
   "source": [
    "house_df_ohe2.drop(need_to_drop, inplace=True)"
   ]
  },
  {
   "cell_type": "markdown",
   "id": "9d3f9c21",
   "metadata": {},
   "source": [
    "### (5) 릿지 / 라쏘 모델 최적화 수행 "
   ]
  },
  {
   "cell_type": "code",
   "execution_count": 36,
   "id": "a0767d78",
   "metadata": {},
   "outputs": [],
   "source": [
    "X_feature = house_df_ohe2.drop('SalePrice', axis=1)\n",
    "y_target = house_df_ohe2['SalePrice']\n",
    "datas = data_sep(X_feature, y_target)"
   ]
  },
  {
   "cell_type": "code",
   "execution_count": 37,
   "id": "677dfc7e",
   "metadata": {},
   "outputs": [
    {
     "name": "stdout",
     "output_type": "stream",
     "text": [
      "<Linear Regression>\n",
      "MSE : 0.015941\n",
      "RMSE : 0.126256\n",
      "R2 : 0.911418\n",
      "---------------------\n",
      "<Ridge>\n",
      "MSE : 0.013058\n",
      "RMSE : 0.114271\n",
      "R2 : 0.927438\n",
      "---------------------\n",
      "<Lasso>\n",
      "MSE : 0.064360\n",
      "RMSE : 0.253693\n",
      "R2 : 0.642354\n"
     ]
    }
   ],
   "source": [
    "models_eval(datas)"
   ]
  },
  {
   "cell_type": "markdown",
   "id": "7eaf4b31",
   "metadata": {},
   "source": [
    "### tip\n",
    "- 일반적로 머신러닝 프로세스에서 데이터 전처리는 알고리즘 적용 전에 진행하지만    \n",
    "- 처음부터 완벽하게 수행할 필요는 없음    \n",
    "- 대략의 데이터 가공을 진행하고 모델 최적화를 진행한 후    \n",
    "- 결과를 기반으로 다시 여러 가지 전처리 작업을 진행하는 것이 바람직함  "
   ]
  },
  {
   "cell_type": "code",
   "execution_count": 38,
   "id": "52d5c0c5",
   "metadata": {},
   "outputs": [],
   "source": [
    "##################################################################"
   ]
  },
  {
   "cell_type": "markdown",
   "id": "2316458d",
   "metadata": {},
   "source": [
    "### 4. 회귀 트리 모델  : XGBoost와 LightGBM"
   ]
  },
  {
   "cell_type": "markdown",
   "id": "45666467",
   "metadata": {},
   "source": [
    "선형 회귀\n",
    "- 회귀 계수를 선형으로 결합하는 회귀 함수를 구해\n",
    "- 여기에 독립변수를 입력해 결과값을 예측하는 것\n",
    "\n",
    "비선형 회귀\n",
    "- 비선형 회귀 함수를 통해 결과값을 예측\n",
    "\n",
    "머신러닝 기반의 회귀\n",
    "- 회귀 계수를 기반으로 하는 최적화 회구 함수를 도출하는 것이 목표"
   ]
  },
  {
   "cell_type": "markdown",
   "id": "5318c6d7",
   "metadata": {},
   "source": [
    "회귀 트리\n",
    "- 회귀 함수를 기반으로 하지 않고\n",
    "- 트리를 기반으로 하는 회귀 방식\n",
    "- 분류 트리와 유사하지만\n",
    "- 리프 노드에서 예측 결정값을 만든 과정에 차이가 있음\n",
    "- 분류 트리 : 특정 클래스 레이블 결정\n",
    "- 회귀 트리 : 리프 노드에 속한 데이터 값의 평균값을 구해 회귀 예측값 계산\n",
    "    \n",
    "CART(Classification And Regression Trees) 기반 알고리즘\n",
    "- 결정트리, 랜덤 포레트스, GBM, XGBoost, LightGBM 등 트리 기반 알고리즘은\n",
    "- 분류뿐만 아니라 회귀도 가능"
   ]
  },
  {
   "cell_type": "markdown",
   "id": "3d1da596",
   "metadata": {},
   "source": [
    "### (1) 회귀 트리 모델 생성/학습/예측/평가   \n",
    "- XGBoost와 LightGBM 이용해서 학습/예측/평가 수행"
   ]
  },
  {
   "cell_type": "code",
   "execution_count": 39,
   "id": "ceca96bd",
   "metadata": {},
   "outputs": [],
   "source": [
    "from xgboost import XGBRegressor\n",
    "from lightgbm import LGBMRegressor\n",
    "*_, X_train, X_test, y_train, y_test = datas"
   ]
  },
  {
   "cell_type": "code",
   "execution_count": 40,
   "id": "c6a9d657",
   "metadata": {},
   "outputs": [
    {
     "data": {
      "text/html": [
       "<style>#sk-container-id-1 {color: black;}#sk-container-id-1 pre{padding: 0;}#sk-container-id-1 div.sk-toggleable {background-color: white;}#sk-container-id-1 label.sk-toggleable__label {cursor: pointer;display: block;width: 100%;margin-bottom: 0;padding: 0.3em;box-sizing: border-box;text-align: center;}#sk-container-id-1 label.sk-toggleable__label-arrow:before {content: \"▸\";float: left;margin-right: 0.25em;color: #696969;}#sk-container-id-1 label.sk-toggleable__label-arrow:hover:before {color: black;}#sk-container-id-1 div.sk-estimator:hover label.sk-toggleable__label-arrow:before {color: black;}#sk-container-id-1 div.sk-toggleable__content {max-height: 0;max-width: 0;overflow: hidden;text-align: left;background-color: #f0f8ff;}#sk-container-id-1 div.sk-toggleable__content pre {margin: 0.2em;color: black;border-radius: 0.25em;background-color: #f0f8ff;}#sk-container-id-1 input.sk-toggleable__control:checked~div.sk-toggleable__content {max-height: 200px;max-width: 100%;overflow: auto;}#sk-container-id-1 input.sk-toggleable__control:checked~label.sk-toggleable__label-arrow:before {content: \"▾\";}#sk-container-id-1 div.sk-estimator input.sk-toggleable__control:checked~label.sk-toggleable__label {background-color: #d4ebff;}#sk-container-id-1 div.sk-label input.sk-toggleable__control:checked~label.sk-toggleable__label {background-color: #d4ebff;}#sk-container-id-1 input.sk-hidden--visually {border: 0;clip: rect(1px 1px 1px 1px);clip: rect(1px, 1px, 1px, 1px);height: 1px;margin: -1px;overflow: hidden;padding: 0;position: absolute;width: 1px;}#sk-container-id-1 div.sk-estimator {font-family: monospace;background-color: #f0f8ff;border: 1px dotted black;border-radius: 0.25em;box-sizing: border-box;margin-bottom: 0.5em;}#sk-container-id-1 div.sk-estimator:hover {background-color: #d4ebff;}#sk-container-id-1 div.sk-parallel-item::after {content: \"\";width: 100%;border-bottom: 1px solid gray;flex-grow: 1;}#sk-container-id-1 div.sk-label:hover label.sk-toggleable__label {background-color: #d4ebff;}#sk-container-id-1 div.sk-serial::before {content: \"\";position: absolute;border-left: 1px solid gray;box-sizing: border-box;top: 0;bottom: 0;left: 50%;z-index: 0;}#sk-container-id-1 div.sk-serial {display: flex;flex-direction: column;align-items: center;background-color: white;padding-right: 0.2em;padding-left: 0.2em;position: relative;}#sk-container-id-1 div.sk-item {position: relative;z-index: 1;}#sk-container-id-1 div.sk-parallel {display: flex;align-items: stretch;justify-content: center;background-color: white;position: relative;}#sk-container-id-1 div.sk-item::before, #sk-container-id-1 div.sk-parallel-item::before {content: \"\";position: absolute;border-left: 1px solid gray;box-sizing: border-box;top: 0;bottom: 0;left: 50%;z-index: -1;}#sk-container-id-1 div.sk-parallel-item {display: flex;flex-direction: column;z-index: 1;position: relative;background-color: white;}#sk-container-id-1 div.sk-parallel-item:first-child::after {align-self: flex-end;width: 50%;}#sk-container-id-1 div.sk-parallel-item:last-child::after {align-self: flex-start;width: 50%;}#sk-container-id-1 div.sk-parallel-item:only-child::after {width: 0;}#sk-container-id-1 div.sk-dashed-wrapped {border: 1px dashed gray;margin: 0 0.4em 0.5em 0.4em;box-sizing: border-box;padding-bottom: 0.4em;background-color: white;}#sk-container-id-1 div.sk-label label {font-family: monospace;font-weight: bold;display: inline-block;line-height: 1.2em;}#sk-container-id-1 div.sk-label-container {text-align: center;}#sk-container-id-1 div.sk-container {/* jupyter's `normalize.less` sets `[hidden] { display: none; }` but bootstrap.min.css set `[hidden] { display: none !important; }` so we also need the `!important` here to be able to override the default hidden behavior on the sphinx rendered scikit-learn.org. See: https://github.com/scikit-learn/scikit-learn/issues/21755 */display: inline-block !important;position: relative;}#sk-container-id-1 div.sk-text-repr-fallback {display: none;}</style><div id=\"sk-container-id-1\" class=\"sk-top-container\"><div class=\"sk-text-repr-fallback\"><pre>XGBRegressor(base_score=None, booster=None, callbacks=None,\n",
       "             colsample_bylevel=None, colsample_bynode=None,\n",
       "             colsample_bytree=0.5, device=None, early_stopping_rounds=None,\n",
       "             enable_categorical=False, eval_metric=None, feature_types=None,\n",
       "             gamma=None, grow_policy=None, importance_type=None,\n",
       "             interaction_constraints=None, learning_rate=0.05, max_bin=None,\n",
       "             max_cat_threshold=None, max_cat_to_onehot=None,\n",
       "             max_delta_step=None, max_depth=None, max_leaves=None,\n",
       "             min_child_weight=None, missing=nan, monotone_constraints=None,\n",
       "             multi_strategy=None, n_estimators=1000, n_jobs=None,\n",
       "             num_parallel_tree=None, object=&#x27;reg:squarederror&#x27;, ...)</pre><b>In a Jupyter environment, please rerun this cell to show the HTML representation or trust the notebook. <br />On GitHub, the HTML representation is unable to render, please try loading this page with nbviewer.org.</b></div><div class=\"sk-container\" hidden><div class=\"sk-item\"><div class=\"sk-estimator sk-toggleable\"><input class=\"sk-toggleable__control sk-hidden--visually\" id=\"sk-estimator-id-1\" type=\"checkbox\" checked><label for=\"sk-estimator-id-1\" class=\"sk-toggleable__label sk-toggleable__label-arrow\">XGBRegressor</label><div class=\"sk-toggleable__content\"><pre>XGBRegressor(base_score=None, booster=None, callbacks=None,\n",
       "             colsample_bylevel=None, colsample_bynode=None,\n",
       "             colsample_bytree=0.5, device=None, early_stopping_rounds=None,\n",
       "             enable_categorical=False, eval_metric=None, feature_types=None,\n",
       "             gamma=None, grow_policy=None, importance_type=None,\n",
       "             interaction_constraints=None, learning_rate=0.05, max_bin=None,\n",
       "             max_cat_threshold=None, max_cat_to_onehot=None,\n",
       "             max_delta_step=None, max_depth=None, max_leaves=None,\n",
       "             min_child_weight=None, missing=nan, monotone_constraints=None,\n",
       "             multi_strategy=None, n_estimators=1000, n_jobs=None,\n",
       "             num_parallel_tree=None, object=&#x27;reg:squarederror&#x27;, ...)</pre></div></div></div></div></div>"
      ],
      "text/plain": [
       "XGBRegressor(base_score=None, booster=None, callbacks=None,\n",
       "             colsample_bylevel=None, colsample_bynode=None,\n",
       "             colsample_bytree=0.5, device=None, early_stopping_rounds=None,\n",
       "             enable_categorical=False, eval_metric=None, feature_types=None,\n",
       "             gamma=None, grow_policy=None, importance_type=None,\n",
       "             interaction_constraints=None, learning_rate=0.05, max_bin=None,\n",
       "             max_cat_threshold=None, max_cat_to_onehot=None,\n",
       "             max_delta_step=None, max_depth=None, max_leaves=None,\n",
       "             min_child_weight=None, missing=nan, monotone_constraints=None,\n",
       "             multi_strategy=None, n_estimators=1000, n_jobs=None,\n",
       "             num_parallel_tree=None, object='reg:squarederror', ...)"
      ]
     },
     "execution_count": 40,
     "metadata": {},
     "output_type": "execute_result"
    },
    {
     "name": "stdout",
     "output_type": "stream",
     "text": [
      "MSE : 0.014788\n",
      "RMSE : 0.121604\n",
      "R2 : 0.917826\n"
     ]
    }
   ],
   "source": [
    "# XGBoost 회귀 트리 적용\n",
    "xgb_params = {'n_estimators': [500, 1000]}\n",
    "xgb_reg = XGBRegressor(object='reg:squarederror',\n",
    "                      n_estimators=1000,\n",
    "                      learning_rate=0.05,\n",
    "                      colsample_bytree=0.5,\n",
    "                      subsample=0.8)\n",
    "\n",
    "xgb_reg.fit(X_train, y_train)\n",
    "get_eval(xgb_reg, X_test, y_test)\n",
    "\n",
    "# colsample_bytree=0.5\n",
    "# - 각 트리(스텝)마다 사용할 피처 샘플링 비율 (0.5~1) (랜덤 샘플)\n",
    "# - 일부만 샘플링해서 과적합 방지 \n",
    "\n",
    "# subsample=0.8\n",
    "# - 각 스텝마다 사용할 학습 데이터의 서브 샘플 비율\n",
    "# 트리 성장 전 학습 데이터와 일부만 샘플링해서 과적합 방지 \n",
    "\n",
    "# XGBRegressor 적용 시\n",
    "# 5 폴드 세트 평균 RMSE : 0.1217\n",
    "# 최종 릿지와 라쏘 모델보다 약간 성능이 낮게 나왔음"
   ]
  },
  {
   "cell_type": "code",
   "execution_count": 41,
   "id": "2f05dc25",
   "metadata": {},
   "outputs": [
    {
     "name": "stdout",
     "output_type": "stream",
     "text": [
      "[LightGBM] [Warning] Found whitespace in feature_names, replace with underlines\n",
      "[LightGBM] [Info] Total Bins 3042\n",
      "[LightGBM] [Info] Number of data points in the train set: 1020, number of used features: 161\n",
      "[LightGBM] [Info] Start training from score 12.030501\n"
     ]
    },
    {
     "data": {
      "text/html": [
       "<style>#sk-container-id-2 {color: black;}#sk-container-id-2 pre{padding: 0;}#sk-container-id-2 div.sk-toggleable {background-color: white;}#sk-container-id-2 label.sk-toggleable__label {cursor: pointer;display: block;width: 100%;margin-bottom: 0;padding: 0.3em;box-sizing: border-box;text-align: center;}#sk-container-id-2 label.sk-toggleable__label-arrow:before {content: \"▸\";float: left;margin-right: 0.25em;color: #696969;}#sk-container-id-2 label.sk-toggleable__label-arrow:hover:before {color: black;}#sk-container-id-2 div.sk-estimator:hover label.sk-toggleable__label-arrow:before {color: black;}#sk-container-id-2 div.sk-toggleable__content {max-height: 0;max-width: 0;overflow: hidden;text-align: left;background-color: #f0f8ff;}#sk-container-id-2 div.sk-toggleable__content pre {margin: 0.2em;color: black;border-radius: 0.25em;background-color: #f0f8ff;}#sk-container-id-2 input.sk-toggleable__control:checked~div.sk-toggleable__content {max-height: 200px;max-width: 100%;overflow: auto;}#sk-container-id-2 input.sk-toggleable__control:checked~label.sk-toggleable__label-arrow:before {content: \"▾\";}#sk-container-id-2 div.sk-estimator input.sk-toggleable__control:checked~label.sk-toggleable__label {background-color: #d4ebff;}#sk-container-id-2 div.sk-label input.sk-toggleable__control:checked~label.sk-toggleable__label {background-color: #d4ebff;}#sk-container-id-2 input.sk-hidden--visually {border: 0;clip: rect(1px 1px 1px 1px);clip: rect(1px, 1px, 1px, 1px);height: 1px;margin: -1px;overflow: hidden;padding: 0;position: absolute;width: 1px;}#sk-container-id-2 div.sk-estimator {font-family: monospace;background-color: #f0f8ff;border: 1px dotted black;border-radius: 0.25em;box-sizing: border-box;margin-bottom: 0.5em;}#sk-container-id-2 div.sk-estimator:hover {background-color: #d4ebff;}#sk-container-id-2 div.sk-parallel-item::after {content: \"\";width: 100%;border-bottom: 1px solid gray;flex-grow: 1;}#sk-container-id-2 div.sk-label:hover label.sk-toggleable__label {background-color: #d4ebff;}#sk-container-id-2 div.sk-serial::before {content: \"\";position: absolute;border-left: 1px solid gray;box-sizing: border-box;top: 0;bottom: 0;left: 50%;z-index: 0;}#sk-container-id-2 div.sk-serial {display: flex;flex-direction: column;align-items: center;background-color: white;padding-right: 0.2em;padding-left: 0.2em;position: relative;}#sk-container-id-2 div.sk-item {position: relative;z-index: 1;}#sk-container-id-2 div.sk-parallel {display: flex;align-items: stretch;justify-content: center;background-color: white;position: relative;}#sk-container-id-2 div.sk-item::before, #sk-container-id-2 div.sk-parallel-item::before {content: \"\";position: absolute;border-left: 1px solid gray;box-sizing: border-box;top: 0;bottom: 0;left: 50%;z-index: -1;}#sk-container-id-2 div.sk-parallel-item {display: flex;flex-direction: column;z-index: 1;position: relative;background-color: white;}#sk-container-id-2 div.sk-parallel-item:first-child::after {align-self: flex-end;width: 50%;}#sk-container-id-2 div.sk-parallel-item:last-child::after {align-self: flex-start;width: 50%;}#sk-container-id-2 div.sk-parallel-item:only-child::after {width: 0;}#sk-container-id-2 div.sk-dashed-wrapped {border: 1px dashed gray;margin: 0 0.4em 0.5em 0.4em;box-sizing: border-box;padding-bottom: 0.4em;background-color: white;}#sk-container-id-2 div.sk-label label {font-family: monospace;font-weight: bold;display: inline-block;line-height: 1.2em;}#sk-container-id-2 div.sk-label-container {text-align: center;}#sk-container-id-2 div.sk-container {/* jupyter's `normalize.less` sets `[hidden] { display: none; }` but bootstrap.min.css set `[hidden] { display: none !important; }` so we also need the `!important` here to be able to override the default hidden behavior on the sphinx rendered scikit-learn.org. See: https://github.com/scikit-learn/scikit-learn/issues/21755 */display: inline-block !important;position: relative;}#sk-container-id-2 div.sk-text-repr-fallback {display: none;}</style><div id=\"sk-container-id-2\" class=\"sk-top-container\"><div class=\"sk-text-repr-fallback\"><pre>LGBMRegressor(colsample_bytree=0.5, force_row_wise=True, learning_rate=0.05,\n",
       "              n_estimators=1000, num_leaves=4, reg_lambda=10, subsample=0.6)</pre><b>In a Jupyter environment, please rerun this cell to show the HTML representation or trust the notebook. <br />On GitHub, the HTML representation is unable to render, please try loading this page with nbviewer.org.</b></div><div class=\"sk-container\" hidden><div class=\"sk-item\"><div class=\"sk-estimator sk-toggleable\"><input class=\"sk-toggleable__control sk-hidden--visually\" id=\"sk-estimator-id-2\" type=\"checkbox\" checked><label for=\"sk-estimator-id-2\" class=\"sk-toggleable__label sk-toggleable__label-arrow\">LGBMRegressor</label><div class=\"sk-toggleable__content\"><pre>LGBMRegressor(colsample_bytree=0.5, force_row_wise=True, learning_rate=0.05,\n",
       "              n_estimators=1000, num_leaves=4, reg_lambda=10, subsample=0.6)</pre></div></div></div></div></div>"
      ],
      "text/plain": [
       "LGBMRegressor(colsample_bytree=0.5, force_row_wise=True, learning_rate=0.05,\n",
       "              n_estimators=1000, num_leaves=4, reg_lambda=10, subsample=0.6)"
      ]
     },
     "execution_count": 41,
     "metadata": {},
     "output_type": "execute_result"
    },
    {
     "name": "stdout",
     "output_type": "stream",
     "text": [
      "MSE : 0.013568\n",
      "RMSE : 0.116483\n",
      "R2 : 0.924601\n"
     ]
    }
   ],
   "source": [
    "# LightGBM 회귀 트리 적용\n",
    "lgbm_params = {'n_estimators' :[1000]}\n",
    "lgbm_reg = LGBMRegressor(n_estimators=1000,\n",
    "                        learning_rate=0.05,\n",
    "                        num_leaves=4, # 하나의 트리가 가질 수 있는 최대 리프 수\n",
    "                        colsample_bytree=0.5,\n",
    "                        subsample=0.6,\n",
    "                        reg_lambda=10, # L2 규제 적용 값,\n",
    "                        force_row_wise=True)\n",
    "\n",
    "lgbm_reg.fit(X_train, y_train)\n",
    "get_eval(lgbm_reg, X_test, y_test)\n",
    "\n",
    "\n",
    "# LGBMRegressor 회귀 트리 적용 시 \n",
    "# 5 폴드 세트 평균 RMSE : 0.1166 (colsample_bytree=0.4)\n",
    "# RMSE : 0.1170,(colsample_bytree=0.5)\n",
    "\n",
    "# XGBRegressor 적용 시\n",
    "# 5 폴드 세트 평균 RMSE : 0.1217\n",
    "\n",
    "# LGBMRegressor가 XGBRegressor 보다 약간 수치 향상 있음"
   ]
  },
  {
   "cell_type": "code",
   "execution_count": null,
   "id": "69d1737c",
   "metadata": {},
   "outputs": [],
   "source": []
  },
  {
   "cell_type": "code",
   "execution_count": null,
   "id": "d5949471",
   "metadata": {},
   "outputs": [],
   "source": []
  },
  {
   "cell_type": "code",
   "execution_count": null,
   "id": "51a24115",
   "metadata": {},
   "outputs": [],
   "source": []
  },
  {
   "cell_type": "markdown",
   "id": "6b8dad33",
   "metadata": {},
   "source": [
    "### (2) 피처 중요도 시각화  \n",
    "- 트리 회귀 모델의 피처 중요도 시각화"
   ]
  },
  {
   "cell_type": "code",
   "execution_count": 42,
   "id": "8201503f",
   "metadata": {},
   "outputs": [],
   "source": [
    "# 모델의 중요도 상위 20개의 피처명과 그때의 중요도값을 Series로 반환.\n",
    "def get_top_features(model):\n",
    "    ftr_importances_values = model.feature_importances_\n",
    "    ftr_importances = pd.Series(ftr_importances_values, index=X_features.columns  )\n",
    "    ftr_top20 = ftr_importances.sort_values(ascending=False)[:20]\n",
    "    return ftr_top20\n",
    "\n",
    "def visualize_ftr_importances(models):\n",
    "    # 2개 회귀 모델의 시각화를 위해 2개의 컬럼을 가지는 subplot 생성\n",
    "    fig, axs = plt.subplots(figsize=(24,10),nrows=1, ncols=2)\n",
    "    fig.tight_layout() \n",
    "    # 입력인자로 받은 list객체인 models에서 차례로 model을 추출하여 피처 중요도 시각화. \n",
    "    for i_num, model in enumerate(models):\n",
    "        # 중요도 상위 20개의 피처명과 그때의 중요도값 추출 \n",
    "        ftr_top20 = get_top_features(model)\n",
    "        axs[i_num].set_title(model.__class__.__name__+' Feature Importances', size=25)\n",
    "        #font 크기 조정.\n",
    "        for label in (axs[i_num].get_xticklabels() + axs[i_num].get_yticklabels()):\n",
    "            label.set_fontsize(22)\n",
    "        sns.barplot(x=ftr_top20.values, y=ftr_top20.index , ax=axs[i_num])\n",
    "\n"
   ]
  },
  {
   "cell_type": "code",
   "execution_count": 43,
   "id": "bf8ae24a",
   "metadata": {},
   "outputs": [],
   "source": [
    "######################################################"
   ]
  },
  {
   "cell_type": "markdown",
   "id": "49ce00af",
   "metadata": {},
   "source": [
    "### 5. 회귀 모델의 예측 결과 혼합을 통한 최종 예측\n",
    "-   릿지 모델(40%)과 라쏘 모델(60%) 혼합 "
   ]
  },
  {
   "cell_type": "markdown",
   "id": "c7a3927a",
   "metadata": {},
   "source": [
    "개별 회귀 모델의 예측 결과값을 혼합해서  \n",
    "이를 기반으로 최종 회귀 값 예측  \n",
    "\n",
    "예측 결과 혼합 예  \n",
    "A 모델 , B 모델  \n",
    "A 모델의 예측값 40%, B 모델의 예측값의 60%를 더해서 최종 회귀값으로 예측  \n",
    "\n",
    "A :[100, 80, 60]  , B : [120, 80, 50]  \n",
    "[100*0.4 + 120*0.6, 80*0.4 + 80*0.6, 60*0.4 + 50*0.6]"
   ]
  },
  {
   "cell_type": "code",
   "execution_count": 44,
   "id": "31f434be",
   "metadata": {},
   "outputs": [],
   "source": [
    "from sklearn.metrics import mean_squared_error\n",
    "def get_rmse_pred(preds, y_test):\n",
    "    for key in preds.keys():\n",
    "        y_pred = preds[key]\n",
    "        mse = mean_squared_error(y_test, y_pred)\n",
    "        rmse = np.sqrt(mse)\n",
    "        print('RMSE of {0} model : {1:.6f}'.format(key, rmse))"
   ]
  },
  {
   "cell_type": "code",
   "execution_count": 60,
   "id": "2d2b1daf",
   "metadata": {},
   "outputs": [
    {
     "data": {
      "text/html": [
       "<style>#sk-container-id-7 {color: black;}#sk-container-id-7 pre{padding: 0;}#sk-container-id-7 div.sk-toggleable {background-color: white;}#sk-container-id-7 label.sk-toggleable__label {cursor: pointer;display: block;width: 100%;margin-bottom: 0;padding: 0.3em;box-sizing: border-box;text-align: center;}#sk-container-id-7 label.sk-toggleable__label-arrow:before {content: \"▸\";float: left;margin-right: 0.25em;color: #696969;}#sk-container-id-7 label.sk-toggleable__label-arrow:hover:before {color: black;}#sk-container-id-7 div.sk-estimator:hover label.sk-toggleable__label-arrow:before {color: black;}#sk-container-id-7 div.sk-toggleable__content {max-height: 0;max-width: 0;overflow: hidden;text-align: left;background-color: #f0f8ff;}#sk-container-id-7 div.sk-toggleable__content pre {margin: 0.2em;color: black;border-radius: 0.25em;background-color: #f0f8ff;}#sk-container-id-7 input.sk-toggleable__control:checked~div.sk-toggleable__content {max-height: 200px;max-width: 100%;overflow: auto;}#sk-container-id-7 input.sk-toggleable__control:checked~label.sk-toggleable__label-arrow:before {content: \"▾\";}#sk-container-id-7 div.sk-estimator input.sk-toggleable__control:checked~label.sk-toggleable__label {background-color: #d4ebff;}#sk-container-id-7 div.sk-label input.sk-toggleable__control:checked~label.sk-toggleable__label {background-color: #d4ebff;}#sk-container-id-7 input.sk-hidden--visually {border: 0;clip: rect(1px 1px 1px 1px);clip: rect(1px, 1px, 1px, 1px);height: 1px;margin: -1px;overflow: hidden;padding: 0;position: absolute;width: 1px;}#sk-container-id-7 div.sk-estimator {font-family: monospace;background-color: #f0f8ff;border: 1px dotted black;border-radius: 0.25em;box-sizing: border-box;margin-bottom: 0.5em;}#sk-container-id-7 div.sk-estimator:hover {background-color: #d4ebff;}#sk-container-id-7 div.sk-parallel-item::after {content: \"\";width: 100%;border-bottom: 1px solid gray;flex-grow: 1;}#sk-container-id-7 div.sk-label:hover label.sk-toggleable__label {background-color: #d4ebff;}#sk-container-id-7 div.sk-serial::before {content: \"\";position: absolute;border-left: 1px solid gray;box-sizing: border-box;top: 0;bottom: 0;left: 50%;z-index: 0;}#sk-container-id-7 div.sk-serial {display: flex;flex-direction: column;align-items: center;background-color: white;padding-right: 0.2em;padding-left: 0.2em;position: relative;}#sk-container-id-7 div.sk-item {position: relative;z-index: 1;}#sk-container-id-7 div.sk-parallel {display: flex;align-items: stretch;justify-content: center;background-color: white;position: relative;}#sk-container-id-7 div.sk-item::before, #sk-container-id-7 div.sk-parallel-item::before {content: \"\";position: absolute;border-left: 1px solid gray;box-sizing: border-box;top: 0;bottom: 0;left: 50%;z-index: -1;}#sk-container-id-7 div.sk-parallel-item {display: flex;flex-direction: column;z-index: 1;position: relative;background-color: white;}#sk-container-id-7 div.sk-parallel-item:first-child::after {align-self: flex-end;width: 50%;}#sk-container-id-7 div.sk-parallel-item:last-child::after {align-self: flex-start;width: 50%;}#sk-container-id-7 div.sk-parallel-item:only-child::after {width: 0;}#sk-container-id-7 div.sk-dashed-wrapped {border: 1px dashed gray;margin: 0 0.4em 0.5em 0.4em;box-sizing: border-box;padding-bottom: 0.4em;background-color: white;}#sk-container-id-7 div.sk-label label {font-family: monospace;font-weight: bold;display: inline-block;line-height: 1.2em;}#sk-container-id-7 div.sk-label-container {text-align: center;}#sk-container-id-7 div.sk-container {/* jupyter's `normalize.less` sets `[hidden] { display: none; }` but bootstrap.min.css set `[hidden] { display: none !important; }` so we also need the `!important` here to be able to override the default hidden behavior on the sphinx rendered scikit-learn.org. See: https://github.com/scikit-learn/scikit-learn/issues/21755 */display: inline-block !important;position: relative;}#sk-container-id-7 div.sk-text-repr-fallback {display: none;}</style><div id=\"sk-container-id-7\" class=\"sk-top-container\"><div class=\"sk-text-repr-fallback\"><pre>Ridge(alpha=8)</pre><b>In a Jupyter environment, please rerun this cell to show the HTML representation or trust the notebook. <br />On GitHub, the HTML representation is unable to render, please try loading this page with nbviewer.org.</b></div><div class=\"sk-container\" hidden><div class=\"sk-item\"><div class=\"sk-estimator sk-toggleable\"><input class=\"sk-toggleable__control sk-hidden--visually\" id=\"sk-estimator-id-7\" type=\"checkbox\" checked><label for=\"sk-estimator-id-7\" class=\"sk-toggleable__label sk-toggleable__label-arrow\">Ridge</label><div class=\"sk-toggleable__content\"><pre>Ridge(alpha=8)</pre></div></div></div></div></div>"
      ],
      "text/plain": [
       "Ridge(alpha=8)"
      ]
     },
     "execution_count": 60,
     "metadata": {},
     "output_type": "execute_result"
    },
    {
     "data": {
      "text/html": [
       "<style>#sk-container-id-8 {color: black;}#sk-container-id-8 pre{padding: 0;}#sk-container-id-8 div.sk-toggleable {background-color: white;}#sk-container-id-8 label.sk-toggleable__label {cursor: pointer;display: block;width: 100%;margin-bottom: 0;padding: 0.3em;box-sizing: border-box;text-align: center;}#sk-container-id-8 label.sk-toggleable__label-arrow:before {content: \"▸\";float: left;margin-right: 0.25em;color: #696969;}#sk-container-id-8 label.sk-toggleable__label-arrow:hover:before {color: black;}#sk-container-id-8 div.sk-estimator:hover label.sk-toggleable__label-arrow:before {color: black;}#sk-container-id-8 div.sk-toggleable__content {max-height: 0;max-width: 0;overflow: hidden;text-align: left;background-color: #f0f8ff;}#sk-container-id-8 div.sk-toggleable__content pre {margin: 0.2em;color: black;border-radius: 0.25em;background-color: #f0f8ff;}#sk-container-id-8 input.sk-toggleable__control:checked~div.sk-toggleable__content {max-height: 200px;max-width: 100%;overflow: auto;}#sk-container-id-8 input.sk-toggleable__control:checked~label.sk-toggleable__label-arrow:before {content: \"▾\";}#sk-container-id-8 div.sk-estimator input.sk-toggleable__control:checked~label.sk-toggleable__label {background-color: #d4ebff;}#sk-container-id-8 div.sk-label input.sk-toggleable__control:checked~label.sk-toggleable__label {background-color: #d4ebff;}#sk-container-id-8 input.sk-hidden--visually {border: 0;clip: rect(1px 1px 1px 1px);clip: rect(1px, 1px, 1px, 1px);height: 1px;margin: -1px;overflow: hidden;padding: 0;position: absolute;width: 1px;}#sk-container-id-8 div.sk-estimator {font-family: monospace;background-color: #f0f8ff;border: 1px dotted black;border-radius: 0.25em;box-sizing: border-box;margin-bottom: 0.5em;}#sk-container-id-8 div.sk-estimator:hover {background-color: #d4ebff;}#sk-container-id-8 div.sk-parallel-item::after {content: \"\";width: 100%;border-bottom: 1px solid gray;flex-grow: 1;}#sk-container-id-8 div.sk-label:hover label.sk-toggleable__label {background-color: #d4ebff;}#sk-container-id-8 div.sk-serial::before {content: \"\";position: absolute;border-left: 1px solid gray;box-sizing: border-box;top: 0;bottom: 0;left: 50%;z-index: 0;}#sk-container-id-8 div.sk-serial {display: flex;flex-direction: column;align-items: center;background-color: white;padding-right: 0.2em;padding-left: 0.2em;position: relative;}#sk-container-id-8 div.sk-item {position: relative;z-index: 1;}#sk-container-id-8 div.sk-parallel {display: flex;align-items: stretch;justify-content: center;background-color: white;position: relative;}#sk-container-id-8 div.sk-item::before, #sk-container-id-8 div.sk-parallel-item::before {content: \"\";position: absolute;border-left: 1px solid gray;box-sizing: border-box;top: 0;bottom: 0;left: 50%;z-index: -1;}#sk-container-id-8 div.sk-parallel-item {display: flex;flex-direction: column;z-index: 1;position: relative;background-color: white;}#sk-container-id-8 div.sk-parallel-item:first-child::after {align-self: flex-end;width: 50%;}#sk-container-id-8 div.sk-parallel-item:last-child::after {align-self: flex-start;width: 50%;}#sk-container-id-8 div.sk-parallel-item:only-child::after {width: 0;}#sk-container-id-8 div.sk-dashed-wrapped {border: 1px dashed gray;margin: 0 0.4em 0.5em 0.4em;box-sizing: border-box;padding-bottom: 0.4em;background-color: white;}#sk-container-id-8 div.sk-label label {font-family: monospace;font-weight: bold;display: inline-block;line-height: 1.2em;}#sk-container-id-8 div.sk-label-container {text-align: center;}#sk-container-id-8 div.sk-container {/* jupyter's `normalize.less` sets `[hidden] { display: none; }` but bootstrap.min.css set `[hidden] { display: none !important; }` so we also need the `!important` here to be able to override the default hidden behavior on the sphinx rendered scikit-learn.org. See: https://github.com/scikit-learn/scikit-learn/issues/21755 */display: inline-block !important;position: relative;}#sk-container-id-8 div.sk-text-repr-fallback {display: none;}</style><div id=\"sk-container-id-8\" class=\"sk-top-container\"><div class=\"sk-text-repr-fallback\"><pre>Lasso(alpha=0.001)</pre><b>In a Jupyter environment, please rerun this cell to show the HTML representation or trust the notebook. <br />On GitHub, the HTML representation is unable to render, please try loading this page with nbviewer.org.</b></div><div class=\"sk-container\" hidden><div class=\"sk-item\"><div class=\"sk-estimator sk-toggleable\"><input class=\"sk-toggleable__control sk-hidden--visually\" id=\"sk-estimator-id-8\" type=\"checkbox\" checked><label for=\"sk-estimator-id-8\" class=\"sk-toggleable__label sk-toggleable__label-arrow\">Lasso</label><div class=\"sk-toggleable__content\"><pre>Lasso(alpha=0.001)</pre></div></div></div></div></div>"
      ],
      "text/plain": [
       "Lasso(alpha=0.001)"
      ]
     },
     "execution_count": 60,
     "metadata": {},
     "output_type": "execute_result"
    },
    {
     "name": "stdout",
     "output_type": "stream",
     "text": [
      "RMSE of Ridge model : 0.110691\n",
      "RMSE of Lasso model : 0.107668\n",
      "RMSE of Composition model : 0.107695\n"
     ]
    }
   ],
   "source": [
    "ridge = Ridge(alpha=8)\n",
    "ridge.fit(X_train, y_train)\n",
    "ridge_pred = ridge.predict(X_test)\n",
    "\n",
    "lasso = Lasso(alpha=0.001)\n",
    "lasso.fit(X_train, y_train)\n",
    "lasso_pred = lasso.predict(X_test)\n",
    "\n",
    "ratio = 0.4\n",
    "\n",
    "comp_pred = ratio*ridge_pred + (1-ratio)*lasso_pred\n",
    "\n",
    "preds = {'Ridge' : ridge_pred, 'Lasso' : lasso_pred, 'Composition' : comp_pred}\n",
    "get_rmse_pred(preds, y_test)"
   ]
  },
  {
   "cell_type": "code",
   "execution_count": 46,
   "id": "2db69cb5",
   "metadata": {},
   "outputs": [],
   "source": [
    "######################################################################"
   ]
  },
  {
   "cell_type": "markdown",
   "id": "f67b15f2",
   "metadata": {},
   "source": [
    "### 6. 스태킹 앙상블 모델을 통한 회귀 예측 "
   ]
  },
  {
   "cell_type": "markdown",
   "id": "910741ec",
   "metadata": {},
   "source": [
    "스태킹 모델을 회귀에도 적용"
   ]
  },
  {
   "cell_type": "markdown",
   "id": "be92cc7b",
   "metadata": {},
   "source": [
    "스태킹(Stacking)\n",
    "- 개별적인 여러 알고리즘을 서로 결합해서 예측 결과를 도출한다는 점에서는\n",
    "- 배깅 및 부스팅 방식과 동일하지만\n",
    "- 큰 차이점은 개별 알고리즘으로 예측한 데이터를 기반으로\n",
    "- 다시 예측을 수행하는 것\n",
    "\n",
    "(1) 개별 알고리즘의 예측 결과 데이터 세트를  \n",
    "(2) 최종적인 메타 데이터 세트로 만들어  \n",
    "(3) 별도의 ML 알고리즘으로 최종 학습을 수행하고  \n",
    "(4) 테스트 데이터를 기반으로다시 최종 예측을 수행하는 방식  \n",
    "\n",
    "메타 모델\n",
    "- 개별 모델의 예측된 데이터 세트를 기반으로\n",
    "- 다시 학습하고 예측하는 방식"
   ]
  },
  {
   "cell_type": "markdown",
   "id": "74a42b77",
   "metadata": {},
   "source": [
    "스태킹 모델의 구현 방법 정리\n",
    "- 두 종류의 모델 필요  \n",
    "(1) 개별적인 기반 모델  \n",
    "(2) 개별 기반 모델의 예측 데이터를 학습 데이터로 학습하는 최종 메타 모델  \n",
    "\n",
    "스태킹 모델의 핵심\n",
    "- 여러 개별 모델의 예측 데이터를  \n",
    "- 각각 스태킹 형태로 결합해  \n",
    "- 최종 메타 모델의 학습용 피처 데이터 세트와 테스트용 피처 데이터 세트를 만드는 것  \n",
    "\n",
    "최종 메타 모델이 학습할 피처 데이터 세트  \n",
    "- 원본 학습 피처 데이터 세트로 학습한 개별 모델의 예측값을  \n",
    "- 스태킹 형태로 결합한 것  "
   ]
  },
  {
   "cell_type": "code",
   "execution_count": 47,
   "id": "05e4445b",
   "metadata": {},
   "outputs": [],
   "source": [
    "# 개별 기반 모델에서 최종 메타 모델이 사용할 학습/테스트용 데이터 세트를 생성하기 위한 함수\n",
    "# 개별 모델이 K-폴드 세트로 설정된 폴드 세트 내부에서\n",
    "# 원본 학습 데이터를 다시 추출해서 학습/예측 수행한 뒤 결과 저장\n",
    "# --> 추후 메타 모델의 학습 피처 데이터 세트로 이용\n",
    "\n",
    "from sklearn.model_selection import KFold\n",
    "from sklearn.metrics import mean_absolute_error\n",
    "\n",
    "def get_stacking_base_datasets(model, X_train_n, y_train_n, X_test_n, n_folds ):\n",
    "    # 지정된 n_folds값으로 KFold 생성.\n",
    "    kf = KFold(n_splits=n_folds, shuffle=True, random_state=0)\n",
    "    \n",
    "    #추후에 메타 모델이 사용할 학습 데이터 반환을 위한 넘파이 배열 초기화 \n",
    "    train_fold_pred = np.zeros((X_train_n.shape[0] ,1 ))\n",
    "    test_pred = np.zeros((X_test_n.shape[0],n_folds))\n",
    "    print(model.__class__.__name__ , ' model 시작 ')   \n",
    "    \n",
    "    for folder_counter, (train_index, valid_index) in enumerate(kf.split(X_train_n)):\n",
    "        #입력된 학습 데이터에서 기반 모델이 학습/예측할 폴드 데이터 셋 추출 \n",
    "        print('\\t 폴드 세트: ',folder_counter,' 시작 ')\n",
    "        X_tr = X_train_n[train_index] \n",
    "        y_tr = y_train_n[train_index] \n",
    "        X_te = X_train_n[valid_index]  \n",
    "        \n",
    "        #폴드 세트 내부에서 다시 만들어진 학습 데이터로 기반 모델의 학습 수행.\n",
    "        model.fit(X_tr , y_tr)       \n",
    "        #폴드 세트 내부에서 다시 만들어진 검증 데이터로 기반 모델 예측 후 데이터 저장.\n",
    "        train_fold_pred[valid_index, :] = model.predict(X_te).reshape(-1,1)\n",
    "        #입력된 원본 테스트 데이터를 폴드 세트내 학습된 기반 모델에서 예측 후 데이터 저장. \n",
    "        test_pred[:, folder_counter] = model.predict(X_test_n)\n",
    "            \n",
    "    # 폴드 세트 내에서 원본 테스트 데이터를 예측한 데이터를 평균하여 테스트 데이터로 생성 \n",
    "    test_pred_mean = np.mean(test_pred, axis=1).reshape(-1,1)    \n",
    "    \n",
    "    # train_fold_pred는 최종 메타 모델이 사용하는 학습 데이터, \n",
    "    # test_pred_mean은 테스트 데이터\n",
    "    return train_fold_pred , test_pred_mean\n"
   ]
  },
  {
   "cell_type": "code",
   "execution_count": 54,
   "id": "80182551",
   "metadata": {},
   "outputs": [
    {
     "name": "stdout",
     "output_type": "stream",
     "text": [
      "Ridge  model 시작 \n",
      "\t 폴드 세트:  0  시작 \n",
      "\t 폴드 세트:  1  시작 \n",
      "\t 폴드 세트:  2  시작 \n",
      "\t 폴드 세트:  3  시작 \n",
      "\t 폴드 세트:  4  시작 \n",
      "Lasso  model 시작 \n",
      "\t 폴드 세트:  0  시작 \n",
      "\t 폴드 세트:  1  시작 \n",
      "\t 폴드 세트:  2  시작 \n",
      "\t 폴드 세트:  3  시작 \n",
      "\t 폴드 세트:  4  시작 \n",
      "XGBRegressor  model 시작 \n",
      "\t 폴드 세트:  0  시작 \n",
      "\t 폴드 세트:  1  시작 \n",
      "\t 폴드 세트:  2  시작 \n",
      "\t 폴드 세트:  3  시작 \n",
      "\t 폴드 세트:  4  시작 \n",
      "LGBMRegressor  model 시작 \n",
      "\t 폴드 세트:  0  시작 \n",
      "[LightGBM] [Info] Total Bins 2826\n",
      "[LightGBM] [Info] Number of data points in the train set: 816, number of used features: 148\n",
      "[LightGBM] [Info] Start training from score 12.035489\n",
      "\t 폴드 세트:  1  시작 \n",
      "[LightGBM] [Info] Total Bins 2815\n",
      "[LightGBM] [Info] Number of data points in the train set: 816, number of used features: 149\n",
      "[LightGBM] [Info] Start training from score 12.024132\n",
      "\t 폴드 세트:  2  시작 \n",
      "[LightGBM] [Info] Total Bins 2815\n",
      "[LightGBM] [Info] Number of data points in the train set: 816, number of used features: 148\n",
      "[LightGBM] [Info] Start training from score 12.036231\n",
      "\t 폴드 세트:  3  시작 \n",
      "[LightGBM] [Info] Total Bins 2826\n",
      "[LightGBM] [Info] Number of data points in the train set: 816, number of used features: 152\n",
      "[LightGBM] [Info] Start training from score 12.030428\n",
      "\t 폴드 세트:  4  시작 \n",
      "[LightGBM] [Info] Total Bins 2826\n",
      "[LightGBM] [Info] Number of data points in the train set: 816, number of used features: 150\n",
      "[LightGBM] [Info] Start training from score 12.026227\n"
     ]
    }
   ],
   "source": [
    "# 4개의 모델에 대해 train, test 메타 데이터 생성\n",
    "# 4개의 모델에 대해 train, test 메타 데이터 생성\n",
    "X_train_n = X_train.values\n",
    "X_test_n = X_test.values\n",
    "y_train_n = y_train.values\n",
    "\n",
    "# 각 개별 기반 모델이 생성한 학습용/테스트용 데이터 반환 \n",
    "ridge_train, ridge_test = get_stacking_base_datasets(ridge, X_train_n, y_train_n, X_test_n, 5)\n",
    "lasso_train, lasso_test = get_stacking_base_datasets(lasso, X_train_n, y_train_n, X_test_n, 5)\n",
    "xgb_train, xgb_test = get_stacking_base_datasets(xgb_reg, X_train_n, y_train_n, X_test_n, 5)\n",
    "lgbm_train, lgbm_test = get_stacking_base_datasets(lgbm_reg, X_train_n, y_train_n, X_test_n, 5)"
   ]
  },
  {
   "cell_type": "code",
   "execution_count": 59,
   "id": "61d445a7",
   "metadata": {},
   "outputs": [
    {
     "data": {
      "text/html": [
       "<style>#sk-container-id-6 {color: black;}#sk-container-id-6 pre{padding: 0;}#sk-container-id-6 div.sk-toggleable {background-color: white;}#sk-container-id-6 label.sk-toggleable__label {cursor: pointer;display: block;width: 100%;margin-bottom: 0;padding: 0.3em;box-sizing: border-box;text-align: center;}#sk-container-id-6 label.sk-toggleable__label-arrow:before {content: \"▸\";float: left;margin-right: 0.25em;color: #696969;}#sk-container-id-6 label.sk-toggleable__label-arrow:hover:before {color: black;}#sk-container-id-6 div.sk-estimator:hover label.sk-toggleable__label-arrow:before {color: black;}#sk-container-id-6 div.sk-toggleable__content {max-height: 0;max-width: 0;overflow: hidden;text-align: left;background-color: #f0f8ff;}#sk-container-id-6 div.sk-toggleable__content pre {margin: 0.2em;color: black;border-radius: 0.25em;background-color: #f0f8ff;}#sk-container-id-6 input.sk-toggleable__control:checked~div.sk-toggleable__content {max-height: 200px;max-width: 100%;overflow: auto;}#sk-container-id-6 input.sk-toggleable__control:checked~label.sk-toggleable__label-arrow:before {content: \"▾\";}#sk-container-id-6 div.sk-estimator input.sk-toggleable__control:checked~label.sk-toggleable__label {background-color: #d4ebff;}#sk-container-id-6 div.sk-label input.sk-toggleable__control:checked~label.sk-toggleable__label {background-color: #d4ebff;}#sk-container-id-6 input.sk-hidden--visually {border: 0;clip: rect(1px 1px 1px 1px);clip: rect(1px, 1px, 1px, 1px);height: 1px;margin: -1px;overflow: hidden;padding: 0;position: absolute;width: 1px;}#sk-container-id-6 div.sk-estimator {font-family: monospace;background-color: #f0f8ff;border: 1px dotted black;border-radius: 0.25em;box-sizing: border-box;margin-bottom: 0.5em;}#sk-container-id-6 div.sk-estimator:hover {background-color: #d4ebff;}#sk-container-id-6 div.sk-parallel-item::after {content: \"\";width: 100%;border-bottom: 1px solid gray;flex-grow: 1;}#sk-container-id-6 div.sk-label:hover label.sk-toggleable__label {background-color: #d4ebff;}#sk-container-id-6 div.sk-serial::before {content: \"\";position: absolute;border-left: 1px solid gray;box-sizing: border-box;top: 0;bottom: 0;left: 50%;z-index: 0;}#sk-container-id-6 div.sk-serial {display: flex;flex-direction: column;align-items: center;background-color: white;padding-right: 0.2em;padding-left: 0.2em;position: relative;}#sk-container-id-6 div.sk-item {position: relative;z-index: 1;}#sk-container-id-6 div.sk-parallel {display: flex;align-items: stretch;justify-content: center;background-color: white;position: relative;}#sk-container-id-6 div.sk-item::before, #sk-container-id-6 div.sk-parallel-item::before {content: \"\";position: absolute;border-left: 1px solid gray;box-sizing: border-box;top: 0;bottom: 0;left: 50%;z-index: -1;}#sk-container-id-6 div.sk-parallel-item {display: flex;flex-direction: column;z-index: 1;position: relative;background-color: white;}#sk-container-id-6 div.sk-parallel-item:first-child::after {align-self: flex-end;width: 50%;}#sk-container-id-6 div.sk-parallel-item:last-child::after {align-self: flex-start;width: 50%;}#sk-container-id-6 div.sk-parallel-item:only-child::after {width: 0;}#sk-container-id-6 div.sk-dashed-wrapped {border: 1px dashed gray;margin: 0 0.4em 0.5em 0.4em;box-sizing: border-box;padding-bottom: 0.4em;background-color: white;}#sk-container-id-6 div.sk-label label {font-family: monospace;font-weight: bold;display: inline-block;line-height: 1.2em;}#sk-container-id-6 div.sk-label-container {text-align: center;}#sk-container-id-6 div.sk-container {/* jupyter's `normalize.less` sets `[hidden] { display: none; }` but bootstrap.min.css set `[hidden] { display: none !important; }` so we also need the `!important` here to be able to override the default hidden behavior on the sphinx rendered scikit-learn.org. See: https://github.com/scikit-learn/scikit-learn/issues/21755 */display: inline-block !important;position: relative;}#sk-container-id-6 div.sk-text-repr-fallback {display: none;}</style><div id=\"sk-container-id-6\" class=\"sk-top-container\"><div class=\"sk-text-repr-fallback\"><pre>Lasso(alpha=0.005)</pre><b>In a Jupyter environment, please rerun this cell to show the HTML representation or trust the notebook. <br />On GitHub, the HTML representation is unable to render, please try loading this page with nbviewer.org.</b></div><div class=\"sk-container\" hidden><div class=\"sk-item\"><div class=\"sk-estimator sk-toggleable\"><input class=\"sk-toggleable__control sk-hidden--visually\" id=\"sk-estimator-id-6\" type=\"checkbox\" checked><label for=\"sk-estimator-id-6\" class=\"sk-toggleable__label sk-toggleable__label-arrow\">Lasso</label><div class=\"sk-toggleable__content\"><pre>Lasso(alpha=0.005)</pre></div></div></div></div></div>"
      ],
      "text/plain": [
       "Lasso(alpha=0.005)"
      ]
     },
     "execution_count": 59,
     "metadata": {},
     "output_type": "execute_result"
    },
    {
     "name": "stdout",
     "output_type": "stream",
     "text": [
      "스태킹 회귀 모델의 최종 RMSE : 0.108940\n"
     ]
    }
   ],
   "source": [
    "# 최종 메타 데이터 결합 \n",
    "# 개별 모델이 반환한 학습 및 테스트용 데이터 세트를 Stacking 형태로 결합.  \n",
    "\n",
    "Stack_final_X_train = np.concatenate([ridge_train, lasso_train, xgb_train, lgbm_train], axis=1)\n",
    "Stack_final_X_test = np.concatenate([ridge_test, lasso_test, xgb_test, lgbm_test], axis=1)\n",
    "\n",
    "\n",
    "# 최종 메타 모델은 라쏘 모델을 적용\n",
    "meta_model_lasso = Lasso(alpha=0.005)\n",
    "\n",
    "# 기반 모델의 예측값을 기반으로 새롭게 만들어진\n",
    "# 학습/테스트 데이터로 학습/예측하고 평가 RMSE 확인\n",
    "meta_model_lasso.fit(Stack_final_X_train, y_train)\n",
    "final_y_pred = meta_model_lasso.predict(Stack_final_X_test)\n",
    "\n",
    "# 평가\n",
    "mse = mean_squared_error(y_test, final_y_pred)\n",
    "rmse = np.sqrt(mse)\n",
    "\n",
    "print('스태킹 회귀 모델의 최종 RMSE : %.6f'%rmse)"
   ]
  },
  {
   "cell_type": "code",
   "execution_count": null,
   "id": "9220f7cc",
   "metadata": {},
   "outputs": [],
   "source": []
  }
 ],
 "metadata": {
  "kernelspec": {
   "display_name": "Python 3 (ipykernel)",
   "language": "python",
   "name": "python3"
  },
  "language_info": {
   "codemirror_mode": {
    "name": "ipython",
    "version": 3
   },
   "file_extension": ".py",
   "mimetype": "text/x-python",
   "name": "python",
   "nbconvert_exporter": "python",
   "pygments_lexer": "ipython3",
   "version": "3.11.5"
  }
 },
 "nbformat": 4,
 "nbformat_minor": 5
}
