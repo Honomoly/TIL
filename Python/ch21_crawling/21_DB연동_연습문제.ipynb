{
 "cells": [
  {
   "cell_type": "code",
   "execution_count": 1,
   "id": "274d86f1",
   "metadata": {},
   "outputs": [
    {
     "data": {
      "text/plain": [
       "0"
      ]
     },
     "execution_count": 1,
     "metadata": {},
     "output_type": "execute_result"
    }
   ],
   "source": [
    "# (1) DB 연결\n",
    "import pymysql\n",
    "conn = pymysql.connect(host='localhost', port=3306, user='root', passwd='##', charset='utf8')\n",
    "cursor = conn.cursor()\n",
    "cursor.execute(\"USE sqldb4\")"
   ]
  },
  {
   "cell_type": "code",
   "execution_count": 2,
   "id": "a5f302ac",
   "metadata": {},
   "outputs": [
    {
     "data": {
      "text/plain": [
       "((1, '삼성 냉장고 비스포크', 1620000, '삼성전자', '새틴 코럴', 1),\n",
       " (2, 'LG 디오스 와인셀러', 1367000, 'LG전자', '검정', 1),\n",
       " (3, 'QLED 8K TV', 2175000, '삼성전자', '블랙', 1),\n",
       " (4, '올레드 TV 55', 799000, 'LG전자', '검정', 1),\n",
       " (5, 'UHD 커브드 65인치', 2250000, '삼성전자', '은색', 1),\n",
       " (6, '유아용 세발 자전거', 76000, '삼천리 자전거', '빨강', 3),\n",
       " (7, '로드 사이클 자전거', 150000, '알톤', '검정', 3),\n",
       " (8, '여성용 클래식 자전거', 100000, '알톤', '핑크', 3),\n",
       " (9, '노트북9 metal', 1390000, '도시바', '은색', 2),\n",
       " (10, 'HP 게이밍 노트북', 1200000, 'HP', '흰색', 2),\n",
       " (11, '32인치 LED 모니터', 299000, 'LG전자', '검정', 2),\n",
       " (12, '광시야각 LED 모니터', 195000, '삼성전자', '흰색', 2),\n",
       " (13, '등산배낭 옵티마', 68000, '밀레', '자주', 4),\n",
       " (14, '35L 등산배낭', 49000, '(주)셀파', '노랑', 4),\n",
       " (15, '원터치 자동 텐트', 58000, '이지트래블러', '그린', 4),\n",
       " (16, '그늘막 텐트', 33000, '밀레', '그린', 4))"
      ]
     },
     "execution_count": 2,
     "metadata": {},
     "output_type": "execute_result"
    }
   ],
   "source": [
    "# (2) prodcut 테이블에서 전체 상품 정보 출력\n",
    "sql = \"SELECT * FROM product\"\n",
    "cursor.execute(sql)\n",
    "cursor.fetchall()"
   ]
  },
  {
   "cell_type": "code",
   "execution_count": 3,
   "id": "85e1185a",
   "metadata": {},
   "outputs": [
    {
     "data": {
      "text/plain": [
       "((1, '삼성 냉장고 비스포크', 1620000, '삼성전자', '새틴 코럴', 1),\n",
       " (2, 'LG 디오스 와인셀러', 1367000, 'LG전자', '검정', 1),\n",
       " (3, 'QLED 8K TV', 2175000, '삼성전자', '블랙', 1),\n",
       " (5, 'UHD 커브드 65인치', 2250000, '삼성전자', '은색', 1),\n",
       " (9, '노트북9 metal', 1390000, '도시바', '은색', 2),\n",
       " (10, 'HP 게이밍 노트북', 1200000, 'HP', '흰색', 2))"
      ]
     },
     "execution_count": 3,
     "metadata": {},
     "output_type": "execute_result"
    }
   ],
   "source": [
    "# (3) 상품가격이 1,000,000원 이상인 상품만 출력\n",
    "sql = \"SELECT * FROM product WHERE prdPrice >= 1000000\"\n",
    "cursor.execute(sql)\n",
    "cursor.fetchall()"
   ]
  },
  {
   "cell_type": "code",
   "execution_count": 4,
   "id": "3a79cf66",
   "metadata": {},
   "outputs": [
    {
     "name": "stdout",
     "output_type": "stream",
     "text": [
      "제품번호 입력 : 17\n",
      "제품명 입력 : 아이폰15\n",
      "가격 입력 : 1600000\n",
      "제조사 입력 : Apple\n",
      "색상 입력 : 스타라이트\n",
      "카테고리번호 입력 : 2\n"
     ]
    }
   ],
   "source": [
    "# (4) 새로운 상품 등록 (입력 받아서)\n",
    "prdNo = input('제품번호 입력 : ')\n",
    "prdName = input('제품명 입력 : ')\n",
    "prdPrice = input('가격 입력 : ')\n",
    "prdMaker = input('제조사 입력 : ')\n",
    "prdColor = input('색상 입력 : ')\n",
    "ctgNo = input('카테고리번호 입력 : ')"
   ]
  },
  {
   "cell_type": "code",
   "execution_count": 5,
   "id": "b8ef67a1",
   "metadata": {},
   "outputs": [
    {
     "data": {
      "text/plain": [
       "1"
      ]
     },
     "execution_count": 5,
     "metadata": {},
     "output_type": "execute_result"
    }
   ],
   "source": [
    "sql = \"INSERT INTO product VALUES (%s, %s, %s, %s, %s, %s)\"\n",
    "values = (prdNo, prdName, prdPrice, prdMaker, prdColor, ctgNo)\n",
    "cursor.execute(sql, values)"
   ]
  },
  {
   "cell_type": "code",
   "execution_count": 6,
   "id": "5b6fa9f8",
   "metadata": {},
   "outputs": [
    {
     "data": {
      "text/plain": [
       "((1, '삼성 냉장고 비스포크', 1620000, '삼성전자', '새틴 코럴', 1),\n",
       " (2, 'LG 디오스 와인셀러', 1367000, 'LG전자', '검정', 1),\n",
       " (3, 'QLED 8K TV', 2175000, '삼성전자', '블랙', 1),\n",
       " (4, '올레드 TV 55', 799000, 'LG전자', '검정', 1),\n",
       " (5, 'UHD 커브드 65인치', 2250000, '삼성전자', '은색', 1),\n",
       " (6, '유아용 세발 자전거', 76000, '삼천리 자전거', '빨강', 3),\n",
       " (7, '로드 사이클 자전거', 150000, '알톤', '검정', 3),\n",
       " (8, '여성용 클래식 자전거', 100000, '알톤', '핑크', 3),\n",
       " (9, '노트북9 metal', 1390000, '도시바', '은색', 2),\n",
       " (10, 'HP 게이밍 노트북', 1200000, 'HP', '흰색', 2),\n",
       " (11, '32인치 LED 모니터', 299000, 'LG전자', '검정', 2),\n",
       " (12, '광시야각 LED 모니터', 195000, '삼성전자', '흰색', 2),\n",
       " (13, '등산배낭 옵티마', 68000, '밀레', '자주', 4),\n",
       " (14, '35L 등산배낭', 49000, '(주)셀파', '노랑', 4),\n",
       " (15, '원터치 자동 텐트', 58000, '이지트래블러', '그린', 4),\n",
       " (16, '그늘막 텐트', 33000, '밀레', '그린', 4),\n",
       " (17, '아이폰15', 1600000, 'Apple', '스타라이트', 2))"
      ]
     },
     "execution_count": 6,
     "metadata": {},
     "output_type": "execute_result"
    }
   ],
   "source": [
    "cursor.execute(\"SELECT * FROM product\")\n",
    "cursor.fetchall()"
   ]
  },
  {
   "cell_type": "code",
   "execution_count": 7,
   "id": "7a5b2541",
   "metadata": {},
   "outputs": [
    {
     "data": {
      "text/plain": [
       "1"
      ]
     },
     "execution_count": 7,
     "metadata": {},
     "output_type": "execute_result"
    }
   ],
   "source": [
    "# (5) 상품번호가 10인 상품의 가격을 1,000,000원으로 수정\n",
    "sql = \"UPDATE product SET prdPrice='1000000' WHERE prdNo='10'\"\n",
    "cursor.execute(sql)"
   ]
  },
  {
   "cell_type": "code",
   "execution_count": 8,
   "id": "58994c96",
   "metadata": {},
   "outputs": [
    {
     "data": {
      "text/plain": [
       "((1, '삼성 냉장고 비스포크', 1620000, '삼성전자', '새틴 코럴', 1),\n",
       " (2, 'LG 디오스 와인셀러', 1367000, 'LG전자', '검정', 1),\n",
       " (3, 'QLED 8K TV', 2175000, '삼성전자', '블랙', 1),\n",
       " (4, '올레드 TV 55', 799000, 'LG전자', '검정', 1),\n",
       " (5, 'UHD 커브드 65인치', 2250000, '삼성전자', '은색', 1),\n",
       " (6, '유아용 세발 자전거', 76000, '삼천리 자전거', '빨강', 3),\n",
       " (7, '로드 사이클 자전거', 150000, '알톤', '검정', 3),\n",
       " (8, '여성용 클래식 자전거', 100000, '알톤', '핑크', 3),\n",
       " (9, '노트북9 metal', 1390000, '도시바', '은색', 2),\n",
       " (10, 'HP 게이밍 노트북', 1000000, 'HP', '흰색', 2),\n",
       " (11, '32인치 LED 모니터', 299000, 'LG전자', '검정', 2),\n",
       " (12, '광시야각 LED 모니터', 195000, '삼성전자', '흰색', 2),\n",
       " (13, '등산배낭 옵티마', 68000, '밀레', '자주', 4),\n",
       " (14, '35L 등산배낭', 49000, '(주)셀파', '노랑', 4),\n",
       " (15, '원터치 자동 텐트', 58000, '이지트래블러', '그린', 4),\n",
       " (16, '그늘막 텐트', 33000, '밀레', '그린', 4),\n",
       " (17, '아이폰15', 1600000, 'Apple', '스타라이트', 2))"
      ]
     },
     "execution_count": 8,
     "metadata": {},
     "output_type": "execute_result"
    }
   ],
   "source": [
    "cursor.execute(\"SELECT * FROM product\")\n",
    "cursor.fetchall()"
   ]
  },
  {
   "cell_type": "code",
   "execution_count": 9,
   "id": "b21d9838",
   "metadata": {},
   "outputs": [
    {
     "name": "stdout",
     "output_type": "stream",
     "text": [
      "삭제할 상품번호 입력 : 15\n"
     ]
    },
    {
     "data": {
      "text/plain": [
       "1"
      ]
     },
     "execution_count": 9,
     "metadata": {},
     "output_type": "execute_result"
    }
   ],
   "source": [
    "# (6) 상품번호가 15인 상품 삭제 (상품번호 입력 받아서)\n",
    "prdNo = input('삭제할 상품번호 입력 : ')\n",
    "sql = \"DELETE FROM product WHERE prdNo=\" + prdNo\n",
    "cursor.execute(sql)"
   ]
  },
  {
   "cell_type": "code",
   "execution_count": 10,
   "id": "0fad0f0c",
   "metadata": {
    "scrolled": true
   },
   "outputs": [
    {
     "data": {
      "text/plain": [
       "((1, '삼성 냉장고 비스포크', 1620000, '삼성전자', '새틴 코럴', 1),\n",
       " (2, 'LG 디오스 와인셀러', 1367000, 'LG전자', '검정', 1),\n",
       " (3, 'QLED 8K TV', 2175000, '삼성전자', '블랙', 1),\n",
       " (4, '올레드 TV 55', 799000, 'LG전자', '검정', 1),\n",
       " (5, 'UHD 커브드 65인치', 2250000, '삼성전자', '은색', 1),\n",
       " (6, '유아용 세발 자전거', 76000, '삼천리 자전거', '빨강', 3),\n",
       " (7, '로드 사이클 자전거', 150000, '알톤', '검정', 3),\n",
       " (8, '여성용 클래식 자전거', 100000, '알톤', '핑크', 3),\n",
       " (9, '노트북9 metal', 1390000, '도시바', '은색', 2),\n",
       " (10, 'HP 게이밍 노트북', 1000000, 'HP', '흰색', 2),\n",
       " (11, '32인치 LED 모니터', 299000, 'LG전자', '검정', 2),\n",
       " (12, '광시야각 LED 모니터', 195000, '삼성전자', '흰색', 2),\n",
       " (13, '등산배낭 옵티마', 68000, '밀레', '자주', 4),\n",
       " (14, '35L 등산배낭', 49000, '(주)셀파', '노랑', 4),\n",
       " (16, '그늘막 텐트', 33000, '밀레', '그린', 4),\n",
       " (17, '아이폰15', 1600000, 'Apple', '스타라이트', 2))"
      ]
     },
     "execution_count": 10,
     "metadata": {},
     "output_type": "execute_result"
    }
   ],
   "source": [
    "cursor.execute(\"SELECT * FROM product\")\n",
    "cursor.fetchall()"
   ]
  },
  {
   "cell_type": "code",
   "execution_count": 11,
   "id": "e5cdba87",
   "metadata": {},
   "outputs": [],
   "source": [
    "cursor.close()\n",
    "conn.close()"
   ]
  }
 ],
 "metadata": {
  "kernelspec": {
   "display_name": "Python 3 (ipykernel)",
   "language": "python",
   "name": "python3"
  },
  "language_info": {
   "codemirror_mode": {
    "name": "ipython",
    "version": 3
   },
   "file_extension": ".py",
   "mimetype": "text/x-python",
   "name": "python",
   "nbconvert_exporter": "python",
   "pygments_lexer": "ipython3",
   "version": "3.11.4"
  }
 },
 "nbformat": 4,
 "nbformat_minor": 5
}
