{
 "cells": [
  {
   "cell_type": "markdown",
   "id": "92f136b1",
   "metadata": {},
   "source": [
    "### XPATH\n",
    " - XML Path Language\n",
    " - XML 문서의 특정 요소에 접근하기 위한 경로지정 단어"
   ]
  },
  {
   "cell_type": "code",
   "execution_count": 1,
   "id": "f81e9ec7",
   "metadata": {},
   "outputs": [],
   "source": [
    "# 서울시 주유소 가격정보를 가진 엑셀 파일 추출하기\n",
    "url = 'https://www.opinet.co.kr/searRgSelect.do'"
   ]
  },
  {
   "cell_type": "code",
   "execution_count": 2,
   "id": "c2c40a04",
   "metadata": {},
   "outputs": [],
   "source": [
    "from IPython.core.interactiveshell import InteractiveShell\n",
    "InteractiveShell.ast_node_interactivity=\"all\"\n",
    "from urllib.request import urlopen\n",
    "import requests\n",
    "import bs4\n",
    "import pandas as pd\n",
    "import time\n",
    "import selenium\n",
    "from selenium import webdriver\n",
    "from selenium.webdriver.common.by import By # 셀레니움 4.0부터 포함된 객체(모듈)\n",
    "\n",
    "from selenium.webdriver.chrome.service import Service\n",
    "from webdriver_manager.chrome import ChromeDriverManager\n",
    "\n",
    "chrome_options = webdriver.ChromeOptions()\n",
    "driver = webdriver.Chrome(service=Service(ChromeDriverManager().install()), options=chrome_options)"
   ]
  },
  {
   "cell_type": "code",
   "execution_count": 3,
   "id": "6e424b28",
   "metadata": {},
   "outputs": [],
   "source": [
    "driver.get(url)\n",
    "time.sleep(2)\n",
    "# 다른 지역에서 접속시 페이지 열리면 서울 강남구로 설정\n",
    "driver.find_element(By.XPATH, '//*[@id=\"SIDO_NM0\"]').send_keys('서울특별시')\n",
    "driver.find_element(By.XPATH, '//*[@id=\"SIGUNGU_NM0\"]').send_keys('강남구')"
   ]
  },
  {
   "cell_type": "markdown",
   "id": "b112933b",
   "metadata": {},
   "source": [
    "- XPATH값 복사하기\n",
    "- 개발자도구 열고 시/군/구 select 태그 선택\n",
    "- 우클릭 후 Copy Xpath\n",
    "- //*[@id=\"SIGUNGU_NM0\"]"
   ]
  },
  {
   "cell_type": "code",
   "execution_count": null,
   "id": "5f6b6356",
   "metadata": {},
   "outputs": [],
   "source": [
    "gu_list_raw = driver.find_element(By.XPATH, '//*[@id=\"SIGUNGU_NM0\"]')\n",
    "gu_list = gu_list_raw.find_elements(By.TAG_NAME, 'option')\n",
    "gu_name_list = [opt.get_attribute('value') for opt in gu_list]\n",
    "del gu_name_list[0]\n",
    "gu_name_list"
   ]
  },
  {
   "cell_type": "code",
   "execution_count": null,
   "id": "8e781600",
   "metadata": {},
   "outputs": [],
   "source": [
    "# 엑셀저장 버튼도 XPATH 복사\n",
    "# btn_xpath = '//*[@id=\"glopopd_excel\"]'\n",
    "# excel_btn = driver.find_element(By.XPATH, btn_xpath)\n",
    "# excel_btn.click()"
   ]
  },
  {
   "cell_type": "code",
   "execution_count": null,
   "id": "9091429b",
   "metadata": {},
   "outputs": [],
   "source": [
    "# 프로그래스바 출력\n",
    "from tqdm.notebook import tqdm\n",
    "import time"
   ]
  },
  {
   "cell_type": "code",
   "execution_count": null,
   "id": "b27aedcd",
   "metadata": {},
   "outputs": [],
   "source": [
    "btn_xpath = '//*[@id=\"glopopd_excel\"]'\n",
    "for gu in tqdm(gu_name_list): # 구별 페이지에서 데이터 추출 진행상황 표시\n",
    "    sigungu_sel = driver.find_element(By.XPATH, '//*[@id=\"SIGUNGU_NM0\"]')\n",
    "    sigungu_sel.send_keys(gu)\n",
    "    time.sleep(1)\n",
    "    excel_btn = driver.find_element(By.XPATH, btn_xpath)\n",
    "    excel_btn.click()\n",
    "    time.sleep(1)"
   ]
  },
  {
   "cell_type": "code",
   "execution_count": null,
   "id": "b65bfc91",
   "metadata": {},
   "outputs": [],
   "source": []
  }
 ],
 "metadata": {
  "kernelspec": {
   "display_name": "Python 3 (ipykernel)",
   "language": "python",
   "name": "python3"
  },
  "language_info": {
   "codemirror_mode": {
    "name": "ipython",
    "version": 3
   },
   "file_extension": ".py",
   "mimetype": "text/x-python",
   "name": "python",
   "nbconvert_exporter": "python",
   "pygments_lexer": "ipython3",
   "version": "3.11.4"
  }
 },
 "nbformat": 4,
 "nbformat_minor": 5
}
