{
 "cells": [
  {
   "cell_type": "code",
   "execution_count": 1,
   "id": "4685b821",
   "metadata": {},
   "outputs": [],
   "source": [
    "from urllib.request import urlopen\n",
    "import bs4"
   ]
  },
  {
   "cell_type": "code",
   "execution_count": 2,
   "id": "724233e9",
   "metadata": {},
   "outputs": [],
   "source": [
    "from IPython.core.interactiveshell import InteractiveShell\n",
    "InteractiveShell.ast_node_interactivity=\"all\""
   ]
  },
  {
   "cell_type": "markdown",
   "id": "40466b1b",
   "metadata": {},
   "source": [
    "# 사이트 크롤링 : https://www.tistory.com/"
   ]
  },
  {
   "cell_type": "code",
   "execution_count": 3,
   "id": "863ffc27",
   "metadata": {},
   "outputs": [],
   "source": [
    "url = 'https://www.tistory.com/'\n",
    "html = urlopen(url)\n",
    "bs_obj = bs4.BeautifulSoup(html, 'html.parser')"
   ]
  },
  {
   "cell_type": "code",
   "execution_count": 4,
   "id": "4573aea9",
   "metadata": {},
   "outputs": [
    {
     "data": {
      "text/plain": [
       "<div class=\"gnb_tistory\" id=\"kakaoGnb\" role=\"navigation\">\n",
       "<h2 class=\"screen_out\">서비스 주요 메뉴</h2>\n",
       "<ul class=\"list_gnb\">\n",
       "<li><a class=\"link_gnb\" href=\"/feed\">피드</a></li>\n",
       "<li><a class=\"link_gnb\" href=\"/category\">스토리</a></li>\n",
       "<li><a class=\"link_gnb\" href=\"/skin\">스킨</a></li>\n",
       "<li><a class=\"link_gnb\" href=\"/community\">포럼</a></li>\n",
       "</ul>\n",
       "</div>"
      ]
     },
     "execution_count": 4,
     "metadata": {},
     "output_type": "execute_result"
    }
   ],
   "source": [
    "tistory_menu = bs_obj.find('div', {'id':'kakaoGnb'})\n",
    "tistory_menu"
   ]
  },
  {
   "cell_type": "code",
   "execution_count": 5,
   "id": "00173775",
   "metadata": {},
   "outputs": [
    {
     "data": {
      "text/plain": [
       "<ul class=\"list_gnb\">\n",
       "<li><a class=\"link_gnb\" href=\"/feed\">피드</a></li>\n",
       "<li><a class=\"link_gnb\" href=\"/category\">스토리</a></li>\n",
       "<li><a class=\"link_gnb\" href=\"/skin\">스킨</a></li>\n",
       "<li><a class=\"link_gnb\" href=\"/community\">포럼</a></li>\n",
       "</ul>"
      ]
     },
     "execution_count": 5,
     "metadata": {},
     "output_type": "execute_result"
    }
   ],
   "source": [
    "ul = bs_obj.find('ul', {'class':'list_gnb'})\n",
    "ul"
   ]
  },
  {
   "cell_type": "code",
   "execution_count": 6,
   "id": "21c5e8a0",
   "metadata": {},
   "outputs": [
    {
     "data": {
      "text/plain": [
       "<a class=\"link_gnb\" href=\"/feed\">피드</a>"
      ]
     },
     "execution_count": 6,
     "metadata": {},
     "output_type": "execute_result"
    }
   ],
   "source": [
    "a_tag = bs_obj.find('a', {'class':'link_gnb'})\n",
    "a_tag"
   ]
  },
  {
   "cell_type": "code",
   "execution_count": 7,
   "id": "bf69795e",
   "metadata": {},
   "outputs": [
    {
     "name": "stdout",
     "output_type": "stream",
     "text": [
      "[<a class=\"link_gnb\" href=\"/feed\">피드</a>] 피드\n",
      "[<a class=\"link_gnb\" href=\"/category\">스토리</a>] 스토리\n",
      "[<a class=\"link_gnb\" href=\"/skin\">스킨</a>] 스킨\n",
      "[<a class=\"link_gnb\" href=\"/community\">포럼</a>] 포럼\n"
     ]
    }
   ],
   "source": [
    "li_list = tistory_menu.select('li')\n",
    "for li in li_list:\n",
    "    print(li.select('a'), li.text)"
   ]
  },
  {
   "cell_type": "code",
   "execution_count": 8,
   "id": "43ed086c",
   "metadata": {},
   "outputs": [
    {
     "name": "stdout",
     "output_type": "stream",
     "text": [
      "<span class=\"tit_question\">메뉴가 궁금할 땐</span> 메뉴가 궁금할 땐\n",
      "<span class=\"tit_question\">사용하다 궁금할 땐</span> 사용하다 궁금할 땐\n",
      "<span class=\"tit_question\">정책이 궁금할 땐</span> 정책이 궁금할 땐\n",
      "<span class=\"tit_question\">도움이 필요할 땐</span> 도움이 필요할 땐\n"
     ]
    }
   ],
   "source": [
    "for qs in bs_obj.select('span.tit_question'):\n",
    "    print(qs, qs.text)"
   ]
  },
  {
   "cell_type": "markdown",
   "id": "dd7ae805",
   "metadata": {},
   "source": [
    "##################네이버 드가자###################"
   ]
  },
  {
   "cell_type": "code",
   "execution_count": 9,
   "id": "b38b43ce",
   "metadata": {},
   "outputs": [],
   "source": [
    "url = 'https://news.naver.com/'\n",
    "html = urlopen(url)\n",
    "bs_obj = bs4.BeautifulSoup(html, 'html.parser')"
   ]
  },
  {
   "cell_type": "code",
   "execution_count": 10,
   "id": "9abd7a66",
   "metadata": {},
   "outputs": [],
   "source": [
    "# 클래스 Nlnb_menu_list\n",
    "ul = bs_obj.select('ul.Nlnb_menu_list')"
   ]
  },
  {
   "cell_type": "code",
   "execution_count": 11,
   "id": "fb734182",
   "metadata": {},
   "outputs": [
    {
     "name": "stdout",
     "output_type": "stream",
     "text": [
      "언론사별  :  https://news.naver.com/?viewType=pc\n",
      "정치  :  https://news.naver.com/main/main.naver?mode=LSD&mid=shm&sid1=100\n",
      "경제  :  https://news.naver.com/main/main.naver?mode=LSD&mid=shm&sid1=101\n",
      "사회  :  https://news.naver.com/main/main.naver?mode=LSD&mid=shm&sid1=102\n",
      "생활/문화  :  https://news.naver.com/main/main.naver?mode=LSD&mid=shm&sid1=103\n",
      "IT/과학  :  https://news.naver.com/main/main.naver?mode=LSD&mid=shm&sid1=105\n",
      "세계  :  https://news.naver.com/main/main.naver?mode=LSD&mid=shm&sid1=104\n",
      "랭킹  :  https://news.naver.com/main/ranking/popularDay.naver\n",
      "신문보기  :  https://news.naver.com/newspaper/home?viewType=pc\n",
      "오피니언  :  https://news.naver.com/opinion/home\n",
      "TV  :  https://news.naver.com/main/tv/index.naver?mid=tvh\n",
      "팩트체크  :  https://news.naver.com/main/factcheck/main.naver\n",
      "알고리즘 안내  :  https://media.naver.com/algorithm\n"
     ]
    }
   ],
   "source": [
    "for lis in ul[0].select('li'):\n",
    "    print(lis.find('span').text, \" : \", lis.find('a')['href'])"
   ]
  },
  {
   "cell_type": "code",
   "execution_count": 12,
   "id": "c78ba3b8",
   "metadata": {},
   "outputs": [],
   "source": [
    "# 데이터를 csv파일로 저장\n",
    "# (1) 리스트화\n",
    "section = []\n",
    "link = []\n",
    "for lis in ul[0].select('li'):\n",
    "    section.append(lis.find('span').text)\n",
    "    link.append(lis.find('a')['href'])"
   ]
  },
  {
   "cell_type": "code",
   "execution_count": 13,
   "id": "ac19001b",
   "metadata": {},
   "outputs": [
    {
     "data": {
      "text/html": [
       "<div>\n",
       "<style scoped>\n",
       "    .dataframe tbody tr th:only-of-type {\n",
       "        vertical-align: middle;\n",
       "    }\n",
       "\n",
       "    .dataframe tbody tr th {\n",
       "        vertical-align: top;\n",
       "    }\n",
       "\n",
       "    .dataframe thead th {\n",
       "        text-align: right;\n",
       "    }\n",
       "</style>\n",
       "<table border=\"1\" class=\"dataframe\">\n",
       "  <thead>\n",
       "    <tr style=\"text-align: right;\">\n",
       "      <th></th>\n",
       "      <th>section</th>\n",
       "      <th>link</th>\n",
       "    </tr>\n",
       "  </thead>\n",
       "  <tbody>\n",
       "    <tr>\n",
       "      <th>0</th>\n",
       "      <td>언론사별</td>\n",
       "      <td>https://news.naver.com/?viewType=pc</td>\n",
       "    </tr>\n",
       "    <tr>\n",
       "      <th>1</th>\n",
       "      <td>정치</td>\n",
       "      <td>https://news.naver.com/main/main.naver?mode=LS...</td>\n",
       "    </tr>\n",
       "    <tr>\n",
       "      <th>2</th>\n",
       "      <td>경제</td>\n",
       "      <td>https://news.naver.com/main/main.naver?mode=LS...</td>\n",
       "    </tr>\n",
       "    <tr>\n",
       "      <th>3</th>\n",
       "      <td>사회</td>\n",
       "      <td>https://news.naver.com/main/main.naver?mode=LS...</td>\n",
       "    </tr>\n",
       "    <tr>\n",
       "      <th>4</th>\n",
       "      <td>생활/문화</td>\n",
       "      <td>https://news.naver.com/main/main.naver?mode=LS...</td>\n",
       "    </tr>\n",
       "    <tr>\n",
       "      <th>5</th>\n",
       "      <td>IT/과학</td>\n",
       "      <td>https://news.naver.com/main/main.naver?mode=LS...</td>\n",
       "    </tr>\n",
       "    <tr>\n",
       "      <th>6</th>\n",
       "      <td>세계</td>\n",
       "      <td>https://news.naver.com/main/main.naver?mode=LS...</td>\n",
       "    </tr>\n",
       "    <tr>\n",
       "      <th>7</th>\n",
       "      <td>랭킹</td>\n",
       "      <td>https://news.naver.com/main/ranking/popularDay...</td>\n",
       "    </tr>\n",
       "    <tr>\n",
       "      <th>8</th>\n",
       "      <td>신문보기</td>\n",
       "      <td>https://news.naver.com/newspaper/home?viewType=pc</td>\n",
       "    </tr>\n",
       "    <tr>\n",
       "      <th>9</th>\n",
       "      <td>오피니언</td>\n",
       "      <td>https://news.naver.com/opinion/home</td>\n",
       "    </tr>\n",
       "    <tr>\n",
       "      <th>10</th>\n",
       "      <td>TV</td>\n",
       "      <td>https://news.naver.com/main/tv/index.naver?mid...</td>\n",
       "    </tr>\n",
       "    <tr>\n",
       "      <th>11</th>\n",
       "      <td>팩트체크</td>\n",
       "      <td>https://news.naver.com/main/factcheck/main.naver</td>\n",
       "    </tr>\n",
       "    <tr>\n",
       "      <th>12</th>\n",
       "      <td>알고리즘 안내</td>\n",
       "      <td>https://media.naver.com/algorithm</td>\n",
       "    </tr>\n",
       "  </tbody>\n",
       "</table>\n",
       "</div>"
      ],
      "text/plain": [
       "    section                                               link\n",
       "0      언론사별                https://news.naver.com/?viewType=pc\n",
       "1        정치  https://news.naver.com/main/main.naver?mode=LS...\n",
       "2        경제  https://news.naver.com/main/main.naver?mode=LS...\n",
       "3        사회  https://news.naver.com/main/main.naver?mode=LS...\n",
       "4     생활/문화  https://news.naver.com/main/main.naver?mode=LS...\n",
       "5     IT/과학  https://news.naver.com/main/main.naver?mode=LS...\n",
       "6        세계  https://news.naver.com/main/main.naver?mode=LS...\n",
       "7        랭킹  https://news.naver.com/main/ranking/popularDay...\n",
       "8      신문보기  https://news.naver.com/newspaper/home?viewType=pc\n",
       "9      오피니언                https://news.naver.com/opinion/home\n",
       "10       TV  https://news.naver.com/main/tv/index.naver?mid...\n",
       "11     팩트체크   https://news.naver.com/main/factcheck/main.naver\n",
       "12  알고리즘 안내                  https://media.naver.com/algorithm"
      ]
     },
     "execution_count": 13,
     "metadata": {},
     "output_type": "execute_result"
    }
   ],
   "source": [
    "# (2) 데이터프레임 생성\n",
    "import pandas as pd\n",
    "\n",
    "# pd.DataFrame({'컬럼명':데이터, '컬럼명':데이터, ...})\n",
    "news_section_df = pd.DataFrame({'section':section, 'link':link})\n",
    "news_section_df"
   ]
  },
  {
   "cell_type": "code",
   "execution_count": 14,
   "id": "d9fb3e1d",
   "metadata": {},
   "outputs": [],
   "source": [
    "# (3) 파일로 저장\n",
    "# 데이터프레임.to_csv('파일경로')\n",
    "news_section_df.to_csv('crawl_data/naver_news_section.csv', index=0) # 인덱스 없이 저장"
   ]
  },
  {
   "cell_type": "code",
   "execution_count": null,
   "id": "2d52c530",
   "metadata": {},
   "outputs": [],
   "source": []
  }
 ],
 "metadata": {
  "kernelspec": {
   "display_name": "Python 3 (ipykernel)",
   "language": "python",
   "name": "python3"
  },
  "language_info": {
   "codemirror_mode": {
    "name": "ipython",
    "version": 3
   },
   "file_extension": ".py",
   "mimetype": "text/x-python",
   "name": "python",
   "nbconvert_exporter": "python",
   "pygments_lexer": "ipython3",
   "version": "3.11.5"
  }
 },
 "nbformat": 4,
 "nbformat_minor": 5
}
