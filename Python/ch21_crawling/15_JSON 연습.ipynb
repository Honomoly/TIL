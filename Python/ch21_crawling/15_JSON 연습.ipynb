{
 "cells": [
  {
   "cell_type": "markdown",
   "id": "5a0d6069",
   "metadata": {},
   "source": [
    "### JSON (JavaScript Object Notation)\n",
    " - 자바스크립트 객체 표기법\n",
    " - key와 value 값이 쌍으로 구성된 형태의 객체 표기법\n",
    " - 클라이언트와 서버 사이에서 정보를 교환하기 위한 목적으로 사용\n",
    " - XML 표기보다 간단\n",
    " - 파일 확장명 : json (예: data.json)\n",
    " - ‘제이선’, ‘제이썬’, ‘제이슨’ 등으로 읽음"
   ]
  },
  {
   "cell_type": "code",
   "execution_count": 1,
   "id": "17a4b03b",
   "metadata": {},
   "outputs": [],
   "source": [
    "from IPython.core.interactiveshell import InteractiveShell\n",
    "InteractiveShell.ast_node_interactivity=\"all\"\n",
    "\n",
    "import json"
   ]
  },
  {
   "cell_type": "code",
   "execution_count": 2,
   "id": "e70229c3",
   "metadata": {},
   "outputs": [
    {
     "data": {
      "text/plain": [
       "{'name': '홍길동', 'age': '33'}"
      ]
     },
     "execution_count": 2,
     "metadata": {},
     "output_type": "execute_result"
    },
    {
     "data": {
      "text/plain": [
       "dict"
      ]
     },
     "execution_count": 2,
     "metadata": {},
     "output_type": "execute_result"
    }
   ],
   "source": [
    "# JSON 형태의 문자열 / 딕셔너리 형태\n",
    "json_str = '{\"name\" : \"홍길동\", \"age\" : \"33\"}'\n",
    "\n",
    "# JSON 형식의 문자열을 JSON 객체로 변환 / loads() 메소드\n",
    "json_obj = json.loads(json_str)\n",
    "json_obj\n",
    "type(json_obj)"
   ]
  },
  {
   "cell_type": "code",
   "execution_count": 3,
   "id": "aa6c99e9",
   "metadata": {},
   "outputs": [
    {
     "data": {
      "text/plain": [
       "'홍길동'"
      ]
     },
     "execution_count": 3,
     "metadata": {},
     "output_type": "execute_result"
    },
    {
     "data": {
      "text/plain": [
       "'33'"
      ]
     },
     "execution_count": 3,
     "metadata": {},
     "output_type": "execute_result"
    }
   ],
   "source": [
    "# get()\n",
    "json_obj.get('name')\n",
    "json_obj.get('age')"
   ]
  },
  {
   "cell_type": "code",
   "execution_count": 4,
   "id": "d1152bf1",
   "metadata": {},
   "outputs": [
    {
     "data": {
      "text/plain": [
       "'홍길동'"
      ]
     },
     "execution_count": 4,
     "metadata": {},
     "output_type": "execute_result"
    },
    {
     "data": {
      "text/plain": [
       "'33'"
      ]
     },
     "execution_count": 4,
     "metadata": {},
     "output_type": "execute_result"
    }
   ],
   "source": [
    "# key 사용\n",
    "json_obj['name']\n",
    "json_obj['age']"
   ]
  },
  {
   "cell_type": "code",
   "execution_count": 11,
   "id": "2fee23e5",
   "metadata": {},
   "outputs": [
    {
     "data": {
      "text/plain": [
       "{'fruits': [{'fruit': 'apple'}, {'fruit': 'pear'}, {'fruit': 'banana'}],\n",
       " 'prices': [{'price': '1000'}, {'price': '2000'}, {'price': '3000'}]}"
      ]
     },
     "execution_count": 11,
     "metadata": {},
     "output_type": "execute_result"
    }
   ],
   "source": [
    "json_str = '''{\n",
    "    \"fruits\" : [{\"fruit\" : \"apple\"}, {\"fruit\" : \"pear\"}, {\"fruit\" : \"banana\"}],\n",
    "    \"prices\" : [{\"price\" : \"1000\"}, {\"price\" : \"2000\"}, {\"price\" : \"3000\"}]\n",
    "}'''\n",
    "\n",
    "json_obj = json.loads(json_str)\n",
    "json_obj"
   ]
  },
  {
   "cell_type": "code",
   "execution_count": 12,
   "id": "84376bd1",
   "metadata": {},
   "outputs": [
    {
     "data": {
      "text/plain": [
       "[{'fruit': 'apple'}, {'fruit': 'pear'}, {'fruit': 'banana'}]"
      ]
     },
     "execution_count": 12,
     "metadata": {},
     "output_type": "execute_result"
    },
    {
     "data": {
      "text/plain": [
       "[{'fruit': 'apple'}, {'fruit': 'pear'}, {'fruit': 'banana'}]"
      ]
     },
     "execution_count": 12,
     "metadata": {},
     "output_type": "execute_result"
    }
   ],
   "source": [
    "json_obj.get('fruits')\n",
    "json_obj['fruits']"
   ]
  },
  {
   "cell_type": "code",
   "execution_count": 13,
   "id": "2d5eb641",
   "metadata": {},
   "outputs": [
    {
     "data": {
      "text/plain": [
       "{'fruit': 'apple'}"
      ]
     },
     "execution_count": 13,
     "metadata": {},
     "output_type": "execute_result"
    }
   ],
   "source": [
    "json_obj.get('fruits')[0]"
   ]
  },
  {
   "cell_type": "code",
   "execution_count": 14,
   "id": "448862ce",
   "metadata": {},
   "outputs": [
    {
     "data": {
      "text/plain": [
       "'apple'"
      ]
     },
     "execution_count": 14,
     "metadata": {},
     "output_type": "execute_result"
    }
   ],
   "source": [
    "json_obj.get('fruits')[0]['fruit']"
   ]
  },
  {
   "cell_type": "code",
   "execution_count": 15,
   "id": "b9bde934",
   "metadata": {},
   "outputs": [
    {
     "data": {
      "text/plain": [
       "'1000'"
      ]
     },
     "execution_count": 15,
     "metadata": {},
     "output_type": "execute_result"
    }
   ],
   "source": [
    "json_obj.get('prices')[0].get('price')"
   ]
  },
  {
   "cell_type": "code",
   "execution_count": 16,
   "id": "2ada8aac",
   "metadata": {},
   "outputs": [
    {
     "name": "stdout",
     "output_type": "stream",
     "text": [
      "apple 1000\n",
      "pear 2000\n",
      "banana 3000\n"
     ]
    }
   ],
   "source": [
    "for a, b in zip(json_obj['fruits'], json_obj['prices']):\n",
    "    print(a['fruit'], b['price'])"
   ]
  },
  {
   "cell_type": "markdown",
   "id": "4da2a684",
   "metadata": {},
   "source": [
    "#### JSON 연습문제"
   ]
  },
  {
   "cell_type": "code",
   "execution_count": 17,
   "id": "abc10886",
   "metadata": {},
   "outputs": [],
   "source": [
    "json_str = '''{\n",
    "\t\"lastBuildDate\":\"Thu, 14 Sep 2023 12:50:30 +0900\",\"total\":949667,\"start\":1,\"display\":10,\"items\":[\n",
    "\t\t{\n",
    "\t\t\t\"title\":\"아이폰 사파리 텍스트 찾기 <b>단어<\\/b> <b>검색<\\/b> 방법 정리\",\"link\":\"https:\\/\\/blog.naver.com\\/jhbksgi\\/222982804031\",\"description\":\"아이폰 사파리 크롬 텍스트 찾기 <b>단어<\\/b> <b>검색<\\/b> 방법 정리 글\\/사진 : 곰T 기본적으로 컴퓨터용, 모바일용 Browser에는 '<b>검색<\\/b>' 기능이 있습니다. 그냥 <b>검색<\\/b>(Search)이라고 하면 감이 잘 오지 않을 수 있겠네요. 좀 더... \",\"bloggername\":\"곰T의 IT트러블슈팅\",\"bloggerlink\":\"blog.naver.com\\/jhbksgi\",\"postdate\":\"20230112\"\n",
    "\t\t},\n",
    "\t\t{\n",
    "\t\t\t\"title\":\"영어<b>단어<\\/b> <b>검색<\\/b>은 꼭 구글을 이용하기 네이버영어사전 vs... \",\n",
    "\t\t\t\"link\":\"https:\\/\\/blog.naver.com\\/rhyrhyrhy\\/222923284547\",\n",
    "\t\t\t\"description\":\"leave 의 뜻이라고 <b>검색<\\/b>이 됩니다. 사실 이 <b>단어<\\/b> 한개 뿐만이 아니라, 이런식으로 네이버 포털<b>검색<\\/b>으로 정확한 의미를 찾을 수 없었던 <b>단어<\\/b>들이 더 있었어요. 0 점대 레벨 도서에 나와있는 <b>단어<\\/b>들, 게다가... \",\n",
    "\t\t\t\"bloggername\":\"키즈 영어서점 중고 영어 원서 전문 (ar가입지사)\",\n",
    "\t\t\t\"bloggerlink\":\"blog.naver.com\\/rhyrhyrhy\",\n",
    "\t\t\t\"postdate\":\"20230712\"\n",
    "\t\t},\n",
    "\t\t{\n",
    "\t\t\t\"title\":\"영어 <b>단어<\\/b>로 유튜브 영상 <b>검색<\\/b>해주는 유글리쉬 사용법\",\n",
    "\t\t\t\"link\":\"https:\\/\\/blog.naver.com\\/tepet\\/222697272255\",\n",
    "\t\t\t\"description\":\"있는 분야의 핵심 <b>단어<\\/b>를 입력하면, 그 <b>단어<\\/b>가 사용된 문장이 나와주기 때문에 발음과 주로 함께 사용되는 <b>단어<\\/b>들까지 강제로 영어 공부가 된다. #영어<b>단어<\\/b> #유튜브 #영상<b>검색<\\/b> #유글리쉬 #사용법\",\n",
    "\t\t\t\"bloggername\":\"19%\",\n",
    "\t\t\t\"bloggerlink\":\"blog.naver.com\\/tepet\",\n",
    "\t\t\t\"postdate\":\"20230911\"\n",
    "\t\t}\n",
    "\t]\n",
    "}'''"
   ]
  },
  {
   "cell_type": "code",
   "execution_count": 20,
   "id": "7f99cc97",
   "metadata": {},
   "outputs": [
    {
     "data": {
      "text/html": [
       "<div>\n",
       "<style scoped>\n",
       "    .dataframe tbody tr th:only-of-type {\n",
       "        vertical-align: middle;\n",
       "    }\n",
       "\n",
       "    .dataframe tbody tr th {\n",
       "        vertical-align: top;\n",
       "    }\n",
       "\n",
       "    .dataframe thead th {\n",
       "        text-align: right;\n",
       "    }\n",
       "</style>\n",
       "<table border=\"1\" class=\"dataframe\">\n",
       "  <thead>\n",
       "    <tr style=\"text-align: right;\">\n",
       "      <th></th>\n",
       "      <th>title</th>\n",
       "      <th>link</th>\n",
       "    </tr>\n",
       "  </thead>\n",
       "  <tbody>\n",
       "    <tr>\n",
       "      <th>0</th>\n",
       "      <td>아이폰 사파리 텍스트 찾기 &lt;b&gt;단어&lt;/b&gt; &lt;b&gt;검색&lt;/b&gt; 방법 정리</td>\n",
       "      <td>https://blog.naver.com/jhbksgi/222982804031</td>\n",
       "    </tr>\n",
       "    <tr>\n",
       "      <th>1</th>\n",
       "      <td>영어&lt;b&gt;단어&lt;/b&gt; &lt;b&gt;검색&lt;/b&gt;은 꼭 구글을 이용하기 네이버영어사전 vs...</td>\n",
       "      <td>https://blog.naver.com/rhyrhyrhy/222923284547</td>\n",
       "    </tr>\n",
       "    <tr>\n",
       "      <th>2</th>\n",
       "      <td>영어 &lt;b&gt;단어&lt;/b&gt;로 유튜브 영상 &lt;b&gt;검색&lt;/b&gt;해주는 유글리쉬 사용법</td>\n",
       "      <td>https://blog.naver.com/tepet/222697272255</td>\n",
       "    </tr>\n",
       "  </tbody>\n",
       "</table>\n",
       "</div>"
      ],
      "text/plain": [
       "                                              title  \\\n",
       "0          아이폰 사파리 텍스트 찾기 <b>단어</b> <b>검색</b> 방법 정리   \n",
       "1  영어<b>단어</b> <b>검색</b>은 꼭 구글을 이용하기 네이버영어사전 vs...    \n",
       "2        영어 <b>단어</b>로 유튜브 영상 <b>검색</b>해주는 유글리쉬 사용법   \n",
       "\n",
       "                                            link  \n",
       "0    https://blog.naver.com/jhbksgi/222982804031  \n",
       "1  https://blog.naver.com/rhyrhyrhy/222923284547  \n",
       "2      https://blog.naver.com/tepet/222697272255  "
      ]
     },
     "execution_count": 20,
     "metadata": {},
     "output_type": "execute_result"
    }
   ],
   "source": [
    "items = json.loads(json_str).get('items')\n",
    "\n",
    "titles = []\n",
    "links = []\n",
    "for item in items:\n",
    "    titles.append(item.get('title'))\n",
    "    links.append(item.get('link'))\n",
    "\n",
    "import pandas\n",
    "df = pandas.DataFrame({'title':titles, 'link':links})\n",
    "df"
   ]
  },
  {
   "cell_type": "code",
   "execution_count": null,
   "id": "c6d257f3",
   "metadata": {},
   "outputs": [],
   "source": []
  }
 ],
 "metadata": {
  "kernelspec": {
   "display_name": "Python 3 (ipykernel)",
   "language": "python",
   "name": "python3"
  },
  "language_info": {
   "codemirror_mode": {
    "name": "ipython",
    "version": 3
   },
   "file_extension": ".py",
   "mimetype": "text/x-python",
   "name": "python",
   "nbconvert_exporter": "python",
   "pygments_lexer": "ipython3",
   "version": "3.11.4"
  }
 },
 "nbformat": 4,
 "nbformat_minor": 5
}
