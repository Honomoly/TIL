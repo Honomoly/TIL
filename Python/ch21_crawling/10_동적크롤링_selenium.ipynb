{
 "cells": [
  {
   "cell_type": "code",
   "execution_count": 1,
   "id": "f903c731",
   "metadata": {},
   "outputs": [],
   "source": [
    "from IPython.core.interactiveshell import InteractiveShell\n",
    "InteractiveShell.ast_node_interactivity=\"all\"\n",
    "from urllib.request import urlopen\n",
    "import requests\n",
    "import bs4\n",
    "import pandas as pd"
   ]
  },
  {
   "cell_type": "markdown",
   "id": "32937937",
   "metadata": {},
   "source": [
    "### 동적 실행중에 동적으로 실행된 값 추출\n",
    " - 당연히도 정적 페이지에서는 추출 불가능\n",
    " - selenium을 사용하여 동적으로 변경된 페이지를 따로 추출한다"
   ]
  },
  {
   "cell_type": "code",
   "execution_count": 2,
   "id": "6701ddc3",
   "metadata": {},
   "outputs": [],
   "source": [
    "url = 'https://n.news.naver.com/mnews/article/079/0003812365?sid=100'\n",
    "htmls = urlopen(url)\n",
    "bs_obj = bs4.BeautifulSoup(htmls, 'html.parser')"
   ]
  },
  {
   "cell_type": "code",
   "execution_count": 3,
   "id": "4238b3c3",
   "metadata": {},
   "outputs": [
    {
     "data": {
      "text/plain": [
       "'尹 \"가짜뉴스, AI 이용해 빠른 속도 확산…자유민주주의 훼손, 미래 망쳐\"'"
      ]
     },
     "execution_count": 3,
     "metadata": {},
     "output_type": "execute_result"
    }
   ],
   "source": [
    "# 정적 : 제목 추출\n",
    "title = bs_obj.find('div', {'class':'media_end_head_title'}).find('span').text\n",
    "title"
   ]
  },
  {
   "cell_type": "code",
   "execution_count": 4,
   "id": "bedec425",
   "metadata": {},
   "outputs": [
    {
     "name": "stdout",
     "output_type": "stream",
     "text": [
      "값이 없습니다\n"
     ]
    }
   ],
   "source": [
    "# 동적 : 좋아요 추출 (안됨)\n",
    "like_num = bs_obj.find('span', {'class':'u_likeit_text _count num'})\n",
    "if like_num is None:\n",
    "    print('값이 없습니다')"
   ]
  },
  {
   "cell_type": "code",
   "execution_count": 6,
   "id": "f8eecfc3",
   "metadata": {},
   "outputs": [
    {
     "data": {
      "text/plain": [
       "'댓글'"
      ]
     },
     "execution_count": 6,
     "metadata": {},
     "output_type": "execute_result"
    }
   ],
   "source": [
    "# comment_count 수 추출 (안됨)\n",
    "comment_count =  bs_obj.find('a', {'id':'comment_count'}).text\n",
    "comment_count"
   ]
  },
  {
   "cell_type": "markdown",
   "id": "b469790d",
   "metadata": {},
   "source": [
    "#### selenium 패키지를 사용한 자동 크롤링\n",
    " - 근데 서드파티라 설치를 따로 해야함\n",
    " - 터미널 창에서 !pip install selenium"
   ]
  },
  {
   "cell_type": "code",
   "execution_count": 7,
   "id": "6a8a4c30",
   "metadata": {
    "scrolled": true
   },
   "outputs": [
    {
     "name": "stdout",
     "output_type": "stream",
     "text": [
      "Collecting selenium\n",
      "  Obtaining dependency information for selenium from https://files.pythonhosted.org/packages/f9/2f/9c6eef6487faca5006ae1ba43cf6ab627c7e3d2a7ec5a3b8728e2105472d/selenium-4.12.0-py3-none-any.whl.metadata\n",
      "  Downloading selenium-4.12.0-py3-none-any.whl.metadata (6.9 kB)\n",
      "Requirement already satisfied: urllib3[socks]<3,>=1.26 in /Users/jangseungheon/anaconda3/lib/python3.11/site-packages (from selenium) (1.26.16)\n",
      "Collecting trio~=0.17 (from selenium)\n",
      "  Obtaining dependency information for trio~=0.17 from https://files.pythonhosted.org/packages/a3/dd/b61fa61b186d3267ef3903048fbee29132963ae762fb70b08d4a3cd6f7aa/trio-0.22.2-py3-none-any.whl.metadata\n",
      "  Downloading trio-0.22.2-py3-none-any.whl.metadata (4.7 kB)\n",
      "Collecting trio-websocket~=0.9 (from selenium)\n",
      "  Obtaining dependency information for trio-websocket~=0.9 from https://files.pythonhosted.org/packages/f2/25/868488d8b05104e3d1bf162565bbadd5fe6d62bf903710e6402c3aaceb1e/trio_websocket-0.10.4-py3-none-any.whl.metadata\n",
      "  Downloading trio_websocket-0.10.4-py3-none-any.whl.metadata (4.6 kB)\n",
      "Requirement already satisfied: certifi>=2021.10.8 in /Users/jangseungheon/anaconda3/lib/python3.11/site-packages (from selenium) (2023.7.22)\n",
      "Requirement already satisfied: attrs>=20.1.0 in /Users/jangseungheon/anaconda3/lib/python3.11/site-packages (from trio~=0.17->selenium) (22.1.0)\n",
      "Requirement already satisfied: sortedcontainers in /Users/jangseungheon/anaconda3/lib/python3.11/site-packages (from trio~=0.17->selenium) (2.4.0)\n",
      "Requirement already satisfied: idna in /Users/jangseungheon/anaconda3/lib/python3.11/site-packages (from trio~=0.17->selenium) (3.4)\n",
      "Collecting outcome (from trio~=0.17->selenium)\n",
      "  Downloading outcome-1.2.0-py2.py3-none-any.whl (9.7 kB)\n",
      "Requirement already satisfied: sniffio in /Users/jangseungheon/anaconda3/lib/python3.11/site-packages (from trio~=0.17->selenium) (1.2.0)\n",
      "Collecting exceptiongroup (from trio-websocket~=0.9->selenium)\n",
      "  Obtaining dependency information for exceptiongroup from https://files.pythonhosted.org/packages/ad/83/b71e58666f156a39fb29417e4c8ca4bc7400c0dd4ed9e8842ab54dc8c344/exceptiongroup-1.1.3-py3-none-any.whl.metadata\n",
      "  Downloading exceptiongroup-1.1.3-py3-none-any.whl.metadata (6.1 kB)\n",
      "Collecting wsproto>=0.14 (from trio-websocket~=0.9->selenium)\n",
      "  Downloading wsproto-1.2.0-py3-none-any.whl (24 kB)\n",
      "Requirement already satisfied: PySocks!=1.5.7,<2.0,>=1.5.6 in /Users/jangseungheon/anaconda3/lib/python3.11/site-packages (from urllib3[socks]<3,>=1.26->selenium) (1.7.1)\n",
      "Collecting h11<1,>=0.9.0 (from wsproto>=0.14->trio-websocket~=0.9->selenium)\n",
      "  Downloading h11-0.14.0-py3-none-any.whl (58 kB)\n",
      "\u001b[2K     \u001b[90m━━━━━━━━━━━━━━━━━━━━━━━━━━━━━━━━━━━━━━━━\u001b[0m \u001b[32m58.3/58.3 kB\u001b[0m \u001b[31m7.2 MB/s\u001b[0m eta \u001b[36m0:00:00\u001b[0m\n",
      "\u001b[?25hDownloading selenium-4.12.0-py3-none-any.whl (9.4 MB)\n",
      "\u001b[2K   \u001b[90m━━━━━━━━━━━━━━━━━━━━━━━━━━━━━━━━━━━━━━━━\u001b[0m \u001b[32m9.4/9.4 MB\u001b[0m \u001b[31m43.8 MB/s\u001b[0m eta \u001b[36m0:00:00\u001b[0m00:01\u001b[0m00:01\u001b[0m\n",
      "\u001b[?25hDownloading trio-0.22.2-py3-none-any.whl (400 kB)\n",
      "\u001b[2K   \u001b[90m━━━━━━━━━━━━━━━━━━━━━━━━━━━━━━━━━━━━━━━━\u001b[0m \u001b[32m400.2/400.2 kB\u001b[0m \u001b[31m36.1 MB/s\u001b[0m eta \u001b[36m0:00:00\u001b[0m\n",
      "\u001b[?25hDownloading trio_websocket-0.10.4-py3-none-any.whl (17 kB)\n",
      "Downloading exceptiongroup-1.1.3-py3-none-any.whl (14 kB)\n",
      "Installing collected packages: outcome, h11, exceptiongroup, wsproto, trio, trio-websocket, selenium\n",
      "Successfully installed exceptiongroup-1.1.3 h11-0.14.0 outcome-1.2.0 selenium-4.12.0 trio-0.22.2 trio-websocket-0.10.4 wsproto-1.2.0\n"
     ]
    }
   ],
   "source": [
    "!pip install selenium"
   ]
  },
  {
   "cell_type": "code",
   "execution_count": 8,
   "id": "0e826974",
   "metadata": {
    "scrolled": false
   },
   "outputs": [
    {
     "name": "stdout",
     "output_type": "stream",
     "text": [
      "Name: selenium\r\n",
      "Version: 4.12.0\r\n",
      "Summary: \r\n",
      "Home-page: https://www.selenium.dev\r\n",
      "Author: \r\n",
      "Author-email: \r\n",
      "License: Apache 2.0\r\n",
      "Location: /Users/jangseungheon/anaconda3/lib/python3.11/site-packages\r\n",
      "Requires: certifi, trio, trio-websocket, urllib3\r\n",
      "Required-by: \r\n"
     ]
    }
   ],
   "source": [
    "!pip show selenium"
   ]
  },
  {
   "cell_type": "code",
   "execution_count": 10,
   "id": "205d2c7c",
   "metadata": {},
   "outputs": [
    {
     "name": "stdout",
     "output_type": "stream",
     "text": [
      "Collecting webdriver_manager\n",
      "  Obtaining dependency information for webdriver_manager from https://files.pythonhosted.org/packages/19/5a/a16653bfce685c9832217d377f52065351eeac9862e44e2996cd81f3bb4d/webdriver_manager-4.0.0-py2.py3-none-any.whl.metadata\n",
      "  Downloading webdriver_manager-4.0.0-py2.py3-none-any.whl.metadata (11 kB)\n",
      "Requirement already satisfied: requests in /Users/jangseungheon/anaconda3/lib/python3.11/site-packages (from webdriver_manager) (2.31.0)\n",
      "Collecting python-dotenv (from webdriver_manager)\n",
      "  Downloading python_dotenv-1.0.0-py3-none-any.whl (19 kB)\n",
      "Requirement already satisfied: packaging in /Users/jangseungheon/anaconda3/lib/python3.11/site-packages (from webdriver_manager) (23.0)\n",
      "Requirement already satisfied: charset-normalizer<4,>=2 in /Users/jangseungheon/anaconda3/lib/python3.11/site-packages (from requests->webdriver_manager) (2.0.4)\n",
      "Requirement already satisfied: idna<4,>=2.5 in /Users/jangseungheon/anaconda3/lib/python3.11/site-packages (from requests->webdriver_manager) (3.4)\n",
      "Requirement already satisfied: urllib3<3,>=1.21.1 in /Users/jangseungheon/anaconda3/lib/python3.11/site-packages (from requests->webdriver_manager) (1.26.16)\n",
      "Requirement already satisfied: certifi>=2017.4.17 in /Users/jangseungheon/anaconda3/lib/python3.11/site-packages (from requests->webdriver_manager) (2023.7.22)\n",
      "Downloading webdriver_manager-4.0.0-py2.py3-none-any.whl (27 kB)\n",
      "Installing collected packages: python-dotenv, webdriver_manager\n",
      "Successfully installed python-dotenv-1.0.0 webdriver_manager-4.0.0\n"
     ]
    }
   ],
   "source": [
    "!pip install webdriver_manager"
   ]
  },
  {
   "cell_type": "code",
   "execution_count": 11,
   "id": "3e3de427",
   "metadata": {},
   "outputs": [],
   "source": [
    "import selenium\n",
    "from selenium import webdriver\n",
    "from selenium.webdriver.common.by import By # 셀레니움 4.0부터 포함된 객체(모듈)\n",
    "from selenium.webdriver.chrome.service import Service\n",
    "from webdriver_manager.chrome import ChromeDriverManager"
   ]
  },
  {
   "cell_type": "code",
   "execution_count": 12,
   "id": "3680222b",
   "metadata": {},
   "outputs": [],
   "source": [
    "# (1) webdriver 객체 생성 / webdriver가 제어하는 크롬창 하나 생성\n",
    "# 주의! 드라이버를 통해서 열고 닫지 않는다면 오류발생!\n",
    "chrome_options = webdriver.ChromeOptions()\n",
    "driver = webdriver.Chrome(service=Service(ChromeDriverManager().install()), options=chrome_options)"
   ]
  },
  {
   "cell_type": "code",
   "execution_count": 13,
   "id": "733454df",
   "metadata": {},
   "outputs": [],
   "source": [
    "# 페이지 접속\n",
    "driver.get(url)"
   ]
  },
  {
   "cell_type": "code",
   "execution_count": 16,
   "id": "d7d2d0bd",
   "metadata": {},
   "outputs": [
    {
     "data": {
      "text/plain": [
       "'2'"
      ]
     },
     "execution_count": 16,
     "metadata": {},
     "output_type": "execute_result"
    },
    {
     "data": {
      "text/plain": [
       "'2'"
      ]
     },
     "execution_count": 16,
     "metadata": {},
     "output_type": "execute_result"
    }
   ],
   "source": [
    "# 동적 : 좋아요 추출\n",
    "# 속성명 사이에는 스페이스가 존재하면 안되고 전부 .으로 대체한다\n",
    "like_num = driver.find_element(By.CSS_SELECTOR, '.u_likeit_text._count.num')\n",
    "like_num.text\n",
    "\n",
    "like_num = driver.find_element(By.CLASS_NAME, 'u_likeit_text._count.num')\n",
    "like_num.text"
   ]
  },
  {
   "cell_type": "code",
   "execution_count": 18,
   "id": "f6842029",
   "metadata": {},
   "outputs": [
    {
     "data": {
      "text/plain": [
       "'36'"
      ]
     },
     "execution_count": 18,
     "metadata": {},
     "output_type": "execute_result"
    }
   ],
   "source": [
    "# comment_count 수 추출 (안됨)\n",
    "comment_count = driver.find_element(By.ID, 'comment_count')\n",
    "comment_count.text"
   ]
  },
  {
   "cell_type": "code",
   "execution_count": 27,
   "id": "7a0d045c",
   "metadata": {},
   "outputs": [
    {
     "data": {
      "text/plain": [
       "'노컷뉴스'"
      ]
     },
     "execution_count": 27,
     "metadata": {},
     "output_type": "execute_result"
    },
    {
     "data": {
      "text/plain": [
       "'尹 \"가짜뉴스, AI 이용해 빠른 속도 확산…자유민주주의 훼손, 미래 망쳐\"'"
      ]
     },
     "execution_count": 27,
     "metadata": {},
     "output_type": "execute_result"
    },
    {
     "data": {
      "text/plain": [
       "'2023.09.13. 오후 3:07'"
      ]
     },
     "execution_count": 27,
     "metadata": {},
     "output_type": "execute_result"
    }
   ],
   "source": [
    "# selenium 사용 가능\n",
    "paper = driver.find_element(By.CSS_SELECTOR, '.media_end_head_top_logo img')\n",
    "paper.get_attribute('title') # title 속성값 추출\n",
    "\n",
    "title = driver.find_element(By.CSS_SELECTOR, '.media_end_head_title').text\n",
    "title\n",
    "\n",
    "datetime = driver.find_element(By.CSS_SELECTOR, '.media_end_head_info_datestamp_time').text\n",
    "datetime"
   ]
  },
  {
   "cell_type": "code",
   "execution_count": 20,
   "id": "9304e5bf",
   "metadata": {},
   "outputs": [
    {
     "data": {
      "text/plain": [
       "'노컷뉴스'"
      ]
     },
     "execution_count": 20,
     "metadata": {},
     "output_type": "execute_result"
    },
    {
     "data": {
      "text/plain": [
       "'尹 \"가짜뉴스, AI 이용해 빠른 속도 확산…자유민주주의 훼손, 미래 망쳐\"'"
      ]
     },
     "execution_count": 20,
     "metadata": {},
     "output_type": "execute_result"
    },
    {
     "data": {
      "text/plain": [
       "'2023.09.13. 오후 3:07'"
      ]
     },
     "execution_count": 20,
     "metadata": {},
     "output_type": "execute_result"
    }
   ],
   "source": [
    "# 정적 크롤링 추출\n",
    "paper = bs_obj.find('a', {'class':'media_end_head_top_logo'}).select_one('img')['title']\n",
    "paper\n",
    "\n",
    "title = bs_obj.find('div', {'class':'media_end_head_title'}).find('span').text\n",
    "title\n",
    "\n",
    "timestamp = bs_obj.find('div', {'class':'media_end_head_info_datestamp_bunch'}).find('span').text\n",
    "timestamp"
   ]
  },
  {
   "cell_type": "code",
   "execution_count": 31,
   "id": "c6e54efc",
   "metadata": {},
   "outputs": [
    {
     "data": {
      "text/plain": [
       "1"
      ]
     },
     "execution_count": 31,
     "metadata": {},
     "output_type": "execute_result"
    },
    {
     "name": "stdout",
     "output_type": "stream",
     "text": [
      "입력2023.09.13. 오후 3:07\n"
     ]
    }
   ],
   "source": [
    "# find_elements() : 여러 객체를 리스트로 반환\n",
    "dates = driver.find_elements(By.CSS_SELECTOR, '.media_end_head_info_datestamp div')\n",
    "for d in dates:\n",
    "    print(d.text)"
   ]
  },
  {
   "cell_type": "code",
   "execution_count": null,
   "id": "60e1daee",
   "metadata": {},
   "outputs": [],
   "source": []
  },
  {
   "cell_type": "code",
   "execution_count": null,
   "id": "1f0c988a",
   "metadata": {},
   "outputs": [],
   "source": []
  },
  {
   "cell_type": "code",
   "execution_count": null,
   "id": "29cd9eb5",
   "metadata": {},
   "outputs": [],
   "source": []
  },
  {
   "cell_type": "code",
   "execution_count": null,
   "id": "035148ca",
   "metadata": {},
   "outputs": [],
   "source": []
  },
  {
   "cell_type": "code",
   "execution_count": 32,
   "id": "6080476d",
   "metadata": {},
   "outputs": [],
   "source": [
    "# 페이지 닫음\n",
    "driver.close()"
   ]
  },
  {
   "cell_type": "code",
   "execution_count": null,
   "id": "4501890d",
   "metadata": {},
   "outputs": [],
   "source": [
    "# selenium 메소드\n",
    "# driver.find_element(By.CLASS_NAME, \"클래스명\")\n",
    "# driver.find_element(By.CSS_SELECTOR, \"선택자 양식\")\n",
    "# driver.find_element(By.ID, \"ID명\")\n",
    "# driver.find_element(By.LINK_TEXT, \"Selenium Official Page\")\n",
    "# driver.find_element(By.NAME, \"newsletter\")\n",
    "# driver.find_element(By.PARTIAL_LINK_TEXT, \"Official Page\")\n",
    "# driver.find_element(By.TAG_NAME, \"a\")\n",
    "# driver.find_element(By.XPATH, \"//input[@value='f']\")\n",
    "# # driver가 접근한 페이지의 source 추출\n",
    "# html = driver.page_source"
   ]
  }
 ],
 "metadata": {
  "kernelspec": {
   "display_name": "Python 3 (ipykernel)",
   "language": "python",
   "name": "python3"
  },
  "language_info": {
   "codemirror_mode": {
    "name": "ipython",
    "version": 3
   },
   "file_extension": ".py",
   "mimetype": "text/x-python",
   "name": "python",
   "nbconvert_exporter": "python",
   "pygments_lexer": "ipython3",
   "version": "3.11.5"
  }
 },
 "nbformat": 4,
 "nbformat_minor": 5
}
