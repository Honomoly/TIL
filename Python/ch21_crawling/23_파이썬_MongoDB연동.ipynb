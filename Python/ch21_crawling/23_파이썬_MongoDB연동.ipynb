{
 "cells": [
  {
   "cell_type": "code",
   "execution_count": 1,
   "id": "70c0d130",
   "metadata": {},
   "outputs": [
    {
     "name": "stdout",
     "output_type": "stream",
     "text": [
      "Collecting pymongo\n",
      "  Obtaining dependency information for pymongo from https://files.pythonhosted.org/packages/de/67/949da6f882723be8ca8ef63678d7f999b4d9c235c656c0376ea8b6c041d6/pymongo-4.5.0-cp311-cp311-macosx_10_9_universal2.whl.metadata\n",
      "  Downloading pymongo-4.5.0-cp311-cp311-macosx_10_9_universal2.whl.metadata (22 kB)\n",
      "Collecting dnspython<3.0.0,>=1.16.0 (from pymongo)\n",
      "  Obtaining dependency information for dnspython<3.0.0,>=1.16.0 from https://files.pythonhosted.org/packages/f6/b4/0a9bee52c50f226a3cbfb54263d02bb421c7f2adc136520729c2c689c1e5/dnspython-2.4.2-py3-none-any.whl.metadata\n",
      "  Downloading dnspython-2.4.2-py3-none-any.whl.metadata (4.9 kB)\n",
      "Downloading pymongo-4.5.0-cp311-cp311-macosx_10_9_universal2.whl (529 kB)\n",
      "\u001b[2K   \u001b[90m━━━━━━━━━━━━━━━━━━━━━━━━━━━━━━━━━━━━━━━━\u001b[0m \u001b[32m529.4/529.4 kB\u001b[0m \u001b[31m20.0 MB/s\u001b[0m eta \u001b[36m0:00:00\u001b[0m\n",
      "\u001b[?25hDownloading dnspython-2.4.2-py3-none-any.whl (300 kB)\n",
      "\u001b[2K   \u001b[90m━━━━━━━━━━━━━━━━━━━━━━━━━━━━━━━━━━━━━━━━\u001b[0m \u001b[32m300.4/300.4 kB\u001b[0m \u001b[31m26.1 MB/s\u001b[0m eta \u001b[36m0:00:00\u001b[0m\n",
      "\u001b[?25hInstalling collected packages: dnspython, pymongo\n",
      "Successfully installed dnspython-2.4.2 pymongo-4.5.0\n"
     ]
    }
   ],
   "source": [
    "!pip install pymongo"
   ]
  },
  {
   "cell_type": "code",
   "execution_count": 2,
   "id": "bee98b80",
   "metadata": {},
   "outputs": [],
   "source": [
    "from pymongo import MongoClient"
   ]
  },
  {
   "cell_type": "code",
   "execution_count": 4,
   "id": "db21dd5e",
   "metadata": {},
   "outputs": [],
   "source": [
    "# DB 연결\n",
    "conn = MongoClient(host='localhost', port=27017)"
   ]
  },
  {
   "cell_type": "code",
   "execution_count": 5,
   "id": "2e261200",
   "metadata": {},
   "outputs": [
    {
     "data": {
      "text/plain": [
       "['admin', 'config', 'local', 'newDB', 'test_db']"
      ]
     },
     "execution_count": 5,
     "metadata": {},
     "output_type": "execute_result"
    }
   ],
   "source": [
    "# DB 데이터베이스 연결\n",
    "conn.list_database_names()"
   ]
  },
  {
   "cell_type": "code",
   "execution_count": 6,
   "id": "f8b062e5",
   "metadata": {},
   "outputs": [],
   "source": [
    "# newDB 데이터베이스 사용\n",
    "db = conn.newDB"
   ]
  },
  {
   "cell_type": "code",
   "execution_count": 8,
   "id": "e0d3adff",
   "metadata": {},
   "outputs": [
    {
     "data": {
      "text/plain": [
       "['book', 'publisher', 'product', 'inventory', 'book2', 'fruits', 'board']"
      ]
     },
     "execution_count": 8,
     "metadata": {},
     "output_type": "execute_result"
    }
   ],
   "source": [
    "# DB 컬렉션 사용\n",
    "db.list_collection_names()"
   ]
  },
  {
   "cell_type": "code",
   "execution_count": 21,
   "id": "7aa1052c",
   "metadata": {},
   "outputs": [
    {
     "name": "stdout",
     "output_type": "stream",
     "text": [
      "{'_id': ObjectId('651d83e6bc61a0f7255e161f'), 'bookNo': '1001', 'bookName': '데이터베이스 이론', 'bookAuthor': '홍길동', 'bookPrice': 22000, 'bookDate': datetime.datetime(2019, 11, 11, 0, 0), 'bookStock': 5, 'publisher': {'pubNo': '3', 'pubName': '정보출판사'}}\n",
      "{'_id': ObjectId('651d83e6bc61a0f7255e1620'), 'bookNo': '1002', 'bookName': '자바 프로그래밍', 'bookAuthor': '이몽룡', 'bookPrice': 25000, 'bookDate': datetime.datetime(2021, 12, 12, 0, 0), 'bookStock': 4, 'publisher': {'pubNo': '1', 'pubName': '강남 출판사'}}\n",
      "{'_id': ObjectId('651d83e6bc61a0f7255e1621'), 'bookNo': '1003', 'bookName': '인터넷프로그래밍', 'bookAuthor': '성춘향', 'bookPrice': 30000, 'bookDate': datetime.datetime(2019, 2, 10, 0, 0), 'bookStock': 10, 'publisher': {'pubNo': '2', 'pubName': '도서출판 강남'}}\n",
      "{'_id': ObjectId('651d83e6bc61a0f7255e1622'), 'bookNo': '1004', 'bookName': '안드로이드 프로그래밍', 'bookAuthor': '변학도', 'bookPrice': 23000, 'bookDate': datetime.datetime(2017, 10, 10, 0, 0), 'bookStock': 2, 'publisher': {'pubNo': '1', 'pubName': '강남 출판사'}}\n",
      "{'_id': ObjectId('651d83e6bc61a0f7255e1623'), 'bookNo': '1005', 'bookName': '안드로이드 앱', 'bookAuthor': '강길동', 'bookPrice': 26000, 'bookDate': datetime.datetime(2020, 1, 11, 0, 0), 'bookStock': 5, 'publisher': {'pubNo': '2', 'pubName': '도서출판 강남'}}\n",
      "{'_id': ObjectId('651d83e6bc61a0f7255e1624'), 'bookNo': '1006', 'bookName': '1MS SQL SERVER 2014', 'bookAuthor': '박지성', 'bookPrice': 35000, 'bookDate': datetime.datetime(2020, 3, 25, 0, 0), 'bookStock': 7, 'publisher': {'pubNo': '3', 'pubName': '정보출판사'}}\n",
      "{'_id': ObjectId('651d83e6bc61a0f7255e1625'), 'bookNo': '1007', 'bookName': 'hTML & CSS', 'bookAuthor': '손홍민', 'bookPrice': 18000, 'bookDate': datetime.datetime(2022, 9, 30, 0, 0), 'bookStock': 3, 'publisher': {'pubNo': '1', 'pubName': '강남 출판사'}}\n",
      "{'_id': ObjectId('651d83e6bc61a0f7255e1626'), 'bookNo': '1008', 'bookName': 'MFC 입문', 'bookAuthor': '류현진', 'bookPrice': 20000, 'bookDate': datetime.datetime(2015, 12, 12, 0, 0), 'bookStock': 5, 'publisher': {'pubNo': '1', 'pubName': '강남 출판사'}}\n",
      "{'_id': ObjectId('651d83e6bc61a0f7255e1627'), 'bookNo': '1009', 'bookName': '안드로이드 게임 제작', 'bookAuthor': '나길동', 'bookPrice': 33000, 'bookDate': datetime.datetime(2018, 10, 31, 0, 0), 'bookStock': 5, 'publisher': {'pubNo': '2', 'pubName': '도서출판 강남'}}\n",
      "{'_id': ObjectId('651d83e6bc61a0f7255e1628'), 'bookNo': '1010', 'bookName': 'C++객체지향 프로그래밍', 'bookAuthor': '추신수', 'bookPrice': 24000, 'bookDate': datetime.datetime(2019, 4, 20, 0, 0), 'bookStock': 2, 'publisher': {'pubNo': '3', 'pubName': '정보출판사'}}\n",
      "{'_id': ObjectId('651d83e6bc61a0f7255e1629'), 'bookNo': '1011', 'bookName': 'JSP 웹 프로그래밍', 'bookAuthor': '김연아', 'bookPrice': 27000, 'bookDate': datetime.datetime(2020, 10, 23, 0, 0), 'bookStock': 8, 'publisher': {'pubNo': '1', 'pubName': '강남 출판사'}}\n",
      "{'_id': ObjectId('651d83e6bc61a0f7255e162a'), 'bookNo': '1012', 'bookName': '해커들의 해킹 기법', 'bookAuthor': '손연재', 'bookPrice': 32000, 'bookDate': datetime.datetime(2018, 7, 7, 0, 0), 'bookStock': 1, 'publisher': {'pubNo': '2', 'pubName': '도서출판 강남'}}\n",
      "{'_id': ObjectId('651d83e6bc61a0f7255e162b'), 'bookNo': '1013', 'bookName': '자료구조', 'bookAuthor': '홍길동', 'bookPrice': 19000, 'bookDate': datetime.datetime(2020, 1, 20, 0, 0), 'bookStock': 4, 'publisher': {'pubNo': '1', 'pubName': '강남 출판사'}}\n",
      "{'_id': ObjectId('651d83e6bc61a0f7255e162c'), 'bookNo': '1014', 'bookName': '웹 해킹과 침해사고 분석', 'bookAuthor': '성춘향', 'bookPrice': 35000, 'bookDate': datetime.datetime(2018, 11, 25, 0, 0), 'bookStock': 5, 'publisher': {'pubNo': '2', 'pubName': '도서출판 강남'}}\n",
      "{'_id': ObjectId('651d83e6bc61a0f7255e162d'), 'bookNo': '1015', 'bookName': '자바스크립 & jQuery', 'bookAuthor': '홍길동', 'bookPrice': 27000, 'bookDate': datetime.datetime(2019, 10, 22, 0, 0), 'bookStock': 2, 'publisher': {'pubNo': '2', 'pubName': '도서출판 강남'}}\n",
      "{'_id': ObjectId('651f9fa6925f07f5fde9dd56'), 'bookNo': '1016', 'bookName': 'MongoDB', 'bookAuthor': '김길동', 'bookPrice': 20000, 'bookDate': datetime.datetime(2022, 11, 11, 0, 0), 'bookStock': 5, 'publisher': {'pubNo': '1', 'pubName': '강남 출판사'}}\n"
     ]
    }
   ],
   "source": [
    "# db.book.find() 이것만 가지고는 제대로 안나온다\n",
    "for book in db.book.find():\n",
    "    print(book)"
   ]
  },
  {
   "cell_type": "code",
   "execution_count": 10,
   "id": "c795eb3c",
   "metadata": {},
   "outputs": [
    {
     "data": {
      "text/plain": [
       "{'_id': ObjectId('651d83e6bc61a0f7255e161f'),\n",
       " 'bookNo': '1001',\n",
       " 'bookName': '데이터베이스 이론',\n",
       " 'bookAuthor': '홍길동',\n",
       " 'bookPrice': 22000,\n",
       " 'bookDate': datetime.datetime(2019, 11, 11, 0, 0),\n",
       " 'bookStock': 5,\n",
       " 'publisher': {'pubNo': '3', 'pubName': '정보출판사'}}"
      ]
     },
     "execution_count": 10,
     "metadata": {},
     "output_type": "execute_result"
    }
   ],
   "source": [
    "db.book.find_one()"
   ]
  },
  {
   "cell_type": "code",
   "execution_count": 11,
   "id": "d13ebcc5",
   "metadata": {},
   "outputs": [
    {
     "data": {
      "text/plain": [
       "{'_id': ObjectId('651d83e6bc61a0f7255e1620'),\n",
       " 'bookNo': '1002',\n",
       " 'bookName': '자바 프로그래밍',\n",
       " 'bookAuthor': '이몽룡',\n",
       " 'bookPrice': 25000,\n",
       " 'bookDate': datetime.datetime(2021, 12, 12, 0, 0),\n",
       " 'bookStock': 4,\n",
       " 'publisher': {'pubNo': '1', 'pubName': '강남 출판사'}}"
      ]
     },
     "execution_count": 11,
     "metadata": {},
     "output_type": "execute_result"
    }
   ],
   "source": [
    "# 도큐먼트 형식마냥 찾기\n",
    "db.book.find_one({'bookAuthor': '이몽룡'})"
   ]
  },
  {
   "cell_type": "markdown",
   "id": "302d0f7b",
   "metadata": {},
   "source": [
    "### CRUD"
   ]
  },
  {
   "cell_type": "code",
   "execution_count": 12,
   "id": "9dcdff40",
   "metadata": {},
   "outputs": [
    {
     "data": {
      "text/plain": [
       "<pymongo.results.InsertOneResult at 0x1055b9150>"
      ]
     },
     "execution_count": 12,
     "metadata": {},
     "output_type": "execute_result"
    }
   ],
   "source": [
    "# insert_one()\n",
    "book = {\n",
    "    'bookNo': '1016',\n",
    "    'bookName': 'MongoDB',\n",
    "    'bookAuthor': '김길동',\n",
    "    'bookPrice': 20000,\n",
    "    'bookDate': '2022-11-11',\n",
    "    'bookStock': 5,\n",
    "    'publisher': {\n",
    "        'pubNo': '1',\n",
    "        'pubName': '강남 출판사'\n",
    "    }\n",
    "}\n",
    "\n",
    "# 참고로 날짜 형식이 다른 것과 일치하지 않는다\n",
    "db.book.insert_one(book)"
   ]
  },
  {
   "cell_type": "code",
   "execution_count": 14,
   "id": "5065773d",
   "metadata": {},
   "outputs": [
    {
     "data": {
      "text/plain": [
       "<pymongo.results.InsertOneResult at 0x1041560b0>"
      ]
     },
     "execution_count": 14,
     "metadata": {},
     "output_type": "execute_result"
    }
   ],
   "source": [
    "# 문자열을 날짜 타입으로 변환\n",
    "from datetime import datetime\n",
    "datetime_format = '%Y-%m-%d'\n",
    "bookDate_date = datetime.strptime('2022-11-11', datetime_format)\n",
    "\n",
    "book = {\n",
    "    'bookNo': '1016',\n",
    "    'bookName': 'MongoDB',\n",
    "    'bookAuthor': '김길동',\n",
    "    'bookPrice': 20000,\n",
    "    'bookDate': bookDate_date,\n",
    "    'bookStock': 5,\n",
    "    'publisher': {\n",
    "        'pubNo': '1',\n",
    "        'pubName': '강남 출판사'\n",
    "    }\n",
    "}\n",
    "\n",
    "db.book.insert_one(book)"
   ]
  },
  {
   "cell_type": "code",
   "execution_count": 17,
   "id": "251701fe",
   "metadata": {},
   "outputs": [
    {
     "name": "stdout",
     "output_type": "stream",
     "text": [
      "{'_id': ObjectId('651d83e6bc61a0f7255e1621'), 'bookNo': '1003', 'bookName': '인터넷프로그래밍', 'bookAuthor': '성춘향', 'bookPrice': 30000, 'bookDate': datetime.datetime(2019, 2, 10, 0, 0), 'bookStock': 10, 'publisher': {'pubNo': '2', 'pubName': '도서출판 강남'}}\n",
      "{'_id': ObjectId('651d83e6bc61a0f7255e1629'), 'bookNo': '1011', 'bookName': 'JSP 웹 프로그래밍', 'bookAuthor': '김연아', 'bookPrice': 27000, 'bookDate': datetime.datetime(2020, 10, 23, 0, 0), 'bookStock': 8, 'publisher': {'pubNo': '1', 'pubName': '강남 출판사'}}\n",
      "{'_id': ObjectId('651d83e6bc61a0f7255e1624'), 'bookNo': '1006', 'bookName': '1MS SQL SERVER 2014', 'bookAuthor': '박지성', 'bookPrice': 35000, 'bookDate': datetime.datetime(2020, 3, 25, 0, 0), 'bookStock': 7, 'publisher': {'pubNo': '3', 'pubName': '정보출판사'}}\n",
      "{'_id': ObjectId('651d83e6bc61a0f7255e1623'), 'bookNo': '1005', 'bookName': '안드로이드 앱', 'bookAuthor': '강길동', 'bookPrice': 26000, 'bookDate': datetime.datetime(2020, 1, 11, 0, 0), 'bookStock': 5, 'publisher': {'pubNo': '2', 'pubName': '도서출판 강남'}}\n",
      "{'_id': ObjectId('651d83e6bc61a0f7255e1627'), 'bookNo': '1009', 'bookName': '안드로이드 게임 제작', 'bookAuthor': '나길동', 'bookPrice': 33000, 'bookDate': datetime.datetime(2018, 10, 31, 0, 0), 'bookStock': 5, 'publisher': {'pubNo': '2', 'pubName': '도서출판 강남'}}\n",
      "{'_id': ObjectId('651d83e6bc61a0f7255e162c'), 'bookNo': '1014', 'bookName': '웹 해킹과 침해사고 분석', 'bookAuthor': '성춘향', 'bookPrice': 35000, 'bookDate': datetime.datetime(2018, 11, 25, 0, 0), 'bookStock': 5, 'publisher': {'pubNo': '2', 'pubName': '도서출판 강남'}}\n",
      "{'_id': ObjectId('651d83e6bc61a0f7255e1620'), 'bookNo': '1002', 'bookName': '자바 프로그래밍', 'bookAuthor': '이몽룡', 'bookPrice': 25000, 'bookDate': datetime.datetime(2021, 12, 12, 0, 0), 'bookStock': 4, 'publisher': {'pubNo': '1', 'pubName': '강남 출판사'}}\n",
      "{'_id': ObjectId('651d83e6bc61a0f7255e162d'), 'bookNo': '1015', 'bookName': '자바스크립 & jQuery', 'bookAuthor': '홍길동', 'bookPrice': 27000, 'bookDate': datetime.datetime(2019, 10, 22, 0, 0), 'bookStock': 2, 'publisher': {'pubNo': '2', 'pubName': '도서출판 강남'}}\n",
      "{'_id': ObjectId('651d83e6bc61a0f7255e162a'), 'bookNo': '1012', 'bookName': '해커들의 해킹 기법', 'bookAuthor': '손연재', 'bookPrice': 32000, 'bookDate': datetime.datetime(2018, 7, 7, 0, 0), 'bookStock': 1, 'publisher': {'pubNo': '2', 'pubName': '도서출판 강남'}}\n"
     ]
    }
   ],
   "source": [
    "# 가격 25000원 이상인 것을 재고량 내림차순으로\n",
    "for book in db.book.find({'bookPrice': {'$gte': 25000}}).sort('bookStock', -1):\n",
    "    print(book)"
   ]
  },
  {
   "cell_type": "code",
   "execution_count": 22,
   "id": "91948624",
   "metadata": {},
   "outputs": [
    {
     "data": {
      "text/plain": [
       "<pymongo.results.UpdateResult at 0x1062a0040>"
      ]
     },
     "execution_count": 22,
     "metadata": {},
     "output_type": "execute_result"
    }
   ],
   "source": [
    "# update_one()\n",
    "db.book.update_one(\n",
    "    {'bookNo' : '1016'},\n",
    "    {'$set':\n",
    "        {'bookAuthor' : '고길동'}\n",
    "    }\n",
    ")"
   ]
  },
  {
   "cell_type": "code",
   "execution_count": 23,
   "id": "cdf5301b",
   "metadata": {},
   "outputs": [
    {
     "data": {
      "text/plain": [
       "<pymongo.results.DeleteResult at 0x104155b40>"
      ]
     },
     "execution_count": 23,
     "metadata": {},
     "output_type": "execute_result"
    }
   ],
   "source": [
    "# delete_one()\n",
    "db.book.delete_one({'bookNo' : '1016'})"
   ]
  },
  {
   "cell_type": "code",
   "execution_count": 24,
   "id": "effe68ab",
   "metadata": {},
   "outputs": [],
   "source": [
    "conn.close()"
   ]
  },
  {
   "cell_type": "code",
   "execution_count": null,
   "id": "904e6df6",
   "metadata": {},
   "outputs": [],
   "source": []
  }
 ],
 "metadata": {
  "kernelspec": {
   "display_name": "Python 3 (ipykernel)",
   "language": "python",
   "name": "python3"
  },
  "language_info": {
   "codemirror_mode": {
    "name": "ipython",
    "version": 3
   },
   "file_extension": ".py",
   "mimetype": "text/x-python",
   "name": "python",
   "nbconvert_exporter": "python",
   "pygments_lexer": "ipython3",
   "version": "3.11.4"
  }
 },
 "nbformat": 4,
 "nbformat_minor": 5
}
