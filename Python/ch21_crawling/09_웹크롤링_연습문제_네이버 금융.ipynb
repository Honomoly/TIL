{
 "cells": [
  {
   "cell_type": "markdown",
   "id": "04a520f5-d1cc-4118-8476-49f5807d37ab",
   "metadata": {},
   "source": [
    "### 크롤링 연습문제"
   ]
  },
  {
   "cell_type": "markdown",
   "id": "0eb0ec36-39ef-4f88-9fd8-7727477ae2f6",
   "metadata": {},
   "source": [
    "#### 문제 1\n",
    "- 네이버 금융 페이지에서 유가/환율/국제금 시세/국내금 시세 추출  \n",
    "- url = 'https://finance.naver.com'"
   ]
  },
  {
   "cell_type": "code",
   "execution_count": 1,
   "id": "ef4d974f-e645-45df-90e9-823c804492d5",
   "metadata": {},
   "outputs": [],
   "source": [
    "from urllib.request import urlopen\n",
    "import requests\n",
    "import bs4\n",
    "import pandas as pd\n",
    "from IPython.core.interactiveshell import InteractiveShell\n",
    "InteractiveShell.ast_node_interactivity=\"all\""
   ]
  },
  {
   "cell_type": "code",
   "execution_count": 2,
   "id": "bf912e65",
   "metadata": {},
   "outputs": [],
   "source": [
    "url = 'https://finance.naver.com'\n",
    "html = urlopen(url)\n",
    "bs_obj = bs4.BeautifulSoup(html, 'html.parser')"
   ]
  },
  {
   "cell_type": "code",
   "execution_count": 3,
   "id": "eda7d040",
   "metadata": {
    "scrolled": true
   },
   "outputs": [
    {
     "name": "stdout",
     "output_type": "stream",
     "text": [
      "거래상위 TOP 종목\n",
      "상승 TOP 종목\n",
      "하락 TOP 종목\n",
      "시가총액 상위 TOP 종목\n",
      "환전 고시 환율\n",
      "국제 시장 환율\n",
      "금리\n",
      "유가\n",
      "금 시세\n",
      "원자재\n",
      "해외 증시\n",
      "인기 검색 종목표\n"
     ]
    }
   ],
   "source": [
    "tables = bs_obj.select('table.tbl_home') # 테이블 관련 클래스 추출\n",
    "for table in tables:\n",
    "    print(table.select_one('caption').text.strip().split('\\n')[0])"
   ]
  },
  {
   "cell_type": "code",
   "execution_count": 4,
   "id": "8c80e252",
   "metadata": {},
   "outputs": [
    {
     "name": "stdout",
     "output_type": "stream",
     "text": [
      "유가 :  88.52 달러/배럴\n",
      "USD :  1,327.60 원\n",
      "국제금 :  1,932.50 달러/트로이온스\n",
      "국내금 :  81,570.36 원/g\n"
     ]
    }
   ],
   "source": [
    "# 유가 테이블\n",
    "table = tables[7]\n",
    "oil = table.select_one('tbody tr:nth-child(2)').find('td').text\n",
    "\n",
    "# 환율 테이블\n",
    "table = tables[4]\n",
    "USD = table.select_one('tbody tr:first-child').find('td').text\n",
    "\n",
    "# 금 시세 테이블\n",
    "table = tables[8]\n",
    "gold_out = table.select_one('tbody tr:first-child').find('td').text\n",
    "gold_in = table.select_one('tbody tr:nth-child(2)').find('td').text\n",
    "\n",
    "print('유가 : ',oil,'달러/배럴')\n",
    "print('USD : ',USD,'원')\n",
    "print('국제금 : ',gold_out,'달러/트로이온스')\n",
    "print('국내금 : ',gold_in,'원/g')"
   ]
  },
  {
   "cell_type": "code",
   "execution_count": 5,
   "id": "70e695cd-2592-4f7f-92f4-b3d0b2de42d1",
   "metadata": {},
   "outputs": [],
   "source": [
    "# 유가 :  88.84\n",
    "# USD :  1,328.00\n",
    "# 국제금 :  1,935.10\n",
    "# 국내금 :  81,781.70"
   ]
  },
  {
   "cell_type": "markdown",
   "id": "0dd8fd18-8437-4e12-bc95-5ccef638860d",
   "metadata": {},
   "source": [
    "#### 문제 2\n",
    "- 네이버 증권 페이지에서 상한가 / 하한가 / 시가총액상위 기업 추출\n",
    "- url = \"http://finance.naver.com/sise/\""
   ]
  },
  {
   "cell_type": "code",
   "execution_count": 6,
   "id": "b824df10-7dee-4eef-bfb3-f4be6a60c994",
   "metadata": {},
   "outputs": [],
   "source": [
    "url = \"http://finance.naver.com/sise/\"\n",
    "html = urlopen(url)\n",
    "bs_obj = bs4.BeautifulSoup(html, 'html.parser')"
   ]
  },
  {
   "cell_type": "code",
   "execution_count": 7,
   "id": "40089278",
   "metadata": {},
   "outputs": [
    {
     "name": "stdout",
     "output_type": "stream",
     "text": [
      "---------- 상한가 ----------\n",
      "1 피씨엘 = 3,980\n",
      "2 서남 = 4,795\n",
      "3 엘에이티 = 8,030\n",
      "4 엔젠바이오 = 8,760\n"
     ]
    }
   ],
   "source": [
    "tops = bs_obj.find('table', {'summary':'탑종목 상한가 리스트'}).findAll('tr')[2:-2] # 3번째 tr부터 마지막 3번째 tr 까지 순위\n",
    "\n",
    "print('---------- 상한가 ----------')\n",
    "i = 1\n",
    "for top in tops:\n",
    "    tds = top.findAll('td')\n",
    "    print(i, tds[3].text, end=' = ')\n",
    "    print(tds[4].text)\n",
    "    i += 1\n"
   ]
  },
  {
   "cell_type": "code",
   "execution_count": 8,
   "id": "1f9856f0-462a-4b12-9d00-e740d10096a1",
   "metadata": {},
   "outputs": [],
   "source": [
    "# ---------- 상한가 ----------\n",
    "# 1 노루홀딩스우 = 48,900\n",
    "# 2 이원컴포텍 = 4,120\n",
    "# 3 에이스테크 = 2,425\n",
    "# 4 노루페인트우 = 25,450\n",
    "# 5 머큐리 = 8,370\n",
    "# 6 애드바이오텍 = 4,910\n",
    "# 7 썬테크 = 5,180\n",
    "# 8 엔에스컴퍼니 = 4,845"
   ]
  },
  {
   "cell_type": "code",
   "execution_count": 9,
   "id": "f90f32d8-d1d4-4556-95d4-cfc0978bec75",
   "metadata": {},
   "outputs": [
    {
     "name": "stdout",
     "output_type": "stream",
     "text": [
      "---------- 하한가 ----------\n",
      "1 대유에이텍 = 355\n",
      "2 골프존데카 = 1,180\n",
      "3 테크엔 = 246\n"
     ]
    }
   ],
   "source": [
    "tops = bs_obj.find('table', {'summary':'탑종목 하한가 리스트'}).findAll('tr')[2:-2]\n",
    "\n",
    "print('---------- 하한가 ----------')\n",
    "i = 1\n",
    "for top in tops:\n",
    "    tds = top.findAll('td')\n",
    "    print(i, tds[3].text, end=' = ')\n",
    "    print(tds[4].text)\n",
    "    i += 1"
   ]
  },
  {
   "cell_type": "code",
   "execution_count": 10,
   "id": "2827bddd-eb2b-44a2-a9b3-43b25e4dd465",
   "metadata": {},
   "outputs": [],
   "source": [
    "\n",
    "# ----------- 하한가 -----------\n",
    "# 1 테크엔 = 289"
   ]
  },
  {
   "cell_type": "code",
   "execution_count": 11,
   "id": "6d13fccd-284c-4424-ad53-0a17a9bd5374",
   "metadata": {},
   "outputs": [
    {
     "name": "stdout",
     "output_type": "stream",
     "text": [
      "---------- 시가총액 상위 ----------\n",
      "1 삼성전자 = 71,400\n",
      "2 LG에너지솔루션 = 510,000\n",
      "3 SK하이닉스 = 119,500\n",
      "4 삼성바이오로직스 = 724,000\n",
      "5 삼성전자우 = 57,500\n",
      "6 POSCO홀딩스 = 550,000\n",
      "7 현대차 = 189,400\n",
      "8 삼성SDI = 576,000\n",
      "9 LG화학 = 547,000\n",
      "10 NAVER = 222,500\n"
     ]
    }
   ],
   "source": [
    "tops = bs_obj.find('table', {'summary':'탑종목 시가총액상위 리스트'}).findAll('tr')[2:-2]\n",
    "\n",
    "print('---------- 시가총액 상위 ----------')\n",
    "i = 1\n",
    "for top in tops:\n",
    "    if i>=6 and i <= 8:\n",
    "        i += 1\n",
    "        continue\n",
    "    tds = top.findAll('td')\n",
    "    if i>=6:\n",
    "        print(i-3, end=' ')\n",
    "    else:\n",
    "        print(i, end=' ')    \n",
    "    print(tds[1].text, end=' = ')\n",
    "    print(tds[2].text)\n",
    "    i += 1"
   ]
  },
  {
   "cell_type": "code",
   "execution_count": 12,
   "id": "875bf67a-3571-411d-9bfa-40bd6372dfd4",
   "metadata": {},
   "outputs": [],
   "source": [
    "\n",
    "# ----------- 시가총액 상위 -----------\n",
    "# 1 삼성전자 = 70,900\n",
    "# 2 LG에너지솔루션 = 494,500\n",
    "# 3 SK하이닉스 = 118,500\n",
    "# 4 삼성바이오로직스 = 723,000\n",
    "# 5 삼성전자우 = 57,500\n",
    "# 6 POSCO홀딩스 = 529,000\n",
    "# 7 현대차 = 189,800\n",
    "# 8 삼성SDI = 558,000\n",
    "# 9 LG화학 = 540,000\n",
    "# 10 NAVER = 222,000"
   ]
  }
 ],
 "metadata": {
  "kernelspec": {
   "display_name": "Python 3 (ipykernel)",
   "language": "python",
   "name": "python3"
  },
  "language_info": {
   "codemirror_mode": {
    "name": "ipython",
    "version": 3
   },
   "file_extension": ".py",
   "mimetype": "text/x-python",
   "name": "python",
   "nbconvert_exporter": "python",
   "pygments_lexer": "ipython3",
   "version": "3.11.4"
  }
 },
 "nbformat": 4,
 "nbformat_minor": 5
}
