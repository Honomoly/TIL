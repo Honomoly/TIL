{
 "cells": [
  {
   "cell_type": "markdown",
   "id": "e5ea63f5",
   "metadata": {},
   "source": [
    "## 다음뉴스 크롤링"
   ]
  },
  {
   "cell_type": "code",
   "execution_count": 1,
   "id": "8562b248",
   "metadata": {},
   "outputs": [],
   "source": [
    "from urllib.request import urlopen\n",
    "import bs4\n",
    "import requests\n",
    "import pandas as pd"
   ]
  },
  {
   "cell_type": "markdown",
   "id": "801af5b8",
   "metadata": {},
   "source": [
    "# (1)"
   ]
  },
  {
   "cell_type": "code",
   "execution_count": 2,
   "id": "1638494b",
   "metadata": {},
   "outputs": [],
   "source": [
    "url = 'https://news.daum.net'\n",
    "html = urlopen(url)\n",
    "bs_obj = bs4.BeautifulSoup(html, 'html.parser')"
   ]
  },
  {
   "cell_type": "code",
   "execution_count": 3,
   "id": "34ffb55d",
   "metadata": {},
   "outputs": [],
   "source": [
    "# 섹션 리스트\n",
    "lis = bs_obj.find('ul', {'class':'gnb_comm'}).findAll('li')\n",
    "sections = []\n",
    "links = []\n",
    "for i in range(1, 7):\n",
    "    sections.append(lis[i].text)\n",
    "    links.append(url+lis[i].find('a')['href'])"
   ]
  },
  {
   "cell_type": "code",
   "execution_count": 4,
   "id": "f1ef4d3e",
   "metadata": {},
   "outputs": [],
   "source": [
    "section_menu_df = pd.DataFrame({'section':sections, 'link':links})\n",
    "section_menu_df.to_csv('crawl_data/daum_section_menu.csv', index=0)"
   ]
  },
  {
   "cell_type": "markdown",
   "id": "951f0bd0",
   "metadata": {},
   "source": [
    "# (2)"
   ]
  },
  {
   "cell_type": "code",
   "execution_count": 5,
   "id": "fe25c60d",
   "metadata": {},
   "outputs": [],
   "source": [
    "section_menu_df = pd.read_csv('crawl_data/daum_section_menu.csv')"
   ]
  },
  {
   "cell_type": "code",
   "execution_count": 6,
   "id": "631a3b10",
   "metadata": {},
   "outputs": [],
   "source": [
    "def get_topic(url, section):\n",
    "    headers = {'User-Agent':'Mozilla/5.0 (Macintosh; Intel Mac OS X 10_15_7) AppleWebKit/537.36 (KHTML, like Gecko) Chrome/116.0.0.0 Safari/537.36'}\n",
    "    res = requests.get(url, headers=headers)\n",
    "    html = res.text\n",
    "    bs_obj = bs4.BeautifulSoup(html, 'html.parser')\n",
    "    \n",
    "    # 토픽 리스트\n",
    "    topic_list = bs_obj.select('ul.list_mainnews li')\n",
    "    topic_title = []\n",
    "    topic_link = []\n",
    "\n",
    "    for topic in topic_list:\n",
    "        a = topic.select_one('a.link_txt')\n",
    "        topic_title.append(a.text)\n",
    "        topic_link.append(a['href'])\n",
    "            \n",
    "    return {'topic':topic_title, 'url':topic_link, 'section':section}"
   ]
  },
  {
   "cell_type": "code",
   "execution_count": 7,
   "id": "84e4a76e",
   "metadata": {},
   "outputs": [],
   "source": [
    "all_topic_news_df = pd.DataFrame({\n",
    "    'topic' : [],\n",
    "    'url' : [],\n",
    "    'section' : []\n",
    "})\n",
    "\n",
    "for i in range(6):\n",
    "    df = pd.DataFrame(get_topic(section_menu_df['link'][i], section_menu_df['section'][i]))\n",
    "    all_topic_news_df = pd.concat([all_topic_news_df, df], axis=0, ignore_index=True)\n",
    "    \n",
    "all_topic_news_df.to_csv('crawl_data/daum_news_all_topic.csv', index=0)"
   ]
  },
  {
   "cell_type": "markdown",
   "id": "d5f7bbd3",
   "metadata": {},
   "source": [
    "# (3)"
   ]
  },
  {
   "cell_type": "code",
   "execution_count": 8,
   "id": "173fba0c",
   "metadata": {},
   "outputs": [],
   "source": [
    "all_topic_news_df = pd.read_csv('crawl_data/daum_news_all_topic.csv')"
   ]
  },
  {
   "cell_type": "code",
   "execution_count": 9,
   "id": "3776b96a",
   "metadata": {},
   "outputs": [],
   "source": [
    "def get_sub_news_info(url):\n",
    "    headers = {'User-Agent':'Mozilla/5.0 (Macintosh; Intel Mac OS X 10_15_7) AppleWebKit/537.36 (KHTML, like Gecko) Chrome/116.0.0.0 Safari/537.36'}\n",
    "    res = requests.get(url, headers=headers)\n",
    "    html = res.text\n",
    "    bs_obj = bs4.BeautifulSoup(html, 'html.parser')\n",
    "    \n",
    "    paper_list, title_list, datetime_list, writing_list, writer_list = [[] for _ in range(5)]\n",
    "    \n",
    "    # 언론사\n",
    "    paper_list.append(bs_obj.select_one('#kakaoServiceLogo').text)\n",
    "    # 제목\n",
    "    title_list.append(bs_obj.select_one('div.head_view h3').text)\n",
    "    # 작성시간\n",
    "    datetime_list.append(bs_obj.select_one('span.num_date').text)\n",
    "    # 내용\n",
    "    writing_list.append(bs_obj.select_one('div.article_view section').text.replace('\\n', ' ').strip())\n",
    "    # 작성자\n",
    "    writer_list.append(bs_obj.select_one('div.info_view span:first-child').text)\n",
    "    \n",
    "    sub_news_dict = {\n",
    "        'paper' : paper_list,\n",
    "        'title' : title_list,\n",
    "        'datetime' : datetime_list,\n",
    "        'writing' : writing_list,\n",
    "        'writer' : writer_list\n",
    "    }\n",
    "    return sub_news_dict"
   ]
  },
  {
   "cell_type": "code",
   "execution_count": 10,
   "id": "53c4732c",
   "metadata": {},
   "outputs": [],
   "source": [
    "all_sub_news_info_df = pd.DataFrame({\n",
    "    'paper' : [],\n",
    "    'title' : [],\n",
    "    'datetime' : [],\n",
    "    'writing' : [],\n",
    "    'writer' : []\n",
    "})\n",
    "\n",
    "for url in all_topic_news_df['url']:\n",
    "    df = pd.DataFrame(get_sub_news_info(url))\n",
    "    all_sub_news_info_df = pd.concat([all_sub_news_info_df, df], axis=0, ignore_index=True)\n",
    "    \n",
    "all_sub_news_info_df.to_csv('crawl_data/daum_sub_news_section.csv', index=0)"
   ]
  }
 ],
 "metadata": {
  "kernelspec": {
   "display_name": "Python 3 (ipykernel)",
   "language": "python",
   "name": "python3"
  },
  "language_info": {
   "codemirror_mode": {
    "name": "ipython",
    "version": 3
   },
   "file_extension": ".py",
   "mimetype": "text/x-python",
   "name": "python",
   "nbconvert_exporter": "python",
   "pygments_lexer": "ipython3",
   "version": "3.11.5"
  }
 },
 "nbformat": 4,
 "nbformat_minor": 5
}
