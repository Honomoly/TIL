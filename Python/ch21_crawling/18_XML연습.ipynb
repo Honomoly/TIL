{
 "cells": [
  {
   "cell_type": "markdown",
   "id": "3115ef0d",
   "metadata": {},
   "source": [
    "### XML 연습\n",
    " - html의 한계를 극복할 목적"
   ]
  },
  {
   "cell_type": "code",
   "execution_count": 1,
   "id": "a87ef843",
   "metadata": {},
   "outputs": [],
   "source": [
    "import bs4"
   ]
  },
  {
   "cell_type": "code",
   "execution_count": 2,
   "id": "259bcc4c",
   "metadata": {},
   "outputs": [],
   "source": [
    "xml_str = '''\n",
    "    <?xml version=\"1.0\" encoding=\"UTF-8\" standalone=\"yes\"?><response><header><resultcode>00</resultcode><resultmsg>NORMAL SERVICE.</resultmsg></header><body><items><item><id>abcd</id><name>홍길동</name><tel>010-1234-1234</tel><address>서울시 강남구</address></item><item><id>sky</id><name>이몽룡</name><tel>010-5678-5678</tel><address>제주도 제주시</address></item><item><id>lucky</id><name>성춘향</name><tel>010-1111-1111</tel><address>경기도 안양시</address></item></items><numofrows>10</numofrows><pageno>1</pageno><totalcount>4</totalcount></body></response>\n",
    "'''"
   ]
  },
  {
   "cell_type": "code",
   "execution_count": 3,
   "id": "a316287b",
   "metadata": {},
   "outputs": [
    {
     "name": "stderr",
     "output_type": "stream",
     "text": [
      "/Users/jangseungheon/anaconda3/lib/python3.11/site-packages/bs4/builder/__init__.py:545: XMLParsedAsHTMLWarning: It looks like you're parsing an XML document using an HTML parser. If this really is an HTML document (maybe it's XHTML?), you can ignore or filter this warning. If it's XML, you should know that using an XML parser will be more reliable. To parse this document as XML, make sure you have the lxml package installed, and pass the keyword argument `features=\"xml\"` into the BeautifulSoup constructor.\n",
      "  warnings.warn(\n"
     ]
    },
    {
     "data": {
      "text/plain": [
       "\n",
       "<?xml version=\"1.0\" encoding=\"UTF-8\" standalone=\"yes\"?><response><header><resultcode>00</resultcode><resultmsg>NORMAL SERVICE.</resultmsg></header><body><items><item><id>abcd</id><name>홍길동</name><tel>010-1234-1234</tel><address>서울시 강남구</address></item><item><id>sky</id><name>이몽룡</name><tel>010-5678-5678</tel><address>제주도 제주시</address></item><item><id>lucky</id><name>성춘향</name><tel>010-1111-1111</tel><address>경기도 안양시</address></item></items><numofrows>10</numofrows><pageno>1</pageno><totalcount>4</totalcount></body></response>"
      ]
     },
     "execution_count": 3,
     "metadata": {},
     "output_type": "execute_result"
    }
   ],
   "source": [
    "bs_obj = bs4.BeautifulSoup(xml_str, 'html.parser')\n",
    "bs_obj"
   ]
  },
  {
   "cell_type": "code",
   "execution_count": 4,
   "id": "94e9f6a3",
   "metadata": {},
   "outputs": [
    {
     "data": {
      "text/plain": [
       "3"
      ]
     },
     "execution_count": 4,
     "metadata": {},
     "output_type": "execute_result"
    }
   ],
   "source": [
    "items = bs_obj.findAll('item')\n",
    "len(items)"
   ]
  },
  {
   "cell_type": "code",
   "execution_count": 5,
   "id": "8133d79c",
   "metadata": {},
   "outputs": [
    {
     "name": "stdout",
     "output_type": "stream",
     "text": [
      "abcd 홍길동 010-1234-1234 서울시 강남구\n",
      "sky 이몽룡 010-5678-5678 제주도 제주시\n",
      "lucky 성춘향 010-1111-1111 경기도 안양시\n"
     ]
    }
   ],
   "source": [
    "for item in items:\n",
    "    id = item.find('id').text\n",
    "    name = item.find('name').text\n",
    "    tel = item.find('tel').text\n",
    "    address = item.find('address').text\n",
    "    print(id, name, tel, address)"
   ]
  },
  {
   "cell_type": "code",
   "execution_count": null,
   "id": "c3c67c5d",
   "metadata": {},
   "outputs": [],
   "source": [
    " "
   ]
  }
 ],
 "metadata": {
  "kernelspec": {
   "display_name": "Python 3 (ipykernel)",
   "language": "python",
   "name": "python3"
  },
  "language_info": {
   "codemirror_mode": {
    "name": "ipython",
    "version": 3
   },
   "file_extension": ".py",
   "mimetype": "text/x-python",
   "name": "python",
   "nbconvert_exporter": "python",
   "pygments_lexer": "ipython3",
   "version": "3.11.4"
  }
 },
 "nbformat": 4,
 "nbformat_minor": 5
}
