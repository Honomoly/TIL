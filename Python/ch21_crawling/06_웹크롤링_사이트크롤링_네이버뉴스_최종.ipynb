{
 "cells": [
  {
   "cell_type": "markdown",
   "id": "109cab5e",
   "metadata": {},
   "source": [
    "### 네이버뉴스 크롤링 최종\n",
    " - 섹션 추출 ~ sub페이지 추출까지\n"
   ]
  },
  {
   "cell_type": "code",
   "execution_count": 1,
   "id": "8ca48275",
   "metadata": {},
   "outputs": [],
   "source": [
    "from urllib.request import urlopen\n",
    "import bs4\n",
    "import requests\n",
    "import pandas as pd"
   ]
  },
  {
   "cell_type": "code",
   "execution_count": 2,
   "id": "b0ed90d0",
   "metadata": {},
   "outputs": [],
   "source": [
    "from IPython.core.interactiveshell import InteractiveShell\n",
    "InteractiveShell.ast_node_interactivity=\"all\""
   ]
  },
  {
   "cell_type": "markdown",
   "id": "9532890f",
   "metadata": {},
   "source": [
    "### (1) 섹션 메뉴및 링크 추출"
   ]
  },
  {
   "cell_type": "code",
   "execution_count": 3,
   "id": "1ef42414",
   "metadata": {},
   "outputs": [],
   "source": [
    "url = 'https://news.naver.com/'\n",
    "html = urlopen(url)\n",
    "bs_obj = bs4.BeautifulSoup(html, 'html.parser')"
   ]
  },
  {
   "cell_type": "code",
   "execution_count": 4,
   "id": "16f87400",
   "metadata": {},
   "outputs": [],
   "source": [
    "ul = bs_obj.select_one('ul.Nlnb_menu_list')\n",
    "\n",
    "section = []\n",
    "link = []\n",
    "for lis in ul.select('li'):\n",
    "    section.append(lis.find('span').text)\n",
    "    link.append(lis.find('a')['href'])"
   ]
  },
  {
   "cell_type": "code",
   "execution_count": 5,
   "id": "9267414e",
   "metadata": {},
   "outputs": [],
   "source": [
    "section_menu_df = pd.DataFrame({'section':section, 'link':link})\n",
    "section_menu_df.to_csv('crawl_data/naver_news_section.csv', index=0)"
   ]
  },
  {
   "cell_type": "markdown",
   "id": "b705a338",
   "metadata": {},
   "source": [
    "### (2) 토픽 뉴스및 링크 추출"
   ]
  },
  {
   "cell_type": "code",
   "execution_count": 6,
   "id": "38be85ed",
   "metadata": {},
   "outputs": [],
   "source": [
    "section_menu_df = pd.read_csv('crawl_data/naver_news_section.csv')"
   ]
  },
  {
   "cell_type": "code",
   "execution_count": 7,
   "id": "921b82e9",
   "metadata": {},
   "outputs": [],
   "source": [
    "def get_topic(url, section):\n",
    "    headers = {'User-Agent':'Mozilla/5.0 (Macintosh; Intel Mac OS X 10_15_7) AppleWebKit/537.36 (KHTML, like Gecko) Chrome/116.0.0.0 Safari/537.36'}\n",
    "    res = requests.get(url, headers=headers)\n",
    "    html = res.text\n",
    "    bs_obj = bs4.BeautifulSoup(html, 'html.parser')\n",
    "    \n",
    "    topic_list = bs_obj.findAll('div', {'class':'sh_text'})   \n",
    "    topic_title = []\n",
    "    topic_link = []\n",
    "\n",
    "    for topic in topic_list:\n",
    "        try:\n",
    "            a = topic.find('a')\n",
    "            topic_title.append(a.text)\n",
    "            topic_link.append(a['href'])\n",
    "        except:\n",
    "            print('추출시 오류 발생')\n",
    "            \n",
    "    return {'topic':topic_title, 'url':topic_link, 'section':section}"
   ]
  },
  {
   "cell_type": "code",
   "execution_count": 8,
   "id": "faed40be",
   "metadata": {},
   "outputs": [],
   "source": [
    "all_topic_df = pd.DataFrame({\n",
    "    'topic':[],\n",
    "    'url':[],\n",
    "    'section':[]\n",
    "})\n",
    "\n",
    "for i in range(1, 7):\n",
    "    df = pd.DataFrame(get_topic(section_menu_df['link'][i], section_menu_df['section'][i]))\n",
    "    all_topic_df = pd.concat([all_topic_df, df], axis=0, ignore_index=True)\n",
    "    \n",
    "all_topic_df.to_csv('crawl_data/naver_news_all_topic.csv')"
   ]
  },
  {
   "cell_type": "markdown",
   "id": "b52b6e00",
   "metadata": {},
   "source": [
    "### (3) 토픽 뉴스 내용 추출"
   ]
  },
  {
   "cell_type": "code",
   "execution_count": 9,
   "id": "6fcc4888",
   "metadata": {},
   "outputs": [],
   "source": [
    "all_topic_df = pd.read_csv('crawl_data/naver_news_all_topic.csv')"
   ]
  },
  {
   "cell_type": "code",
   "execution_count": 10,
   "id": "4368b451",
   "metadata": {},
   "outputs": [],
   "source": [
    "def get_sub_news_info(url):\n",
    "    headers = {'User-Agent':'Mozilla/5.0 (Macintosh; Intel Mac OS X 10_15_7) AppleWebKit/537.36 (KHTML, like Gecko) Chrome/116.0.0.0 Safari/537.36'}\n",
    "    paper_list, title_list, datetime_list, writing_list, writer_list = [[] for _ in range(5)]\n",
    "    try:\n",
    "        res = requests.get(url, headers=headers)\n",
    "        html = res.text\n",
    "        bs_obj = bs4.BeautifulSoup(html, 'html.parser')\n",
    "        \n",
    "        paper_list.append(bs_obj.find('a', {'class':'media_end_head_top_logo'}).select_one('img')['title'])\n",
    "        title_list.append(bs_obj.find('div', {'class':'media_end_head_title'}).find('span').text)\n",
    "        datetime_list.append(bs_obj.find('div', {'class':'media_end_head_info_datestamp_bunch'}).find('span').text)\n",
    "        writing_list.append(bs_obj.find('article', {'id':'dic_area'}).text.replace('\\n', ' ').strip())\n",
    "        writer_list.append(bs_obj.find('div', {'class':'byline'}).text.strip())\n",
    "    except Exception as e:\n",
    "        print('오류 발생!', e)\n",
    "    \n",
    "    sub_news_dict = {\n",
    "        'paper' : paper_list,\n",
    "        'title' : title_list,\n",
    "        'datetime' : datetime_list,\n",
    "        'writing' : writing_list,\n",
    "        'writer' : writer_list\n",
    "    }\n",
    "    return sub_news_dict"
   ]
  },
  {
   "cell_type": "code",
   "execution_count": 11,
   "id": "de71173c",
   "metadata": {},
   "outputs": [],
   "source": [
    "all_sub_news_info_df = pd.DataFrame({\n",
    "    'paper' : [],\n",
    "    'title' : [],\n",
    "    'datetime' : [],\n",
    "    'writing' : [],\n",
    "    'writer' : []\n",
    "})\n",
    "\n",
    "for url in all_topic_df['url']:\n",
    "    df = pd.DataFrame(get_sub_news_info(url))\n",
    "    all_sub_news_info_df = pd.concat([all_sub_news_info_df, df], axis=0, ignore_index=True)\n",
    "    \n",
    "all_sub_news_info_df.to_csv('crawl_data/naver_sub_news_section.csv', index=0)"
   ]
  }
 ],
 "metadata": {
  "kernelspec": {
   "display_name": "Python 3 (ipykernel)",
   "language": "python",
   "name": "python3"
  },
  "language_info": {
   "codemirror_mode": {
    "name": "ipython",
    "version": 3
   },
   "file_extension": ".py",
   "mimetype": "text/x-python",
   "name": "python",
   "nbconvert_exporter": "python",
   "pygments_lexer": "ipython3",
   "version": "3.11.5"
  }
 },
 "nbformat": 4,
 "nbformat_minor": 5
}
