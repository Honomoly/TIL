{
 "cells": [
  {
   "cell_type": "markdown",
   "id": "e79244eb-a53a-47a9-b9d2-f9f1e74ab3bf",
   "metadata": {},
   "source": [
    "### 크롤링 연습문제"
   ]
  },
  {
   "cell_type": "markdown",
   "id": "9101442a-6353-49e7-a256-1be7e2d56a17",
   "metadata": {},
   "source": [
    "#### 다음 금융 페이지에서 업종 상위 기업 추출  \n",
    "url='http://finance.daum.net/'"
   ]
  },
  {
   "cell_type": "code",
   "execution_count": 1,
   "id": "12396fb1-eaad-474e-b961-d4ff5628b52f",
   "metadata": {},
   "outputs": [],
   "source": [
    "# 1 노루홀딩스우 48,900\n",
    "# 2 노루페인트우 25,450\n",
    "# 3 신풍 1,131\n",
    "# 4 유유제약2우B 14,490\n",
    "# 5 조비 15,840"
   ]
  },
  {
   "cell_type": "code",
   "execution_count": 2,
   "id": "291ffd77",
   "metadata": {},
   "outputs": [],
   "source": [
    "from IPython.core.interactiveshell import InteractiveShell\n",
    "InteractiveShell.ast_node_interactivity=\"all\"\n",
    "from urllib.request import urlopen\n",
    "import requests\n",
    "import bs4\n",
    "import pandas as pd"
   ]
  },
  {
   "cell_type": "code",
   "execution_count": 3,
   "id": "bcf29603",
   "metadata": {},
   "outputs": [],
   "source": [
    "import selenium\n",
    "from selenium import webdriver\n",
    "from selenium.webdriver.common.by import By # 셀레니움 4.0부터 포함된 객체(모듈)\n",
    "\n",
    "from selenium.webdriver.chrome.service import Service\n",
    "from webdriver_manager.chrome import ChromeDriverManager"
   ]
  },
  {
   "cell_type": "code",
   "execution_count": 4,
   "id": "f3adac17",
   "metadata": {},
   "outputs": [],
   "source": [
    "chrome_options = webdriver.ChromeOptions()\n",
    "driver = webdriver.Chrome(service=Service(ChromeDriverManager().install()), options=chrome_options)"
   ]
  },
  {
   "cell_type": "code",
   "execution_count": 5,
   "id": "44b58264-ec49-4e49-a063-3f76f1fefd89",
   "metadata": {},
   "outputs": [],
   "source": [
    "driver.get('http://finance.daum.net/')"
   ]
  },
  {
   "cell_type": "code",
   "execution_count": 6,
   "id": "545e302e",
   "metadata": {},
   "outputs": [
    {
     "name": "stdout",
     "output_type": "stream",
     "text": [
      "1 덕성 7,450\n",
      "2 일동제약 22,350\n",
      "3 한국무브넥스 6,550\n",
      "4 일동홀딩스 15,100\n",
      "5 한솔케미칼 178,900\n"
     ]
    }
   ],
   "source": [
    "comps = driver.find_elements(By.CSS_SELECTOR, 'ul.list.boxKospi li')\n",
    "i=1\n",
    "for comp in comps:\n",
    "    name = comp.find_element(By.CSS_SELECTOR, 'a').text\n",
    "    val = comp.find_element(By.CSS_SELECTOR, 'p').text\n",
    "    print(i, name, val)\n",
    "    i+=1"
   ]
  },
  {
   "cell_type": "code",
   "execution_count": null,
   "id": "cf00e078",
   "metadata": {},
   "outputs": [],
   "source": []
  },
  {
   "cell_type": "code",
   "execution_count": null,
   "id": "29995ee8",
   "metadata": {},
   "outputs": [],
   "source": []
  }
 ],
 "metadata": {
  "kernelspec": {
   "display_name": "Python 3 (ipykernel)",
   "language": "python",
   "name": "python3"
  },
  "language_info": {
   "codemirror_mode": {
    "name": "ipython",
    "version": 3
   },
   "file_extension": ".py",
   "mimetype": "text/x-python",
   "name": "python",
   "nbconvert_exporter": "python",
   "pygments_lexer": "ipython3",
   "version": "3.11.4"
  }
 },
 "nbformat": 4,
 "nbformat_minor": 5
}
