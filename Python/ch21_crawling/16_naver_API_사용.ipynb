{
 "cells": [
  {
   "cell_type": "code",
   "execution_count": null,
   "id": "745d74e6",
   "metadata": {},
   "outputs": [],
   "source": [
    "# 네이버 검색 API 예제 - 블로그 검색\n",
    "import os\n",
    "import sys\n",
    "import urllib.request\n",
    "client_id = \"ACTFAaM3HKrZegYCCK7h\"\n",
    "client_secret = \"13hDkk6r5b\"\n",
    "encText = urllib.parse.quote(\"태풍\")\n",
    "url = \"https://openapi.naver.com/v1/search/blog?query=\" + encText # JSON 결과\n",
    "# url = \"https://openapi.naver.com/v1/search/blog.xml?query=\" + encText # XML 결과\n",
    "request = urllib.request.Request(url)\n",
    "request.add_header(\"X-Naver-Client-Id\",client_id)\n",
    "request.add_header(\"X-Naver-Client-Secret\",client_secret)\n",
    "response = urllib.request.urlopen(request)\n",
    "rescode = response.getcode()\n",
    "if(rescode==200):\n",
    "    response_body = response.read()\n",
    "    print(response_body.decode('utf-8'))\n",
    "else:\n",
    "    print(\"Error Code:\" + rescode)"
   ]
  },
  {
   "cell_type": "markdown",
   "id": "2bab2a9b",
   "metadata": {},
   "source": [
    "## 블로그 검색"
   ]
  },
  {
   "cell_type": "code",
   "execution_count": 1,
   "id": "8a85f3f9",
   "metadata": {},
   "outputs": [],
   "source": [
    "from IPython.core.interactiveshell import InteractiveShell\n",
    "InteractiveShell.ast_node_interactivity=\"all\"\n",
    "import os\n",
    "import sys\n",
    "import urllib.request\n",
    "import pandas as pd\n",
    "client_id = \"ACTFAaM3HKrZegYCCK7h\"\n",
    "client_secret = \"13hDkk6r5b\""
   ]
  },
  {
   "cell_type": "markdown",
   "id": "9aac6cbd",
   "metadata": {},
   "source": [
    "### 방법1"
   ]
  },
  {
   "cell_type": "code",
   "execution_count": 2,
   "id": "4e4c471d",
   "metadata": {},
   "outputs": [
    {
     "data": {
      "text/plain": [
       "'%EA%B0%95%EB%82%A8%EC%97%AD'"
      ]
     },
     "execution_count": 2,
     "metadata": {},
     "output_type": "execute_result"
    }
   ],
   "source": [
    "# 검색할 단어 인코딩\n",
    "enc_text = urllib.parse.quote('강남역')\n",
    "enc_text"
   ]
  },
  {
   "cell_type": "code",
   "execution_count": 3,
   "id": "9f3b0999",
   "metadata": {},
   "outputs": [],
   "source": [
    "# 서버로 보낼 링크 생성\n",
    "url = \"https://openapi.naver.com/v1/search/blog?query=\" + enc_text"
   ]
  },
  {
   "cell_type": "code",
   "execution_count": 4,
   "id": "a70d087f",
   "metadata": {},
   "outputs": [],
   "source": [
    "# 서버로 전송\n",
    "request = urllib.request.Request(url)\n",
    "request.add_header(\"X-Naver-Client-Id\",client_id)\n",
    "request.add_header(\"X-Naver-Client-Secret\",client_secret)"
   ]
  },
  {
   "cell_type": "code",
   "execution_count": 5,
   "id": "b185e4d9",
   "metadata": {},
   "outputs": [
    {
     "data": {
      "text/plain": [
       "200"
      ]
     },
     "execution_count": 5,
     "metadata": {},
     "output_type": "execute_result"
    }
   ],
   "source": [
    "# 서버 응답\n",
    "response = urllib.request.urlopen(request)\n",
    "rescode = response.getcode()\n",
    "rescode\n",
    "# 200 : Success\n",
    "# 400 : Bad Request\n",
    "# 401 : Unauthorized\n",
    "# 403 : Forbidden \n",
    "# 404 : Not Found\n",
    "# 408 : Request Timeout"
   ]
  },
  {
   "cell_type": "code",
   "execution_count": 6,
   "id": "e527602f",
   "metadata": {
    "scrolled": true
   },
   "outputs": [
    {
     "name": "stdout",
     "output_type": "stream",
     "text": [
      "{\n",
      "\t\"lastBuildDate\":\"Fri, 15 Sep 2023 11:27:43 +0900\",\n",
      "\t\"total\":2138248,\n",
      "\t\"start\":1,\n",
      "\t\"display\":10,\n",
      "\t\"items\":[\n",
      "\t\t{\n",
      "\t\t\t\"title\":\"<b>강남역<\\/b>치과 밝은 미소를 바란다면\",\n",
      "\t\t\t\"link\":\"https:\\/\\/blog.naver.com\\/epal1234\\/223201782075\",\n",
      "\t\t\t\"description\":\"<b>강남역<\\/b>치과 밝은 미소를 바란다면 치아라면 본래 매우 단단한 구조이지만 예상하지 못한 사고나 잘못된... 역시 <b>강남역<\\/b> 치과를 통해 걱정을 해결해 볼 수가 있었어요. 해당 과정에서 약 1개~2개 정도의 치아에... \",\n",
      "\t\t\t\"bloggername\":\"티유치과의원✅\",\n",
      "\t\t\t\"bloggerlink\":\"blog.naver.com\\/epal1234\",\n",
      "\t\t\t\"postdate\":\"20230904\"\n",
      "\t\t},\n",
      "\t\t{\n",
      "\t\t\t\"title\":\"<b>강남역<\\/b>치과 빠른 진료를 바란다면\",\n",
      "\t\t\t\"link\":\"https:\\/\\/blog.naver.com\\/vineyardk\\/223195605133\",\n",
      "\t\t\t\"description\":\"<b>강남역<\\/b>치과 빠른 진료를 바란다면 <b>강남역<\\/b>치과의 일상을 내보내며 자기관리에 집중하지 못하고 살아온... 따라서 직므 우리는 최신식의 디지털 장비를 구하고, 이를 활용하여 강남치과에서 오차를 줄이는 방법을... \",\n",
      "\t\t\t\"bloggername\":\"자기치아살리기 삼성플란트치과의원\",\n",
      "\t\t\t\"bloggerlink\":\"blog.naver.com\\/vineyardk\",\n",
      "\t\t\t\"postdate\":\"20230828\"\n",
      "\t\t},\n",
      "\t\t{\n",
      "\t\t\t\"title\":\"<b>강남역<\\/b> 경락 좌우대칭 고민 해결~\",\n",
      "\t\t\t\"link\":\"https:\\/\\/blog.naver.com\\/nixhhm\\/223171072208\",\n",
      "\t\t\t\"description\":\"저는 앞으로 꾸준히 <b>강남역<\\/b>경락을 통해 지금보다 더 예뻐진 내 모습을 가질 수 있을 것 같아요. 저처럼 수술은 무섭고 예뻐지고 싶으신 분들은 정본에서 경락 어떠실까요? 정본 강남점 주소: 서울 강남구... \",\n",
      "\t\t\t\"bloggername\":\"홍쌤 일상\",\n",
      "\t\t\t\"bloggerlink\":\"blog.naver.com\\/nixhhm\",\n",
      "\t\t\t\"postdate\":\"20230731\"\n",
      "\t\t},\n",
      "\t\t{\n",
      "\t\t\t\"title\":\"<b>강남역<\\/b> 프라이빗 룸식당 와인 다양한 한우부티크\",\n",
      "\t\t\t\"link\":\"https:\\/\\/blog.naver.com\\/joinjaang\\/223211396483\",\n",
      "\t\t\t\"description\":\"와인 한잔 하기를 원하신다면 페어링하기 좋은 고급 한우가 함께하는 한우부티크를 찾아오시길 바란다. 강남 한우부티크 0507-1440-3442 서울특별시 서초구 서초대로78길 38 8층 <b>강남역<\\/b> 5번 출구 119m 매일 11:00 ~ 22:00\",\n",
      "\t\t\t\"bloggername\":\"하우스마켓\",\n",
      "\t\t\t\"bloggerlink\":\"blog.naver.com\\/joinjaang\",\n",
      "\t\t\t\"postdate\":\"20230914\"\n",
      "\t\t},\n",
      "\t\t{\n",
      "\t\t\t\"title\":\"<b>강남역<\\/b> 프라이빗 룸식당 회식 한우부티크 강남 고기집\",\n",
      "\t\t\t\"link\":\"https:\\/\\/blog.naver.com\\/love2dong\\/223208238011\",\n",
      "\t\t\t\"description\":\"<b>강남역<\\/b> 프라이빗 룸식당 회식 한우부티크 강남 고기집 한우부티크 · 영업시간: 매일 11:00-22:00 · 주차 가능 (근처 에이플러스 에셋타워에 주차, 1시간 무료) 벌써 곧 9월 중순이죠? 금요일 퇴근하고 강남 고기집... \",\n",
      "\t\t\t\"bloggername\":\"오늘도 Sweet 하게❤\",\n",
      "\t\t\t\"bloggerlink\":\"blog.naver.com\\/love2dong\",\n",
      "\t\t\t\"postdate\":\"20230911\"\n",
      "\t\t},\n",
      "\t\t{\n",
      "\t\t\t\"title\":\"<b>강남역<\\/b> 맛집, 역삼역 점심 먹기 좋은 중식당 신복면관!\",\n",
      "\t\t\t\"link\":\"https:\\/\\/blog.naver.com\\/santaco\\/223208082328\",\n",
      "\t\t\t\"description\":\"신복면관 서울 강남구 테헤란로4길 6 B126호 매일 11:00~22:00 <b>강남역<\\/b> 1번출구에서 1분 내로 갈 수 있는 곳이다! 위치는 아주 찾기가 쉬웠다 . <b>강남역<\\/b> 1번출구로 나와서 고개를 오른쪽으로 돌리면 큰 건물이 나오는데... \",\n",
      "\t\t\t\"bloggername\":\"매콧의 노래♥\",\n",
      "\t\t\t\"bloggerlink\":\"blog.naver.com\\/santaco\",\n",
      "\t\t\t\"postdate\":\"20230911\"\n",
      "\t\t},\n",
      "\t\t{\n",
      "\t\t\t\"title\":\"<b>강남역<\\/b>미용실 태슬컷 칼단발 가격 어몽헤어 배주희실장\",\n",
      "\t\t\t\"link\":\"https:\\/\\/blog.naver.com\\/todays_lora\\/223211715668\",\n",
      "\t\t\t\"description\":\"하면서 <b>강남역<\\/b> 어몽헤어에서 클리닉도 해보았어요 두 번째 방문이었던 <b>강남역<\\/b>미용실인데 혹시... 남겨보아요 어몽헤어 서울 강남구 봉은사로 18길 76 3층 (신논현역 6번 출구에서 352m) 10:00-19:00 매주 월\\/화 정기휴무\",\n",
      "\t\t\t\"bloggername\":\"여행 좋아하는 한량 주부\",\n",
      "\t\t\t\"bloggerlink\":\"blog.naver.com\\/todays_lora\",\n",
      "\t\t\t\"postdate\":\"20230914\"\n",
      "\t\t},\n",
      "\t\t{\n",
      "\t\t\t\"title\":\"<b>강남역<\\/b> 프라이빗 룸식당 맛집 모임 회식 장소 한우부티크\",\n",
      "\t\t\t\"link\":\"https:\\/\\/blog.naver.com\\/pinkyluv83\\/223209714210\",\n",
      "\t\t\t\"description\":\"한우부티크 <b>강남역<\\/b> 5번 출구 2분 거리 1) 영업시간 11:00 ~22:00 (라스트 오더 21:30) 2) 주차장 : 서초구 강남대로 369 에이플러스에셋 타워 주차 1시간 무료 3) 전화번호 0507-1440-3442 <b>강남역<\\/b> 5번 출구 2분 거리에 있어... \",\n",
      "\t\t\t\"bloggername\":\"Kimi의 여행일기\",\n",
      "\t\t\t\"bloggerlink\":\"blog.naver.com\\/pinkyluv83\",\n",
      "\t\t\t\"postdate\":\"20230912\"\n",
      "\t\t},\n",
      "\t\t{\n",
      "\t\t\t\"title\":\"<b>강남역<\\/b> 회식장소로 안성맞춤인 남도애찬\",\n",
      "\t\t\t\"link\":\"https:\\/\\/blog.naver.com\\/bodyrental\\/223206145615\",\n",
      "\t\t\t\"description\":\"위치 : 서울 강남구 역삼로3길 8 영업시간 : 매일 10:00~22:00 전화번호 : 02-538-1588 저희가 방문한 남도애찬은 <b>강남역<\\/b> 4번출구에서 차로 1분이면 갈 수 있었어요. 큼지막한 간판이 2개나 걸려 있어서 멀리서도 쉽게... \",\n",
      "\t\t\t\"bloggername\":\"♡JOY의 헬스케어 \\/ 일상생활♡\",\n",
      "\t\t\t\"bloggerlink\":\"blog.naver.com\\/bodyrental\",\n",
      "\t\t\t\"postdate\":\"20230908\"\n",
      "\t\t},\n",
      "\t\t{\n",
      "\t\t\t\"title\":\"자꾸 기억나는 <b>강남역<\\/b> 고기집 곱창고\",\n",
      "\t\t\t\"link\":\"https:\\/\\/blog.naver.com\\/06131010\\/223173851134\",\n",
      "\t\t\t\"description\":\"이렇듯 모듬 구이와 전골, 반찬까지 흠잡을 곳 없이 완벽했던 <b>강남역<\\/b> 고기집이라 앞으로도 자주 방문하게 될 것 같아요~ 주소: 서울 강남구 강남대로96길 11 번호: 0507-1386-0001 시간: 화~일11:30 - 01:00\\/월 11:30-23:00... \",\n",
      "\t\t\t\"bloggername\":\"오늘도 감사해요♡\",\n",
      "\t\t\t\"bloggerlink\":\"blog.naver.com\\/06131010\",\n",
      "\t\t\t\"postdate\":\"20230803\"\n",
      "\t\t}\n",
      "\t]\n",
      "}\n"
     ]
    }
   ],
   "source": [
    "if (rescode==200):\n",
    "    response_body = response.read()\n",
    "    print(response_body.decode('utf-8'))\n",
    "else:\n",
    "    print('Error code : ', rescode)"
   ]
  },
  {
   "cell_type": "markdown",
   "id": "120c4c90",
   "metadata": {},
   "source": [
    "### 방법2"
   ]
  },
  {
   "cell_type": "code",
   "execution_count": 1,
   "id": "de58e070",
   "metadata": {},
   "outputs": [],
   "source": [
    "# request.get() 메소드\n",
    "# header 구성이 간단\n",
    "from IPython.core.interactiveshell import InteractiveShell\n",
    "InteractiveShell.ast_node_interactivity=\"all\"\n",
    "import requests\n",
    "import urllib.parse\n",
    "from urllib.parse import urlparse\n",
    "client_id = \"ACTFAaM3HKrZegYCCK7h\"\n",
    "client_secret = \"13hDkk6r5b\""
   ]
  },
  {
   "cell_type": "code",
   "execution_count": 2,
   "id": "92d2451f",
   "metadata": {},
   "outputs": [],
   "source": [
    "key_word = urllib.parse.quote('강남역')"
   ]
  },
  {
   "cell_type": "code",
   "execution_count": 3,
   "id": "dc602c96",
   "metadata": {},
   "outputs": [],
   "source": [
    "base_url = \"https://openapi.naver.com/v1/search/blog.json?\"\n",
    "# 요청 파라미터 형식 : 쿼리스트링서버주소?파라미터명=값&파라미터명=값&...\n",
    "param = \"query=\" + key_word\n",
    "# 최종 url\n",
    "url = base_url + param"
   ]
  },
  {
   "cell_type": "code",
   "execution_count": 4,
   "id": "41a6f1f4",
   "metadata": {},
   "outputs": [
    {
     "data": {
      "text/plain": [
       "<Response [200]>"
      ]
     },
     "execution_count": 4,
     "metadata": {},
     "output_type": "execute_result"
    }
   ],
   "source": [
    "headers = {\n",
    "    \"X-Naver-Client-Id\" : client_id,\n",
    "    \"X-Naver-Client-Secret\" : client_secret\n",
    "}\n",
    "\n",
    "result = requests.get(url, headers=headers)\n",
    "result"
   ]
  },
  {
   "cell_type": "code",
   "execution_count": 5,
   "id": "ddbaee64",
   "metadata": {
    "scrolled": true
   },
   "outputs": [
    {
     "data": {
      "text/plain": [
       "{'lastBuildDate': 'Fri, 15 Sep 2023 11:28:01 +0900',\n",
       " 'total': 2138248,\n",
       " 'start': 1,\n",
       " 'display': 10,\n",
       " 'items': [{'title': '<b>강남역</b>치과 밝은 미소를 바란다면',\n",
       "   'link': 'https://blog.naver.com/epal1234/223201782075',\n",
       "   'description': '<b>강남역</b>치과 밝은 미소를 바란다면 치아라면 본래 매우 단단한 구조이지만 예상하지 못한 사고나 잘못된... 역시 <b>강남역</b> 치과를 통해 걱정을 해결해 볼 수가 있었어요. 해당 과정에서 약 1개~2개 정도의 치아에... ',\n",
       "   'bloggername': '티유치과의원✅',\n",
       "   'bloggerlink': 'blog.naver.com/epal1234',\n",
       "   'postdate': '20230904'},\n",
       "  {'title': '<b>강남역</b>치과 빠른 진료를 바란다면',\n",
       "   'link': 'https://blog.naver.com/vineyardk/223195605133',\n",
       "   'description': '<b>강남역</b>치과 빠른 진료를 바란다면 <b>강남역</b>치과의 일상을 내보내며 자기관리에 집중하지 못하고 살아온... 따라서 직므 우리는 최신식의 디지털 장비를 구하고, 이를 활용하여 강남치과에서 오차를 줄이는 방법을... ',\n",
       "   'bloggername': '자기치아살리기 삼성플란트치과의원',\n",
       "   'bloggerlink': 'blog.naver.com/vineyardk',\n",
       "   'postdate': '20230828'},\n",
       "  {'title': '<b>강남역</b> 경락 좌우대칭 고민 해결~',\n",
       "   'link': 'https://blog.naver.com/nixhhm/223171072208',\n",
       "   'description': '저는 앞으로 꾸준히 <b>강남역</b>경락을 통해 지금보다 더 예뻐진 내 모습을 가질 수 있을 것 같아요. 저처럼 수술은 무섭고 예뻐지고 싶으신 분들은 정본에서 경락 어떠실까요? 정본 강남점 주소: 서울 강남구... ',\n",
       "   'bloggername': '홍쌤 일상',\n",
       "   'bloggerlink': 'blog.naver.com/nixhhm',\n",
       "   'postdate': '20230731'},\n",
       "  {'title': '<b>강남역</b> 프라이빗 룸식당 와인 다양한 한우부티크',\n",
       "   'link': 'https://blog.naver.com/joinjaang/223211396483',\n",
       "   'description': '와인 한잔 하기를 원하신다면 페어링하기 좋은 고급 한우가 함께하는 한우부티크를 찾아오시길 바란다. 강남 한우부티크 0507-1440-3442 서울특별시 서초구 서초대로78길 38 8층 <b>강남역</b> 5번 출구 119m 매일 11:00 ~ 22:00',\n",
       "   'bloggername': '하우스마켓',\n",
       "   'bloggerlink': 'blog.naver.com/joinjaang',\n",
       "   'postdate': '20230914'},\n",
       "  {'title': '<b>강남역</b> 프라이빗 룸식당 회식 한우부티크 강남 고기집',\n",
       "   'link': 'https://blog.naver.com/love2dong/223208238011',\n",
       "   'description': '<b>강남역</b> 프라이빗 룸식당 회식 한우부티크 강남 고기집 한우부티크 · 영업시간: 매일 11:00-22:00 · 주차 가능 (근처 에이플러스 에셋타워에 주차, 1시간 무료) 벌써 곧 9월 중순이죠? 금요일 퇴근하고 강남 고기집... ',\n",
       "   'bloggername': '오늘도 Sweet 하게❤',\n",
       "   'bloggerlink': 'blog.naver.com/love2dong',\n",
       "   'postdate': '20230911'},\n",
       "  {'title': '<b>강남역</b> 맛집, 역삼역 점심 먹기 좋은 중식당 신복면관!',\n",
       "   'link': 'https://blog.naver.com/santaco/223208082328',\n",
       "   'description': '신복면관 서울 강남구 테헤란로4길 6 B126호 매일 11:00~22:00 <b>강남역</b> 1번출구에서 1분 내로 갈 수 있는 곳이다! 위치는 아주 찾기가 쉬웠다 . <b>강남역</b> 1번출구로 나와서 고개를 오른쪽으로 돌리면 큰 건물이 나오는데... ',\n",
       "   'bloggername': '매콧의 노래♥',\n",
       "   'bloggerlink': 'blog.naver.com/santaco',\n",
       "   'postdate': '20230911'},\n",
       "  {'title': '<b>강남역</b>미용실 태슬컷 칼단발 가격 어몽헤어 배주희실장',\n",
       "   'link': 'https://blog.naver.com/todays_lora/223211715668',\n",
       "   'description': '하면서 <b>강남역</b> 어몽헤어에서 클리닉도 해보았어요 두 번째 방문이었던 <b>강남역</b>미용실인데 혹시... 남겨보아요 어몽헤어 서울 강남구 봉은사로 18길 76 3층 (신논현역 6번 출구에서 352m) 10:00-19:00 매주 월/화 정기휴무',\n",
       "   'bloggername': '여행 좋아하는 한량 주부',\n",
       "   'bloggerlink': 'blog.naver.com/todays_lora',\n",
       "   'postdate': '20230914'},\n",
       "  {'title': '<b>강남역</b> 프라이빗 룸식당 맛집 모임 회식 장소 한우부티크',\n",
       "   'link': 'https://blog.naver.com/pinkyluv83/223209714210',\n",
       "   'description': '한우부티크 <b>강남역</b> 5번 출구 2분 거리 1) 영업시간 11:00 ~22:00 (라스트 오더 21:30) 2) 주차장 : 서초구 강남대로 369 에이플러스에셋 타워 주차 1시간 무료 3) 전화번호 0507-1440-3442 <b>강남역</b> 5번 출구 2분 거리에 있어... ',\n",
       "   'bloggername': 'Kimi의 여행일기',\n",
       "   'bloggerlink': 'blog.naver.com/pinkyluv83',\n",
       "   'postdate': '20230912'},\n",
       "  {'title': '<b>강남역</b> 회식장소로 안성맞춤인 남도애찬',\n",
       "   'link': 'https://blog.naver.com/bodyrental/223206145615',\n",
       "   'description': '위치 : 서울 강남구 역삼로3길 8 영업시간 : 매일 10:00~22:00 전화번호 : 02-538-1588 저희가 방문한 남도애찬은 <b>강남역</b> 4번출구에서 차로 1분이면 갈 수 있었어요. 큼지막한 간판이 2개나 걸려 있어서 멀리서도 쉽게... ',\n",
       "   'bloggername': '♡JOY의 헬스케어 / 일상생활♡',\n",
       "   'bloggerlink': 'blog.naver.com/bodyrental',\n",
       "   'postdate': '20230908'},\n",
       "  {'title': '자꾸 기억나는 <b>강남역</b> 고기집 곱창고',\n",
       "   'link': 'https://blog.naver.com/06131010/223173851134',\n",
       "   'description': '이렇듯 모듬 구이와 전골, 반찬까지 흠잡을 곳 없이 완벽했던 <b>강남역</b> 고기집이라 앞으로도 자주 방문하게 될 것 같아요~ 주소: 서울 강남구 강남대로96길 11 번호: 0507-1386-0001 시간: 화~일11:30 - 01:00/월 11:30-23:00... ',\n",
       "   'bloggername': '오늘도 감사해요♡',\n",
       "   'bloggerlink': 'blog.naver.com/06131010',\n",
       "   'postdate': '20230803'}]}"
      ]
     },
     "execution_count": 5,
     "metadata": {},
     "output_type": "execute_result"
    }
   ],
   "source": [
    "json_obj = result.json()\n",
    "json_obj"
   ]
  },
  {
   "cell_type": "code",
   "execution_count": 6,
   "id": "2070ddb5",
   "metadata": {
    "scrolled": true
   },
   "outputs": [
    {
     "data": {
      "text/plain": [
       "dict_keys(['lastBuildDate', 'total', 'start', 'display', 'items'])"
      ]
     },
     "execution_count": 6,
     "metadata": {},
     "output_type": "execute_result"
    }
   ],
   "source": [
    "json_obj.keys()"
   ]
  },
  {
   "cell_type": "code",
   "execution_count": 7,
   "id": "341a505d",
   "metadata": {},
   "outputs": [
    {
     "data": {
      "text/plain": [
       "'Fri, 15 Sep 2023 11:28:01 +0900'"
      ]
     },
     "execution_count": 7,
     "metadata": {},
     "output_type": "execute_result"
    },
    {
     "data": {
      "text/plain": [
       "2138248"
      ]
     },
     "execution_count": 7,
     "metadata": {},
     "output_type": "execute_result"
    },
    {
     "data": {
      "text/plain": [
       "1"
      ]
     },
     "execution_count": 7,
     "metadata": {},
     "output_type": "execute_result"
    },
    {
     "data": {
      "text/plain": [
       "10"
      ]
     },
     "execution_count": 7,
     "metadata": {},
     "output_type": "execute_result"
    }
   ],
   "source": [
    "json_obj['lastBuildDate']\n",
    "json_obj['total']\n",
    "json_obj['start']\n",
    "json_obj['display']"
   ]
  },
  {
   "cell_type": "code",
   "execution_count": 8,
   "id": "a983ed7f",
   "metadata": {},
   "outputs": [
    {
     "name": "stdout",
     "output_type": "stream",
     "text": [
      "강남역치과 밝은 미소를 바란다면 https://blog.naver.com/epal1234/223201782075\n",
      "강남역치과 빠른 진료를 바란다면 https://blog.naver.com/vineyardk/223195605133\n",
      "강남역 경락 좌우대칭 고민 해결~ https://blog.naver.com/nixhhm/223171072208\n",
      "강남역 프라이빗 룸식당 와인 다양한 한우부티크 https://blog.naver.com/joinjaang/223211396483\n",
      "강남역 프라이빗 룸식당 회식 한우부티크 강남 고기집 https://blog.naver.com/love2dong/223208238011\n",
      "강남역 맛집, 역삼역 점심 먹기 좋은 중식당 신복면관! https://blog.naver.com/santaco/223208082328\n",
      "강남역미용실 태슬컷 칼단발 가격 어몽헤어 배주희실장 https://blog.naver.com/todays_lora/223211715668\n",
      "강남역 프라이빗 룸식당 맛집 모임 회식 장소 한우부티크 https://blog.naver.com/pinkyluv83/223209714210\n",
      "강남역 회식장소로 안성맞춤인 남도애찬 https://blog.naver.com/bodyrental/223206145615\n",
      "자꾸 기억나는 강남역 고기집 곱창고 https://blog.naver.com/06131010/223173851134\n"
     ]
    }
   ],
   "source": [
    "items = json_obj['items']\n",
    "for item in items:\n",
    "    title = item['title'].replace('<b>','').replace('</b>','')\n",
    "    link = item['link']\n",
    "    print(title, link)"
   ]
  },
  {
   "cell_type": "markdown",
   "id": "4cfe6ad3",
   "metadata": {},
   "source": [
    "### 검색결과 100개로 변경\n",
    " - 기본값 10개\n",
    " - 최대 100개\n",
    " - display 파라미터에 설정"
   ]
  },
  {
   "cell_type": "code",
   "execution_count": 1,
   "id": "5c28ae11",
   "metadata": {},
   "outputs": [],
   "source": [
    "from IPython.core.interactiveshell import InteractiveShell\n",
    "InteractiveShell.ast_node_interactivity=\"all\"\n",
    "import requests\n",
    "import urllib.parse\n",
    "from urllib.parse import urlparse\n",
    "client_id = \"ACTFAaM3HKrZegYCCK7h\"\n",
    "client_secret = \"13hDkk6r5b\""
   ]
  },
  {
   "cell_type": "code",
   "execution_count": 2,
   "id": "84e17841",
   "metadata": {},
   "outputs": [],
   "source": [
    "num = 100 # 검색 갯수\n",
    "\n",
    "key_word = urllib.parse.quote('강남역')\n",
    "base_url = \"https://openapi.naver.com/v1/search/blog.json?\"\n",
    "param = \"query=\" + key_word\n",
    "# display 파라미터를 100으로 설정\n",
    "param = param + \"&display=\" + str(num)\n",
    "url = base_url + param"
   ]
  },
  {
   "cell_type": "code",
   "execution_count": 3,
   "id": "416264c8",
   "metadata": {},
   "outputs": [],
   "source": [
    "request = urllib.request.Request(url)\n",
    "request.add_header(\"X-Naver-Client-Id\",client_id)\n",
    "request.add_header(\"X-Naver-Client-Secret\",client_secret)\n",
    "\n",
    "headers = {\n",
    "    \"X-Naver-Client-Id\" : client_id,\n",
    "    \"X-Naver-Client-Secret\" : client_secret\n",
    "}\n",
    "\n",
    "result = requests.get(url, headers=headers)"
   ]
  },
  {
   "cell_type": "code",
   "execution_count": 4,
   "id": "58ba117a",
   "metadata": {},
   "outputs": [
    {
     "data": {
      "text/plain": [
       "100"
      ]
     },
     "execution_count": 4,
     "metadata": {},
     "output_type": "execute_result"
    }
   ],
   "source": [
    "# 검색 갯수 확인\n",
    "json_obj = result.json()\n",
    "len(json_obj['items'])"
   ]
  },
  {
   "cell_type": "code",
   "execution_count": 5,
   "id": "7fb9cada",
   "metadata": {
    "scrolled": true
   },
   "outputs": [
    {
     "name": "stdout",
     "output_type": "stream",
     "text": [
      "  1  강남역치과 밝은 미소를 바란다면 https://blog.naver.com/epal1234/223201782075\n",
      "  2  강남역치과 빠른 진료를 바란다면 https://blog.naver.com/vineyardk/223195605133\n",
      "  3  강남역 경락 좌우대칭 고민 해결~ https://blog.naver.com/nixhhm/223171072208\n",
      "  4  강남역 프라이빗 룸식당 와인 다양한 한우부티크 https://blog.naver.com/joinjaang/223211396483\n",
      "  5  강남역 프라이빗 룸식당 회식 한우부티크 강남 고기집 https://blog.naver.com/love2dong/223208238011\n",
      "  6  강남역 맛집, 역삼역 점심 먹기 좋은 중식당 신복면관! https://blog.naver.com/santaco/223208082328\n",
      "  7  강남역미용실 태슬컷 칼단발 가격 어몽헤어 배주희실장 https://blog.naver.com/todays_lora/223211715668\n",
      "  8  강남역 프라이빗 룸식당 맛집 모임 회식 장소 한우부티크 https://blog.naver.com/pinkyluv83/223209714210\n",
      "  9  강남역 회식장소로 안성맞춤인 남도애찬 https://blog.naver.com/bodyrental/223206145615\n",
      " 10  자꾸 기억나는 강남역 고기집 곱창고 https://blog.naver.com/06131010/223173851134\n",
      " 11  역대급인 강남역 삼겹살 https://blog.naver.com/instyle02/223166935751\n",
      " 12  지금도 생각나는 강남역 고기집 봉우화로 https://blog.naver.com/eaenvy77/223157102810\n",
      " 13  강남역 고기집 추천 구워주는 유니네! https://blog.naver.com/oppsbyeon/223187234533\n",
      " 14  강남역 한우 진짜였던 남도애찬 역삼 소고기 https://blog.naver.com/bayou68/223211598416\n",
      " 15  깔끔했던 강남역 고깃집 유니네 https://blog.naver.com/mundysk/223162563002\n",
      " 16  강남역 혼밥 맛집 추천, 역삼동 마유유 마라탕 https://blog.naver.com/ppangsun238/223209863124\n",
      " 17  강남역 파티룸 '여기'라서 가능했던 스몰 웨딩 https://blog.naver.com/vkqzhsxkdi/223211709037\n",
      " 18  인상깊었던 강남역 삼겹살 https://blog.naver.com/genial82/223159761210\n",
      " 19  가성비에 반한 강남역 삼겹살 https://blog.naver.com/jung4553/223168608990\n",
      " 20  매력있는 강남역 고기집 교대이층집 https://blog.naver.com/clrober/223202967180\n",
      " 21  강남역디저트카페 레뽀드라라 :: 비엔나 로얄 밀크티가 맛있는...  https://blog.naver.com/choongchoongchoong/223209308888\n",
      " 22  처진피부 확실한 리프팅을 원한다면 강남역 피부과 여름클리닉...  https://blog.naver.com/mistymoon5/223209284356\n",
      " 23  특별했던 강남역 룸식당 https://blog.naver.com/fromantic/223181047041\n",
      " 24  강남역 맛집 분위기 좋은 소보키 퓨전 한식 https://blog.naver.com/brightenedu/223198312876\n",
      " 25  입소문난 강남역 모임장소 봉우화로 https://blog.naver.com/eaenvy77/223197671200\n",
      " 26  강남역 보쌈 맛집 1등 먹은 귀한족발 강남점 https://blog.naver.com/jjs2012c/223167292889\n",
      " 27  강남역 삼겹살 육즙 팡팡 봉우이층집 https://blog.naver.com/skystar112/223169833659\n",
      " 28  강남역디저트맛집 스콘이 찐맛이었던 레뽀드라라 https://blog.naver.com/ssongjiyo/223208665958\n",
      " 29  비교불가인 강남역 룸식당 https://blog.naver.com/soojini65/223205786221\n",
      " 30  강남역 밥집 근사한 숙성 한우구이 점심 청담등심 https://blog.naver.com/sensenlebo/223211324765\n",
      " 31  강남역 고깃집, 가성비 좋은 동두천솥뚜껑삼겹살 https://blog.naver.com/viphsh88/223210696916\n",
      " 32  육질이 남다른 강남역 고깃집 유니네고깃간 https://blog.naver.com/fairylamp_/223172742459\n",
      " 33  완벽한 한상 강남역 한정식 노랑저고리 https://blog.naver.com/dkdaf/223190418620\n",
      " 34  감탄했던 강남역 회식장소 https://blog.naver.com/cotton1121/223189683799\n",
      " 35  [강남역 술집 추천] 강남역 회식하기 딱 좋은 어로선 목로집...  https://blog.naver.com/jihyunclaire/223209470821\n",
      " 36  강남역 헬스장 추천합니다 https://blog.naver.com/fullofblue/223202053145\n",
      " 37  또 가고싶은 강남역 고기맛집 https://blog.naver.com/cocorihyun/223199892988\n",
      " 38  강남역 왁싱 30분만에 빠르게 ✨ 슈퍼왁싱 강남 https://blog.naver.com/dondon_choco/223201946765\n",
      " 39  강남역 프라이빗 룸식당... 고급스럽고 조용한 강남역 고기집 https://blog.naver.com/hand4444/223211093896\n",
      " 40  &quot;유니네 고깃간&quot; 강남역 고기 맛집! 고기 구워주는 곳! https://blog.naver.com/lakiruky/223187163799\n",
      " 41  강남역 저녁 맛집 은행골 강남점 혼밥 가능, 밥이 맛있는 스시...  https://blog.naver.com/le_mong98/223204349916\n",
      " 42  강남 점심 맛집,강남역 회식장소,'은행골 강남점' 초밥 https://blog.naver.com/rizet/223210440803\n",
      " 43  강남 블랙스테이크, 강남역 스테이크 레스토랑 후기 https://blog.naver.com/k_jieunee/223207758267\n",
      " 44  강남역 술집 |  조개술찜 맛집 강남역 하이볼 '강남비치' https://blog.naver.com/sally9476/223208789680\n",
      " 45  강남 블랙스테이크 레스토랑 강남역 소개팅 돌판에 굽는 와규...  https://blog.naver.com/enzywu/223209801488\n",
      " 46  강남역 필라테스 감탄이 나오는 체형교정 후기 https://blog.naver.com/joyjoy0315/223191128946\n",
      " 47  강남역 스시류 평일점심 내돈산찐후기 ~ https://blog.naver.com/ssongjiyo/223205309468\n",
      " 48  강남역 귓볼 피어싱 심미안피어싱 https://blog.naver.com/sopranosol/223211667146\n",
      " 49  강남역 미용실 어몽헤어에서 클리닉 후기 ft.남희영 디자이너 https://blog.naver.com/mj100600/223199959149\n",
      " 50  [강남역 냉삼/삼겹살] 냉삼 맛집 추천 &lt;라라식당&gt; https://blog.naver.com/yang7192/223209003872\n",
      " 51  강남역미용실 레이어드컷 망한머리 구원투수 써니실장...  https://blog.naver.com/sh_epl/223210208763\n",
      " 52  강남역 미용실 추천 ♀️ 박준뷰티랩 강남역점 연우실장 https://blog.naver.com/dondon_choco/223207026206\n",
      " 53  강남역 막창 더막창스 강남본점 핫플인 이유! https://blog.naver.com/booms2014/223206671658\n",
      " 54  강남역 고기집 추천 유니네 고깃간 소금구이 한판 https://blog.naver.com/kikihyeji/223183511884\n",
      " 55  강남역 고깃집 청렴했던 곱창고 https://blog.naver.com/loveyaon/223185965835\n",
      " 56  강남역코인노래방 쾌적하고 음질, 시설 만족 200% https://blog.naver.com/immerm/223209548741\n",
      " 57  강남역 탕수육 / 더탕수육... 왕갈비 짬뽕 강남역 맛집 + 생맥주 https://blog.naver.com/bright_kwon/223209104128\n",
      " 58  강남역 12번출구 갓덴스시 : 언제나 한결같이 약속장소로 좋은곳 https://blog.naver.com/p0pp0/223207571819\n",
      " 59  강남역 맛집 소보키 강남점 양도 맛도 좋은 한식주점 추천 https://blog.naver.com/wiz_js/223196615375\n",
      " 60  강남역맛집 고급진 점심 만난 고깃집 육목원, 돼지갈비와...  https://blog.naver.com/miki0405/223209517991\n",
      " 61  강남역 무한리필 고기집 헬로브라질 슈하스코 디너 https://blog.naver.com/soesee/223206716876\n",
      " 62  강남역 샌드위치 위트앤미트 강남점 https://blog.naver.com/plastic100/223208213460\n",
      " 63  [강남역 미용실 추천] 중단발 복구펌 뿌리염색 후기 https://blog.naver.com/alice8820/223208256428\n",
      " 64  [강남역]알베르/숲 속에 있는 분위기의 강남논현 카페 https://blog.naver.com/donas/223208995971\n",
      " 65  가성비 좋은 강남역 근처 고기맛집 내돈내산 &quot;유니네고깃간&quot; https://blog.naver.com/ddunstories/223183652743\n",
      " 66  강남역 한우 오마카세_우시야 역삼점 B코스 우마카세 후기 https://blog.naver.com/milkcreamcheese_/223210312987\n",
      " 67  강남역미용실 어몽헤어 배주희실장 빌드펌 https://blog.naver.com/jjung7273/223206785728\n",
      " 68  [강남통닭호프] 강남역치킨 추천 메뉴/가격 https://blog.naver.com/eru13/223206326270\n",
      " 69  강남역 생일파티 장소, 예쁜 파티룸이 있는 플레이 뮤직타운! https://blog.naver.com/viphsh88/223209036228\n",
      " 70  강남역 피부과 종아리캇 지방분해주사 후기 https://blog.naver.com/sumr2002/223211336576\n",
      " 71  강남역 맛집 역삼역 술집 신복면관 생각보다 너무 괜찮았던집 https://blog.naver.com/ldh__3239/223208046688\n",
      " 72  평일 저녁 데이트, 강남역 혼밥하기 좋은 한식집, 1992 덮밥...  https://blog.naver.com/coco120528/223211255650\n",
      " 73  강남역 혼술 강남 혼밥 가능한 은행골 강남점 다녀왔어요! https://blog.naver.com/rice_cap/223207059991\n",
      " 74  강남역 카페 디저트 맛있는 썸띵어바웃커피 https://blog.naver.com/qufzhd12/223193322209\n",
      " 75  [강남술집 야다이] 오뎅나베 먹으러 강남역 이자카야 https://blog.naver.com/eru13/223210840909\n",
      " 76  강남역인테리어학원 스케치부터 체계적으로 배우기! https://blog.naver.com/kumh/223210583046\n",
      " 77  잡내없이 깔끔했던 강남역 삼겹살 https://blog.naver.com/anjigo/223184364662\n",
      " 78  강남역 소형의원 임대 추천  정신과 애니타워빌딩 https://blog.naver.com/pybboss/223211425178\n",
      " 79  미국식 요리 82올리언즈강남점 핫플 강남역맛집 https://blog.naver.com/black585/223210970044\n",
      " 80  베트남이랑 , 강남역 쌀국수 https://blog.naver.com/toyo137/223208246278\n",
      " 81  강남역 퍼스널컬러 이안컬러랩 겨울브라이트 쿨톤 측정 후기 https://blog.naver.com/star_kelly/223210808407\n",
      " 82  강남역 맛집 역삼역 데이트 신복면관 강남점 https://blog.naver.com/suny0816/223208730626\n",
      " 83  오랜만에 먹어도 맛있는 강남역 뽕족 https://blog.naver.com/minjee1209/223206090346\n",
      " 84  강남역 맛집 안주가 다양하고 맛있는 한식주점 소보키 https://blog.naver.com/kangsy0203/223198375874\n",
      " 85  매력넘치던 강남역 한식 맛집 청기와타운 https://blog.naver.com/whekrk/223170969136\n",
      " 86  강남역 노티드 https://blog.naver.com/renaiwoman/223209655842\n",
      " 87  좋은 추억 남기기 좋았던 돌잔치 강남역 상견례 노랑저고리 https://blog.naver.com/design_ggarihan/223190408527\n",
      " 88  강남역 회식하기 좋은 해산물 포차 어로선목로집 https://blog.naver.com/padamnara/223207463460\n",
      " 89  [ 봉우화로 ] 가성비 좋은 강남역 고기집 추천 / 항아리냉면이...  https://blog.naver.com/baby660780/223207468462\n",
      " 90  강남역 수미정/맛과 가격 모두 잘 잡은 밥집 https://blog.naver.com/sagak815/223122659534\n",
      " 91  &quot;곱창고&quot; 강남역 고기 맛집! 곱창 맛있는 곳! https://blog.naver.com/sangil00/223193967731\n",
      " 92  강남역 미용실 추천 @ 엥비떼헤어 신논현점 - 딥애쉬 염색 후기 https://blog.naver.com/tlsdn4621/223210534018\n",
      " 93  강남역 어린이 도서관, 서초청소년도서관 https://blog.naver.com/bjin0710/223211918339\n",
      " 94  베라를 뛰어넘을 강남역 숨은 젤라또 맛집 '누볼라' https://blog.naver.com/kimsso333/223209044162\n",
      " 95  강남역 카페 밀크티 스콘 맛집 레뽀드라라 강남점 https://blog.naver.com/woops32/223208775973\n",
      " 96  강남역 증명사진 맛집 &lt;레코디드&gt; 갔다온 후기! https://blog.naver.com/susie0106/223209624145\n",
      " 97  강남역 생일파티하기 최고인 디엠,큐브 강남점 https://blog.naver.com/dahey772/223206004005\n",
      " 98  동경빌딩 임대  강남역 대로변 대형 사무실 전용120 https://blog.naver.com/pybboss/223208540655\n",
      " 99  강남역(신논현역)구구당,알베르 https://blog.naver.com/blessingmommy/223206882972\n",
      "100  강남역 디저트로 승부하는 이색 카페 타르타르 https://blog.naver.com/dudghk4170/223212084210\n"
     ]
    }
   ],
   "source": [
    "items = json_obj['items']\n",
    "\n",
    "for i, item in enumerate(items):\n",
    "    title = item['title'].replace('<b>','').replace('</b>','')\n",
    "    link = item['link']\n",
    "    print('%3d '%(i+1), title, link)"
   ]
  },
  {
   "cell_type": "markdown",
   "id": "037575b1",
   "metadata": {},
   "source": [
    "### 검색 기능을 함수로 구현\n",
    " - 최대 100개\n",
    " - 함수로 구현 후 여러번 호출하여 사용\n",
    " - get_api_result(keyword, display)"
   ]
  },
  {
   "cell_type": "code",
   "execution_count": 1,
   "id": "18f5754a",
   "metadata": {},
   "outputs": [],
   "source": [
    "def get_api_result(keyword, display):\n",
    "    # 정보\n",
    "    client_id = \"ACTFAaM3HKrZegYCCK7h\"\n",
    "    client_secret = \"13hDkk6r5b\"\n",
    "    \n",
    "    # 키워드 인코딩\n",
    "    key_word = urllib.parse.quote(keyword)\n",
    "    \n",
    "    # 전송값 작성\n",
    "    base_url = \"https://openapi.naver.com/v1/search/blog.json?\"\n",
    "    param = \"query=\" + key_word + \"&display=\" + str(display)\n",
    "    url = base_url + param\n",
    "    \n",
    "    # 인증 정보\n",
    "    headers = {\n",
    "        \"X-Naver-Client-Id\" : client_id,\n",
    "        \"X-Naver-Client-Secret\" : client_secret\n",
    "    }\n",
    "    \n",
    "    # 요청및 결과\n",
    "    result = requests.get(url, headers=headers)\n",
    "    \n",
    "    \n",
    "    # JSON 반환\n",
    "    return result.json()"
   ]
  },
  {
   "cell_type": "code",
   "execution_count": 2,
   "id": "529883ef",
   "metadata": {},
   "outputs": [
    {
     "data": {
      "text/plain": [
       "{'lastBuildDate': 'Fri, 15 Sep 2023 11:55:30 +0900',\n",
       " 'total': 2138287,\n",
       " 'start': 1,\n",
       " 'display': 20,\n",
       " 'items': [{'title': '<b>강남역</b>치과 밝은 미소를 바란다면',\n",
       "   'link': 'https://blog.naver.com/epal1234/223201782075',\n",
       "   'description': '<b>강남역</b>치과 밝은 미소를 바란다면 치아라면 본래 매우 단단한 구조이지만 예상하지 못한 사고나 잘못된... 역시 <b>강남역</b> 치과를 통해 걱정을 해결해 볼 수가 있었어요. 해당 과정에서 약 1개~2개 정도의 치아에... ',\n",
       "   'bloggername': '티유치과의원✅',\n",
       "   'bloggerlink': 'blog.naver.com/epal1234',\n",
       "   'postdate': '20230904'},\n",
       "  {'title': '<b>강남역</b>치과 빠른 진료를 바란다면',\n",
       "   'link': 'https://blog.naver.com/vineyardk/223195605133',\n",
       "   'description': '<b>강남역</b>치과 빠른 진료를 바란다면 <b>강남역</b>치과의 일상을 내보내며 자기관리에 집중하지 못하고 살아온... 따라서 직므 우리는 최신식의 디지털 장비를 구하고, 이를 활용하여 강남치과에서 오차를 줄이는 방법을... ',\n",
       "   'bloggername': '자기치아살리기 삼성플란트치과의원',\n",
       "   'bloggerlink': 'blog.naver.com/vineyardk',\n",
       "   'postdate': '20230828'},\n",
       "  {'title': '<b>강남역</b> 경락 좌우대칭 고민 해결~',\n",
       "   'link': 'https://blog.naver.com/nixhhm/223171072208',\n",
       "   'description': '저는 앞으로 꾸준히 <b>강남역</b>경락을 통해 지금보다 더 예뻐진 내 모습을 가질 수 있을 것 같아요. 저처럼 수술은 무섭고 예뻐지고 싶으신 분들은 정본에서 경락 어떠실까요? 정본 강남점 주소: 서울 강남구... ',\n",
       "   'bloggername': '홍쌤 일상',\n",
       "   'bloggerlink': 'blog.naver.com/nixhhm',\n",
       "   'postdate': '20230731'},\n",
       "  {'title': '<b>강남역</b> 프라이빗 룸식당 와인 다양한 한우부티크',\n",
       "   'link': 'https://blog.naver.com/joinjaang/223211396483',\n",
       "   'description': '와인 한잔 하기를 원하신다면 페어링하기 좋은 고급 한우가 함께하는 한우부티크를 찾아오시길 바란다. 강남 한우부티크 0507-1440-3442 서울특별시 서초구 서초대로78길 38 8층 <b>강남역</b> 5번 출구 119m 매일 11:00 ~ 22:00',\n",
       "   'bloggername': '하우스마켓',\n",
       "   'bloggerlink': 'blog.naver.com/joinjaang',\n",
       "   'postdate': '20230914'},\n",
       "  {'title': '<b>강남역</b> 프라이빗 룸식당 회식 한우부티크 강남 고기집',\n",
       "   'link': 'https://blog.naver.com/love2dong/223208238011',\n",
       "   'description': '<b>강남역</b> 프라이빗 룸식당 회식 한우부티크 강남 고기집 한우부티크 · 영업시간: 매일 11:00-22:00 · 주차 가능 (근처 에이플러스 에셋타워에 주차, 1시간 무료) 벌써 곧 9월 중순이죠? 금요일 퇴근하고 강남 고기집... ',\n",
       "   'bloggername': '오늘도 Sweet 하게❤',\n",
       "   'bloggerlink': 'blog.naver.com/love2dong',\n",
       "   'postdate': '20230911'},\n",
       "  {'title': '<b>강남역</b> 맛집, 역삼역 점심 먹기 좋은 중식당 신복면관!',\n",
       "   'link': 'https://blog.naver.com/santaco/223208082328',\n",
       "   'description': '신복면관 서울 강남구 테헤란로4길 6 B126호 매일 11:00~22:00 <b>강남역</b> 1번출구에서 1분 내로 갈 수 있는 곳이다! 위치는 아주 찾기가 쉬웠다 . <b>강남역</b> 1번출구로 나와서 고개를 오른쪽으로 돌리면 큰 건물이 나오는데... ',\n",
       "   'bloggername': '매콧의 노래♥',\n",
       "   'bloggerlink': 'blog.naver.com/santaco',\n",
       "   'postdate': '20230911'},\n",
       "  {'title': '<b>강남역</b>미용실 태슬컷 칼단발 가격 어몽헤어 배주희실장',\n",
       "   'link': 'https://blog.naver.com/todays_lora/223211715668',\n",
       "   'description': '하면서 <b>강남역</b> 어몽헤어에서 클리닉도 해보았어요 두 번째 방문이었던 <b>강남역</b>미용실인데 혹시... 남겨보아요 어몽헤어 서울 강남구 봉은사로 18길 76 3층 (신논현역 6번 출구에서 352m) 10:00-19:00 매주 월/화 정기휴무',\n",
       "   'bloggername': '여행 좋아하는 한량 주부',\n",
       "   'bloggerlink': 'blog.naver.com/todays_lora',\n",
       "   'postdate': '20230914'},\n",
       "  {'title': '<b>강남역</b> 프라이빗 룸식당 맛집 모임 회식 장소 한우부티크',\n",
       "   'link': 'https://blog.naver.com/pinkyluv83/223209714210',\n",
       "   'description': '한우부티크 <b>강남역</b> 5번 출구 2분 거리 1) 영업시간 11:00 ~22:00 (라스트 오더 21:30) 2) 주차장 : 서초구 강남대로 369 에이플러스에셋 타워 주차 1시간 무료 3) 전화번호 0507-1440-3442 <b>강남역</b> 5번 출구 2분 거리에 있어... ',\n",
       "   'bloggername': 'Kimi의 여행일기',\n",
       "   'bloggerlink': 'blog.naver.com/pinkyluv83',\n",
       "   'postdate': '20230912'},\n",
       "  {'title': '<b>강남역</b> 회식장소로 안성맞춤인 남도애찬',\n",
       "   'link': 'https://blog.naver.com/bodyrental/223206145615',\n",
       "   'description': '위치 : 서울 강남구 역삼로3길 8 영업시간 : 매일 10:00~22:00 전화번호 : 02-538-1588 저희가 방문한 남도애찬은 <b>강남역</b> 4번출구에서 차로 1분이면 갈 수 있었어요. 큼지막한 간판이 2개나 걸려 있어서 멀리서도 쉽게... ',\n",
       "   'bloggername': '♡JOY의 헬스케어 / 일상생활♡',\n",
       "   'bloggerlink': 'blog.naver.com/bodyrental',\n",
       "   'postdate': '20230908'},\n",
       "  {'title': '자꾸 기억나는 <b>강남역</b> 고기집 곱창고',\n",
       "   'link': 'https://blog.naver.com/06131010/223173851134',\n",
       "   'description': '이렇듯 모듬 구이와 전골, 반찬까지 흠잡을 곳 없이 완벽했던 <b>강남역</b> 고기집이라 앞으로도 자주 방문하게 될 것 같아요~ 주소: 서울 강남구 강남대로96길 11 번호: 0507-1386-0001 시간: 화~일11:30 - 01:00/월 11:30-23:00... ',\n",
       "   'bloggername': '오늘도 감사해요♡',\n",
       "   'bloggerlink': 'blog.naver.com/06131010',\n",
       "   'postdate': '20230803'},\n",
       "  {'title': '역대급인 <b>강남역</b> 삼겹살',\n",
       "   'link': 'https://blog.naver.com/instyle02/223166935751',\n",
       "   'description': '최근 친구들과 저녁을 먹으러 <b>강남역</b> 삼겹살 전문점을 방문했는데요. 퀄리티 좋은 돼지고기와 소고기를 맛볼수 있다는 곳이 있어서 다녀왔어요. 상호 : 대통령삼겹살 주소 : 서울 강남구 강남대로110길 14 번호... ',\n",
       "   'bloggername': '슈슈크림 슈퍼맘다이어리~♬',\n",
       "   'bloggerlink': 'blog.naver.com/instyle02',\n",
       "   'postdate': '20230727'},\n",
       "  {'title': '지금도 생각나는 <b>강남역</b> 고기집 봉우화로',\n",
       "   'link': 'https://blog.naver.com/eaenvy77/223157102810',\n",
       "   'description': '얼마전에 친구들과 다함께 강남으로 놀러 갔다가 맛으로 입소문 자자한 <b>강남역</b> 고기집에 들리게 되었어요. 고퀄리티 숙성 삼겹살에 다양한 수제 반찬까지 합리적인 가격에 즐기고 와서 리뷰해본답니다. 주소... ',\n",
       "   'bloggername': '두근두근..',\n",
       "   'bloggerlink': 'blog.naver.com/eaenvy77',\n",
       "   'postdate': '20230715'},\n",
       "  {'title': '<b>강남역</b> 고기집 추천 구워주는 유니네!',\n",
       "   'link': 'https://blog.naver.com/oppsbyeon/223187234533',\n",
       "   'description': '불금을 보내기위해 친구들이랑 강남에서 모였어요! 일단 밥부터 먹고 시작하자 싶어서 <b>강남역</b> 고기집을 찾다가 고기구워주는 맛집이 있다고 해서 찾아갔아요. <b>강남역</b> 11번 출구쪽에 있는 유니네고깃간이예요.... ',\n",
       "   'bloggername': 'Little Forest:)작은 숲 속 행복 찾기',\n",
       "   'bloggerlink': 'blog.naver.com/oppsbyeon',\n",
       "   'postdate': '20230818'},\n",
       "  {'title': '<b>강남역</b> 한우 진짜였던 남도애찬 역삼 소고기',\n",
       "   'link': 'https://blog.naver.com/bayou68/223211598416',\n",
       "   'description': '남도애찬 주소 : 서울 강남구 역삼로3길 8 영업시간 : 10:00~22:00 연락처 : 02-538-1588 퇴근 후 저녁을 먹으러... 대로변에서 두블럭 들어가보니 넓은 주차공간까지 준비되어 있던 <b>강남역</b> 한우 소고기 전문점... ',\n",
       "   'bloggername': '우니의 정원',\n",
       "   'bloggerlink': 'blog.naver.com/bayou68',\n",
       "   'postdate': '20230914'},\n",
       "  {'title': '깔끔했던 <b>강남역</b> 고깃집 유니네',\n",
       "   'link': 'https://blog.naver.com/mundysk/223162563002',\n",
       "   'description': '너무 맛있게 먹은 곳이라 진짜 <b>강남역</b> 고깃집으로 유니네 고깃간 추천해드려요. 가서 맛있는 고기 드시고 오세요!!! 주소 : 서울 강남구 강남대로98길 12 1층 전화 : 0507-1345-1806 영업 : 매일 12:00 - 23:00',\n",
       "   'bloggername': 'ARTIFE_',\n",
       "   'bloggerlink': 'blog.naver.com/mundysk',\n",
       "   'postdate': '20230721'},\n",
       "  {'title': '<b>강남역</b> 혼밥 맛집 추천, 역삼동 마유유 마라탕',\n",
       "   'link': 'https://blog.naver.com/ppangsun238/223209863124',\n",
       "   'description': '이날은 동네가 아닌 <b>강남역</b>에 위치한 곳으로 방문해 보았어요 그러면 포스트 시작해 보도록 할까요?... 지점은 <b>강남역</b>점으로 <b>강남역</b> 12번 출구에서 걸어서 342미터 거리에 위치해 있어요 지도상으로 역에서 5분... ',\n",
       "   'bloggername': 'Daydreamer',\n",
       "   'bloggerlink': 'blog.naver.com/ppangsun238',\n",
       "   'postdate': '20230913'},\n",
       "  {'title': \"<b>강남역</b> 파티룸 '여기'라서 가능했던 스몰 웨딩\",\n",
       "   'link': 'https://blog.naver.com/vkqzhsxkdi/223211709037',\n",
       "   'description': '모드라운지 강남점을 선택한 첫 번째 이유도 <b>강남역</b>과 신논현역에서 걸어서 5분 이내로 올 수 있다는 편리함 때문이었답니다. 물론 위치도 쉽게 찾을 수 있는 곳이고요. 원래 파티룸은 호텔보다 접근성이 안... ',\n",
       "   'bloggername': '뽀득:홈케어우먼클린',\n",
       "   'bloggerlink': 'blog.naver.com/vkqzhsxkdi',\n",
       "   'postdate': '20230914'},\n",
       "  {'title': '인상깊었던 <b>강남역</b> 삼겹살',\n",
       "   'link': 'https://blog.naver.com/genial82/223159761210',\n",
       "   'description': '오랜만에 맛있는 음식에 술 한잔 곁들이고 싶어 괜찮은 곳 없나 찾아보다가 만족스러운 <b>강남역</b> 삼겹살을 발견하게 되었어요. 유니네 고깃간 주소: 서울 강남구 강남대로98길 12 1층 전화: 0507-1345-1806 영업: 매일 12... ',\n",
       "   'bloggername': '요리조리 소비기록',\n",
       "   'bloggerlink': 'blog.naver.com/genial82',\n",
       "   'postdate': '20230718'},\n",
       "  {'title': '가성비에 반한 <b>강남역</b> 삼겹살',\n",
       "   'link': 'https://blog.naver.com/jung4553/223168608990',\n",
       "   'description': '며칠 전 지인들과 같이 <b>강남역</b>에서 볼 일 보고 유명한 <b>강남역</b> 삼겹살 전문점에 다녀왔어요. 고퀄리티 육류를 저렴한 금액에 배터지게 즐길 수 있어 대만족했던 곳이랍니다. 주소:서울 강남구 봉은사로18길 76... ',\n",
       "   'bloggername': 'SO FINE',\n",
       "   'bloggerlink': 'blog.naver.com/jung4553',\n",
       "   'postdate': '20230728'},\n",
       "  {'title': '매력있는 <b>강남역</b> 고기집 교대이층집',\n",
       "   'link': 'https://blog.naver.com/clrober/223202967180',\n",
       "   'description': '뛰어난 품질의 암퇘지 고기에 정성 가득한 사이드요리까지 세트로 만끽하니 완벽 그 자체였던 <b>강남역</b> 고기집이었어요. 주소 : 서울 강남구 강남대로94길 9 2층 번호 : 0507-1425-7116 시간 : 12:00 - 01:00 (일요일만 23:30... ',\n",
       "   'bloggername': \"What's this fuss all about?\",\n",
       "   'bloggerlink': 'blog.naver.com/clrober',\n",
       "   'postdate': '20230905'}]}"
      ]
     },
     "execution_count": 2,
     "metadata": {},
     "output_type": "execute_result"
    }
   ],
   "source": [
    "import requests\n",
    "import urllib.parse\n",
    "obj = get_api_result('강남역', 20)\n",
    "obj"
   ]
  },
  {
   "cell_type": "markdown",
   "id": "62a760dd",
   "metadata": {},
   "source": [
    "### 검색 결과 페이징\n",
    " - 100개씩 여러번 하기"
   ]
  },
  {
   "cell_type": "code",
   "execution_count": 1,
   "id": "b46f7e73",
   "metadata": {},
   "outputs": [],
   "source": [
    "def get_api_result(keyword, start, display):\n",
    "    # 정보\n",
    "    client_id = \"ACTFAaM3HKrZegYCCK7h\"\n",
    "    client_secret = \"13hDkk6r5b\"\n",
    "    \n",
    "    # 키워드 인코딩\n",
    "    key_word = urllib.parse.quote(keyword)\n",
    "    \n",
    "    # 전송값 작성\n",
    "    base_url = \"https://openapi.naver.com/v1/search/blog.json?\"\n",
    "    param = \"query=\" + key_word + \"&start=\" + str(start) + \"&display=\" + str(display)\n",
    "    url = base_url + param\n",
    "    \n",
    "    # 인증 정보\n",
    "    headers = {\n",
    "        \"X-Naver-Client-Id\" : client_id,\n",
    "        \"X-Naver-Client-Secret\" : client_secret\n",
    "    }\n",
    "    \n",
    "    # 요청및 결과\n",
    "    result = requests.get(url, headers=headers)\n",
    "       \n",
    "    # JSON 반환\n",
    "    return result.json()"
   ]
  },
  {
   "cell_type": "code",
   "execution_count": 11,
   "id": "e6729dca",
   "metadata": {},
   "outputs": [],
   "source": [
    "def call_and_print(keyword, display):\n",
    "    datas = []\n",
    "    quo = (display-1)//100\n",
    "    rem = display%100\n",
    "    to = 100\n",
    "    for i in range(quo+1):\n",
    "        if i==quo:\n",
    "            to = rem\n",
    "        json_obj = get_api_result(keyword, i*100+1, to)\n",
    "        datas += json_obj['items']\n",
    "    return datas"
   ]
  },
  {
   "cell_type": "code",
   "execution_count": 12,
   "id": "815d390e",
   "metadata": {},
   "outputs": [
    {
     "ename": "KeyError",
     "evalue": "'items'",
     "output_type": "error",
     "traceback": [
      "\u001b[0;31m---------------------------------------------------------------------------\u001b[0m",
      "\u001b[0;31mKeyError\u001b[0m                                  Traceback (most recent call last)",
      "Cell \u001b[0;32mIn[12], line 4\u001b[0m\n\u001b[1;32m      2\u001b[0m \u001b[38;5;28;01mimport\u001b[39;00m \u001b[38;5;21;01murllib\u001b[39;00m\u001b[38;5;21;01m.\u001b[39;00m\u001b[38;5;21;01mparse\u001b[39;00m\n\u001b[1;32m      3\u001b[0m \u001b[38;5;28;01mimport\u001b[39;00m \u001b[38;5;21;01mpandas\u001b[39;00m \u001b[38;5;28;01mas\u001b[39;00m \u001b[38;5;21;01mpd\u001b[39;00m\n\u001b[0;32m----> 4\u001b[0m call_and_print(\u001b[38;5;124m'\u001b[39m\u001b[38;5;124m장마\u001b[39m\u001b[38;5;124m'\u001b[39m, \u001b[38;5;241m100\u001b[39m)\n",
      "Cell \u001b[0;32mIn[11], line 10\u001b[0m, in \u001b[0;36mcall_and_print\u001b[0;34m(keyword, display)\u001b[0m\n\u001b[1;32m      8\u001b[0m         to \u001b[38;5;241m=\u001b[39m rem\n\u001b[1;32m      9\u001b[0m     json_obj \u001b[38;5;241m=\u001b[39m get_api_result(keyword, i\u001b[38;5;241m*\u001b[39m\u001b[38;5;241m100\u001b[39m\u001b[38;5;241m+\u001b[39m\u001b[38;5;241m1\u001b[39m, to)\n\u001b[0;32m---> 10\u001b[0m     datas \u001b[38;5;241m+\u001b[39m\u001b[38;5;241m=\u001b[39m json_obj[\u001b[38;5;124m'\u001b[39m\u001b[38;5;124mitems\u001b[39m\u001b[38;5;124m'\u001b[39m]\n\u001b[1;32m     11\u001b[0m \u001b[38;5;28;01mreturn\u001b[39;00m datas\n",
      "\u001b[0;31mKeyError\u001b[0m: 'items'"
     ]
    }
   ],
   "source": [
    "import requests\n",
    "import urllib.parse\n",
    "import pandas as pd\n",
    "call_and_print('장마', 100)\n",
    "## 미완성"
   ]
  },
  {
   "cell_type": "markdown",
   "id": "fe7d0f9b",
   "metadata": {},
   "source": [
    "### 뉴스/블로그 둘 다 검색 가능하게 함수 수정"
   ]
  },
  {
   "cell_type": "code",
   "execution_count": 1,
   "id": "6ddfb98f",
   "metadata": {},
   "outputs": [],
   "source": [
    "def get_api_result(category, keyword, start, display):\n",
    "    # 정보\n",
    "    client_id = \"ACTFAaM3HKrZegYCCK7h\"\n",
    "    client_secret = \"13hDkk6r5b\"\n",
    "\n",
    "    # 키워드 인코딩\n",
    "    key_word = urllib.parse.quote(keyword)\n",
    "\n",
    "    # 전송값 작성\n",
    "    base_url = \"https://openapi.naver.com/v1/search/\"\n",
    "    param = category + \".json?\" + \\\n",
    "            \"query=\" + key_word + \\\n",
    "            \"&start=\" + str(start) + \\\n",
    "            \"&display=\" + str(display)\n",
    "    url = base_url + param\n",
    "\n",
    "    # 인증 정보\n",
    "    headers = {\n",
    "        \"X-Naver-Client-Id\" : client_id,\n",
    "        \"X-Naver-Client-Secret\" : client_secret\n",
    "    }\n",
    "\n",
    "    # 요청및 결과\n",
    "    result = requests.get(url, headers=headers)\n",
    "\n",
    "    # JSON 반환\n",
    "    return result.json()"
   ]
  },
  {
   "cell_type": "code",
   "execution_count": 2,
   "id": "6ea49c09",
   "metadata": {},
   "outputs": [],
   "source": [
    "def call_and_save(category, keyword, display):\n",
    "    datas = []\n",
    "    if display==1:\n",
    "        itr = 1\n",
    "        rem = 1\n",
    "    else:\n",
    "        itr = ((display-1)//100)+1\n",
    "        rem = display%100\n",
    "        if rem==0:\n",
    "            rem = 100\n",
    "            \n",
    "    to = 100\n",
    "    for i in range(itr):\n",
    "        if i==itr-1:\n",
    "            to = rem\n",
    "        json_obj = get_api_result(category, keyword, i*100+1, to)\n",
    "        datas += json_obj['items']\n",
    "\n",
    "    titles = []; links = [];\n",
    "    for data in datas:\n",
    "        titles.append(data['title'])\n",
    "        links.append(data['link'])\n",
    "\n",
    "    return pd.DataFrame({'제목':titles, '링크':links})"
   ]
  },
  {
   "cell_type": "code",
   "execution_count": 3,
   "id": "e4c9b7ce",
   "metadata": {},
   "outputs": [
    {
     "data": {
      "text/html": [
       "<div>\n",
       "<style scoped>\n",
       "    .dataframe tbody tr th:only-of-type {\n",
       "        vertical-align: middle;\n",
       "    }\n",
       "\n",
       "    .dataframe tbody tr th {\n",
       "        vertical-align: top;\n",
       "    }\n",
       "\n",
       "    .dataframe thead th {\n",
       "        text-align: right;\n",
       "    }\n",
       "</style>\n",
       "<table border=\"1\" class=\"dataframe\">\n",
       "  <thead>\n",
       "    <tr style=\"text-align: right;\">\n",
       "      <th></th>\n",
       "      <th>제목</th>\n",
       "      <th>링크</th>\n",
       "    </tr>\n",
       "  </thead>\n",
       "  <tbody>\n",
       "    <tr>\n",
       "      <th>0</th>\n",
       "      <td>빛나눔봉사단, 화재안전 취약계층 대상 안전점검 시행</td>\n",
       "      <td>https://www.electimes.com/news/articleView.htm...</td>\n",
       "    </tr>\n",
       "    <tr>\n",
       "      <th>1</th>\n",
       "      <td>[지금 일본은] 나스토아, STS BA 인라인 조관기…고베, &amp;quot;세계 DRI...</td>\n",
       "      <td>http://www.ferrotimes.com/news/articleView.htm...</td>\n",
       "    </tr>\n",
       "    <tr>\n",
       "      <th>2</th>\n",
       "      <td>[안전포럼]&amp;quot;경험하지 못한 기후재앙…재난관리책 절실&amp;quot;</td>\n",
       "      <td>https://www.mediapen.com/news/view/855230</td>\n",
       "    </tr>\n",
       "    <tr>\n",
       "      <th>3</th>\n",
       "      <td>나동연 양산시장, 환경미화원 오찬간담회</td>\n",
       "      <td>http://www.idomin.com/news/articleView.html?id...</td>\n",
       "    </tr>\n",
       "    <tr>\n",
       "      <th>4</th>\n",
       "      <td>&amp;quot;추석이 두렵다&amp;quot; 살벌한 물가에 벌벌 떠는 대한민국</td>\n",
       "      <td>https://n.news.naver.com/mnews/article/586/000...</td>\n",
       "    </tr>\n",
       "    <tr>\n",
       "      <th>...</th>\n",
       "      <td>...</td>\n",
       "      <td>...</td>\n",
       "    </tr>\n",
       "    <tr>\n",
       "      <th>395</th>\n",
       "      <td>임실군 벼 후기 병해충 방제 중점 추진</td>\n",
       "      <td>http://www.domin.co.kr/news/articleView.html?i...</td>\n",
       "    </tr>\n",
       "    <tr>\n",
       "      <th>396</th>\n",
       "      <td>전북농기원, 시·군 농업기술센터소장 업무 회의</td>\n",
       "      <td>http://www.domin.co.kr/news/articleView.html?i...</td>\n",
       "    </tr>\n",
       "    <tr>\n",
       "      <th>397</th>\n",
       "      <td>'진안고원 명품사과' 라이브커머스 대박</td>\n",
       "      <td>http://www.domin.co.kr/news/articleView.html?i...</td>\n",
       "    </tr>\n",
       "    <tr>\n",
       "      <th>398</th>\n",
       "      <td>(사)한국문인협회 당진지부와 함께하는 작가 시 한 편 유제희 시인의 '원덕골...</td>\n",
       "      <td>http://www.djtimes.co.kr/news/articleView.html...</td>\n",
       "    </tr>\n",
       "    <tr>\n",
       "      <th>399</th>\n",
       "      <td>임실군, 벼 후기 병해충 방제 중점 추진</td>\n",
       "      <td>http://sjbnews.com/news/news.php?number=792205</td>\n",
       "    </tr>\n",
       "  </tbody>\n",
       "</table>\n",
       "<p>400 rows × 2 columns</p>\n",
       "</div>"
      ],
      "text/plain": [
       "                                                    제목  \\\n",
       "0                         빛나눔봉사단, 화재안전 취약계층 대상 안전점검 시행   \n",
       "1    [지금 일본은] 나스토아, STS BA 인라인 조관기…고베, &quot;세계 DRI...   \n",
       "2              [안전포럼]&quot;경험하지 못한 기후재앙…재난관리책 절실&quot;   \n",
       "3                                나동연 양산시장, 환경미화원 오찬간담회   \n",
       "4               &quot;추석이 두렵다&quot; 살벌한 물가에 벌벌 떠는 대한민국   \n",
       "..                                                 ...   \n",
       "395                              임실군 벼 후기 병해충 방제 중점 추진   \n",
       "396                          전북농기원, 시·군 농업기술센터소장 업무 회의   \n",
       "397                              '진안고원 명품사과' 라이브커머스 대박   \n",
       "398      (사)한국문인협회 당진지부와 함께하는 작가 시 한 편 유제희 시인의 '원덕골...   \n",
       "399                             임실군, 벼 후기 병해충 방제 중점 추진   \n",
       "\n",
       "                                                    링크  \n",
       "0    https://www.electimes.com/news/articleView.htm...  \n",
       "1    http://www.ferrotimes.com/news/articleView.htm...  \n",
       "2            https://www.mediapen.com/news/view/855230  \n",
       "3    http://www.idomin.com/news/articleView.html?id...  \n",
       "4    https://n.news.naver.com/mnews/article/586/000...  \n",
       "..                                                 ...  \n",
       "395  http://www.domin.co.kr/news/articleView.html?i...  \n",
       "396  http://www.domin.co.kr/news/articleView.html?i...  \n",
       "397  http://www.domin.co.kr/news/articleView.html?i...  \n",
       "398  http://www.djtimes.co.kr/news/articleView.html...  \n",
       "399     http://sjbnews.com/news/news.php?number=792205  \n",
       "\n",
       "[400 rows x 2 columns]"
      ]
     },
     "execution_count": 3,
     "metadata": {},
     "output_type": "execute_result"
    }
   ],
   "source": [
    "import requests\n",
    "import urllib.parse\n",
    "import pandas as pd\n",
    "\n",
    "call_and_save('news', '장마', 400)"
   ]
  },
  {
   "cell_type": "code",
   "execution_count": null,
   "id": "95eee6bf",
   "metadata": {},
   "outputs": [],
   "source": []
  }
 ],
 "metadata": {
  "kernelspec": {
   "display_name": "Python 3 (ipykernel)",
   "language": "python",
   "name": "python3"
  },
  "language_info": {
   "codemirror_mode": {
    "name": "ipython",
    "version": 3
   },
   "file_extension": ".py",
   "mimetype": "text/x-python",
   "name": "python",
   "nbconvert_exporter": "python",
   "pygments_lexer": "ipython3",
   "version": "3.11.4"
  }
 },
 "nbformat": 4,
 "nbformat_minor": 5
}
