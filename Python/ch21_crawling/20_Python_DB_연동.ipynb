{
 "cells": [
  {
   "cell_type": "markdown",
   "id": "541d62b7",
   "metadata": {},
   "source": [
    "# 파이썬 DB 연동\n",
    " - CRUD 작업 처리"
   ]
  },
  {
   "cell_type": "code",
   "execution_count": null,
   "id": "cad2d9dd",
   "metadata": {},
   "outputs": [],
   "source": [
    "# pymysql 설치\n",
    "!pip install pymysql"
   ]
  },
  {
   "cell_type": "code",
   "execution_count": 1,
   "id": "628188c3",
   "metadata": {},
   "outputs": [],
   "source": [
    "import pymysql"
   ]
  },
  {
   "cell_type": "code",
   "execution_count": 2,
   "id": "6b04d104",
   "metadata": {},
   "outputs": [],
   "source": [
    "# 1. DB 연결\n",
    "# 각 파라미터들에 정확한 정보 입력\n",
    "conn = pymysql.connect(host='localhost',\n",
    "                       port=3306,\n",
    "                       user='root',\n",
    "                       passwd='Wk0qbfmt!',\n",
    "                       charset='utf8')"
   ]
  },
  {
   "cell_type": "code",
   "execution_count": 3,
   "id": "764e58f3",
   "metadata": {},
   "outputs": [],
   "source": [
    "# 2. cursor 객체 생성\n",
    "cursor = conn.cursor()"
   ]
  },
  {
   "cell_type": "code",
   "execution_count": 4,
   "id": "7b859f8c",
   "metadata": {},
   "outputs": [
    {
     "data": {
      "text/plain": [
       "5"
      ]
     },
     "execution_count": 4,
     "metadata": {},
     "output_type": "execute_result"
    }
   ],
   "source": [
    "# 3. sql문 실행\n",
    "sql = 'SHOW DATABASES'\n",
    "cursor.execute(sql)"
   ]
  },
  {
   "cell_type": "code",
   "execution_count": 5,
   "id": "9f78fb2e",
   "metadata": {},
   "outputs": [
    {
     "data": {
      "text/plain": [
       "(('information_schema',),\n",
       " ('mysql',),\n",
       " ('performance_schema',),\n",
       " ('sqldb3',),\n",
       " ('sys',))"
      ]
     },
     "execution_count": 5,
     "metadata": {},
     "output_type": "execute_result"
    }
   ],
   "source": [
    "# 4. sql문 실행결과 추출 / fetchall() 메소드\n",
    "result = cursor.fetchall()\n",
    "result"
   ]
  },
  {
   "cell_type": "code",
   "execution_count": 6,
   "id": "94fadc9b",
   "metadata": {},
   "outputs": [
    {
     "data": {
      "text/plain": [
       "(('beauty_shop',),\n",
       " ('information_schema',),\n",
       " ('mysql',),\n",
       " ('performance_schema',),\n",
       " ('sqldb3',),\n",
       " ('sys',))"
      ]
     },
     "execution_count": 6,
     "metadata": {},
     "output_type": "execute_result"
    }
   ],
   "source": [
    "# 새로운 데이터베이스 만들기\n",
    "sql = 'CREATE DATABASE beauty_shop'\n",
    "cursor.execute(sql)\n",
    "\n",
    "cursor.execute('SHOW DATABASES')\n",
    "cursor.fetchall()"
   ]
  },
  {
   "cell_type": "code",
   "execution_count": 7,
   "id": "50b8cb87",
   "metadata": {},
   "outputs": [
    {
     "data": {
      "text/plain": [
       "(('information_schema',),\n",
       " ('mysql',),\n",
       " ('performance_schema',),\n",
       " ('sqldb3',),\n",
       " ('sys',))"
      ]
     },
     "execution_count": 7,
     "metadata": {},
     "output_type": "execute_result"
    }
   ],
   "source": [
    "sql = 'DROP DATABASE beauty_shop'\n",
    "cursor.execute(sql)\n",
    "\n",
    "cursor.execute('SHOW DATABASES')\n",
    "cursor.fetchall()"
   ]
  },
  {
   "cell_type": "code",
   "execution_count": 8,
   "id": "35658810",
   "metadata": {},
   "outputs": [
    {
     "data": {
      "text/plain": [
       "0"
      ]
     },
     "execution_count": 8,
     "metadata": {},
     "output_type": "execute_result"
    }
   ],
   "source": [
    "# 데이터베이스 사용\n",
    "sql = 'USE sqldb3'\n",
    "cursor.execute(sql)"
   ]
  },
  {
   "cell_type": "code",
   "execution_count": 9,
   "id": "28c81b48",
   "metadata": {},
   "outputs": [
    {
     "data": {
      "text/plain": [
       "(('book',),\n",
       " ('bookSale',),\n",
       " ('client',),\n",
       " ('client_view',),\n",
       " ('new_book1',),\n",
       " ('publisher',))"
      ]
     },
     "execution_count": 9,
     "metadata": {},
     "output_type": "execute_result"
    }
   ],
   "source": [
    "sql = 'SHOW TABLES'\n",
    "cursor.execute(sql)\n",
    "cursor.fetchall()"
   ]
  },
  {
   "cell_type": "code",
   "execution_count": 10,
   "id": "8496732f",
   "metadata": {},
   "outputs": [
    {
     "data": {
      "text/plain": [
       "(('bookNo', 'int', 'NO', 'PRI', None, ''),\n",
       " ('bookName', 'varchar(20)', 'YES', '', None, ''),\n",
       " ('bookAuthor', 'varchar(10)', 'YES', '', None, ''),\n",
       " ('bookPrice', 'int', 'YES', '', None, ''),\n",
       " ('bookDate', 'date', 'YES', '', None, ''),\n",
       " ('bookStock', 'int', 'YES', '', None, ''),\n",
       " ('pubNo', 'int', 'YES', 'MUL', None, ''))"
      ]
     },
     "execution_count": 10,
     "metadata": {},
     "output_type": "execute_result"
    }
   ],
   "source": [
    "# 테이블 구조 확인\n",
    "sql = 'DESC book'\n",
    "cursor.execute(sql)\n",
    "cursor.fetchall()"
   ]
  },
  {
   "cell_type": "markdown",
   "id": "2a956cb2",
   "metadata": {},
   "source": [
    "###############################################"
   ]
  },
  {
   "cell_type": "code",
   "execution_count": 11,
   "id": "c8ebb6ee",
   "metadata": {},
   "outputs": [
    {
     "data": {
      "text/plain": [
       "((1001, '데이터베이스 이론', '홍길동', 22000, datetime.date(2019, 11, 11), 5, 3),\n",
       " (1002, '자바 프로그래밍', '이몽룡', 25000, datetime.date(2021, 12, 12), 4, 1),\n",
       " (1003, '인터넷프로그래밍', '성춘향', 30000, datetime.date(2019, 2, 10), 10, 2),\n",
       " (1004, '안드로이드 프로그래밍', '변학도', 23000, datetime.date(2017, 10, 10), 2, 1),\n",
       " (1005, '안드로이드 앱', '강길동', 26000, datetime.date(2020, 1, 11), 5, 2),\n",
       " (1006, 'MS SQL SERVER 2014', '박지성', 35000, datetime.date(2020, 3, 25), 7, 3),\n",
       " (1007, 'HTML & CSS', '손흥민', 18000, datetime.date(2023, 9, 30), 3, 1),\n",
       " (1008, 'MFC 입문', '류현진', 20000, datetime.date(2015, 12, 12), 5, 1),\n",
       " (1009, '안드로이드 게임 제작', '나길동', 33000, datetime.date(2018, 10, 31), 5, 2),\n",
       " (1010, 'C++객체지향 프로그래밍', '추신수', 24000, datetime.date(2019, 4, 20), 2, 3),\n",
       " (1011, 'JSP 웹 프로그래밍', '김연아', 27000, datetime.date(2020, 10, 23), 8, 1),\n",
       " (1012, '해커들의 해킹 기법', '손연재', 32000, datetime.date(2018, 7, 7), 1, 2),\n",
       " (1013, '자료구조', '홍길동', 19000, datetime.date(2020, 1, 20), 4, 1),\n",
       " (1014, '파이썬', '성춘향', 35000, datetime.date(2023, 9, 25), 5, 2),\n",
       " (1015, '자바스크립 & jQuery', '홍길동', 27000, datetime.date(2019, 10, 22), 2, 2))"
      ]
     },
     "execution_count": 11,
     "metadata": {},
     "output_type": "execute_result"
    }
   ],
   "source": [
    "sql = 'SELECT * FROM book'\n",
    "cursor.execute(sql)\n",
    "result = cursor.fetchall()\n",
    "result"
   ]
  },
  {
   "cell_type": "code",
   "execution_count": 12,
   "id": "80f619e4",
   "metadata": {},
   "outputs": [
    {
     "data": {
      "text/plain": [
       "1001"
      ]
     },
     "execution_count": 12,
     "metadata": {},
     "output_type": "execute_result"
    }
   ],
   "source": [
    "result[0][0]"
   ]
  },
  {
   "cell_type": "code",
   "execution_count": 13,
   "id": "e4dcb2b8",
   "metadata": {},
   "outputs": [
    {
     "name": "stdout",
     "output_type": "stream",
     "text": [
      "(1001, '데이터베이스 이론', '홍길동', 22000, datetime.date(2019, 11, 11), 5, 3)\n",
      "(1002, '자바 프로그래밍', '이몽룡', 25000, datetime.date(2021, 12, 12), 4, 1)\n",
      "(1003, '인터넷프로그래밍', '성춘향', 30000, datetime.date(2019, 2, 10), 10, 2)\n",
      "(1004, '안드로이드 프로그래밍', '변학도', 23000, datetime.date(2017, 10, 10), 2, 1)\n",
      "(1005, '안드로이드 앱', '강길동', 26000, datetime.date(2020, 1, 11), 5, 2)\n",
      "(1006, 'MS SQL SERVER 2014', '박지성', 35000, datetime.date(2020, 3, 25), 7, 3)\n",
      "(1007, 'HTML & CSS', '손흥민', 18000, datetime.date(2023, 9, 30), 3, 1)\n",
      "(1008, 'MFC 입문', '류현진', 20000, datetime.date(2015, 12, 12), 5, 1)\n",
      "(1009, '안드로이드 게임 제작', '나길동', 33000, datetime.date(2018, 10, 31), 5, 2)\n",
      "(1010, 'C++객체지향 프로그래밍', '추신수', 24000, datetime.date(2019, 4, 20), 2, 3)\n",
      "(1011, 'JSP 웹 프로그래밍', '김연아', 27000, datetime.date(2020, 10, 23), 8, 1)\n",
      "(1012, '해커들의 해킹 기법', '손연재', 32000, datetime.date(2018, 7, 7), 1, 2)\n",
      "(1013, '자료구조', '홍길동', 19000, datetime.date(2020, 1, 20), 4, 1)\n",
      "(1014, '파이썬', '성춘향', 35000, datetime.date(2023, 9, 25), 5, 2)\n",
      "(1015, '자바스크립 & jQuery', '홍길동', 27000, datetime.date(2019, 10, 22), 2, 2)\n"
     ]
    }
   ],
   "source": [
    "for t in result:\n",
    "    print(t)"
   ]
  },
  {
   "cell_type": "code",
   "execution_count": 14,
   "id": "4479cfde",
   "metadata": {},
   "outputs": [
    {
     "name": "stdout",
     "output_type": "stream",
     "text": [
      "데이터베이스 이론               \t홍길동 \t  22000   \n",
      "자바 프로그래밍                \t이몽룡 \t  25000   \n",
      "인터넷프로그래밍                \t성춘향 \t  30000   \n",
      "안드로이드 프로그래밍             \t변학도 \t  23000   \n",
      "안드로이드 앱                 \t강길동 \t  26000   \n",
      "MS SQL SERVER 2014      \t박지성 \t  35000   \n",
      "HTML & CSS              \t손흥민 \t  18000   \n",
      "MFC 입문                  \t류현진 \t  20000   \n",
      "안드로이드 게임 제작             \t나길동 \t  33000   \n",
      "C++객체지향 프로그래밍           \t추신수 \t  24000   \n",
      "JSP 웹 프로그래밍             \t김연아 \t  27000   \n",
      "해커들의 해킹 기법              \t손연재 \t  32000   \n",
      "자료구조                    \t홍길동 \t  19000   \n",
      "파이썬                     \t성춘향 \t  35000   \n",
      "자바스크립 & jQuery          \t홍길동 \t  27000   \n"
     ]
    }
   ],
   "source": [
    "for t in result:\n",
    "    print(f'{t[1]:24}\\t{t[2]:4}\\t{t[3]:^10}')"
   ]
  },
  {
   "cell_type": "code",
   "execution_count": 15,
   "id": "44621058",
   "metadata": {},
   "outputs": [
    {
     "name": "stdout",
     "output_type": "stream",
     "text": [
      "2019년 11월 11일 - 00시 00분 00초\n",
      "2021년 12월 12일 - 00시 00분 00초\n",
      "2019년 02월 10일 - 00시 00분 00초\n",
      "2017년 10월 10일 - 00시 00분 00초\n",
      "2020년 01월 11일 - 00시 00분 00초\n",
      "2020년 03월 25일 - 00시 00분 00초\n",
      "2023년 09월 30일 - 00시 00분 00초\n",
      "2015년 12월 12일 - 00시 00분 00초\n",
      "2018년 10월 31일 - 00시 00분 00초\n",
      "2019년 04월 20일 - 00시 00분 00초\n",
      "2020년 10월 23일 - 00시 00분 00초\n",
      "2018년 07월 07일 - 00시 00분 00초\n",
      "2020년 01월 20일 - 00시 00분 00초\n",
      "2023년 09월 25일 - 00시 00분 00초\n",
      "2019년 10월 22일 - 00시 00분 00초\n"
     ]
    }
   ],
   "source": [
    "# datetime.date() 타입을 문자열로 변환하기 / strftime()함수 사용\n",
    "for row in result:\n",
    "    print(row[4].strftime(\"%Y년 %m월 %d일 - %H시 %M분 %S초\"))"
   ]
  },
  {
   "cell_type": "code",
   "execution_count": 18,
   "id": "742bd3b8",
   "metadata": {},
   "outputs": [
    {
     "data": {
      "text/plain": [
       "(('베컴', datetime.date(2021, 7, 9), '인터넷프로그래밍', 2, '도서출판 강남'),\n",
       " ('옴바페', datetime.date(2022, 1, 2), '안드로이드 앱', 9, '도서출판 강남'),\n",
       " ('호날두', datetime.date(2020, 2, 20), '안드로이드 게임 제작', 5, '도서출판 강남'))"
      ]
     },
     "execution_count": 18,
     "metadata": {},
     "output_type": "execute_result"
    }
   ],
   "source": [
    "# 연습문제\n",
    "sql = '''\n",
    "    SELECT clientName, bsDate, bookName, bsQty, pubName\n",
    "    FROM bookSale\n",
    "        INNER JOIN book ON book.bookNo = bookSale.bookNo\n",
    "        INNER JOIN publisher ON publisher.pubNo = book.pubNo\n",
    "        INNER JOIN client ON client.clientNo = bookSale.clientNo\n",
    "    WHERE pubName = '도서출판 강남'\n",
    "    ORDER BY clientName\n",
    "'''\n",
    "cursor.execute(sql)\n",
    "result = cursor.fetchall()\n",
    "result"
   ]
  },
  {
   "cell_type": "markdown",
   "id": "9f820225",
   "metadata": {},
   "source": [
    "######################################################"
   ]
  },
  {
   "cell_type": "markdown",
   "id": "1d2a8ce9",
   "metadata": {},
   "source": [
    "## INSERT"
   ]
  },
  {
   "cell_type": "code",
   "execution_count": 27,
   "id": "d10e1138",
   "metadata": {},
   "outputs": [
    {
     "name": "stdout",
     "output_type": "stream",
     "text": [
      "도서번호 입력 : 1017\n",
      "도서명 입력 : SQL 입문\n",
      "저자 입력 : 고길동\n",
      "도서가격 입력 : 30000\n",
      "출판일자 입력 : 2023-09-27\n",
      "재고 입력 : 6\n",
      "출판사번호 입력 : 1\n"
     ]
    }
   ],
   "source": [
    "bookNo = input('도서번호 입력 : ')\n",
    "bookName = input('도서명 입력 : ')\n",
    "bookAuthor = input('저자 입력 : ')\n",
    "bookPrice = input('도서가격 입력 : ')\n",
    "bookDate = input('출판일자 입력 : ')\n",
    "bookStock = input('재고 입력 : ')\n",
    "pubNo = input('출판사번호 입력 : ')"
   ]
  },
  {
   "cell_type": "code",
   "execution_count": 21,
   "id": "b9458906",
   "metadata": {},
   "outputs": [],
   "source": [
    "# 방법1\n",
    "sql = \"INSERT INTO book VALUES ('\" \\\n",
    "    + bookNo + \"', '\" \\\n",
    "    + bookName + \"', '\" \\\n",
    "    + bookAuthor + \"', '\" \\\n",
    "    + bookPrice + \"', '\" \\\n",
    "    + bookDate + \"', '\" \\\n",
    "    + bookStock + \"', '\" \\\n",
    "    + pubNo + \"')\"\n",
    "\n",
    "cursor.execute(sql)\n",
    "conn.commit() # 이거까지 해줘야 데이터베이스에 반영됨"
   ]
  },
  {
   "cell_type": "code",
   "execution_count": 29,
   "id": "dc23a57c",
   "metadata": {},
   "outputs": [],
   "source": [
    "# 방법2\n",
    "sql = \"INSERT INTO book VALUES (%s, %s, %s, %s, %s, %s, %s)\"\n",
    "values = (bookNo, bookName, bookAuthor, bookPrice, bookDate, bookStock, pubNo)\n",
    "cursor.execute(sql, values)\n",
    "conn.commit()"
   ]
  },
  {
   "cell_type": "markdown",
   "id": "51d3b4e6",
   "metadata": {},
   "source": [
    "## UPDATE"
   ]
  },
  {
   "cell_type": "code",
   "execution_count": 9,
   "id": "ab3aa5c5",
   "metadata": {},
   "outputs": [],
   "source": [
    "sql = \"UPDATE client SET clientPhone='010-1234-1234' WHERE clientName='메시'\"\n",
    "cursor.execute(sql)\n",
    "conn.commit()"
   ]
  },
  {
   "cell_type": "code",
   "execution_count": 11,
   "id": "985a091f",
   "metadata": {},
   "outputs": [
    {
     "name": "stdout",
     "output_type": "stream",
     "text": [
      "수정할 도서번호 입력 : 1001\n",
      "도서명 입력 : 데이터베이스 이론 및 실기\n",
      "저자 입력 : 홍길동\n",
      "도서가격 입력 : 25000\n",
      "출판일자 입력 : 2019-11-11\n",
      "재고 입력 : 7\n",
      "출판사번호 입력 : 3\n"
     ]
    }
   ],
   "source": [
    "bookNo = input('수정할 도서번호 입력 : ')\n",
    "bookName = input('도서명 입력 : ')\n",
    "bookAuthor = input('저자 입력 : ')\n",
    "bookPrice = input('도서가격 입력 : ')\n",
    "bookDate = input('출판일자 입력 : ')\n",
    "bookStock = input('재고 입력 : ')\n",
    "pubNo = input('출판사번호 입력 : ')"
   ]
  },
  {
   "cell_type": "code",
   "execution_count": 16,
   "id": "898ed1a8",
   "metadata": {},
   "outputs": [],
   "source": [
    "sql = \"UPDATE book SET bookName=%s, bookAuthor=%s, bookPrice=%s, bookDate=%s, \" + \\\n",
    "      \"bookStock=%s, pubNo=%s WHERE bookNo=%s\"\n",
    "values = (bookName, bookAuthor, bookPrice, bookDate, bookStock, pubNo, bookNo)\n",
    "\n",
    "cursor.execute(sql, values)\n",
    "conn.commit()"
   ]
  },
  {
   "cell_type": "markdown",
   "id": "8d92e3c8",
   "metadata": {},
   "source": [
    "## DELETE"
   ]
  },
  {
   "cell_type": "code",
   "execution_count": 17,
   "id": "884cad3f",
   "metadata": {},
   "outputs": [
    {
     "name": "stdout",
     "output_type": "stream",
     "text": [
      "삭제할 도서번호 입력 : 1017\n"
     ]
    }
   ],
   "source": [
    "bookNo = input('삭제할 도서번호 입력 : ')\n",
    "sql = \"DELETE FROM book WHERE bookNo=\" + bookNo\n",
    "cursor.execute(sql)\n",
    "conn.commit()"
   ]
  },
  {
   "cell_type": "markdown",
   "id": "77ce59a6",
   "metadata": {},
   "source": [
    "## PROCEDURE"
   ]
  },
  {
   "cell_type": "code",
   "execution_count": 22,
   "id": "412989d0",
   "metadata": {},
   "outputs": [
    {
     "data": {
      "text/plain": [
       "((3, '샤라포바', Decimal('70000'), '보통'),\n",
       " (7, '옴바페', Decimal('257000'), '최우수'),\n",
       " (2, '호날두', Decimal('265000'), '최우수'),\n",
       " (1, '메시', Decimal('108000'), '우수'),\n",
       " (4, '베컴', Decimal('60000'), '보통'),\n",
       " (8, '살라', Decimal('23000'), '관심고객'))"
      ]
     },
     "execution_count": 22,
     "metadata": {},
     "output_type": "execute_result"
    }
   ],
   "source": [
    "cursor.callproc(\"clientRateCheckProc2\")\n",
    "cursor.fetchall()"
   ]
  },
  {
   "cell_type": "markdown",
   "id": "b6181295",
   "metadata": {},
   "source": [
    "### IN 매개변수 프로시저 호출법"
   ]
  },
  {
   "cell_type": "code",
   "execution_count": 29,
   "id": "174bc673",
   "metadata": {},
   "outputs": [
    {
     "data": {
      "text/plain": [
       "((1, '메시', 108000, '우수'),)"
      ]
     },
     "execution_count": 29,
     "metadata": {},
     "output_type": "execute_result"
    }
   ],
   "source": [
    "# 방법1\n",
    "cursor.callproc(\"clientRateCheckProc\", {\"1\"})\n",
    "cursor.fetchall()"
   ]
  },
  {
   "cell_type": "code",
   "execution_count": 30,
   "id": "e3ee145d",
   "metadata": {},
   "outputs": [
    {
     "data": {
      "text/plain": [
       "((2, '호날두', 265000, '최우수'),)"
      ]
     },
     "execution_count": 30,
     "metadata": {},
     "output_type": "execute_result"
    }
   ],
   "source": [
    "# 방법2\n",
    "cursor.callproc(\"clientRateCheckProc\", (\"2\"))\n",
    "cursor.fetchall()"
   ]
  },
  {
   "cell_type": "code",
   "execution_count": 31,
   "id": "794e6cb7",
   "metadata": {},
   "outputs": [
    {
     "data": {
      "text/plain": [
       "((3, '샤라포바', 70000, '보통'),)"
      ]
     },
     "execution_count": 31,
     "metadata": {},
     "output_type": "execute_result"
    }
   ],
   "source": [
    "# 방법3\n",
    "cursor.callproc(\"clientRateCheckProc\", \"3\")\n",
    "cursor.fetchall()"
   ]
  },
  {
   "cell_type": "code",
   "execution_count": 32,
   "id": "6b18f1a8",
   "metadata": {},
   "outputs": [
    {
     "data": {
      "text/plain": [
       "((4, '베컴', 60000, '보통'),)"
      ]
     },
     "execution_count": 32,
     "metadata": {},
     "output_type": "execute_result"
    }
   ],
   "source": [
    "#방법4\n",
    "cursor.execute(\"CALL clientRateCheckProc('4')\")\n",
    "cursor.fetchall()"
   ]
  },
  {
   "cell_type": "markdown",
   "id": "33086ed5",
   "metadata": {},
   "source": [
    "### IN/OUT 매개변수 프로시저 호출법"
   ]
  },
  {
   "cell_type": "code",
   "execution_count": 35,
   "id": "acafdb83",
   "metadata": {},
   "outputs": [
    {
     "data": {
      "text/plain": [
       "(8,)"
      ]
     },
     "execution_count": 35,
     "metadata": {},
     "output_type": "execute_result"
    }
   ],
   "source": [
    "sql = \"CALL bookPriceCountProc(25000, @bookCount)\"\n",
    "cursor.execute(sql)\n",
    "cursor.execute(\"SELECT @bookCount\")\n",
    "cursor.fetchone() #값이 1개 반환시"
   ]
  },
  {
   "cell_type": "code",
   "execution_count": null,
   "id": "3c4168ee",
   "metadata": {},
   "outputs": [],
   "source": []
  },
  {
   "cell_type": "code",
   "execution_count": null,
   "id": "901e858e",
   "metadata": {},
   "outputs": [],
   "source": []
  },
  {
   "cell_type": "code",
   "execution_count": 1,
   "id": "aa10ff86",
   "metadata": {},
   "outputs": [
    {
     "ename": "NameError",
     "evalue": "name 'cursor' is not defined",
     "output_type": "error",
     "traceback": [
      "\u001b[0;31m---------------------------------------------------------------------------\u001b[0m",
      "\u001b[0;31mNameError\u001b[0m                                 Traceback (most recent call last)",
      "Cell \u001b[0;32mIn[1], line 2\u001b[0m\n\u001b[1;32m      1\u001b[0m \u001b[38;5;66;03m# 다 쓰면 닫아줘야 함\u001b[39;00m\n\u001b[0;32m----> 2\u001b[0m cursor\u001b[38;5;241m.\u001b[39mclose()\n\u001b[1;32m      3\u001b[0m conn\u001b[38;5;241m.\u001b[39mclose()\n",
      "\u001b[0;31mNameError\u001b[0m: name 'cursor' is not defined"
     ]
    }
   ],
   "source": [
    "# 다 쓰면 닫아줘야 함\n",
    "cursor.close()\n",
    "conn.close()"
   ]
  },
  {
   "cell_type": "code",
   "execution_count": null,
   "id": "be6336bb",
   "metadata": {},
   "outputs": [],
   "source": []
  }
 ],
 "metadata": {
  "kernelspec": {
   "display_name": "Python 3 (ipykernel)",
   "language": "python",
   "name": "python3"
  },
  "language_info": {
   "codemirror_mode": {
    "name": "ipython",
    "version": 3
   },
   "file_extension": ".py",
   "mimetype": "text/x-python",
   "name": "python",
   "nbconvert_exporter": "python",
   "pygments_lexer": "ipython3",
   "version": "3.11.4"
  }
 },
 "nbformat": 4,
 "nbformat_minor": 5
}
