{
 "cells": [
  {
   "cell_type": "code",
   "execution_count": 1,
   "id": "f81e9ec7",
   "metadata": {},
   "outputs": [],
   "source": [
    "# 서울시 주유소 가격정보를 가진 엑셀 파일 추출하기\n",
    "url = 'https://www.opinet.co.kr/searRgSelect.do'"
   ]
  },
  {
   "cell_type": "code",
   "execution_count": null,
   "id": "c2c40a04",
   "metadata": {},
   "outputs": [],
   "source": [
    "from IPython.core.interactiveshell import InteractiveShell\n",
    "InteractiveShell.ast_node_interactivity=\"all\"\n",
    "from urllib.request import urlopen\n",
    "import requests\n",
    "import bs4\n",
    "import pandas as pd\n",
    "import time\n",
    "import selenium\n",
    "import time\n",
    "from selenium import webdriver\n",
    "from selenium.webdriver.common.by import By # 셀레니움 4.0부터 포함된 객체(모듈)\n",
    "\n",
    "from selenium.webdriver.chrome.service import Service\n",
    "from webdriver_manager.chrome import ChromeDriverManager\n",
    "\n",
    "chrome_options = webdriver.ChromeOptions()\n",
    "driver = webdriver.Chrome(service=Service(ChromeDriverManager().install()), options=chrome_options)"
   ]
  },
  {
   "cell_type": "code",
   "execution_count": 3,
   "id": "6e424b28",
   "metadata": {},
   "outputs": [
    {
     "ename": "NoSuchElementException",
     "evalue": "Message: no such element: Unable to locate element: {\"method\":\"css selector\",\"selector\":\"[id=\"SIDO_NM0\"]\"}\n  (Session info: chrome=116.0.5845.187); For documentation on this error, please visit: https://www.selenium.dev/documentation/webdriver/troubleshooting/errors#no-such-element-exception\nStacktrace:\n0   chromedriver                        0x00000001048c265c chromedriver + 4318812\n1   chromedriver                        0x00000001048bad00 chromedriver + 4287744\n2   chromedriver                        0x00000001044ec7ec chromedriver + 296940\n3   chromedriver                        0x000000010452a048 chromedriver + 548936\n4   chromedriver                        0x0000000104562d28 chromedriver + 781608\n5   chromedriver                        0x000000010451e178 chromedriver + 500088\n6   chromedriver                        0x000000010451efc0 chromedriver + 503744\n7   chromedriver                        0x0000000104882c40 chromedriver + 4058176\n8   chromedriver                        0x0000000104887160 chromedriver + 4075872\n9   chromedriver                        0x000000010484ae68 chromedriver + 3829352\n10  chromedriver                        0x0000000104887c4c chromedriver + 4078668\n11  chromedriver                        0x000000010485ff08 chromedriver + 3915528\n12  chromedriver                        0x00000001048a4140 chromedriver + 4194624\n13  chromedriver                        0x00000001048a42c4 chromedriver + 4195012\n14  chromedriver                        0x00000001048b44d0 chromedriver + 4261072\n15  libsystem_pthread.dylib             0x0000000198767fa8 _pthread_start + 148\n16  libsystem_pthread.dylib             0x0000000198762da0 thread_start + 8\n",
     "output_type": "error",
     "traceback": [
      "\u001b[0;31m---------------------------------------------------------------------------\u001b[0m",
      "\u001b[0;31mNoSuchElementException\u001b[0m                    Traceback (most recent call last)",
      "Cell \u001b[0;32mIn[3], line 3\u001b[0m\n\u001b[1;32m      1\u001b[0m driver\u001b[38;5;241m.\u001b[39mget(url)\n\u001b[1;32m      2\u001b[0m \u001b[38;5;66;03m# 다른 지역에서 접속시 페이지 열리면 서울 강남구로 설정\u001b[39;00m\n\u001b[0;32m----> 3\u001b[0m driver\u001b[38;5;241m.\u001b[39mfind_element(By\u001b[38;5;241m.\u001b[39mID, \u001b[38;5;124m'\u001b[39m\u001b[38;5;124mSIDO_NM0\u001b[39m\u001b[38;5;124m'\u001b[39m)\u001b[38;5;241m.\u001b[39msend_keys(\u001b[38;5;124m'\u001b[39m\u001b[38;5;124m서울특별시\u001b[39m\u001b[38;5;124m'\u001b[39m)\n\u001b[1;32m      4\u001b[0m driver\u001b[38;5;241m.\u001b[39mfind_element(By\u001b[38;5;241m.\u001b[39mID, \u001b[38;5;124m'\u001b[39m\u001b[38;5;124mSIGUNGU_NM0\u001b[39m\u001b[38;5;124m'\u001b[39m)\u001b[38;5;241m.\u001b[39msend_keys(\u001b[38;5;124m'\u001b[39m\u001b[38;5;124m강남구\u001b[39m\u001b[38;5;124m'\u001b[39m)\n",
      "File \u001b[0;32m~/anaconda3/lib/python3.11/site-packages/selenium/webdriver/remote/webdriver.py:738\u001b[0m, in \u001b[0;36mWebDriver.find_element\u001b[0;34m(self, by, value)\u001b[0m\n\u001b[1;32m    735\u001b[0m     by \u001b[38;5;241m=\u001b[39m By\u001b[38;5;241m.\u001b[39mCSS_SELECTOR\n\u001b[1;32m    736\u001b[0m     value \u001b[38;5;241m=\u001b[39m \u001b[38;5;124mf\u001b[39m\u001b[38;5;124m'\u001b[39m\u001b[38;5;124m[name=\u001b[39m\u001b[38;5;124m\"\u001b[39m\u001b[38;5;132;01m{\u001b[39;00mvalue\u001b[38;5;132;01m}\u001b[39;00m\u001b[38;5;124m\"\u001b[39m\u001b[38;5;124m]\u001b[39m\u001b[38;5;124m'\u001b[39m\n\u001b[0;32m--> 738\u001b[0m \u001b[38;5;28;01mreturn\u001b[39;00m \u001b[38;5;28mself\u001b[39m\u001b[38;5;241m.\u001b[39mexecute(Command\u001b[38;5;241m.\u001b[39mFIND_ELEMENT, {\u001b[38;5;124m\"\u001b[39m\u001b[38;5;124musing\u001b[39m\u001b[38;5;124m\"\u001b[39m: by, \u001b[38;5;124m\"\u001b[39m\u001b[38;5;124mvalue\u001b[39m\u001b[38;5;124m\"\u001b[39m: value})[\u001b[38;5;124m\"\u001b[39m\u001b[38;5;124mvalue\u001b[39m\u001b[38;5;124m\"\u001b[39m]\n",
      "File \u001b[0;32m~/anaconda3/lib/python3.11/site-packages/selenium/webdriver/remote/webdriver.py:344\u001b[0m, in \u001b[0;36mWebDriver.execute\u001b[0;34m(self, driver_command, params)\u001b[0m\n\u001b[1;32m    342\u001b[0m response \u001b[38;5;241m=\u001b[39m \u001b[38;5;28mself\u001b[39m\u001b[38;5;241m.\u001b[39mcommand_executor\u001b[38;5;241m.\u001b[39mexecute(driver_command, params)\n\u001b[1;32m    343\u001b[0m \u001b[38;5;28;01mif\u001b[39;00m response:\n\u001b[0;32m--> 344\u001b[0m     \u001b[38;5;28mself\u001b[39m\u001b[38;5;241m.\u001b[39merror_handler\u001b[38;5;241m.\u001b[39mcheck_response(response)\n\u001b[1;32m    345\u001b[0m     response[\u001b[38;5;124m\"\u001b[39m\u001b[38;5;124mvalue\u001b[39m\u001b[38;5;124m\"\u001b[39m] \u001b[38;5;241m=\u001b[39m \u001b[38;5;28mself\u001b[39m\u001b[38;5;241m.\u001b[39m_unwrap_value(response\u001b[38;5;241m.\u001b[39mget(\u001b[38;5;124m\"\u001b[39m\u001b[38;5;124mvalue\u001b[39m\u001b[38;5;124m\"\u001b[39m, \u001b[38;5;28;01mNone\u001b[39;00m))\n\u001b[1;32m    346\u001b[0m     \u001b[38;5;28;01mreturn\u001b[39;00m response\n",
      "File \u001b[0;32m~/anaconda3/lib/python3.11/site-packages/selenium/webdriver/remote/errorhandler.py:229\u001b[0m, in \u001b[0;36mErrorHandler.check_response\u001b[0;34m(self, response)\u001b[0m\n\u001b[1;32m    227\u001b[0m         alert_text \u001b[38;5;241m=\u001b[39m value[\u001b[38;5;124m\"\u001b[39m\u001b[38;5;124malert\u001b[39m\u001b[38;5;124m\"\u001b[39m]\u001b[38;5;241m.\u001b[39mget(\u001b[38;5;124m\"\u001b[39m\u001b[38;5;124mtext\u001b[39m\u001b[38;5;124m\"\u001b[39m)\n\u001b[1;32m    228\u001b[0m     \u001b[38;5;28;01mraise\u001b[39;00m exception_class(message, screen, stacktrace, alert_text)  \u001b[38;5;66;03m# type: ignore[call-arg]  # mypy is not smart enough here\u001b[39;00m\n\u001b[0;32m--> 229\u001b[0m \u001b[38;5;28;01mraise\u001b[39;00m exception_class(message, screen, stacktrace)\n",
      "\u001b[0;31mNoSuchElementException\u001b[0m: Message: no such element: Unable to locate element: {\"method\":\"css selector\",\"selector\":\"[id=\"SIDO_NM0\"]\"}\n  (Session info: chrome=116.0.5845.187); For documentation on this error, please visit: https://www.selenium.dev/documentation/webdriver/troubleshooting/errors#no-such-element-exception\nStacktrace:\n0   chromedriver                        0x00000001048c265c chromedriver + 4318812\n1   chromedriver                        0x00000001048bad00 chromedriver + 4287744\n2   chromedriver                        0x00000001044ec7ec chromedriver + 296940\n3   chromedriver                        0x000000010452a048 chromedriver + 548936\n4   chromedriver                        0x0000000104562d28 chromedriver + 781608\n5   chromedriver                        0x000000010451e178 chromedriver + 500088\n6   chromedriver                        0x000000010451efc0 chromedriver + 503744\n7   chromedriver                        0x0000000104882c40 chromedriver + 4058176\n8   chromedriver                        0x0000000104887160 chromedriver + 4075872\n9   chromedriver                        0x000000010484ae68 chromedriver + 3829352\n10  chromedriver                        0x0000000104887c4c chromedriver + 4078668\n11  chromedriver                        0x000000010485ff08 chromedriver + 3915528\n12  chromedriver                        0x00000001048a4140 chromedriver + 4194624\n13  chromedriver                        0x00000001048a42c4 chromedriver + 4195012\n14  chromedriver                        0x00000001048b44d0 chromedriver + 4261072\n15  libsystem_pthread.dylib             0x0000000198767fa8 _pthread_start + 148\n16  libsystem_pthread.dylib             0x0000000198762da0 thread_start + 8\n"
     ]
    }
   ],
   "source": [
    "driver.get(url)\n",
    "time.sleep(2)\n",
    "# 다른 지역에서 접속시 페이지 열리면 서울 강남구로 설정\n",
    "driver.find_element(By.ID, 'SIDO_NM0').send_keys('서울특별시')\n",
    "driver.find_element(By.ID, 'SIGUNGU_NM0').send_keys('강남구')"
   ]
  },
  {
   "cell_type": "code",
   "execution_count": 5,
   "id": "5f6b6356",
   "metadata": {},
   "outputs": [
    {
     "data": {
      "text/plain": [
       "['강남구',\n",
       " '강동구',\n",
       " '강북구',\n",
       " '강서구',\n",
       " '관악구',\n",
       " '광진구',\n",
       " '구로구',\n",
       " '금천구',\n",
       " '노원구',\n",
       " '도봉구',\n",
       " '동대문구',\n",
       " '동작구',\n",
       " '마포구',\n",
       " '서대문구',\n",
       " '서초구',\n",
       " '성동구',\n",
       " '성북구',\n",
       " '송파구',\n",
       " '양천구',\n",
       " '영등포구',\n",
       " '용산구',\n",
       " '은평구',\n",
       " '종로구',\n",
       " '중구',\n",
       " '중랑구']"
      ]
     },
     "execution_count": 5,
     "metadata": {},
     "output_type": "execute_result"
    }
   ],
   "source": [
    "gu_list_raw = driver.find_element(By.ID, 'SIGUNGU_NM0')\n",
    "gu_list = gu_list_raw.find_elements(By.TAG_NAME, 'option')\n",
    "gu_name_list = [opt.get_attribute('value') for opt in gu_list]\n",
    "del gu_name_list[0]\n",
    "gu_name_list"
   ]
  },
  {
   "cell_type": "code",
   "execution_count": null,
   "id": "07e7129d",
   "metadata": {},
   "outputs": [],
   "source": [
    "# send_keys()메소드로 해당 부분에 값을 전달 / 웹 브라우저의 내용을 동적으로 변경하는 메소드\n",
    "# sigungu_sel = driver.find_element(By.ID, 'SIGUNGU_NM0') # 시/군/구 선택란\n",
    "# sigungu_sel.send_keys(gu_name_list[2]) # 강북구 전달"
   ]
  },
  {
   "cell_type": "code",
   "execution_count": null,
   "id": "8ecb6b33",
   "metadata": {},
   "outputs": [],
   "source": [
    "# 엑셀파일 자동저장 테스트\n",
    "# excel_btn = driver.find_element(By.ID, 'glopopd_excel')\n",
    "# excel_btn.click()"
   ]
  },
  {
   "cell_type": "code",
   "execution_count": 6,
   "id": "9091429b",
   "metadata": {},
   "outputs": [],
   "source": [
    "# 프로그래스바 출력\n",
    "from tqdm.notebook import tqdm"
   ]
  },
  {
   "cell_type": "code",
   "execution_count": 7,
   "id": "b27aedcd",
   "metadata": {},
   "outputs": [
    {
     "data": {
      "application/vnd.jupyter.widget-view+json": {
       "model_id": "4e244dc4ad2d4ebd8aa5d7ca0691835b",
       "version_major": 2,
       "version_minor": 0
      },
      "text/plain": [
       "  0%|          | 0/25 [00:00<?, ?it/s]"
      ]
     },
     "metadata": {},
     "output_type": "display_data"
    }
   ],
   "source": [
    "for gu in tqdm(gu_name_list): # 구별 페이지에서 데이터 추출 진행상황 표시\n",
    "    sigungu_sel = driver.find_element(By.ID, 'SIGUNGU_NM0')\n",
    "    sigungu_sel.send_keys(gu)\n",
    "    time.sleep(2)\n",
    "    excel_btn = driver.find_element(By.ID, 'glopopd_excel')\n",
    "    excel_btn.click()\n",
    "    time.sleep(2)"
   ]
  },
  {
   "cell_type": "code",
   "execution_count": null,
   "id": "b65bfc91",
   "metadata": {},
   "outputs": [],
   "source": []
  }
 ],
 "metadata": {
  "kernelspec": {
   "display_name": "Python 3 (ipykernel)",
   "language": "python",
   "name": "python3"
  },
  "language_info": {
   "codemirror_mode": {
    "name": "ipython",
    "version": 3
   },
   "file_extension": ".py",
   "mimetype": "text/x-python",
   "name": "python",
   "nbconvert_exporter": "python",
   "pygments_lexer": "ipython3",
   "version": "3.11.4"
  }
 },
 "nbformat": 4,
 "nbformat_minor": 5
}
